{
 "cells": [
  {
   "cell_type": "markdown",
   "metadata": {},
   "source": [
    "# Exploring the Data Space of the Space Data Explorers"
   ]
  },
  {
   "cell_type": "markdown",
   "metadata": {},
   "source": [
    "_In this notebook we will use the Twitter API to explore the conversation happening on Twitter related to NASA and Space Apps. We will be looking at a collection of tweets from recorded esporadically between Thursday night (before the first all-women spacewalk!) till now._\n",
    "\n",
    "Questions we'll try to answer:\n",
    "\n",
    "1) *What is the sentiment of the conversation?*\n",
    "\n",
    "2) *What's the conversation about? *\n",
    "\n",
    "3) *Can we build a few profiles based on information provided by users in their description?*\n",
    "\n",
    "4) *Where (in the physical world) are people tweeting from and of those locations which ones have a higher engagement?*\n",
    "\n",
    "##### You can find the code at https://github.com/nelabdiel/EtDSofSDE"
   ]
  },
  {
   "cell_type": "code",
   "execution_count": 1,
   "metadata": {},
   "outputs": [],
   "source": [
    "import pandas as pd\n",
    "import scipy as sp\n",
    "import random as rdm\n",
    "import requests  # better than the urllib libraries\n",
    "import simplejson\n",
    "from requests_oauthlib import OAuth1\n",
    "from sklearn.feature_extraction.text import TfidfVectorizer\n",
    "from sklearn.decomposition import TruncatedSVD\n",
    "from sklearn.decomposition import LatentDirichletAllocation\n",
    "from matplotlib.patches import Polygon\n",
    "from matplotlib.collections import PatchCollection\n",
    "\n",
    "import re\n",
    "from nltk.tokenize import word_tokenize\n",
    "from string import punctuation \n",
    "from nltk.corpus import stopwords \n",
    "from textblob import TextBlob\n",
    "import heapq\n",
    "from collections import Counter\n",
    "from wordcloud import WordCloud\n",
    "from sklearn.cluster import MiniBatchKMeans\n",
    "from sklearn.cluster import DBSCAN\n",
    "from itertools import islice, chain\n",
    "from IPython.display import Image\n",
    "from IPython import display\n",
    "import matplotlib.pylab as plt\n",
    "%matplotlib inline\n",
    "import pysal as ps\n",
    "from pysal.contrib.viz import mapping as maps\n",
    "from pylab import *\n",
    "\n",
    "from pylab import rcParams\n",
    "rcParams['figure.figsize'] = 12, 7\n",
    "\n",
    "import sys\n",
    "from twython import Twython\n",
    "import os\n",
    "from datetime import datetime\n",
    "\n",
    "\n",
    "import warnings\n",
    "import matplotlib.cbook\n",
    "warnings.filterwarnings(\"ignore\",category=matplotlib.cbook.mplDeprecation)"
   ]
  },
  {
   "cell_type": "markdown",
   "metadata": {},
   "source": [
    "### We need twitter credentials in order to use the API. For more info on how to obtain them go to https://developer.twitter.com/en/docs"
   ]
  },
  {
   "cell_type": "code",
   "execution_count": 3,
   "metadata": {},
   "outputs": [],
   "source": [
    "with open(\"../twitter_secrets2.json.nogit\") as fh:\n",
    "    secrets = simplejson.loads(fh.read())\n",
    "\n",
    "\n",
    "auth = OAuth1(\n",
    "    secrets[\"api_key\"],\n",
    "    secrets[\"api_secret\"],\n",
    "    secrets[\"access_token\"],\n",
    "    secrets[\"access_token_secret\"]\n",
    ")"
   ]
  },
  {
   "cell_type": "markdown",
   "metadata": {},
   "source": [
    "# Let's create a function to request the posts we are interested in."
   ]
  },
  {
   "cell_type": "code",
   "execution_count": 754,
   "metadata": {},
   "outputs": [],
   "source": [
    "#L = []\n",
    "\n",
    "def tweet_generator():\n",
    "    \"\"\" Generator that live streams tweets (see 'yield' keyword)\"\"\"\n",
    "    stream = requests.post('https://stream.twitter.com/1.1/statuses/filter.json',\n",
    "                           auth=auth, \n",
    "                           stream=True,\n",
    "                           data={\"track\":[\"nasa\", \n",
    "                                          \"@nasa\",\n",
    "                                          \"#nasa\",\n",
    "                                          \"#spaceappschallenge\", \n",
    "                                          \"space apps\",\n",
    "                                          \"#spaceapps\",\n",
    "                                          \"@spaceapps\",\n",
    "                                          \"@spaceappsCLE\",\n",
    "                                          \"#space\"\n",
    "                                         ]#, \n",
    "                                 #\"languages\":\"en\"#\n",
    "                                })\n",
    "    \n",
    "    for line in stream.iter_lines():\n",
    "        if not line:  # filter out keep-alive new lines\n",
    "            continue\n",
    "        tweet = simplejson.loads(line)\n",
    "        if ('text' in tweet):\n",
    "            L.append(tweet)\n",
    "            yield tweet['text']"
   ]
  },
  {
   "cell_type": "markdown",
   "metadata": {},
   "source": [
    "### Let's use that function to get a 1000 tweets!"
   ]
  },
  {
   "cell_type": "code",
   "execution_count": 819,
   "metadata": {},
   "outputs": [
    {
     "name": "stdout",
     "output_type": "stream",
     "text": [
      "RT @ezralevant: Omigod stop lying. NASA didn't even recruit astronauts until you were twelve.\n",
      "\n",
      "This is like when you said you were named af…\n",
      "RT @AJA_Cortes: @HillaryClinton You were born in 1947, NASA wasn't formed until 1958 and we didn't have an astronaut in space until until 1…\n",
      "RT @tracybeanz: Where’s the letter? https://t.co/fvketiE4Uu\n",
      "RT @cicilavraie: trop drôle les mecs en commentaires qui ironisent sur la vaisselle &amp; le ménage alors qu'à 25 ans ils savent pas laver leur…\n",
      "RT @matisidro: Brilliant to see science, space &amp; gender equality make the front pages of major newspapers! \n",
      "\n",
      "#space #equality #WomenInSTEM…\n",
      "Top kek. NASA rektd Hillary.\n",
      "RT @clairecmc: Why is she at this table? Get your kids out of the White House while they are “earning” 80+ million last year. And until you…\n",
      "@NASAHubble ⭐ @isro @NASA @FreemanDys0n . @taylorswift13\n",
      "RT @C_3C_3: There’s a higher probability that Corn Pop is real than young Hillary Clinton writing a letter to NASA.\n",
      "\n",
      "She’s a pathological l…\n",
      "@lylyflower2007 @BajaAlcurnia @matadoreltiempo La incapacidad de la Nasa para realizar un traje adaptable a la anatomía femenina...\n",
      "RT @dbongino: Did you accuse them of being “Russian assets” afterwards? https://t.co/6dw6cddvij\n",
      "RT @HillaryClinton: When I was a little girl, I wrote to NASA and told them I dreamed of being an astronaut. \n",
      "\n",
      "They wrote back and said the…\n",
      "RT @kikuchi_8: 台風19号は「今年最強」とか「地球史上最大級か？」などと言われている。NASAの関係者が「台風を操る」は「夢ではない」と書いた。では、彼らはどこでその技術の実験を行う（行った）のか？もし台風を「弱める」技術が可能なら「強める」技術も可能では？などの…\n",
      "@JagatguruMMC Bhagwat Gita , Fantastic book of Yoga&amp; Self-realization,high level of Spirituality by Lord Krishna,bo… https://t.co/tkrBnomYB0\n",
      "Halo halo na ang nasa utak ko,ang gulo na\n",
      "RT @__gaby_yy: Ces femmes ont du subir des tonnes de remarques sexistes (illustré en commentaire) avant d'en arriver là.\n",
      "Bravo à elles 😌 ht…\n",
      "RT @Easycure: You were born in 1947, NASA wasn't formed until 1958 and we didn't have an astronaut in space until until 1962 when you were…\n",
      "¡Histórico! 👏 Dos astronautas👩‍🚀👩‍🚀 completaron la primera caminata espacial ¡exclusivamente de mujeres! tras avent… https://t.co/eDdXfaxpzH\n",
      "RT @Cmdr_Hadfield: On a clear day on Mars, you can see our robots from orbit. \n",
      "\n",
      "(that's @NASAInSight, taken from the Mars Reconnaissance Or…\n",
      "World's 1st female spacewalking team makes history.\n",
      "\n",
      "https://t.co/mbagUXblAs\n",
      "RT @allysahp040391: Kanina nasa arena ako tapos nung nakita ko ung video napasigaw ako at kumanta ng \"Shock\" grabhe bukas na ang  #SBFIVEli…\n",
      "RT @Easycure: You were born in 1947, NASA wasn't formed until 1958 and we didn't have an astronaut in space until until 1962 when you were…\n",
      "A star died and this bizarre space blob was born - NASA's Chandra observatory took a fresh look at the scenic remai… https://t.co/dDEOqT1Yct\n",
      "RT @WillFonner: When I was a little boy, I wrote to the local Civil War reenactors and DEMANDED to be enlisted.\n",
      "\n",
      "They wrote back and said I…\n",
      "https://t.co/HsoPUdlDEy\n",
      "RT @LoriGreiner: History in the making today-U.S. astronauts embark on the 1st #AllWomanSpacewalk. 2 incredible female role models to look…\n",
      "RT @BeautyNiKiara: Bakit yung iba nasa sixth or fifth?\n",
      "\n",
      "Eighth pa lang mga sis!\n",
      "\n",
      "BoomBirthdayNaNi GinoRoque\n",
      "RT @mckellogs: people in my mentions mad bc HRC was \"12-14\" when she wrote to NASA as a little about wanting to be an astronaut, the critiq…\n",
      "RT @matisidro: Brilliant to see science, space &amp; gender equality make the front pages of major newspapers! \n",
      "\n",
      "#space #equality #WomenInSTEM…\n",
      "RT @Cmdr_Hadfield: On a clear day on Mars, you can see our robots from orbit. \n",
      "\n",
      "(that's @NASAInSight, taken from the Mars Reconnaissance Or…\n",
      "RT @WomenNASA: Today, @NASA_Astronauts and best friends @Astro_Christina and @Astro_Jessica embarked on the very first #AllWomanSpacewalk o…\n",
      "RT @levrailoup: \"Il réussit à bloquer 180 boloss d'un seul coup, les pp manga le détestent ! Découvrez sa technique 👇\" https://t.co/Q3M0Jem…\n",
      "RT @Easycure: You were born in 1947, NASA wasn't formed until 1958 and we didn't have an astronaut in space until until 1962 when you were…\n",
      "ICYMI: NASA is going to colonize a space rock https://t.co/H3JIIAHojr https://t.co/GM5ifBC9De\n",
      "Trump humiliated HIMSELF again, because like many men, he chooses to talk about subjects he knows nothing about and… https://t.co/NvQEgrfI7i\n",
      "RT @luciusringwald: Said the white lady who's been leveling spurious allegations of dual loyalty at a successful member of Congress and the…\n",
      "HILLARY Distracts From Tulsi Gabbard Calling Her “Queen Of Warmongers” By Telling WHOPPER About NASA Rejection Lett… https://t.co/lEUNqqopJQ\n",
      "RT @Elena_aka_MizRo: BBC News - Nasa astronauts Christina Koch and Jessica Meir in all-women spacewalk https://t.co/MQUVMfunHr\n",
      "RT @cicilavraie: trop drôle les mecs en commentaires qui ironisent sur la vaisselle &amp; le ménage alors qu'à 25 ans ils savent pas laver leur…\n",
      "RT @HillaryClinton: When I was a little girl, I wrote to NASA and told them I dreamed of being an astronaut. \n",
      "\n",
      "They wrote back and said the…\n",
      "RT @padillacathh: “Iba talaga glow up pag nasa tamang tao ka”\n",
      "\n",
      "NOPE. IBA GLOW UP MO PAG MASAYA KA SA BUHAY MO , NATUTUNAN MO MAHALIN SARILI…\n",
      "RT @HillaryClinton: When I was a little girl, I wrote to NASA and told them I dreamed of being an astronaut. \n",
      "\n",
      "They wrote back and said the…\n",
      "RT @cicilavraie: trop drôle les mecs en commentaires qui ironisent sur la vaisselle &amp; le ménage alors qu'à 25 ans ils savent pas laver leur…\n",
      "RT @Easycure: You were born in 1947, NASA wasn't formed until 1958 and we didn't have an astronaut in space until until 1962 when you were…\n",
      "RT @haikatte: Les mecs piqués qui postent des memes de personnes endormies en réponse à ce tweet eh bien ils ont bien raison car tandis que…\n",
      "RT @ezralevant: Omigod stop lying. NASA didn't even recruit astronauts until you were twelve.\n",
      "\n",
      "This is like when you said you were named af…\n",
      "@Ziyaaaan Nasa mcdo gregorian ka kanina? Andun din ako\n",
      "RT @KIANO_UAE: Kc sabi ni Pres. Duterte kay Boss..\n",
      "PAG NASA DAVAO KA DONG DAPAT MATAPANG, PALABAN AT ALL EYES LANG SA MAGANDANG TANAWIN hah…\n",
      "RT @AFPespanol: #ULTIMAHORA Por primera vez, dos mujeres realizan una caminata espacial juntas (TV NASA) #AFP https://t.co/S2CK1JEdUz\n",
      "RT @fabbrdn: Mdrrr y’a autant de poussière que sa sur la Lune ? https://t.co/OwcLlnZOZF\n",
      "@ItsKrissy @NASA It could have ended like her run for POTUS, very dramatically &amp; forever written in the history boo… https://t.co/UzhAmGi5P4\n",
      "RT @desireexjane: AY POTANGINA NGA BES https://t.co/emQNNBmuKi\n",
      "Chelsea Clinton was 16 years old when Hillary came under sniper fire in Bosnia.\n",
      "RT @jrodriguezk: Estas mujeres superaron todo tipo de barreras para llegar al espacio.\n",
      "\n",
      "Hasta cosas absurdas como que los trajes espaciales…\n",
      "RT @HillaryClinton: When I was a little girl, I wrote to NASA and told them I dreamed of being an astronaut. \n",
      "\n",
      "They wrote back and said the…\n",
      "RT @cicilavraie: trop drôle les mecs en commentaires qui ironisent sur la vaisselle &amp; le ménage alors qu'à 25 ans ils savent pas laver leur…\n",
      "RT @CatyRengifo: #LoQueSomosLasMujeres inspiración para millones de niñas. Ejemplo para millones de mujeres. #MujeresTIC #JuntasSomosMás ht…\n",
      "RT @HillaryClinton: When I was a little girl, I wrote to NASA and told them I dreamed of being an astronaut. \n",
      "\n",
      "They wrote back and said the…\n",
      "Two female astronauts are making history. How to watch NASA’s first all-female spacewalk! \n",
      "https://t.co/rhCYs1hEVV\n",
      "RT @SB19Official: Sobrang thankful po kami sa lahat ng nagpunta sa SM City BF Parañaque! Para kaming nasa sky dahil may blue kahit saan 💙 D…\n",
      "Live tweeting @spaceappsCLE #SpaceAppsCLE @NASAglenn\n",
      "RT @cspan: President Trump speaks to @NASA astronauts Christina Koch and Jessica Meir during #AllWomanSpacewalk https://t.co/vPQaEAM0rK\n",
      "RT @sison4olseasons: 'U-nibersidad ng Pilipinas!\n",
      "U-... Diliman lang nabal-an?\n",
      "One UP system. One UP System?!\n",
      "Dayun kung sa probinsya, ginak…\n",
      "RT @HillaryClinton: When I was a little girl, I wrote to NASA and told them I dreamed of being an astronaut. \n",
      "\n",
      "They wrote back and said the…\n",
      "RT @SB19Official: Sobrang thankful po kami sa lahat ng nagpunta sa SM City BF Parañaque! Para kaming nasa sky dahil may blue kahit saan 💙 D…\n",
      "El motor helicoidal de la NASA que parece violar las leyes de la física https://t.co/Pbf3f3eEIZ\n",
      "Orbiters, landers, and rovers have made their marks on the Red Planet. Now NASA is adding helicopters to the list. https://t.co/F5XsSzXNTo\n"
     ]
    },
    {
     "name": "stdout",
     "output_type": "stream",
     "text": [
      "With the advent of ADMITTED bold face fake news by the MSM.  Psychopaths will try as well if anyone will listen...\n",
      "@RaissaLima_Reis foi feita pela NASA essa merda kkkkk\n",
      "https://t.co/gB88b2q1PY| @KarolGmusic visitó la #NASA y así lo registró, ¿Irá a la luna?\n",
      "👇\n",
      "https://t.co/FoO8NbBGg7 https://t.co/hZJBHjP0Jc\n",
      "RT @HillaryClinton: When I was a little girl, I wrote to NASA and told them I dreamed of being an astronaut. \n",
      "\n",
      "They wrote back and said the…\n",
      "@HillaryClinton Is that like that time you falsely accused the Marine Corps of not wanting to allow a Yale educated… https://t.co/VEjDSeJI11\n",
      "RT @songbirdtweets1: Kungbaga sa Theme Park ito yung pinaka ExtremeRollerCoasterRide. Grabe yung intensity sa taas sabay swabeng transition…\n",
      "RT @CecaPereca26: Ovo je nas ponos, nasa vojska. I sto jaca vojska, jaca drzava. Cestitke za Dan oslobodjenja. https://t.co/xqyQRmb5zn\n",
      "RT @tkunsman: Our special Saturday key note @spaceappsCLE @SpaceApps #SpaceAppsCLE @NASAglenn https://t.co/r4P4oUBqNM\n",
      "RT @cicilavraie: trop drôle les mecs en commentaires qui ironisent sur la vaisselle &amp; le ménage alors qu'à 25 ans ils savent pas laver leur…\n",
      "Dammit\n",
      "And once again the 2 y/o baby embarrassed the country AGAIN! #ImpeachTrump #TrumpBetrayedOurAllies #TrumpTraitor\n",
      "RT @WomenNASA: Today, @NASA_Astronauts and best friends @Astro_Christina and @Astro_Jessica embarked on the very first #AllWomanSpacewalk o…\n",
      "RT @SimplyMenggay: Oy!\n",
      "Si @mainedcm ba un nasa #IsaPaWithFeelGoodWeekend ?!\n",
      "Grabe sya! 😱\n",
      "4 years na akong fan mo pero ikaw ba talaga un?!\n",
      "S…\n",
      "RT @labboopanda: Davia is trying out AR of Mars. @spaceappsCLE  #SpaceApps #kidsday https://t.co/gfO4inG4Xw\n",
      "Wouais mais qui va garder les gosses ???🤣🤣❤❤\n",
      "RT @rocket_xp: @HillaryClinton \n",
      "LIAR LIAR \n",
      "When you were a little girl NASA didn’t exist \n",
      "\n",
      "Just like you weren’t named after Sir Edmond Hil…\n",
      "RT @dbongino: Did you accuse them of being “Russian assets” afterwards? https://t.co/6dw6cddvij\n",
      "RT @ZLabe: Darkness continues to advance southward. Winter is coming! \n",
      "\n",
      "[#MODIS satellite from @NASAEarthData at https://t.co/eKIwfCGUMp] h…\n",
      "RT @NASA: During our #AllWomanSpacewalk, there was an Earth-to-space call as @POTUS called @Astro_Christina &amp; @Astro_Jessica to congratulat…\n",
      "RT @CarpeDonktum: On the list of \"things that never happened\" this ranks right up there with you becoming President. https://t.co/o3W41WMIOM\n",
      "ouuuuyy lagi ko nalang nababalitaan na nasa hospital kaaa :((( nubayan gagala pa tayoo :(( magpagaling ka na okiee?… https://t.co/tfODmL9lON\n",
      "@RustyGoodDalek1 \"Without  Katherine Johnson there be no NASA\" so dumb I cannot even start.\n",
      "RT @NASA_Johnson: The big day is underway. 👩‍🚀👩‍🚀 Share your well-wishes, words of encouragement and from where you're watching! Your tweet…\n",
      "layo nasa qc siya :(\n",
      "RT @stillgray: This is a nonsensical, untrue story that has about as much legitimacy to it as her “landing under sniper fire in Bosnia” sto…\n",
      "RT @allysahp040391: Kanina nasa arena ako tapos nung nakita ko ung video napasigaw ako at kumanta ng \"Shock\" grabhe bukas na ang  #SBFIVEli…\n",
      "RT @NincicPedja: Srce mi je puno kada vidim kako danas izgleda nasa modernizovana vojska.Vise se ne tope tenkovi u zelezari ,danas se kupuj…\n",
      "RT @fabbrdn: Mdrrr y’a autant de poussière que sa sur la Lune ? https://t.co/OwcLlnZOZF\n",
      "RT @Easycure: You were born in 1947, NASA wasn't formed until 1958 and we didn't have an astronaut in space until until 1962 when you were…\n",
      "RT @b0yle: UPDATE: First all-female spacewalk is officially over at 2:55 p.m. ET, lasting 7 hours and 17 minutes and sparking waves of cong…\n",
      "RT @CecaPereca26: Ovo je nas ponos, nasa vojska. I sto jaca vojska, jaca drzava. Cestitke za Dan oslobodjenja. https://t.co/xqyQRmb5zn\n",
      "RT @libogfucker2: Yun nasa work ka tapos naramdaman mo tigas ka na nman...sarap sana magjakol kaso magkape nalang hahahahahaha😋😂😂 https://t…\n",
      "\n",
      "\n",
      "100\n",
      "\n",
      "\n",
      "nasa iisang kama lang kayo pero di kayo nagpapansinan.\n",
      "RT @GeekGirlsLatam: Hoy en la estación espacial de la @NASA 4 talentosas mujeres realizan labores importantes importantes de ingeniería y c…\n",
      "RT @ava: Incredible! Beautiful! This is all so exciting! #AllWomenSpacewalk https://t.co/0tzil1gkjF\n",
      "RT @pat_05: @mainedcm Day 1 - yung panahong SINUNGITAN kita, sabi ko.. \"SINO BA YANG BABAE NA YAN N NASA SULOK\"?? NGAYON, jusko! nasa TUKTO…\n",
      "RT @dbongino: Did you accuse them of being “Russian assets” afterwards? https://t.co/6dw6cddvij\n",
      "RT @jondaly: Two women floating in space were forced to talk to a rapist. https://t.co/IAAXXUqpID\n",
      "RT @HillaryClinton: When I was a little girl, I wrote to NASA and told them I dreamed of being an astronaut. \n",
      "\n",
      "They wrote back and said the…\n",
      "RT @HillaryClinton: When I was a little girl, I wrote to NASA and told them I dreamed of being an astronaut. \n",
      "\n",
      "They wrote back and said the…\n",
      "RT @StrongIam: Qing Inang commercial to! Hahaha\n",
      "\n",
      "Basahin nyo yung nasa baba. https://t.co/uIS21dSnjl\n",
      "RT @lavist1: No Hillary, they said they weren’t taking fat girls that would scare the monkeys.  \n",
      "#ClintonCrimeFamily https://t.co/y0JcgqHb52\n",
      "RT @C_3C_3: There’s a higher probability that Corn Pop is real than young Hillary Clinton writing a letter to NASA.\n",
      "\n",
      "She’s a pathological l…\n",
      "Report suggests NASA can save a good deal of money, by being a lot less concerned about space germs: Elon Musk, and… https://t.co/AJql04CyZv\n",
      "HILLARY Distracts From Tulsi Gabbard Calling Her “Queen Of Warmongers” By Telling WHOPPER About NASA Rejection Lett… https://t.co/4sy3xG99JZ\n",
      "RT @Easycure: You were born in 1947, NASA wasn't formed until 1958 and we didn't have an astronaut in space until until 1962 when you were…\n",
      "RT @Easycure: You were born in 1947, NASA wasn't formed until 1958 and we didn't have an astronaut in space until until 1962 when you were…\n",
      "RT @debbikutner: #RealityWinner, #Whistleblower, denied bond due to prosecution’s repeated phrase: “not criminal, but it is ‘of interest’…s…\n",
      "RT @haikatte: Les mecs piqués qui postent des memes de personnes endormies en réponse à ce tweet eh bien ils ont bien raison car tandis que…\n",
      "WE GO UP!! 👆💙\n",
      "RT @faznet: Die #Nasa feiert den ersten gemeinsamen Außeneinsatz zweier Astronautinnen auf der #ISS als Weltsensation. Dabei fremdelte die…\n",
      "Who cares all female? Why do we care?\n",
      "RT @BeautyNiKiara: Bakit yung iba nasa sixth or fifth?\n",
      "\n",
      "Eighth pa lang mga sis!\n",
      "\n",
      "BoomBirthdayNaNi GinoRoque\n",
      "Hola my #twitterfamily..The Maya knew this would happen-so, the 2012 Maya prediction that Earth would change has co… https://t.co/WR6J0D3ux4\n",
      "RT @padillacathh: “Iba talaga glow up pag nasa tamang tao ka”\n",
      "\n",
      "NOPE. IBA GLOW UP MO PAG MASAYA KA SA BUHAY MO , NATUTUNAN MO MAHALIN SARILI…\n",
      "NASA Administrator Jim Brightenstein should be next to Trump &amp; on camera NOT his daughter. @IvankaTrump\n",
      "RT @AstroAventura: Así se ve y así suena una estrella de neutrones. \n",
      "\n",
      "Crédito: NASA Observatorio X Chandra https://t.co/u31OedTKU8\n",
      "Later she went to Kent State to protest the Vietnam War. She was shot but survived the bullet wound. She recovered… https://t.co/KSnvNVqUDU\n",
      "Show us the letter, liar.\n",
      "RT @HillaryClinton: When I was a little girl, I wrote to NASA and told them I dreamed of being an astronaut. \n",
      "\n",
      "They wrote back and said the…\n",
      "RT @tifis: Si no quieren ser como @matadoreltiempo, lean de qué se trata la PRIMERA caminata espacial hecha por mujeres. Esto pasó ayer y e…\n",
      "Tanging nasa isip kon nalang ay \"Ay bahala kayo jan. Kahit magsisigaw kayo dyan. Di namin kayo papaisahin.\"\n",
      "Tapusin nyo aba.🤣\n",
      "@dbongino Boo hoo... She needs to get over it or get therapy...she obvoiusly did not try that hard to be in NASA.… https://t.co/BaIshpIawE\n",
      "@swelder66 Yes, now I see it's Hillary and the NASA stuff.  Earlier it was say Not available. Maybe it is being throttled.\n",
      "RT @apod: All Female Spacewalk Repairs Space Station: https://t.co/pIBz5YQRvS by @NASA TV, Expedition 61 https://t.co/k2pHPeLXW5\n",
      "RT @NASA: Luna. Lune. Chaand. 🌖 \n",
      "\n",
      "How do you say \"Moon\" in your language? No matter what you call it, we all look at the same Moon. It's wh…\n",
      "RT @SirHublife: They should have launched this bitch into space when they had the chance.\n",
      "\n",
      "Thanks a lot NASA. https://t.co/AXqMDdXCWb\n",
      "RT @ezralevant: Omigod stop lying. NASA didn't even recruit astronauts until you were twelve.\n",
      "\n",
      "This is like when you said you were named af…\n",
      "RT @HillaryClinton: When I was a little girl, I wrote to NASA and told them I dreamed of being an astronaut. \n",
      "\n",
      "They wrote back and said the…\n"
     ]
    },
    {
     "name": "stdout",
     "output_type": "stream",
     "text": [
      "RT @viewsfrance: Aujourd’hui, et après 50 ans de sorties spatiales masculines, la NASA s’apprête à réaliser pour la 1ère fois une sortie sp…\n",
      "RT @SB19Official: Sobrang thankful po kami sa lahat ng nagpunta sa SM City BF Parañaque! Para kaming nasa sky dahil may blue kahit saan 💙 D…\n",
      "RT @HillaryClinton: When I was a little girl, I wrote to NASA and told them I dreamed of being an astronaut. \n",
      "\n",
      "They wrote back and said the…\n",
      "@Chip2chip2 @kulotissima 😳bakit ka nagWendy? wala bang in n out bordyer dyan, mas masarap.\n",
      "nasa Pampanga ka pala ng… https://t.co/Mh6CCCrnCP\n",
      "RT @milcaricaturas: HISTÓRICA CAMINATA ESPACIAL...\n",
      "#AllWomenSpacewalk \n",
      "@NASA https://t.co/CeBHVdSXYV\n",
      "RT @ezralevant: Omigod stop lying. NASA didn't even recruit astronauts until you were twelve.\n",
      "\n",
      "This is like when you said you were named af…\n",
      "RT @elfamosopaulo: https://t.co/ItalP5SAZN https://t.co/OTsU5S51oJ\n",
      "A nasa tem que estudar esse ser lkkkkkkkkkkkkkkk\n",
      "@JimBridenstine @SpaceX @NASA Sure you are!\n",
      "RT @Easycure: You were born in 1947, NASA wasn't formed until 1958 and we didn't have an astronaut in space until until 1962 when you were…\n",
      "yung crush ko nasa unahan ng active now ko,ngi?\n",
      "@NASA @Twitter @Astro_Jessica @Astro_Christina https://t.co/FlunhKrwS1\n",
      "RT @lmaugustin: The first space hotel? NASA will allow private astronauts on the ISS for $11,250-$22,500 a day. Note that you still need to…\n",
      "RT @libogfucker2: Yun nasa work ka tapos naramdaman mo tigas ka na nman...sarap sana magjakol kaso magkape nalang hahahahahaha😋😂😂 https://t…\n",
      "RT @LaPvlga: Pourtant y’a pas d’enfants à garder dans l’espace non ? https://t.co/G0LglRn8R4\n",
      "RT @BeautyNiKiara: Bakit yung iba nasa sixth or fifth?\n",
      "\n",
      "Eighth pa lang mga sis!\n",
      "\n",
      "BoomBirthdayNaNi GinoRoque\n",
      "&gt;It’s still orbiting around the Sun \n",
      "\n",
      "いや、そうかもしれないけど…\n",
      "通信できなくなった探査機は、まだ存在するかどうかもわからないと思う…\n",
      "RT @DrakeGatsby: [Tour of NASA Headquarters] \n",
      "\n",
      "Guide: So NASA was founded in July of 1958 with the goal- \n",
      "\n",
      "Me: *interrupting* Is it true th…\n",
      "RT @ezralevant: Omigod stop lying. NASA didn't even recruit astronauts until you were twelve.\n",
      "\n",
      "This is like when you said you were named af…\n",
      "Que hermoso❤️\n",
      "@davino_mike @Malicor2 There are droves of people out there rocking nasa shirts and hats... It's sad but also funny… https://t.co/32GPIuJEry\n",
      "RT @Kalendeck: XD05. \n",
      "\n",
      "An outstanding read of courage and survival. #YAlit #Strong #female lead. #ComingOfAge #Clean \n",
      "\n",
      "Sally Weiss must liv…\n",
      "NASA’s all-female spacewalk makes history: ‘One giant leap for WOMANkind!’\n",
      "\n",
      "https://t.co/E4FcDr82Nt\n",
      "RT @JovanceSRB: Srbija je sposobna, a svakim danom vojno sve jaca i jaca, da brani sebe i svoj narod samostalno. Zivela nasa Srbija. https:…\n",
      "RT @cicilavraie: trop drôle les mecs en commentaires qui ironisent sur la vaisselle &amp; le ménage alors qu'à 25 ans ils savent pas laver leur…\n",
      "RT @HillaryClinton: When I was a little girl, I wrote to NASA and told them I dreamed of being an astronaut. \n",
      "\n",
      "They wrote back and said the…\n",
      "RT @libogfucker2: Yun nasa work ka tapos naramdaman mo tigas ka na nman...sarap sana magjakol kaso magkape nalang hahahahahaha😋😂😂 https://t…\n",
      "ㅤㅤㅤㅤㅤㅤ\n",
      "ㅤㅤㅤㅤ\n",
      "ㅤ nasa kalagitnaan ng pagtatrabaho si victoria nang biglaan nalang tumunog ang kaniyang telepono, hindi… https://t.co/4QcKbtepbP\n",
      "@NASA @POTUS @Astro_Christina @Astro_Jessica @Space_Station Just so everyone knows, all women space walk happened b… https://t.co/UQb9LFkj8M\n",
      "RT @ezralevant: Omigod stop lying. NASA didn't even recruit astronauts until you were twelve.\n",
      "\n",
      "This is like when you said you were named af…\n",
      "RT @ismailsaymaz: Kadınlar ilk kez yanlarında erkekler olmadan uzay yürüyüşü yaptı. Hayrettin Karaman, Cübbeli Ahmet, Nurettin Yıldız ve İh…\n",
      "@HillaryClinton I’d like to see that NASA response. Since at the time there were no female test pilots I’m aware of… https://t.co/QiVVAoqrOd\n",
      "@NASA @POTUS @Astro_Christina @Astro_Jessica @Space_Station https://t.co/FlunhKrwS1\n",
      "@avucic @MedvedevRussia Neizmerna podrska, ljubav, potpora i sve sto stane u jedno veliko prijateljstvo je dokaz sv… https://t.co/wrWdQl5ahw\n",
      "RT @ezralevant: Omigod stop lying. NASA didn't even recruit astronauts until you were twelve.\n",
      "\n",
      "This is like when you said you were named af…\n",
      "RT @WomenNASA: Today, @NASA_Astronauts and best friends @Astro_Christina and @Astro_Jessica embarked on the very first #AllWomanSpacewalk o…\n",
      "le sexe faible qui ouinouinte dans les commentaires ça suffit\n",
      "RT @SmithsonianMag: NASA astronauts Christina Koch and Jessica Meir have completed their spacewalk, becoming the first two women to venture…\n",
      "The International Space Station's current position is: 33.98005 latitude, -139.646 longitude. Speed: 27583.31 km/hr… https://t.co/4mqDTGXKts\n",
      "RT @padillacathh: “Iba talaga glow up pag nasa tamang tao ka”\n",
      "\n",
      "NOPE. IBA GLOW UP MO PAG MASAYA KA SA BUHAY MO , NATUTUNAN MO MAHALIN SARILI…\n",
      "RT @EXOL55247970: @NASA @Twitter @Astro_Jessica @Astro_Christina Power☺\n",
      "#EXOLPromiseBaekhyun\n",
      "@weareoneEXO \n",
      "@B_hundred_Hyun \n",
      "@layzhang \n",
      "#EXO…\n",
      "RT @liezlibarra1: Mukhang naunahan ng katapangan ! Ano na Boss Gino ?!nasa Mindanao ka na ei....ahahahaha \n",
      "\n",
      "NCCDavaoM&amp;Gwith KIANO\n",
      "\n",
      " https:/…\n",
      "RT @Easycure: You were born in 1947, NASA wasn't formed until 1958 and we didn't have an astronaut in space until until 1962 when you were…\n",
      "RT @VishalK20096764: @JagatguruMMC Bhagwat Gita , Fantastic book of Yoga&amp; Self-realization,high level of Spirituality by Lord Krishna,book…\n",
      "RT @SpeakerPelosi: .@NASA has captured the imaginations of the world for generations. Congratulations to @Astro_Christina &amp; @Astro_Jessica…\n",
      "RT @SB19Official: Sobrang thankful po kami sa lahat ng nagpunta sa SM City BF Parañaque! Para kaming nasa sky dahil may blue kahit saan 💙 D…\n",
      "RT @amyklobuchar: A great day in history. This is why I've always been a strong advocate for women in STEM, passing legislation that encour…\n",
      "RT @CaliaDomenico: The Full Rotation of the Moon: A Beautiful, High Resolution Timelapse Film\n",
      "Credit NASA/LRO https://t.co/S345zBtR85\n",
      "RT @JovanceSRB: Srbija je sposobna, a svakim danom vojno sve jaca i jaca, da brani sebe i svoj narod samostalno. Zivela nasa Srbija. https:…\n",
      "@fruitloopius @NASA @POTUS @Astro_Christina @Astro_Jessica @Space_Station He’s going to build a space wall to keep those Marsinians out.\n",
      "RT @Alias255k: - Houston on a un problème \n",
      "- Oui dites nous ?\n",
      "- Rien laisse tomber. \n",
      "- mais ? \n",
      "- Bonne nuit. https://t.co/mbtk4kE9G5\n",
      "RT @Easycure: You were born in 1947, NASA wasn't formed until 1958 and we didn't have an astronaut in space until until 1962 when you were…\n",
      "RT @HillaryClinton: When I was a little girl, I wrote to NASA and told them I dreamed of being an astronaut. \n",
      "\n",
      "They wrote back and said the…\n",
      "RT @HeatherDawnPer1: @TheKateMulgrew I was in a mini-beauty pagent (no talent, no swimsuit required) at 15. I said I wanted to work for NAS…\n",
      "RT @C_3C_3: There’s a higher probability that Corn Pop is real than young Hillary Clinton writing a letter to NASA.\n",
      "\n",
      "She’s a pathological l…\n",
      "RT @cahulaan: Report suggests NASA can save a good deal of money, by being a lot less concerned about space germs: Elon Musk, and anyone el…\n",
      "RT @fabbrdn: Mdrrr y’a autant de poussière que sa sur la Lune ? https://t.co/OwcLlnZOZF\n",
      "Space saving QWERTY keyboard\n",
      "This is a QWERTY keyboard with a reduced height.\n",
      "#spacesaving #qwerty #keyboard… https://t.co/iCx98C0Zu1\n",
      "RT @padillacathh: “Iba talaga glow up pag nasa tamang tao ka”\n",
      "\n",
      "NOPE. IBA GLOW UP MO PAG MASAYA KA SA BUHAY MO , NATUTUNAN MO MAHALIN SARILI…\n",
      "RT @ALQadiPAL: الفلسطينية نجود ميرنسي، مهندسة الفضاء في وكالة الفضاء الامريكية، NASA ورئيسة قسم التخطيط لمهمات استكشاف الفضاء، تقف لصورة نا…\n",
      "RT @ezralevant: Omigod stop lying. NASA didn't even recruit astronauts until you were twelve.\n",
      "\n",
      "This is like when you said you were named af…\n",
      "RT @cicilavraie: trop drôle les mecs en commentaires qui ironisent sur la vaisselle &amp; le ménage alors qu'à 25 ans ils savent pas laver leur…\n",
      "RT @TasiaBass28: I bet it's not even that hard to break into NASA, steal a rocket, and kill the moon.  What are those nerds going to do if…\n",
      "\n",
      "\n",
      "200\n",
      "\n",
      "\n",
      "RT @dbongino: Did you accuse them of being “Russian assets” afterwards? https://t.co/6dw6cddvij\n",
      "#HurmanTheCat 😼🏳️‍🌈 #KushTheCat 🐱😻#MittensTheCat 🐈🙀⁦@iowabirds⁩ #SteppingOnToesEntmt 🔥🔔🔛#Loud⛽️💨⁦@IowakushPromo⁩ 🌬… https://t.co/sfQZIA9rbE\n",
      "RT @HillaryClinton: When I was a little girl, I wrote to NASA and told them I dreamed of being an astronaut. \n",
      "\n",
      "They wrote back and said the…\n",
      "Women in space! Yes.\n",
      "It's still the best time to be alive and be how you are!\n"
     ]
    },
    {
     "name": "stdout",
     "output_type": "stream",
     "text": [
      "@ebishopphoto @myrubypearl @Tentoads4truth @carrybeyond @ThomasS4217 @DKnight10000 It looks as though he may be on… https://t.co/StzSrWRrzO\n",
      "RT @ezralevant: Omigod stop lying. NASA didn't even recruit astronauts until you were twelve.\n",
      "\n",
      "This is like when you said you were named af…\n",
      "RT @viewsfrance: Aujourd’hui, et après 50 ans de sorties spatiales masculines, la NASA s’apprête à réaliser pour la 1ère fois une sortie sp…\n",
      "RT @mrmanhere_: Deeper into my what? https://t.co/JFS00BqYgm\n",
      "RT @DrakeGatsby: [Tour of NASA Headquarters] \n",
      "\n",
      "Guide: So NASA was founded in July of 1958 with the goal- \n",
      "\n",
      "Me: *interrupting* Is it true th…\n",
      "RT @MartinMillnert: Presentation of the NASA Ames Icebreaker mission proposal by Carol Stoker at the #MarsSocCon2019 (h/t @We_Martians ) ht…\n",
      "@NASA @POTUS @Astro_Christina @Astro_Jessica @Space_Station They should have said, we found a new leader up here\n",
      "@carin__fischer https://t.co/EF3pprhX0a\n",
      "What do you think about this book?\n",
      "\n",
      "Serbian &amp; English\n",
      "@elonmusk @SpaceX @s1company @NASA https://t.co/CuEPL89PgO\n",
      "RT @WomenNASA: Today, @NASA_Astronauts and best friends @Astro_Christina and @Astro_Jessica embarked on the very first #AllWomanSpacewalk o…\n",
      "RT @daydreampilot: I shared and watched the #AllWomanSpacewalk with my first graders today. THEY WERE IN AWE. I just loved watching their l…\n",
      "RT @cicilavraie: trop drôle les mecs en commentaires qui ironisent sur la vaisselle &amp; le ménage alors qu'à 25 ans ils savent pas laver leur…\n",
      "RT @chantalclaret: Ladies &amp; Ladies we are floating in space. https://t.co/DA2VqtKyui\n",
      "yung parang nagkaroon ng checking of outfit pero nasa stage version + hawak assist para di tumaas panloob + inayos… https://t.co/wqiD659zwM\n",
      "RT @yamuyamu053031: Ayos ahh aikat na kau team Babe...\n",
      "\n",
      "Ahahhahha..\n",
      "\n",
      "#MMKTheYamyamStory https://t.co/bA5tfGUyvL\n",
      "RT @Easycure: You were born in 1947, NASA wasn't formed until 1958 and we didn't have an astronaut in space until until 1962 when you were…\n",
      "RT @padillacathh: “Iba talaga glow up pag nasa tamang tao ka”\n",
      "\n",
      "NOPE. IBA GLOW UP MO PAG MASAYA KA SA BUHAY MO , NATUTUNAN MO MAHALIN SARILI…\n",
      "RT @ONMalate: Nachupa ko na siya dati. Sobrang daks ni #Bagets kaso medyo matagal di nagparamdam. Ngayon ko nalang ulit siya natikman at si…\n",
      "NASA’s all-female spacewalk makes history: ‘One giant leap for WOMANkind!’\n",
      "\n",
      "https://t.co/ebptKpggGm https://t.co/4H4finaeBH\n",
      "RT @fabbrdn: Mdrrr y’a autant de poussière que sa sur la Lune ? https://t.co/OwcLlnZOZF\n",
      "RT @CarpeDonktum: On the list of \"things that never happened\" this ranks right up there with you becoming President. https://t.co/o3W41WMIOM\n",
      "Hillary's pants are on fire. Again.\n",
      "RT @MSorsorov: Ovo je bilo nas preCednik ... ovo zivi na Dedinju ... ovo je drzalo govor ginekolozima ... ovo je nasa slika i prilika, a mi…\n",
      "RT @fabbrdn: Mdrrr y’a autant de poussière que sa sur la Lune ? https://t.co/OwcLlnZOZF\n",
      "RT @tracybeanz: Where’s the letter? https://t.co/fvketiE4Uu\n",
      "RT @Blue2black: The Tycho Supernova: Death of a Star via NASA https://t.co/U5Y0eYX1qH https://t.co/dYE1KiYe7Q\n",
      "tapos nasa huli ung sakit\n",
      "With all the talk about space today, here's my story about the solar system - \"Lunar Relations in the Millennial Ag… https://t.co/aH8CHR5tZl\n",
      "RT @ezralevant: Omigod stop lying. NASA didn't even recruit astronauts until you were twelve.\n",
      "\n",
      "This is like when you said you were named af…\n",
      "RT @cicilavraie: trop drôle les mecs en commentaires qui ironisent sur la vaisselle &amp; le ménage alors qu'à 25 ans ils savent pas laver leur…\n",
      "RT @AstronomyMag: Orbiters, landers, and rovers have made their marks on the Red Planet. Now NASA is adding helicopters to the list. https:…\n",
      "RT @RDub1701: He also got wrong what the actual “first” being done was (2 women in a tandem space walk). \n",
      "So, once again he’s a moron and a…\n",
      "RT @Easycure: You were born in 1947, NASA wasn't formed until 1958 and we didn't have an astronaut in space until until 1962 when you were…\n",
      "RT @dbongino: Did you accuse them of being “Russian assets” afterwards? https://t.co/6dw6cddvij\n",
      "RT @EconomicTimes: US astronauts Christina Koch and Jessica Meir became the first all-female pairing to carry out a spacewalk, on Friday. h…\n",
      "RT @Alias255k: - Houston on a un problème \n",
      "- Oui dites nous ?\n",
      "- Rien laisse tomber. \n",
      "- mais ? \n",
      "- Bonne nuit. https://t.co/mbtk4kE9G5\n",
      "RT @Space_Station: .@Astro_Christina and @Astro_Jessica completed the first #AllWomanSpacewalk today at 2:55pm ET successfully replacing a…\n",
      "RT @pat_05: @mainedcm Day 1 - yung panahong SINUNGITAN kita, sabi ko.. \"SINO BA YANG BABAE NA YAN N NASA SULOK\"?? NGAYON, jusko! nasa TUKTO…\n",
      "🥰 I'm here for this\n",
      "ang cute nung nasa wall ko hehehshahahahahahahaha\n",
      "RT @obianuju: Can you show us a copy of the letter they wrote back to you?\n",
      "\n",
      "Or did they email you the response?\n",
      "Did you delete it? https://…\n",
      "RT @ezralevant: Omigod stop lying. NASA didn't even recruit astronauts until you were twelve.\n",
      "\n",
      "This is like when you said you were named af…\n",
      "RT @ezralevant: Omigod stop lying. NASA didn't even recruit astronauts until you were twelve.\n",
      "\n",
      "This is like when you said you were named af…\n",
      "RT @Kris_Sacrebleu: Why is @IvankaTrump there when she couldn’t even get a security clearance without her daddy’s intervention due to HIGHL…\n",
      "¿Se imaginan a alguien con la cabeza tan metida en el culo que lee esta noticia y en lo primero que piensa es en al… https://t.co/wuUAAdGKyG\n",
      "RT @cicilavraie: trop drôle les mecs en commentaires qui ironisent sur la vaisselle &amp; le ménage alors qu'à 25 ans ils savent pas laver leur…\n",
      "RT @masyochist: 💖 appreciation post 💖\n",
      "\n",
      "sorry for not making paalam properly pero seeing yall today was fun huhu 🥺💓💓💓 @zychanzy @Ikki_Saki01…\n",
      "RT @dbongino: Did you accuse them of being “Russian assets” afterwards? https://t.co/6dw6cddvij\n",
      "RT @NASA: Today, history was made as @Astro_Jessica and @Astro_Christina successfully completed the first #AllWomanSpacewalk! For more than…\n",
      "See NASA's Curiosity rover dig like a dog in the Mars sand https://t.co/43rkWyvYvj https://t.co/1E2iRAdNWe\n",
      "RT @Easycure: You were born in 1947, NASA wasn't formed until 1958 and we didn't have an astronaut in space until until 1962 when you were…\n",
      "RT @CaliaDomenico: The Full Rotation of the Moon: A Beautiful, High Resolution Timelapse Film\n",
      "Credit NASA/LRO https://t.co/S345zBtR85\n",
      "@JVanMaren Busy NASA scientists always take a time out to dunk on little girls.\n",
      "I'm sure they also weren't taking people who couldn't pass the IQ test which was Hillary's real problem\n",
      "NASA  only founded in 1958! \n",
      "Hillary born October 1947. \n",
      "Do the math!\n",
      "RT @Easycure: You were born in 1947, NASA wasn't formed until 1958 and we didn't have an astronaut in space until until 1962 when you were…\n",
      "Gwapo naman nung nasa omegle kainez,\n",
      "RT @haikatte: Les mecs piqués qui postent des memes de personnes endormies en réponse à ce tweet eh bien ils ont bien raison car tandis que…\n",
      "RT @ChristinePolon1: When I was a little girl, I dreamed about lying about this and other things... everything. My dreams came true. I'm a…\n",
      "RT @HillaryClinton: When I was a little girl, I wrote to NASA and told them I dreamed of being an astronaut. \n",
      "\n",
      "They wrote back and said the…\n",
      "RT @Easycure: You were born in 1947, NASA wasn't formed until 1958 and we didn't have an astronaut in space until until 1962 when you were…\n",
      "RT @dbongino: Did you accuse them of being “Russian assets” afterwards? https://t.co/6dw6cddvij\n",
      "@desireexjane Putangina bes sobrang pogi kahit bunbunan lang nakikita ko nasa taas kase ako tas uminom sya so tumin… https://t.co/HelfvNouit\n",
      "RT @HillaryClinton: When I was a little girl, I wrote to NASA and told them I dreamed of being an astronaut. \n",
      "\n",
      "They wrote back and said the…\n",
      "RT @statedeptspox: A big congrats to the crew of the first #AllWomanSpaceWalk! @Astro_Christina, @Astro_Jessica, you are stellar! You made…\n",
      "RT @ezralevant: Omigod stop lying. NASA didn't even recruit astronauts until you were twelve.\n",
      "\n",
      "This is like when you said you were named af…\n",
      "HAHAHAHAHAHAHAHAHAHAHAHAHAHHAHAAHHAAHHAHAHAHAHAHAAHHAHAHAHAHAHA\n",
      "RT @cicilavraie: trop drôle les mecs en commentaires qui ironisent sur la vaisselle &amp; le ménage alors qu'à 25 ans ils savent pas laver leur…\n",
      "RT @shaoyu_yuan: Very powerful words.\n",
      "\n",
      "https://t.co/JLQXLAsxUw\n",
      "RT @CarpeDonktum: On the list of \"things that never happened\" this ranks right up there with you becoming President. https://t.co/o3W41WMIOM\n"
     ]
    },
    {
     "name": "stdout",
     "output_type": "stream",
     "text": [
      "RT @KamalaHarris: For the first time in our nation’s history, an all-female crew walked in space today. It’s more than historic—it’s a remi…\n",
      "RT @hubo_at_hubad: 🔞 #chupainmoko pamangkin ko. sarap magpachupa at kumantot, 20th birthday pa nya. Sunday ng hapon, nagsimba ang mga nasa…\n",
      "RT @nevsinmengu: Kocasına kahvaltı hazırlamak varken uzaya çıkmış cıkcıkcık https://t.co/CSTkOiRuxh\n",
      "gwapo ng nasa heAder ko kbye\n",
      "RT @Sophiekatchu: @julialicious3 @godgaxxi https://t.co/z3WHljmyNo basahin mo lahat yung nasa article... sobrang bait nung sumulat ng lette…\n",
      "RT @d1KilalaMo: talagang ang pangarap ay wala sa edad, nasa pagpupursige.. #MMKTheYamyamStory\n",
      "Gustoo ko talagaaa yung nasa header kooo!!!☹️💗\n",
      "Oh, hey 👋 \n",
      "#SpaceApps #DataScience\n",
      "@freesubwaywifi @eleonore_keith @bhherring @NASA @AlyndertheRed1 @BryanMooreGroup @keane721 @KathyinKenya… https://t.co/6NkoFMnRcx\n",
      "RT @fabbrdn: Mdrrr y’a autant de poussière que sa sur la Lune ? https://t.co/OwcLlnZOZF\n",
      "RT @cicilavraie: trop drôle les mecs en commentaires qui ironisent sur la vaisselle &amp; le ménage alors qu'à 25 ans ils savent pas laver leur…\n",
      "@pusscarey @chartsariananet @ArianaGrande A diferença entre nasa e needy é de +/- 6 mi então...\n",
      "RT @CarpeDonktum: On the list of \"things that never happened\" this ranks right up there with you becoming President. https://t.co/o3W41WMIOM\n",
      "RT @tifis: Si no quieren ser como @matadoreltiempo, lean de qué se trata la PRIMERA caminata espacial hecha por mujeres. Esto pasó ayer y e…\n",
      "Hear from one of our participants at the @NASA #SpaceApps Challenge about why they wanted to get involved in this g… https://t.co/zG8wleAD0x\n",
      "NASA engineer says new thruster could reach 99% speed of light https://t.co/TSmalq7kE5\n",
      "RT @__gaby_yy: Ces femmes ont du subir des tonnes de remarques sexistes (illustré en commentaire) avant d'en arriver là.\n",
      "Bravo à elles 😌 ht…\n",
      "RT @NASA: During our #AllWomanSpacewalk, there was an Earth-to-space call as @POTUS called @Astro_Christina &amp; @Astro_Jessica to congratulat…\n",
      "RT @CatyRengifo: #LoQueSomosLasMujeres inspiración para millones de niñas. Ejemplo para millones de mujeres. #MujeresTIC #JuntasSomosMás ht…\n",
      "RT @ezralevant: Omigod stop lying. NASA didn't even recruit astronauts until you were twelve.\n",
      "\n",
      "This is like when you said you were named af…\n",
      "RT @fabbrdn: Mdrrr y’a autant de poussière que sa sur la Lune ? https://t.co/OwcLlnZOZF\n",
      "She never became an astronaut or the president! Lmao. REKT\n",
      "RT @dbongino: Did you accuse them of being “Russian assets” afterwards? https://t.co/6dw6cddvij\n",
      "RT @Easycure: You were born in 1947, NASA wasn't formed until 1958 and we didn't have an astronaut in space until until 1962 when you were…\n",
      "RT @cicilavraie: trop drôle les mecs en commentaires qui ironisent sur la vaisselle &amp; le ménage alors qu'à 25 ans ils savent pas laver leur…\n",
      "RT @JovanceSRB: Srbija je sposobna, a svakim danom vojno sve jaca i jaca, da brani sebe i svoj narod samostalno. Zivela nasa Srbija. https:…\n",
      "\n",
      "\n",
      "300\n",
      "\n",
      "\n",
      "RT @viewsfrance: Aujourd’hui, et après 50 ans de sorties spatiales masculines, la NASA s’apprête à réaliser pour la 1ère fois une sortie sp…\n",
      "RT @HillaryClinton: When I was a little girl, I wrote to NASA and told them I dreamed of being an astronaut. \n",
      "\n",
      "They wrote back and said the…\n",
      "RT @pcydaboss: @kuyachanyeol sana olways ka nasa piling ni b para may sakto kang tulog gago\n",
      "@HWPolitica @dbongino https://t.co/0gBhqzNdlH\n",
      "RT @NobelPrize: Subramanyan Chandrasekhar, the 'original starman' awarded the #NobelPrize in Physics for his theory on the evolution of sta…\n",
      "A poner la alarma ⏰\n",
      "RT @DarwinMrcLo: Nasa point na'ko ng buhay ko kung saan kay langan konang mamili kung.. https://t.co/PSQxihPQJk\n",
      "RT @DrakeGatsby: [Tour of NASA Headquarters] \n",
      "\n",
      "Guide: So NASA was founded in July of 1958 with the goal- \n",
      "\n",
      "Me: *interrupting* Is it true th…\n",
      "RT @Msimisi00815216: if u still believe this, u must be trying rather too hard to be ignorant https://t.co/PmbF5jkoZX\n",
      "Nasa timog nanaman si because.\n",
      "RT @Easycure: You were born in 1947, NASA wasn't formed until 1958 and we didn't have an astronaut in space until until 1962 when you were…\n",
      "RT @ThomasEWoods: I'd take Things That Never Happened for $200, but Hillary Jeopardy cleared out that category 30 years ago https://t.co/Bf…\n",
      "RT @SirHublife: They should have launched this bitch into space when they had the chance.\n",
      "\n",
      "Thanks a lot NASA. https://t.co/AXqMDdXCWb\n",
      "RT @dbongino: Did you accuse them of being “Russian assets” afterwards? https://t.co/6dw6cddvij\n",
      "RT @YourMajo: Sana nasa tabi kita\n",
      "RT @LexSportsCards: @HillaryClinton women worked at nasa in 1935..and in 1995 the first women went to space.. i call your story bs.\n",
      "RT @KamalaHarris: For the first time in our nation’s history, an all-female crew walked in space today. It’s more than historic—it’s a remi…\n",
      "RT @TaraForTrump: Hahahahaha... deep  breath......hahahahaha!! \n",
      "\n",
      "Did you see the latest load of bull? 😳\n",
      "\n",
      "Killary said NASA wrote her &amp; said…\n",
      "RT @APraxHuart: A lot of @ISAE_officiel  will be once again at the #IAC this year. @PriyankaSpace will be our special reporter at the #IAC2…\n",
      "RT @iamkimmytee: Aaahhhh dko kinaya https://t.co/u3XWMGsyQH\n",
      "pagkagising ko....\n",
      "\n",
      "-nasa lapag na phone ko meaning nahulog, and may slight na basag siya\n",
      "-madaming messages sa mes… https://t.co/vQUoTpygw0\n",
      "RT @WhiteHouse: \"Please stand by for a call from the President of the United States.\" \n",
      "\n",
      "Congratulations to @NASA astronauts @Astro_Christin…\n",
      "D'IG story 💚\n",
      "Naku Darren matutulog na sana ako eh 😅😅, ikaw talaga D ha char😅 \n",
      "Si Crinkle yan nasa shirt mo D 😅, so… https://t.co/EzF9OO2xSu\n",
      "RT @radioskylab_es: Pero quedaron cuatro radionautas que algún día contarán está historia. 😉 https://t.co/JK0RZfEbfR\n",
      "@williardbabysun Acho que vou na NASA para eles me estudarem\n",
      "Women making her story\n",
      "RT @2LarryJohnson7: NASA in Hebrew : “Greatly deceived” \n",
      "\n",
      "- The serpent is hidden but the  forked tongue in the logo isn’t.\n",
      "- “Artemis” is…\n",
      "RT @BeautyNiKiara: Bakit yung iba nasa sixth or fifth?\n",
      "\n",
      "Eighth pa lang mga sis!\n",
      "\n",
      "BoomBirthdayNaNi GinoRoque\n",
      "RT @viewsfrance: Aujourd’hui, et après 50 ans de sorties spatiales masculines, la NASA s’apprête à réaliser pour la 1ère fois une sortie sp…\n",
      "X for doubt https://t.co/PiTXPuNj9D\n",
      "kadınların o saatte uzayda ne işi varmış !\n",
      "RT @ShaniReillyy: Nasa Mars 2020 Mission's MiMi Aung on women in space https://t.co/JYEXZZuhWA https://t.co/NrWWqkdabu\n",
      "RT @Easycure: You were born in 1947, NASA wasn't formed until 1958 and we didn't have an astronaut in space until until 1962 when you were…\n",
      "okay nasa all too well part na ako........... time to iyak\n",
      "RT @DrakeGatsby: [Tour of NASA Headquarters] \n",
      "\n",
      "Guide: So NASA was founded in July of 1958 with the goal- \n",
      "\n",
      "Me: *interrupting* Is it true th…\n",
      "RT @fabbrdn: Mdrrr y’a autant de poussière que sa sur la Lune ? https://t.co/OwcLlnZOZF\n",
      "RT @Easycure: You were born in 1947, NASA wasn't formed until 1958 and we didn't have an astronaut in space until until 1962 when you were…\n",
      "RT @KamalaHarris: For the first time in our nation’s history, an all-female crew walked in space today. It’s more than historic—it’s a remi…\n",
      "RT @Mithoheri: @ https://t.co/1CsuhzFKXA\n",
      "RT @dbongino: Did you accuse them of being “Russian assets” afterwards? https://t.co/6dw6cddvij\n",
      "RT @westernuSpace: The Institute for Earth and Space Exploration is set up at @SkyWatchApps Kitchener. Come find @westernuSpace PhD student…\n",
      "RT @NASAEarth: Join thousands worldwide for the #NASA @SpaceApps Challenge! Be a part of the world's largest global #hackathon and create #…\n",
      "RT @Easycure: You were born in 1947, NASA wasn't formed until 1958 and we didn't have an astronaut in space until until 1962 when you were…\n",
      "RT @ezralevant: Omigod stop lying. NASA didn't even recruit astronauts until you were twelve.\n",
      "\n",
      "This is like when you said you were named af…\n",
      "RT @AJA_Cortes: @HillaryClinton You were born in 1947, NASA wasn't formed until 1958 and we didn't have an astronaut in space until until 1…\n",
      "RT @RepresentPledge: .@Astro_Christina and @Astro_Jessica are making herstory today in the first all-woman spacewalk 🙌🙌🙌\n",
      "https://t.co/LgoSb…\n",
      "RT @NASA: This week:\n",
      "\n",
      "👩‍🚀👩‍🚀 @Astro_Christina &amp; @Astro_Jessica make history #AllWomanSpacewalk\n",
      "🌔 New spacesuits for #Artemis generation ast…\n",
      "RT @SouthernLibtard: Such. A. Stupid. President. 👩‍🚀👩🏽‍🚀\n",
      "https://t.co/2JQ4yovwbQ\n"
     ]
    },
    {
     "name": "stdout",
     "output_type": "stream",
     "text": [
      "RT @TorCWoman: So are the climate change hoaxers denting real science in order to fear monger?\n",
      "\n",
      "These people have been fear mongering for l…\n",
      "@starkleus yung 10.9.8 ata yung product nun ididivide mo sa product nung nasa parenthesis??\n",
      "RT @HillaryClinton: When I was a little girl, I wrote to NASA and told them I dreamed of being an astronaut. \n",
      "\n",
      "They wrote back and said the…\n",
      "It was the first time in more than half a century of space exploration that two women walked in space together. \n",
      "https://t.co/kbTxaju0o4\n",
      "RT @ezralevant: Omigod stop lying. NASA didn't even recruit astronauts until you were twelve.\n",
      "\n",
      "This is like when you said you were named af…\n",
      "RT @reisanapaulaf: queria estar no nasa space\n",
      "RT @ezralevant: Omigod stop lying. NASA didn't even recruit astronauts until you were twelve.\n",
      "\n",
      "This is like when you said you were named af…\n",
      "Tahimik lang daw ako pero nasa loob daw ang kulo ko,kinginaaaaa kilala nyo ba talaga ako?\n",
      "RT @KVeusebio: Congrats pa din Lady Lions I love you all tandaan niyo di nagsawa sumuporta mga taong nasa paligid niyo\n",
      "RT @CNET: See NASA's Curiosity rover dig like a dog in the Mars sand https://t.co/43rkWyvYvj https://t.co/1E2iRAdNWe\n",
      "It's almost like he never knows what he's talking about. Considering he has an entire entourage to help with that,… https://t.co/Oys8O1dfZu\n",
      "RT @CarpeDonktum: On the list of \"things that never happened\" this ranks right up there with you becoming President. https://t.co/o3W41WMIOM\n",
      "@spaceappsCLE @SpaceApps @NASAglenn Excited to hear all about our lunchtime keynote speaker! We're getting into the… https://t.co/IBXpir5Xj7\n",
      "@BillGates https://t.co/o5wpAlO4Qb @NASAHubble @NASA @isro\n",
      "RT @Easycure: You were born in 1947, NASA wasn't formed until 1958 and we didn't have an astronaut in space until until 1962 when you were…\n",
      "RT @liezlibarra1: Mukhang naunahan ng katapangan ! Ano na Boss Gino ?!nasa Mindanao ka na ei....ahahahaha \n",
      "\n",
      "NCCDavaoM&amp;Gwith KIANO\n",
      "\n",
      " https:/…\n",
      "RT @laroccaa: @cspan @NASA Did Donald Trump just flip off the female astronaut when she corrected him at 2:14?  Donald always being his bes…\n",
      "RT @SirHublife: They should have launched this bitch into space when they had the chance.\n",
      "\n",
      "Thanks a lot NASA. https://t.co/AXqMDdXCWb\n",
      "RT @__gaby_yy: Ces femmes ont du subir des tonnes de remarques sexistes (illustré en commentaire) avant d'en arriver là.\n",
      "Bravo à elles 😌 ht…\n",
      "RT @westernuSpace: PhD student @GavinOnTheMoon is at the @SkyWatchApps challenge at Kitchener Ontario! For those in the #hackathon at Kitch…\n",
      "RT @JenKirkman: Today’s historic NASA news marks the first all female space walk and it also marks the first time women walked somewhere wi…\n",
      "RT @Easycure: You were born in 1947, NASA wasn't formed until 1958 and we didn't have an astronaut in space until until 1962 when you were…\n",
      "RT @dbongino: Did you accuse them of being “Russian assets” afterwards? https://t.co/6dw6cddvij\n",
      "NASA, pls hire me. HAHAHA.\n",
      "RT @Easycure: You were born in 1947, NASA wasn't formed until 1958 and we didn't have an astronaut in space until until 1962 when you were…\n",
      "RT @pixburghgrrl: At 2:10 Trumpov shows us what a class act he really is.\n",
      "All third. https://t.co/AHlGvE6eUl\n",
      "RT @CalvsAlmazan: A growing Philippine narrative that has to stop.\n",
      "\n",
      "Hindi dahil may pinaniniwalaan o may pinaglalaban “narekrut na ng kaliw…\n",
      "RT @obianuju: Can you show us a copy of the letter they wrote back to you?\n",
      "\n",
      "Or did they email you the response?\n",
      "Did you delete it? https://…\n",
      "@HillaryClinton There are russians up there so nasa must be a russian asset\n",
      "RT @tifis: Si no quieren ser como @matadoreltiempo, lean de qué se trata la PRIMERA caminata espacial hecha por mujeres. Esto pasó ayer y e…\n",
      "Una de las últimas películas que me ví con mi mamá y que ella amó fue precisamente la de \"Talentos Ocultos\". Salió… https://t.co/0TKiMkRJVh\n",
      "RT @fleacollerindus: This is what I never understood about the Left. Like, I was not supposed to vote for Trump cuz he's a liar while Hilla…\n",
      "RT @ezralevant: Omigod stop lying. NASA didn't even recruit astronauts until you were twelve.\n",
      "\n",
      "This is like when you said you were named af…\n",
      "RT @BeautyNiKiara: Bakit yung iba nasa sixth or fifth?\n",
      "\n",
      "Eighth pa lang mga sis!\n",
      "\n",
      "BoomBirthdayNaNi GinoRoque\n",
      "RT @juanjohn1: Happy early birthday to this future astronaut. https://t.co/5kVwE2MZzV\n",
      "RT @norcruz: Se lo mostraré a mi hija👧 🥰 https://t.co/ET2Iag55et\n",
      "RT @padillacathh: “Iba talaga glow up pag nasa tamang tao ka”\n",
      "\n",
      "NOPE. IBA GLOW UP MO PAG MASAYA KA SA BUHAY MO , NATUTUNAN MO MAHALIN SARILI…\n",
      "RT @ezralevant: Omigod stop lying. NASA didn't even recruit astronauts until you were twelve.\n",
      "\n",
      "This is like when you said you were named af…\n",
      "RT @dbongino: Did you accuse them of being “Russian assets” afterwards? https://t.co/6dw6cddvij\n",
      "RT @Cmdr_Hadfield: On a clear day on Mars, you can see our robots from orbit. \n",
      "\n",
      "(that's @NASAInSight, taken from the Mars Reconnaissance Or…\n",
      "@HillaryClinton Come on NASA ... show her some mercy,\n",
      "strap her in... and shoot her in outer space 👍🤓\n",
      "RT @SpaceToday1: É assim que se formam as galáxias, graças a atração gravitacional das estrelas e da poeira estelar. Bela simulação da NASA…\n",
      "RT @CarpeDonktum: On the list of \"things that never happened\" this ranks right up there with you becoming President. https://t.co/o3W41WMIOM\n",
      "RT @viewsfrance: Aujourd’hui, et après 50 ans de sorties spatiales masculines, la NASA s’apprête à réaliser pour la 1ère fois une sortie sp…\n",
      "@HillaryClinton Was there a NASA when you were a little girl? Were there even cars?\n",
      "RT @Caroiline_: Vous devenez originaux et drôles à quelle heure les hommes ?\n",
      "Vraiment c'est gênant. https://t.co/fSRWREUNPZ https://t.co/pW…\n",
      "@SerendipityRT Ang dami kaya nglabasan na pics. Hahaha\n",
      "\n",
      "Nasa Night Market ngroam around the streets ahahah\n",
      "\n",
      "BoomBirthdayNaNi GinoRoque\n",
      "@freesubwaywifi @eleonore_keith @bhherring @NASA @AlyndertheRed1 @BryanMooreGroup @keane721 @KathyinKenya… https://t.co/AJAw4fxg59\n",
      "RT @nista_licno_11: @avucic @MedvedevRussia Neizmerna podrska, ljubav, potpora i sve sto stane u jedno veliko prijateljstvo je dokaz sve če…\n",
      "RT @JohnMTalmadgeMD: The last half of this transcript (video also available on YouTube) reveals a rambling, tangential spontaneous monologu…\n",
      "RT @Djanomanija: Nasa vojska je nas ponos! Svaka cast za ovakvu organizaciju! #Srbija #Rusija #Medvedev #Vucic #sloboda2019 @avucic\n",
      "RT @KiaNoEyes: To our very kind Gino,maligayang kaarawan sayo,pagpatuloy mo lang yan boss,nasa likod mo kami lagi.\n",
      "\n",
      "BoomBirthdayNaNi GinoRo…\n",
      "\n",
      "\n",
      "400\n",
      "\n",
      "\n",
      "RT @HillaryClinton: When I was a little girl, I wrote to NASA and told them I dreamed of being an astronaut. \n",
      "\n",
      "They wrote back and said the…\n",
      "RT @devv_xoxo: Hooters NASA is hiring cooks.... can someone come apply plz lmao\n",
      "RT @BeautyNiKiara: Bakit yung iba nasa sixth or fifth?\n",
      "\n",
      "Eighth pa lang mga sis!\n",
      "\n",
      "BoomBirthdayNaNi GinoRoque\n",
      "RT @ET_Exists: WHO’S ROOTING FOR THIS? I KNOW I AM!!! 👩🏻‍🚀👩🏻‍🚀👩🏻‍🚀👩🏻‍🚀👩🏻‍🚀👩🏻‍🚀👩🏻‍🚀👩🏻‍🚀👩🏻‍🚀👩🏻‍🚀👩🏻‍🚀👩🏻‍🚀👩🏻‍🚀👩🏻‍🚀👩🏻‍🚀👩🏻‍🚀👩🏻‍🚀👩🏻‍🚀👩🏻‍🚀#WomenInS…\n",
      "@manispinkprint nasa exist\n",
      "RT @its_AMYthyst: Ginalingan niyo masyado sa pag comment @maximuszi @KRRAsiss @kym_bear Napansin kayo ni @MMKOfficial hahaha nasa IG story…\n",
      "RT @jondaly: Two women floating in space were forced to talk to a rapist. https://t.co/IAAXXUqpID\n",
      "RT @fabbrdn: Mdrrr y’a autant de poussière que sa sur la Lune ? https://t.co/OwcLlnZOZF\n",
      "RT @HillaryClinton: When I was a little girl, I wrote to NASA and told them I dreamed of being an astronaut. \n",
      "\n",
      "They wrote back and said the…\n",
      "RT @CChristineFair: For every little girl that dreamed of being an austronaut. https://t.co/sH3WfyKPeu\n",
      "RT @Nick_Stevens_Gr: Quickie conversion and spin of the free Rosetta mesh available from the NASA 3d object library… https://t.co/vw8ghmQayd\n",
      "RT @JenKirkman: Today’s historic NASA news marks the first all female space walk and it also marks the first time women walked somewhere wi…\n",
      "RT @songbirdtweets1: Kungbaga sa Theme Park ito yung pinaka ExtremeRollerCoasterRide. Grabe yung intensity sa taas sabay swabeng transition…\n",
      "史上初、2人の女性のみでの宇宙遊泳\n",
      "\n",
      "偉い人が宇宙のことで嬉しそうにしてると微笑ましく感じる\n",
      "まぁ彼は大統領だから僕らと違っていろいろ絡んだ上での嬉しいという感情だろうけど\n",
      "それでも微笑ましい\n",
      "#AllWomanSpacewalk… https://t.co/qH12plgHRa\n",
      "RT @Nytloc: @stillgray People trying to say that \"oh, she was 12 at the time of NASA being created!\" are missing the point.  NASA didn't su…\n"
     ]
    },
    {
     "name": "stdout",
     "output_type": "stream",
     "text": [
      "RT @GeekGirlsLatam: Hoy en la estación espacial de la @NASA 4 talentosas mujeres realizan labores importantes importantes de ingeniería y c…\n",
      "RT @griey_: ang hirap ng bobo, di maprocess agad ng utak ko yung mga nasa libro, kaya i always have to write every damn shit tapos saka ko…\n",
      "RT @HillaryClinton: When I was a little girl, I wrote to NASA and told them I dreamed of being an astronaut. \n",
      "\n",
      "They wrote back and said the…\n",
      "RT @Homesdenegre: Advertencia de la NASA: Un asteroide de un kilómetro de diámetro se acercará a la Tierra el 25 de octubre https://t.co/9P…\n",
      "RT @NASA: Throughout spaceflight history, 14 women have completed spacewalks. Today, @Astro_Jessica brought that number up to 15 as she flo…\n",
      "RT @ECMcLaughlin: Scroll to 2:00 minutes and watch what happens.\n",
      "\n",
      "Because, you know, the President flipping off a female astronaut in space…\n",
      "RT @nevsinmengu: Kocasına kahvaltı hazırlamak varken uzaya çıkmış cıkcıkcık https://t.co/CSTkOiRuxh\n",
      "RT @ValerieJarrett: Little girls growing up today will think this historic event is perfectly normal.  #AllWomanSpacewalk . https://t.co/qp…\n",
      "RT @pat_05: @mainedcm Day 1 - yung panahong SINUNGITAN kita, sabi ko.. \"SINO BA YANG BABAE NA YAN N NASA SULOK\"?? NGAYON, jusko! nasa TUKTO…\n",
      "RT @dbongino: Did you accuse them of being “Russian assets” afterwards? https://t.co/6dw6cddvij\n",
      "C’est pour faire la vaisselle dans l’espace\n",
      "https://t.co/NONBFtonGP\n",
      "Basta ang akin lang is aNG SWERTE NG MAGIGING JOWA NI A R A  G A L A N G. Kaya kung sino ka man, ingatan mo yan. Na… https://t.co/sNvXsJBtyw\n",
      "They should have let her go &amp; then cut the tether...\n",
      "Kung di sana ako umuwi baka nasa bar din ako ngayon, sayang treat pa namn ni sir!\n",
      "RT @clairecmc: Why is she at this table? Get your kids out of the White House while they are “earning” 80+ million last year. And until you…\n",
      "NASA SpaceApps @ Cleveland NASA campus rocks - thanks to all the organizers!  #SpaceApps\n",
      "RT @cicilavraie: trop drôle les mecs en commentaires qui ironisent sur la vaisselle &amp; le ménage alors qu'à 25 ans ils savent pas laver leur…\n",
      "lam mo sis antok na ako, tweet kanalang ahh, sainyo na muna twitter, psabi din sa ibang nasa ibang school na, love… https://t.co/WnVsg9u1j3\n",
      "RT @HillaryClinton: When I was a little girl, I wrote to NASA and told them I dreamed of being an astronaut. \n",
      "\n",
      "They wrote back and said the…\n",
      "RT @SirHublife: They should have launched this bitch into space when they had the chance.\n",
      "\n",
      "Thanks a lot NASA. https://t.co/AXqMDdXCWb\n",
      "RT @bydneley: Deanna Wong is among those players who is underrated and unappreciated. Nastart lang siya maappreciate nung ibang setters (wi…\n",
      "RT @HillaryClinton: When I was a little girl, I wrote to NASA and told them I dreamed of being an astronaut. \n",
      "\n",
      "They wrote back and said the…\n",
      "@ASPI_WDSN in case you missed this, the 'EVA' on @NASA's @ISS_CASIS BY @Astro_Jessica &amp; @Astro_Christina happened y… https://t.co/evskgETXgC\n",
      "RT @WendyMeer11: “And then there was the fact of a woman’s traveling alone to Belize “by herself for only three days, including travel. Not…\n",
      "RT @cicilavraie: trop drôle les mecs en commentaires qui ironisent sur la vaisselle &amp; le ménage alors qu'à 25 ans ils savent pas laver leur…\n",
      "RT @SmashCrossovers: Super Smash Bros. Ultimate X NASA https://t.co/kC0QusmAxp\n",
      "@DisclosureTLiv The life test was in fact positive. But NASA decided it was not conclusive. Be warned Mars might no… https://t.co/IVmRE3fyXa\n",
      "RT @TwatterRobot: @HillaryClinton Hillary: I want to be an astronaut\n",
      "\n",
      "NASA: We do not have a space capsule built to accommodate a horses as…\n",
      "RT @wspieler: No she fucking didn't, Sputnik was when she was 10, manned spaceflight at 14 https://t.co/TNo3t22Uml\n",
      "RT @TheSpaceGal: You can buy this commemorative patch of the #AllWomِanSpacewalk (!!)\n",
      "\n",
      "Designed by NASA mission patch artists, Tim and Lynn…\n",
      "RT @__gaby_yy: Ces femmes ont du subir des tonnes de remarques sexistes (illustré en commentaire) avant d'en arriver là.\n",
      "Bravo à elles 😌 ht…\n",
      "Sobrang saya naman na nasa inuman ka tapos di ka iinom. Tangina 🙃🙃🙃\n",
      "Nasa visuals. https://t.co/LcjfAsObfl\n",
      "RT @viewsfrance: Aujourd’hui, et après 50 ans de sorties spatiales masculines, la NASA s’apprête à réaliser pour la 1ère fois une sortie sp…\n",
      "🔴#EnVivoUCSG: Hackatón Space Apps de la NASA https://t.co/0JitlcE62x\n",
      "RT @marcannem96: Show us the letter, liar. https://t.co/WcPIozXCc3\n",
      "RT @HillaryClinton: When I was a little girl, I wrote to NASA and told them I dreamed of being an astronaut. \n",
      "\n",
      "They wrote back and said the…\n",
      "RT @cicilavraie: trop drôle les mecs en commentaires qui ironisent sur la vaisselle &amp; le ménage alors qu'à 25 ans ils savent pas laver leur…\n",
      "RT @cicilavraie: trop drôle les mecs en commentaires qui ironisent sur la vaisselle &amp; le ménage alors qu'à 25 ans ils savent pas laver leur…\n",
      "And may @NASA find a way to quickly fulfill 👇👇👇 her dreams before she accuses another person of being a… https://t.co/Qn4Ud2cktV\n",
      "RT @padillacathh: “Iba talaga glow up pag nasa tamang tao ka”\n",
      "\n",
      "NOPE. IBA GLOW UP MO PAG MASAYA KA SA BUHAY MO , NATUTUNAN MO MAHALIN SARILI…\n",
      "RT @ezralevant: Omigod stop lying. NASA didn't even recruit astronauts until you were twelve.\n",
      "\n",
      "This is like when you said you were named af…\n",
      "RT @CactusQH: It's never too late Hillary!!\n",
      "@NASA @NASAspaceplace \n",
      "\n",
      "MRS. CLINTON WANTS TO JOIN THE TEAM.\n",
      "Can you accommodate her little gir…\n",
      "RT @ezralevant: Omigod stop lying. NASA didn't even recruit astronauts until you were twelve.\n",
      "\n",
      "This is like when you said you were named af…\n",
      "Muchas mujeres para admirar sin importar si son profesionales, artistas, campesinas o artesanas. Más de ellas y men… https://t.co/yyDV64SFTq\n",
      "@thanksarahnext Ye.... NO!!! NASA ISSA BOP\n",
      "RT @ReaIJhonathan: Peo el México\n",
      "Peo en Argentina\n",
      "Peo en Bolivia\n",
      "Peo Honduras \n",
      "Peo en Venezuela\n",
      "Peo en Hong Kong\n",
      "Peo en España\n",
      "Peo en Líban…\n",
      "RT @Karrot_Bts: Jaskeng bata! Ma atake ka talaga sa puso.. BH mga professional runner na camera man nya next time 😂 https://t.co/WHSKKAqSua\n",
      "RT @HillaryClinton: When I was a little girl, I wrote to NASA and told them I dreamed of being an astronaut. \n",
      "\n",
      "They wrote back and said the…\n",
      "RT @TheRealBuzz: Well done ladies. #AllWomanSpacewalk https://t.co/wbancSBV5S\n",
      "RT @DrakeGatsby: [Tour of NASA Headquarters] \n",
      "\n",
      "Guide: So NASA was founded in July of 1958 with the goal- \n",
      "\n",
      "Me: *interrupting* Is it true th…\n",
      "@NASA Ames' Carol Stoker delivers an interesting update on drilling for life of Mars at #MarsSociety convention. #SolarSystemEconomics\n",
      "RT @DrakeGatsby: [Tour of NASA Headquarters] \n",
      "\n",
      "Guide: So NASA was founded in July of 1958 with the goal- \n",
      "\n",
      "Me: *interrupting* Is it true th…\n",
      "RT @fabbrdn: Mdrrr y’a autant de poussière que sa sur la Lune ? https://t.co/OwcLlnZOZF\n",
      "RT @AndjelinaBaler2: @VucevicM Svaka cast na ovome. O deci se trrba brinuti najvise, to je nasa buducnost.\n",
      "RT @cicilavraie: trop drôle les mecs en commentaires qui ironisent sur la vaisselle &amp; le ménage alors qu'à 25 ans ils savent pas laver leur…\n",
      "RT @bennyjohnson: @HillaryClinton Is that when NASA sent Bosnian snipers to your house?\n",
      "RT @NARAL: It's safe to say we're totally over the moon about this #AllWomanSpacewalk 👩🏻‍🚀👩🏻‍🚀🛰️ https://t.co/hW8oKnHqNX\n",
      "RT @StrongIam: Qing Inang commercial to! Hahaha\n",
      "\n",
      "Basahin nyo yung nasa baba. https://t.co/uIS21dSnjl\n",
      "hirap makisama sa mga taong nasa loob yung kulo hahaha taena labas mo naman weak ka pala e\n",
      "RT @bahcesehirurfa: NASA’nın tüm dünyada yaklaşık 100ülke 177şehirde eşzamanlı olarak düzenlediği 8.“NASASpaceAppsChallenge”etkinliğine 27g…\n",
      "Naiiyak na naman akooo!! thank you din sainyo, kasi kung wala kayo hindi kami aabot ng championship ☹️💙\n",
      "RT @HillaryClinton: When I was a little girl, I wrote to NASA and told them I dreamed of being an astronaut. \n",
      "\n",
      "They wrote back and said the…\n",
      "RT @HillaryClinton: When I was a little girl, I wrote to NASA and told them I dreamed of being an astronaut. \n",
      "\n",
      "They wrote back and said the…\n",
      "RT @elfamosopaulo: https://t.co/ItalP5SAZN https://t.co/OTsU5S51oJ\n",
      "RT @clairecmc: Why is she at this table? Get your kids out of the White House while they are “earning” 80+ million last year. And until you…\n",
      "RT @dbongino: Did you accuse them of being “Russian assets” afterwards? https://t.co/6dw6cddvij\n",
      "RT @HimariMochimoon: 今日の動画は真面目な企画よ。\n",
      "https://t.co/Tl9VQtxhWF\n",
      "\n",
      "NASAよ、これが餅月だ。\n",
      "\n",
      "#ソウナンですか？ #sndk #ディスカバリーチャンネル #さいとうたかを https://t.co/hn214Yevns\n"
     ]
    },
    {
     "name": "stdout",
     "output_type": "stream",
     "text": [
      "Ano man ang hiling, aking susundin. Ang nasa loob, ipagkakaloob. Ngayon din, NOW NA!!!!\n",
      "halatang di ako marunong ng kahit ano tungkol sa mga LS anywayz NEXT! AYON MAY SUMMER NIGHTS ALBUM NA AKO TAS SYMPR… https://t.co/MQn1Q31zkT\n",
      "RT @dbongino: Did you accuse them of being “Russian assets” afterwards? https://t.co/6dw6cddvij\n",
      "#NASA are LIARS! 100% #FLATEARTH PROOF HERE: https://t.co/l8SpsYYJVB Saturday October 19 2019:1:24:57 PM\n",
      "RT @gagana_gaga: @VucevicM Deca su nase najvece bogatstvo i nasa budućnost. Za njih i treba graditi sve najsavremenije.\n",
      "gusto ko mag NASA pero yung score ko sa science mababa lang, ewan ko lang sa math.\n",
      "RT @Guy_Golo: - Vous ne prenez que le strict minimum hein ?\n",
      "- Oui oui !\n",
      "https://t.co/01NKCuMdDi https://t.co/ISAYgOxdjA\n",
      "RT @WendyMeer11: “And then there was the fact of a woman’s traveling alone to Belize “by herself for only three days, including travel. Not…\n",
      "NASA is developing a Shapeshifting Robots for Saturn’s Moons https://t.co/f0XF51tlbS https://t.co/MxrLT5JSv0\n",
      "RT @HLL8428: @FashionPulis Kung gusto tlaga mkipag reconcile ni Gretchen sana nung nasa ospital p tatay nya,,private,family lng nila,,bkit…\n",
      "https://t.co/l5D1aOXDiC @NASA this is what stars really look like NASA, watch it and keep an open mind\n",
      "RT @nevsinmengu: Kocasına kahvaltı hazırlamak varken uzaya çıkmış cıkcıkcık https://t.co/CSTkOiRuxh\n",
      "RT @ezralevant: Omigod stop lying. NASA didn't even recruit astronauts until you were twelve.\n",
      "\n",
      "This is like when you said you were named af…\n",
      "RT @clairecmc: Why is she at this table? Get your kids out of the White House while they are “earning” 80+ million last year. And until you…\n",
      "@NASA @Astro_journey @POTUS @Astro_Christina @Astro_Jessica @Space_Station Reading off a paper? 👀 Can’t memorize th… https://t.co/8b4HgzyI5J\n",
      "@lizzo @NASA Flutes in Space! https://t.co/6pOid5ydbk\n",
      "\n",
      "\n",
      "500\n",
      "\n",
      "\n",
      "RT @cicilavraie: trop drôle les mecs en commentaires qui ironisent sur la vaisselle &amp; le ménage alors qu'à 25 ans ils savent pas laver leur…\n",
      "RT @dbongino: Did you accuse them of being “Russian assets” afterwards? https://t.co/6dw6cddvij\n",
      "RT @irundownhill: @HillaryClinton NASA didn't exist in the 1800s\n",
      "RT @__gaby_yy: Ces femmes ont du subir des tonnes de remarques sexistes (illustré en commentaire) avant d'en arriver là.\n",
      "Bravo à elles 😌 ht…\n",
      "RT @CaliaDomenico: The Full Rotation of the Moon: A Beautiful, High Resolution Timelapse Film\n",
      "Credit NASA/LRO https://t.co/S345zBtR85\n",
      "RT @NASA: Who's talking to the astronauts from Mission Control during today's #AllWomanSpacewalk? That's astronaut Stephanie Wilson, who ha…\n",
      "@HillaryClinton Obviously the Russians in NASA didn't want you in space. #ItsAlwaysTheFuckingRussians\n",
      "RT @swelder66: I call 🐂💩 on this story!  So is this your EXCUSE for growing up to be one of the biggest TRAITORS in the history of this cou…\n",
      "RT @currie14_kelly: #STFU WHEN YOU WERE A \n",
      "   LITTLE GIRL YOU WERE ALREADY CUTTING THE HEADS \n",
      "   OFF YOUR DOLLS I BET ! YOUR DREAMS WOULD B…\n",
      "RT @fabbrdn: Mdrrr y’a autant de poussière que sa sur la Lune ? https://t.co/OwcLlnZOZF\n",
      "RT @StrongIam: Qing Inang commercial to! Hahaha\n",
      "\n",
      "Basahin nyo yung nasa baba. https://t.co/uIS21dSnjl\n",
      "Ladies and Gentlemen I give you #QueenOfWarmongers. \n",
      "\n",
      "Born 1947 talking about writing a letter as a little girl to… https://t.co/CBnFx4TlUc\n",
      "RT @fabbrdn: Mdrrr y’a autant de poussière que sa sur la Lune ? https://t.co/OwcLlnZOZF\n",
      "RT @mrmanhere_: Deeper into my what? https://t.co/JFS00BqYgm\n",
      "Gretchen Barreto kung wala ang Tony Boy mo cguro hanggang ngayon bold star ka parin hahaha. pasalamat ka maganda at… https://t.co/YodOTO5b6a\n",
      "Nakipag inuman sa fan habang nasa fan meet. Hahahaha\n",
      "RT @cicilavraie: trop drôle les mecs en commentaires qui ironisent sur la vaisselle &amp; le ménage alors qu'à 25 ans ils savent pas laver leur…\n",
      "Curiosity e InSight são fotografados por sonda orbital da NASA em Marte https://t.co/cmwan4sIWD\n",
      "RT @silvermanmarkj: @dbongino She is to old as nasa was founded in 1958 &amp; she was 11 back then. Not quite a little girl but the space progr…\n",
      "RT @CarpeDonktum: On the list of \"things that never happened\" this ranks right up there with you becoming President. https://t.co/o3W41WMIOM\n",
      "@freesubwaywifi @eleonore_keith @bhherring @NASA @AlyndertheRed1 @BryanMooreGroup @keane721 @KathyinKenya… https://t.co/vjOUnCLnQX\n",
      "RT @cicilavraie: trop drôle les mecs en commentaires qui ironisent sur la vaisselle &amp; le ménage alors qu'à 25 ans ils savent pas laver leur…\n",
      "RT @jelenaaa86: @VucevicM Briga o deci je donekle i najvaznija..oni su nasa buducnost..\n",
      "RT @Cmdr_Hadfield: On a clear day on Mars, you can see our robots from orbit. \n",
      "\n",
      "(that's @NASAInSight, taken from the Mars Reconnaissance Or…\n",
      "RT @johncardillo: Even 1950s NASA wanted Hillary to go away https://t.co/X74Q3RaTSC\n",
      "RT @tresnjica_02: @VucevicM Bravo! Deca su nasa buducnost, sve cestitke sto im obezbedjujete uslove za bolje i detinjstvo.\n",
      "masaya nakong nakikita ko kayong masaya kayo na wala ako :) Mas napatunayan kong hindi ako belong sainyo. Kasi ngay… https://t.co/MrbXUiT0Zi\n",
      "papa ko yun eh bat nasa inyo???\n",
      "RT @HillaryClinton: When I was a little girl, I wrote to NASA and told them I dreamed of being an astronaut. \n",
      "\n",
      "They wrote back and said the…\n",
      "RT @fabbrdn: Mdrrr y’a autant de poussière que sa sur la Lune ? https://t.co/OwcLlnZOZF\n",
      "RT @NASA: During our #AllWomanSpacewalk, there was an Earth-to-space call as @POTUS called @Astro_Christina &amp; @Astro_Jessica to congratulat…\n",
      "RT @szarita: NASA made history on Friday morning when astronauts Christina Koch &amp;Jessica Meir stepped outside the International Space Stati…\n",
      "https://t.co/usOZkkAvPp Greenhouse gases may get more attention, but aerosols — from car exhaust to volcanic erupti… https://t.co/9B9A9PFvKv\n",
      "RT @elfamosopaulo: https://t.co/ItalP5SAZN https://t.co/OTsU5S51oJ\n",
      "RT @Carbongate: The longest running scientific experiment in the world now comes live from NASA Solar Dynamics Observatory. It shows the Su…\n",
      "RT @ChristinePolon1: When I was a little girl, I dreamed about lying about this and other things... everything. My dreams came true. I'm a…\n",
      "RT @fabbrdn: Mdrrr y’a autant de poussière que sa sur la Lune ? https://t.co/OwcLlnZOZF\n",
      "RT @HillaryClinton: When I was a little girl, I wrote to NASA and told them I dreamed of being an astronaut. \n",
      "\n",
      "They wrote back and said the…\n",
      "RT @VerraNiGinoSaSG: Boss nasa iyo na ang lahat pray ko nalng is yung health mo at lablayf, oppss meron na palang lablayf good health nalan…\n",
      "RT @mishacollins: This morning, history was made as two women astronauts took a spacewalk to replace a failed power controller. This is a g…\n",
      "RT @HillaryClinton: When I was a little girl, I wrote to NASA and told them I dreamed of being an astronaut. \n",
      "\n",
      "They wrote back and said the…\n",
      "RT @Space_Station: Spacewalkers @Astro_Christina and @Astro_Jessica are outside in the vacuum of space getting their tools ready to replace…\n",
      "RT @elfamosopaulo: https://t.co/ItalP5SAZN https://t.co/OTsU5S51oJ\n",
      "pero nasa utak parin kita...\n",
      "RT @ezralevant: Omigod stop lying. NASA didn't even recruit astronauts until you were twelve.\n",
      "\n",
      "This is like when you said you were named af…\n",
      "RT @_YvonneBurton: @HillaryClinton Right after NASA rejected this future #QueenOfTheWarmongers she climbed up Mt Everest like Sir Edmund Hi…\n",
      "RT @HillaryClinton: When I was a little girl, I wrote to NASA and told them I dreamed of being an astronaut. \n",
      "\n",
      "They wrote back and said the…\n",
      "#girlpower\n",
      "RT @HillaryClinton: When I was a little girl, I wrote to NASA and told them I dreamed of being an astronaut. \n",
      "\n",
      "They wrote back and said the…\n",
      "RT @dbongino: Did you accuse them of being “Russian assets” afterwards? https://t.co/6dw6cddvij\n",
      "@HillaryClinton I highly doubt @NASA killed the dreams of a little girl.  Can you ever not lie?  Seriously?\n",
      "RT @IPGH_PAIGH: Christina Koch y Jessica Meir, las dos astronautas de la @NASA en la Estación Espacial Internacional (EEI). Protagonizarán…\n",
      "RT @elfamosopaulo: https://t.co/ItalP5SAZN https://t.co/OTsU5S51oJ\n",
      "lagi kang nasa puso’t isip ko.\n",
      "RT @__gaby_yy: Ces femmes ont du subir des tonnes de remarques sexistes (illustré en commentaire) avant d'en arriver là.\n",
      "Bravo à elles 😌 ht…\n",
      "RT @TheRealBuzz: Well done ladies. #AllWomanSpacewalk https://t.co/wbancSBV5S\n",
      "RT @WomenNASA: Today, @NASA_Astronauts and best friends @Astro_Christina and @Astro_Jessica embarked on the very first #AllWomanSpacewalk o…\n"
     ]
    },
    {
     "name": "stdout",
     "output_type": "stream",
     "text": [
      "RT @dbongino: Did you accuse them of being “Russian assets” afterwards? https://t.co/6dw6cddvij\n",
      "RT @pmbasse: @HillaryClinton What happened to being so \"gusty\"? You not so brave are you crooked lying Hillary.. You afraid to face Tulsi?…\n",
      "RT @cmclymer: The first NASA mission that directly passes the Bechdel test. I'm here for it.\n",
      "\n",
      "#AllWomanSpacewalk\n",
      "RT @Cmdr_Hadfield: On a clear day on Mars, you can see our robots from orbit. \n",
      "\n",
      "(that's @NASAInSight, taken from the Mars Reconnaissance Or…\n",
      "RT @Alias255k: - Houston on a un problème \n",
      "- Oui dites nous ?\n",
      "- Rien laisse tomber. \n",
      "- mais ? \n",
      "- Bonne nuit. https://t.co/mbtk4kE9G5\n",
      "RT @NASA: Throughout spaceflight history, 14 women have completed spacewalks. Today, @Astro_Jessica brought that number up to 15 as she flo…\n",
      "RT @cicilavraie: trop drôle les mecs en commentaires qui ironisent sur la vaisselle &amp; le ménage alors qu'à 25 ans ils savent pas laver leur…\n",
      "RT @MengsheeDeiko: @krizgazmen @analizadd #IsaFeelGoodWeekend with family ang mga nasa cinema ngaun. Happy sa engagement ng audience 😁 sa r…\n",
      "RT @ezralevant: Omigod stop lying. NASA didn't even recruit astronauts until you were twelve.\n",
      "\n",
      "This is like when you said you were named af…\n",
      "RT @tifis: Si no quieren ser como @matadoreltiempo, lean de qué se trata la PRIMERA caminata espacial hecha por mujeres. Esto pasó ayer y e…\n",
      "@HillaryClinton NASA did not write you back telling you that you lying liar from the mayor of Liarsville!\n",
      "RT @liezlibarra1: Mukhang naunahan ng katapangan ! Ano na Boss Gino ?!nasa Mindanao ka na ei....ahahahaha \n",
      "\n",
      "NCCDavaoM&amp;Gwith KIANO\n",
      "\n",
      " https:/…\n",
      "RT @canitti: O esnada insanlık tarihinde bir ilk...\n",
      "\n",
      "Tarihte ilk kez, tamamen kadın astronotlardan oluşan bir ekip uzay boşluğunda🤓#AllWoma…\n",
      "She is a natural  liar..scary👇\n",
      "RT @DJLOK: And may @NASA find a way to quickly fulfill 👇👇👇 her dreams before she accuses another person of being a #RussianAsset. https://t…\n",
      "RT @TasiaBass28: I bet it's not even that hard to break into NASA, steal a rocket, and kill the moon.  What are those nerds going to do if…\n",
      "RT @WhiteHouse: \"Please stand by for a call from the President of the United States.\" \n",
      "\n",
      "Congratulations to @NASA astronauts @Astro_Christin…\n",
      "@Lennonshit Maski lima pa idaklag mo mabalik man lang saindo 🙄 idaklag ko saimo si salampati mong nasa formalin jar na sa lab 😂\n",
      "Congrats to NASA on the first female space walk! Yet mission control was confused when they asked the women how it… https://t.co/moOF0LNI0S\n",
      "Me pánico otro nivel cuando me llega una notificación a mi cuenta pascualina 🤯 pero siempre resulta ser una publica… https://t.co/iHj742E9xF\n",
      "Beautiful!\n",
      "RT @queenbaeretto: Tas she expect na they are in good terms after she &amp; claudine gave bea a flowers. Seriously! Adik lang talaga makakapagi…\n",
      "RT @ChrisJZullo: @realDonaldTrump Former Rep. Gabby Giffords husband NASA astronaut Mark Kelly's next mission is to represent people of Ari…\n",
      "The best thing this hack could do for the world is lock herself away till she goes to hell. No one needs to see or… https://t.co/W9VcqrDndO\n",
      "RT @jondaly: Two women floating in space were forced to talk to a rapist. https://t.co/IAAXXUqpID\n",
      "RT @dbongino: Did you accuse them of being “Russian assets” afterwards? https://t.co/6dw6cddvij\n",
      "💀💀💀💀💀💀💀💀😬😬😬😬\n",
      "@dbongino @JohnFromCranber Proof the hag can time travel. She was 11 when NASA was founded\n",
      "@sukkalgir @juanauribep @matadoreltiempo FYI : Nasa astronauts complete first ever all-female spacewalk https://t.co/Hf1SEB30c4\n",
      "RT @Stemettes: Happy #AllWomanSpacewalk Day. 👩‍🚀👩‍🚀💫\n",
      "\n",
      "#TeamStemette is sending out a thank you across the years to all the amazing women wh…\n",
      "RT @CalcuKiaNo: @SerendipityRT Ang dami kaya nglabasan na pics. Hahaha\n",
      "\n",
      "Nasa Night Market ngroam around the streets ahahah\n",
      "\n",
      "BoomBirthdayNaN…\n",
      "RT @SwarajyaMag: NASA Astronauts Venture Out Of The International Space Station To Conduct The First Ever All-Women Spacewalk \n",
      "\n",
      "https://t.c…\n",
      "Love it! A accomplishment for my people! Palestinian women are truly a inspiration! 🇵🇸🇵🇸\n",
      "RT @FifthSolomon: nasa mood ako tonight hehe https://t.co/D1e5c0ZWMg\n",
      "RT @ansur_nied: この変わった形のロケットがどうにも気になったので、726トンを単位換算して\"1.6million pounds nuclear rocket mars\"でぐぐったらずばり元ネタがあった。1969年のフォン・ブラウンの構想だった。\n",
      "https://…\n",
      "Former NASA Astronaut Explains How Health Is Different in Space | WIRED https://t.co/xLq4ybYTKB https://t.co/EwnY1f7OcF\n",
      "RT @ThomasEWoods: I'd take Things That Never Happened for $200, but Hillary Jeopardy cleared out that category 30 years ago https://t.co/Bf…\n",
      "TOPIC regarding sa tagline pahingi naman ng favorite picture mo ni Gino na nasa gallery mo ikaw na bahala sa captio… https://t.co/XcK1hVMHcW\n",
      "RT @SethN12: Women are walking in space while so many men are just taking up space... https://t.co/y5JfFOuiue\n",
      "RT @beccakarisa: First time ko nkpanood ng movie ni Carlo, grabe!!! Wala syang audio pero damang dama mo yung nararamdaman nya. Meng @maine…\n",
      "RT @tracybeanz: Where’s the letter? https://t.co/fvketiE4Uu\n",
      "RT @wrongnowshutup2: Like I'm supposed to believe anyone would pass on a chance to fire her into space. https://t.co/QqNcWIAPYa\n",
      "😂😂😂\n",
      "\n",
      "\n",
      "600\n",
      "\n",
      "\n",
      "RT @ViceGandaLife: Nasa point nako ng buhay ko na ayaw ko na mag explain, if someone don't understand me, \"okay\" nalang sasabihin ko. If I…\n",
      "RT @NASAGoddard: Fifteen years ago, @Astro_Christina was an electrical engineer here at Goddard. 🔌 \n",
      "\n",
      "Today, she's making history with @Astr…\n",
      "RT @Stemettes: Happy #AllWomanSpacewalk Day. 👩‍🚀👩‍🚀💫\n",
      "\n",
      "#TeamStemette is sending out a thank you across the years to all the amazing women wh…\n",
      "RT @jenasis818: Idol ko yan!!!👏👏👏👍👍👍\n",
      "\n",
      "#ALDENgoesPHirst\n",
      "#AldenRichards https://t.co/3GOFhb7hvG\n",
      "RT @SanGasso: Esta iniciativa de NASA puede ser de interés a varios que les gusta sacar fotos de eventos naturales, dado la sequedad y arid…\n",
      "RT @saintkaylo_: huwag mo na basahin nasa isip niyan May, ikaw lang laman niyan HAHAHAHAHAHAHA DEJOKE \n",
      "\n",
      "#MayWard https://t.co/N8EaMuOPCI\n",
      "RT @NASA: During our #AllWomanSpacewalk, there was an Earth-to-space call as @POTUS called @Astro_Christina &amp; @Astro_Jessica to congratulat…\n",
      "RT @ViceGandaLife: Nasa point nako ng buhay ko na ayaw ko na mag explain, if someone don't understand me, \"okay\" nalang sasabihin ko. If I…\n",
      "RT @DNA_RNA_Uni: The biggest double helix in the world ... 🧬\n",
      "\n",
      "aka When Thailand decides to have their own space exploration 🚀\n",
      "\n",
      "turn your 🔉…\n",
      "di chronological order yung nasa thread ko hahaha ang gulo katulad ng pag-gulo ni daniel sa katawang tao ko 😂\n",
      "RT @C_3C_3: There’s a higher probability that Corn Pop is real than young Hillary Clinton writing a letter to NASA.\n",
      "\n",
      "She’s a pathological l…\n",
      "RT @ezralevant: Omigod stop lying. NASA didn't even recruit astronauts until you were twelve.\n",
      "\n",
      "This is like when you said you were named af…\n",
      "RT @StrongIam: Qing Inang commercial to! Hahaha\n",
      "\n",
      "Basahin nyo yung nasa baba. https://t.co/uIS21dSnjl\n",
      "2/2 then I finally see the moon and am about to say something when he says, \"look it's an airplane, it's papa's pir… https://t.co/T2gl4cGLkD\n",
      "Genre y en a elles sont vraiment astronautes pour moi c’est un métier comme agent secret 😭\n",
      "RT @jondaly: Two women floating in space were forced to talk to a rapist. https://t.co/IAAXXUqpID\n",
      "@Modelohhhh Nasa cavite kna uli?\n",
      "RT @CactusQH: Dear Mr. President,\n",
      "\n",
      "She wants to be the FIRST OLD LADY to go to the Moon.\n",
      "\n",
      "Can she be obliged?😂😂🤣\n",
      "\n",
      "@realDonaldTrump \n",
      "@Donald…\n",
      "RT @NASA: This week:\n",
      "\n",
      "👩‍🚀👩‍🚀 @Astro_Christina &amp; @Astro_Jessica make history #AllWomanSpacewalk\n",
      "🌔 New spacesuits for #Artemis generation ast…\n",
      "RT @cicilavraie: trop drôle les mecs en commentaires qui ironisent sur la vaisselle &amp; le ménage alors qu'à 25 ans ils savent pas laver leur…\n",
      "RT @clairecmc: Why is she at this table? Get your kids out of the White House while they are “earning” 80+ million last year. And until you…\n",
      "Even there they couldn’t get away. \n",
      "That would have been the perfect time to tell him off too.\n",
      "RT @GinoRoqueMoscow: Itaas pa natin guys, in just seventeen minutes nasa eight spot na tayo. ipakita natin sa buong mundo, lalong lalo na k…\n",
      "RT @SirHublife: They should have launched this bitch into space when they had the chance.\n",
      "\n",
      "Thanks a lot NASA. https://t.co/AXqMDdXCWb\n",
      "I highly doubt you wrote to nasa as a girl killary https://t.co/DwvlSsCjmk\n",
      "RT @GinoSuperExecs: Puro korean nasa taas! Haha ibaba yan!\n",
      "\n",
      "BoomBirthdayNaNi GinoRoque\n"
     ]
    },
    {
     "name": "stdout",
     "output_type": "stream",
     "text": [
      "Nasa 100k tuition ng nursing sa Tytana isang sem tapos di ka mag-aaral?????\n",
      "@NASA @POTUS @Astro_Christina @Astro_Jessica In the news today: women are so over it all we have decided to leave the planet\n",
      "RT @8nja: Otra vez se le pasaron los cocteles a la abuela. \n",
      "\n",
      "https://t.co/mthtjRRZTZ https://t.co/vQE8rQqlaY\n",
      "RT @KamalaHarris: For the first time in our nation’s history, an all-female crew walked in space today. It’s more than historic—it’s a remi…\n",
      "RT @KiaraGino2019: my gosh cassieee! sana oillll ! kung nasa davao lang ako ! ahuhuhu enjoy kayo love birds !\n",
      "\n",
      "BoomBirthdayNaNi GinoRoque h…\n",
      "Tapos isusulat pa namin yung lahat ng nasa ppt (na galing sa slideshare) eh 88 slides yun, nasa 19 palang ako🤦‍♀ an… https://t.co/aV0EDA96MJ\n",
      "RT @cicilavraie: trop drôle les mecs en commentaires qui ironisent sur la vaisselle &amp; le ménage alors qu'à 25 ans ils savent pas laver leur…\n",
      "#Apple previews For All Mankind at New York Comic Con, pitched as ‘Mad Men for NASA’\n",
      "https://t.co/Kz6S7fwx4b\n",
      "RT @MOOSA_PATRIOT: It was narrated that Jabir said:\n",
      "\"The Messenger of Allah (ﷺ) said: 'There is nothing between a person and disbelief exce…\n",
      "RT @AlexandraTST: La sortie prévue à 13h50 a eu lieu à 16h15 après la déclaration des astronautes \"On est prêtes dans 5 minutes\" https://t.…\n",
      "RT @DrakeGatsby: [Tour of NASA Headquarters] \n",
      "\n",
      "Guide: So NASA was founded in July of 1958 with the goal- \n",
      "\n",
      "Me: *interrupting* Is it true th…\n",
      "RT @HillaryClinton: When I was a little girl, I wrote to NASA and told them I dreamed of being an astronaut. \n",
      "\n",
      "They wrote back and said the…\n",
      "so i'm watching vids abt inventory cost-flow on yt tas wth ang basic dun tas pag ako sumagot ng nasa handout ng pro… https://t.co/CS22lZBz4R\n",
      "Nako mga kabataan ngayon. Lalo na mga gurls. Showy skin. Halos wala na ring saplot. Tas pag naman narape sasabihin… https://t.co/ZbhshXRG30\n",
      "RT @TheRealBuzz: Well done ladies. #AllWomanSpacewalk https://t.co/wbancSBV5S\n",
      "RT @21WIRE: This is truly devastating. NASA had the opportunity to jettison her into deep space... https://t.co/eRmk5wKFi1\n",
      "Wala ng alisan kapag nasa akin na ha?\n",
      "RT @fabbrdn: Mdrrr y’a autant de poussière que sa sur la Lune ? https://t.co/OwcLlnZOZF\n",
      "RT @clairecmc: Why is she at this table? Get your kids out of the White House while they are “earning” 80+ million last year. And until you…\n",
      "RT @CatyRengifo: #LoQueSomosLasMujeres inspiración para millones de niñas. Ejemplo para millones de mujeres. #MujeresTIC #JuntasSomosMás ht…\n",
      "RT @NASA: For our twin Van Allen Probes 🛰️🛰️, seven years in the hazardous radiation belts ☢️ around our home planet led to major discoveri…\n",
      "RT @dbongino: Did you accuse them of being “Russian assets” afterwards? https://t.co/6dw6cddvij\n",
      "RT @BeautyNiKiara: Bakit yung iba nasa sixth or fifth?\n",
      "\n",
      "Eighth pa lang mga sis!\n",
      "\n",
      "BoomBirthdayNaNi GinoRoque\n",
      "RT @Space_Station: .@Astro_Christina and @Astro_Jessica completed the first #AllWomanSpacewalk today at 2:55pm ET successfully replacing a…\n",
      "RT @wmeijer4: Een aanrader , over gratis energie en echte Wetenschap &amp; Techniek . Iets waar oa Yasser Feras Klaver en Rob 12 cilinder Jette…\n",
      "RT @obianuju: Can you show us a copy of the letter they wrote back to you?\n",
      "\n",
      "Or did they email you the response?\n",
      "Did you delete it? https://…\n",
      "#QueenOfTheWarmongers\n",
      "\n",
      "UNHINGED HILLARY Distracts From Tulsi Gabbard Calling Her “Queen Of Warmongers” By Telling W… https://t.co/lagBvNzlZM\n",
      "RT @viewsfrance: Aujourd’hui, et après 50 ans de sorties spatiales masculines, la NASA s’apprête à réaliser pour la 1ère fois une sortie sp…\n",
      "RT @GeekGirlsLatam: Hoy en la estación espacial de la @NASA 4 talentosas mujeres realizan labores importantes importantes de ingeniería y c…\n",
      "RT @fabbrdn: Mdrrr y’a autant de poussière que sa sur la Lune ? https://t.co/OwcLlnZOZF\n",
      "@chiimzy Hahaha gagu nasa Venezuela na sya (kunwari) pero actually sinabihan na ni Nawat na maglabas na ng message… https://t.co/aVNHNV3lWS\n",
      "gusto ko mag NASA kasi i'm very curious and wanted to learn amazing histories in the solar system. ❤️\n",
      "RT @padillacathh: “Iba talaga glow up pag nasa tamang tao ka”\n",
      "\n",
      "NOPE. IBA GLOW UP MO PAG MASAYA KA SA BUHAY MO , NATUTUNAN MO MAHALIN SARILI…\n",
      "RT @BBCWorld: Nasa astronauts Christina Koch and Jessica Meir have made history by becoming the first ever all-female spacewalk team\n",
      "\n",
      "[Tap…\n",
      "RT @ezralevant: Omigod stop lying. NASA didn't even recruit astronauts until you were twelve.\n",
      "\n",
      "This is like when you said you were named af…\n",
      "RT @cicilavraie: trop drôle les mecs en commentaires qui ironisent sur la vaisselle &amp; le ménage alors qu'à 25 ans ils savent pas laver leur…\n",
      "🔷🔶 Terraformación, el programa de la NASA para cambiar el clima de Marte y hacerlo habitable https://t.co/EE3jF1pN7C\n",
      "RT @marcelsardo: Your \"historic spacewalk\" happened already July 25, 1984 –  the first woman to walk in space was a Soviet citizen, Svetlan…\n",
      "RT @elfamosopaulo: https://t.co/ItalP5SAZN https://t.co/OTsU5S51oJ\n",
      "RT @padillacathh: “Iba talaga glow up pag nasa tamang tao ka”\n",
      "\n",
      "NOPE. IBA GLOW UP MO PAG MASAYA KA SA BUHAY MO , NATUTUNAN MO MAHALIN SARILI…\n",
      "RT @fabbrdn: Mdrrr y’a autant de poussière que sa sur la Lune ? https://t.co/OwcLlnZOZF\n",
      "RT @pop_hill: @NASA @POTUS @Astro_Christina @Astro_Jessica @Space_Station The astronauts should have blocked the call.\n",
      "RT @_shierieontop_: #IsaPaWithFeelings lang talaga nasa isip ko ngayon tsaka yung Sino ni Unique. Kasi naman @mainedcm ba't niyo masyadong…\n",
      "@MoneeStorm @1CubbieKat1 @Wolfpak561 @rmbctious @Cern_lXXl @wpcguy @questions_faith @imkimaaron @AprilLigeia… https://t.co/Br1Rtss3YS\n",
      "NASA Astronauts Make History After Completing First All-Female Spacewalk https://t.co/l0mNZKPhAr\n",
      "@Sp00kyDuck He tirelessly works to ensure the safety of all inhabitants in the under water structures.\n",
      "You won't da… https://t.co/rehHgPxTlN\n",
      "@AlfonzoCortez4 @OrgPhysics @NASA whats the real one\n",
      "not surprised #sadgirlhours\n",
      "RT @KamalaHarris: For the first time in our nation’s history, an all-female crew walked in space today. It’s more than historic—it’s a remi…\n",
      "RT @Blue2black: NASA’s X-59 QueSST Airplane Takes Shape at Lockheed Martin Skunk Works via NASA https://t.co/RcaH6I6Om0 https://t.co/WRTP5f…\n",
      "RT @clairecmc: Why is she at this table? Get your kids out of the White House while they are “earning” 80+ million last year. And until you…\n",
      "La lune a besoin d’un coup d’aspi apparement\n",
      "RT @Guy_Golo: - Michel, vous êtes en direct de la Nasa, confirmez-vous que cette sortie 100% féminine dans l'espace signifie la fin des cli…\n",
      "RT @Easycure: You were born in 1947, NASA wasn't formed until 1958 and we didn't have an astronaut in space until until 1962 when you were…\n",
      "RT @jondaly: Two women floating in space were forced to talk to a rapist. https://t.co/IAAXXUqpID\n",
      "RT @Easycure: You were born in 1947, NASA wasn't formed until 1958 and we didn't have an astronaut in space until until 1962 when you were…\n",
      "RT @ezralevant: Omigod stop lying. NASA didn't even recruit astronauts until you were twelve.\n",
      "\n",
      "This is like when you said you were named af…\n",
      "RT @ObongRoviel: https://t.co/0fl1YsK4Id https://t.co/oM64eNGeyr\n",
      "RT @Ces626_: Nakipag inuman sa fan habang nasa fan meet. Hahahaha https://t.co/uliC64Elr6\n",
      "RT @WendyMeer11: “And then there was the fact of a woman’s traveling alone to Belize “by herself for only three days, including travel. Not…\n",
      "RT @PollyTickal: The worst thing about the “when I was a little girl...” genre of political campaigning, is that the little-girl tales of t…\n",
      "RT @CaliaDomenico: The Full Rotation of the Moon: A Beautiful, High Resolution Timelapse Film\n",
      "Credit NASA/LRO https://t.co/S345zBtR85\n",
      "RT @dbongino: Did you accuse them of being “Russian assets” afterwards? https://t.co/6dw6cddvij\n",
      "RT @padillacathh: “Iba talaga glow up pag nasa tamang tao ka”\n",
      "\n",
      "NOPE. IBA GLOW UP MO PAG MASAYA KA SA BUHAY MO , NATUTUNAN MO MAHALIN SARILI…\n",
      "Trump calls to congratulate 'brilliant' NASA astronauts during their historic all-female spacewalk\n",
      "\n",
      "https://t.co/chdgjv2JaM\n",
      "RT @Space_Station: .@Astro_Christina and @Astro_Jessica completed the first #AllWomanSpacewalk today at 2:55pm ET successfully replacing a…\n",
      "RT @clairecmc: Why is she at this table? Get your kids out of the White House while they are “earning” 80+ million last year. And until you…\n",
      "RT @sahouraxo: Really? Because I thought you dreamt of being one of the biggest warmongering sociopaths that history has ever seen. 🤗 https…\n",
      "RT @HillaryClinton: When I was a little girl, I wrote to NASA and told them I dreamed of being an astronaut. \n",
      "\n",
      "They wrote back and said the…\n"
     ]
    },
    {
     "name": "stdout",
     "output_type": "stream",
     "text": [
      "RT @mikebravodude: Ladies and Gentlemen I give you #QueenOfWarmongers. \n",
      "\n",
      "Born 1947 talking about writing a letter as a little girl to NASA,…\n",
      "RT @WhiteHouse: \"Please stand by for a call from the President of the United States.\" \n",
      "\n",
      "Congratulations to @NASA astronauts @Astro_Christin…\n",
      "RT @WomenNASA: Today, @NASA_Astronauts and best friends @Astro_Christina and @Astro_Jessica embarked on the very first #AllWomanSpacewalk o…\n",
      "RT @WrathOfKhan2016: Congrats to Christina Koch and Jessica Meir on the first-ever all-female spacewalk.  Since @realDonaldTrump is so inte…\n",
      "RT @HillaryClinton: When I was a little girl, I wrote to NASA and told them I dreamed of being an astronaut. \n",
      "\n",
      "They wrote back and said the…\n",
      "\n",
      "\n",
      "700\n",
      "\n",
      "\n",
      "RT @HillaryClinton: When I was a little girl, I wrote to NASA and told them I dreamed of being an astronaut. \n",
      "\n",
      "They wrote back and said the…\n",
      "RT @padillacathh: “Iba talaga glow up pag nasa tamang tao ka”\n",
      "\n",
      "NOPE. IBA GLOW UP MO PAG MASAYA KA SA BUHAY MO , NATUTUNAN MO MAHALIN SARILI…\n",
      "Pero di pa rin ako super kalmado kasi tatlo silang magkakasama kanina eh. Sya lang nakita ko kasi nasa backride yun… https://t.co/JpSsu2bV74\n",
      "love love ko yung nasa header ko 💖\n",
      "RT @elfamosopaulo: https://t.co/ItalP5SAZN https://t.co/OTsU5S51oJ\n",
      "RT @elfamosopaulo: https://t.co/ItalP5SAZN https://t.co/OTsU5S51oJ\n",
      "RT @GeekGirlsLatam: Hoy en la estación espacial de la @NASA 4 talentosas mujeres realizan labores importantes importantes de ingeniería y c…\n",
      "RT @JegoRagragio: Weh, di mo nga maawat yung Baretto sisters na nasa harapan mo na eh, mga rogue police pa kaya 🙄 https://t.co/AQTBrYQgam\n",
      "RT @tifis: Si no quieren ser como @matadoreltiempo, lean de qué se trata la PRIMERA caminata espacial hecha por mujeres. Esto pasó ayer y e…\n",
      "RT @stealthgoat1: She even wrote that letter under sniper fire! 🤪 https://t.co/IuFq4kLyEc\n",
      "RT @clairecmc: Why is she at this table? Get your kids out of the White House while they are “earning” 80+ million last year. And until you…\n",
      "RT @RobinEnochs: When Eileen was a little girl, she dreamt of flying.She got high school job,saved money to take lessons, joined the milita…\n",
      "Yes, a smell good DNA STEM activity! @NASA @NASASTEM #FAMA https://t.co/gfdZPjmWql\n",
      "cc @mikequindazzi @antgrasso @fisher85m\n",
      "This beautiful map gives us a clearer picture of Mars… https://t.co/DnJ1q2l4at\n",
      "Behold the wonders of the earth... #wonder #exploration #science #wiggles #nasa #earth #oceans @thehobotroll https://t.co/yQPv8iMIKH\n",
      "RT @DJLOK: And may @NASA find a way to quickly fulfill 👇👇👇 her dreams before she accuses another person of being a #RussianAsset. https://t…\n",
      "RT @heneraltophew: grabe naman tong buhay ng wantu, parang teleserye. pano ba naman kasi yung terror na prof pa yung nasa pinakahuling araw…\n",
      "RT @HillaryClinton: When I was a little girl, I wrote to NASA and told them I dreamed of being an astronaut. \n",
      "\n",
      "They wrote back and said the…\n",
      "RT @viewsfrance: Aujourd’hui, et après 50 ans de sorties spatiales masculines, la NASA s’apprête à réaliser pour la 1ère fois une sortie sp…\n",
      "RT @BosoSpotlight: PART 1: Pagdating ko, tahimik ang bahay. Kaya pala si insan nasa kwarto. May ginagawang exercise. Burat exercise. ✊💦💦💦…\n",
      "RT @GinoSuperExecs: Puro korean nasa taas! Haha ibaba yan!\n",
      "\n",
      "BoomBirthdayNaNi GinoRoque\n",
      "RT @KamalaHarris: For the first time in our nation’s history, an all-female crew walked in space today. It’s more than historic—it’s a remi…\n",
      "RT @fabbrdn: Mdrrr y’a autant de poussière que sa sur la Lune ? https://t.co/OwcLlnZOZF\n",
      "RT @swelder66: I call 🐂💩 on this story!  So is this your EXCUSE for growing up to be one of the biggest TRAITORS in the history of this cou…\n",
      "@salasreidd nasa tabi tabi lang naman ako\n",
      "RT @HillaryClinton: When I was a little girl, I wrote to NASA and told them I dreamed of being an astronaut. \n",
      "\n",
      "They wrote back and said the…\n",
      "NASA’s Kepler Telescope Discovers a Colossal Artificial Structure Orbiting a Star in Our Vicinity https://t.co/4vt731NRMj\n",
      "Bada mitha nasa hai teri yad ka ..\n",
      "Waqt gujarta gya aur hum aadi hote gye.. https://t.co/4Ngd77CGeW\n",
      "RT @padillacathh: “Iba talaga glow up pag nasa tamang tao ka”\n",
      "\n",
      "NOPE. IBA GLOW UP MO PAG MASAYA KA SA BUHAY MO , NATUTUNAN MO MAHALIN SARILI…\n",
      "RT @heatherjones333: #QueenOfTheWarmongers\n",
      "\n",
      "UNHINGED HILLARY Distracts From Tulsi Gabbard Calling Her “Queen Of Warmongers” By Telling WHOP…\n",
      "Hindi na ata daga nasa kisame namin mukang bayawak na e 😱\n",
      "RT @tracybeanz: Where’s the letter? https://t.co/fvketiE4Uu\n",
      "RT @KamalaHarris: For the first time in our nation’s history, an all-female crew walked in space today. It’s more than historic—it’s a remi…\n",
      "RT @cicilavraie: trop drôle les mecs en commentaires qui ironisent sur la vaisselle &amp; le ménage alors qu'à 25 ans ils savent pas laver leur…\n",
      "RT @haikatte: Les mecs piqués qui postent des memes de personnes endormies en réponse à ce tweet eh bien ils ont bien raison car tandis que…\n",
      "RT @ezralevant: Omigod stop lying. NASA didn't even recruit astronauts until you were twelve.\n",
      "\n",
      "This is like when you said you were named af…\n",
      "@HillaryClinton NASA didn't exist when you were a little girl Hillary . Want to rephrase you comments.\n",
      "RT @support_a_teach: This is an awesome writing activity! Does anyone else have great @Space_Station lessons or units? #Space #teaching htt…\n",
      "RT @Alias255k: - Houston on a un problème \n",
      "- Oui dites nous ?\n",
      "- Rien laisse tomber. \n",
      "- mais ? \n",
      "- Bonne nuit. https://t.co/mbtk4kE9G5\n",
      "RT @bk_Ankara50YIL: Dünyayı kurtarmak ve uzayı keşfetmek için çalışıyoruz.💪🚀🌍\n",
      "\n",
      "NASA'nın yüzü aşkın ülkede düzenlediği dünya ve uzay için so…\n",
      "RT @COMPASS_ERC: #MarcoMolina @SITAELspa opening speech for @AppsMilano @SpaceApps @polimi: \"May your generation prove that #sustainable us…\n",
      "No one believes you, where is the letter? Like you care about women's rights! By the way had you become an astronau… https://t.co/KflemBXbcF\n",
      "Congratulations!\n",
      "\n",
      "Two large steps for human kind and the equality of women!\n",
      "\n",
      "👩👩‍🚀🧕\n",
      "RT @apod: [RPT] All Female Spacewalk Repairs Space Station: https://t.co/pIBz5YQRvS by @NASA TV, Expedition 61 https://t.co/lSZOmg0JcL\n",
      "RT @winarakniyeol: ---\n",
      "\n",
      "After malinis ni Jongdae yung room, dumaan sya sa office ni Chanyeol para magsurrender ng susi and magpaalam. \n",
      "\n",
      "Hab…\n",
      "@HillaryClinton She cant stop lying..When did nasa form?\n",
      "😺✏ — Hala kinilig ako sa tanong bwhaha, ano gusto ko yung nasa forest kami ganun tapos pinapanood namin yung alon n… https://t.co/UTVjQRNnAv\n",
      "RT @fabbrdn: Mdrrr y’a autant de poussière que sa sur la Lune ? https://t.co/OwcLlnZOZF\n",
      "In things that didn’t happen\n",
      "RT @USConsMilan: Adesso tocca alla roboticist del Jet Propulsion Lab della @NASA @nasa_nagin dare la carica ai 200 hacker di @AerospacePoli…\n",
      "RT @cicilavraie: trop drôle les mecs en commentaires qui ironisent sur la vaisselle &amp; le ménage alors qu'à 25 ans ils savent pas laver leur…\n",
      "baka nasa mood lang ako na mag inom kaya medyo strong hahahaha\n",
      "#RT @CNN: NASA's Hubble Space Telescope captured the first ever video of a confirmed interstellar comet… https://t.co/kiqbcEMawW\n",
      "@starkleus pero applying the rule of pemdas syempre yung nasa loob muna ng parenthesis itimes mo hahahahaha tas iti… https://t.co/joYnstjjPQ\n",
      "RT @CNN: NASA's Hubble Space Telescope captured the first ever video of a confirmed interstellar comet https://t.co/WCWAazkFM9 https://t.co…\n",
      "@rundreamachieve @NASA Don't need to waste NASA's time on that.\n",
      "It was limited model, because it was written in FOR… https://t.co/Hb4gX8lBAV\n",
      "RT @RowdyRick73: Well TBF math isn't her strong suit and she has a tenuous grip on reality. I mean she was an adult when NASA was still in…\n",
      "RT @GinoSuperExecs: Puro korean nasa taas! Haha ibaba yan!\n",
      "\n",
      "BoomBirthdayNaNi GinoRoque\n",
      "RT @__gaby_yy: Ces femmes ont du subir des tonnes de remarques sexistes (illustré en commentaire) avant d'en arriver là.\n",
      "Bravo à elles 😌 ht…\n",
      "RT @ezralevant: Omigod stop lying. NASA didn't even recruit astronauts until you were twelve.\n",
      "\n",
      "This is like when you said you were named af…\n",
      "Whattt?? Si sam lo nasa vene na?\n",
      "RT @santiagopinzong: @GeekGirlsLatam @NASA @caroabu @ImpactoTIC @PERILLAM @JimmyGarciaCaic @Linndapc @GheidyGallo @jrodriguezk @IsaMunozM @…\n",
      "RT @kiano_spg: TOPIC regarding sa tagline pahingi naman ng favorite picture mo ni Gino na nasa gallery mo ikaw na bahala sa caption :)\n",
      "\n",
      "Boo…\n",
      "RT @cicilavraie: trop drôle les mecs en commentaires qui ironisent sur la vaisselle &amp; le ménage alors qu'à 25 ans ils savent pas laver leur…\n"
     ]
    },
    {
     "name": "stdout",
     "output_type": "stream",
     "text": [
      "RT @SPACEdotcom: The 1st Human on Mars May Be a Woman, NASA Chief Says https://t.co/28h0JI6lEO https://t.co/LhInOWu0yR\n",
      "RT @ezralevant: Omigod stop lying. NASA didn't even recruit astronauts until you were twelve.\n",
      "\n",
      "This is like when you said you were named af…\n",
      "RT @ValerieJarrett: Little girls growing up today will think this historic event is perfectly normal.  #AllWomanSpacewalk . https://t.co/qp…\n",
      "RT @DJLOK: And may @NASA find a way to quickly fulfill 👇👇👇 her dreams before she accuses another person of being a #RussianAsset. https://t…\n",
      "@SchmaltzMichael @HillaryClinton Yeah nasa was founded when she was 11. Lmao\n",
      "@sweetheartcsy @MelodyItsOk Pinapasok niya sa bahay iyong nasa left gulat sha nakita niya sa kwarto mo iyong nasa r… https://t.co/9Y7YXKqJ22\n",
      "RT @NASA: “You’re doing an incredible job,” says @POTUS to @Astro_Christina and @Astro_Jessica during today’s #AllWomanSpacewalk. Tune in t…\n",
      "RT @tracybeanz: Where’s the letter? https://t.co/fvketiE4Uu\n",
      "THANK YOU !\n",
      "And I loved everything about this post (even Jabba the Hutt). Thank you, @sfryer! @SimonKIDS @NASA @NASAMoon\n",
      "RT @padillacathh: “Iba talaga glow up pag nasa tamang tao ka”\n",
      "\n",
      "NOPE. IBA GLOW UP MO PAG MASAYA KA SA BUHAY MO , NATUTUNAN MO MAHALIN SARILI…\n",
      "Isipin sayo na sya pero ako parin nasa puso't isip nya hahahaha\n",
      "RT @HillaryClinton: When I was a little girl, I wrote to NASA and told them I dreamed of being an astronaut. \n",
      "\n",
      "They wrote back and said the…\n",
      "RT @TomHall: Meteor lights up the sky over South Australia.\n",
      "\n",
      "It splashed down in the ocean. \n",
      "\n",
      "It was estimated to be the size of a car, and…\n",
      "Walang sawa kaming magbibigay ng katagang mahal na mahal kita/namin ng mga kapatid ko (karen,bryan) ikaw ang tumayo… https://t.co/zOgQrdkVmm\n",
      "RT @ezralevant: Omigod stop lying. NASA didn't even recruit astronauts until you were twelve.\n",
      "\n",
      "This is like when you said you were named af…\n",
      "RT @BeautyNiKiara: Bakit yung iba nasa sixth or fifth?\n",
      "\n",
      "Eighth pa lang mga sis!\n",
      "\n",
      "BoomBirthdayNaNi GinoRoque\n",
      "RT @spaceappshur: Did someone say pizza? 🍕 we’re keeping our hackers well fuelled for the night ahead! 😉🚀 #SpaceApps #SpaceAppsUniverse #Sp…\n",
      "RT @ezralevant: Omigod stop lying. NASA didn't even recruit astronauts until you were twelve.\n",
      "\n",
      "This is like when you said you were named af…\n",
      "RT @cicilavraie: trop drôle les mecs en commentaires qui ironisent sur la vaisselle &amp; le ménage alors qu'à 25 ans ils savent pas laver leur…\n",
      "RT @ezralevant: Omigod stop lying. NASA didn't even recruit astronauts until you were twelve.\n",
      "\n",
      "This is like when you said you were named af…\n",
      "RT @bennyjohnson: @HillaryClinton Is that when NASA sent Bosnian snipers to your house?\n",
      "#BlockTheCall\n",
      "@Chip2chip2 @kulotissima 😳85F susme! summer weather yan, nasa 40's na kami dine ngayon.. kailangan na ng makapal kapal na dyaket\n",
      "nasa likod mo ko nito that time, narinig ko rin yun putek!! ako nga naubusan eh huhu sana sakin na lang napunta yun… https://t.co/Cq9Zqv61cV\n",
      "RT @bennyjohnson: @HillaryClinton Is that when NASA sent Bosnian snipers to your house?\n",
      "RT @ezralevant: Omigod stop lying. NASA didn't even recruit astronauts until you were twelve.\n",
      "\n",
      "This is like when you said you were named af…\n",
      "RT @CatyRengifo: #LoQueSomosLasMujeres inspiración para millones de niñas. Ejemplo para millones de mujeres. #MujeresTIC #JuntasSomosMás ht…\n",
      "RT @HillaryClinton: When I was a little girl, I wrote to NASA and told them I dreamed of being an astronaut. \n",
      "\n",
      "They wrote back and said the…\n",
      "Seriously, MSNBC? You edited out the moment when his expression changed and he appeared to give her the finger, and… https://t.co/EqQvbXkuHs\n",
      "RT @jondaly: Two women floating in space were forced to talk to a rapist. https://t.co/IAAXXUqpID\n",
      "Ayie napaka humble mo po talaga nasa night market pagsalubong sa bday mo. Ikaw na ang humble at low profile.\n",
      "\n",
      "BoomB… https://t.co/EMm5Msvmw5\n",
      "nakalimutan kong nasa mnl pala ako hahahahaha kakausapin ko naman sana kapitbahay ko kasi may sasabihin ako.\n",
      "RT @angeled083: #Sequia #NDVI #Anomalias ultimos 3 años, en Octubre 19 tocamos los valores mínimos de la serie #BsAs #Junín #TrenqueLauquen…\n",
      "RT @elfamosopaulo: https://t.co/ItalP5SAZN https://t.co/OTsU5S51oJ\n",
      "RT @fabbrdn: Mdrrr y’a autant de poussière que sa sur la Lune ? https://t.co/OwcLlnZOZF\n",
      "\n",
      "\n",
      "800\n",
      "\n",
      "\n",
      "RT @elfamosopaulo: https://t.co/ItalP5SAZN https://t.co/OTsU5S51oJ\n",
      "RT @allysahp040391: Kanina nasa arena ako tapos nung nakita ko ung video napasigaw ako at kumanta ng \"Shock\" grabhe bukas na ang  #SBFIVEli…\n",
      "RT @cicilavraie: trop drôle les mecs en commentaires qui ironisent sur la vaisselle &amp; le ménage alors qu'à 25 ans ils savent pas laver leur…\n",
      "RT @tifis: Si no quieren ser como @matadoreltiempo, lean de qué se trata la PRIMERA caminata espacial hecha por mujeres. Esto pasó ayer y e…\n",
      "@auqustinechar HUHU NASA UMULAN NG PERA AHNDJSSMSHSKDJKSHDKSJSJSJS\n",
      "RT @HillaryClinton: When I was a little girl, I wrote to NASA and told them I dreamed of being an astronaut. \n",
      "\n",
      "They wrote back and said the…\n",
      "Greenhouse gases may get more attention, but aerosols — from car exhaust to volcanic eruptions — also have a major… https://t.co/2Zkwdfb7c6\n",
      "RT @elfamosopaulo: https://t.co/ItalP5SAZN https://t.co/OTsU5S51oJ\n",
      "RT @padillacathh: “Iba talaga glow up pag nasa tamang tao ka”\n",
      "\n",
      "NOPE. IBA GLOW UP MO PAG MASAYA KA SA BUHAY MO , NATUTUNAN MO MAHALIN SARILI…\n",
      "RT @DJLOK: And may @NASA find a way to quickly fulfill 👇👇👇 her dreams before she accuses another person of being a #RussianAsset. https://t…\n",
      "RT @GrandmaKim: Amen for women being persons!! (90yrs today) I think we help contribute a little to the world 🥰 https://t.co/ATUZ2f3OGy\n",
      "RT @patrickmadrid: I literally don’t believe anything you say, @HillaryClinton. https://t.co/ly2W6DuKJL\n",
      "@_aiahreigntagle Baket ka po nasa ospital?\n",
      "RT @ViceGandaLife: Nasa point nako ng buhay ko na ayaw ko na mag explain, if someone don't understand me, \"okay\" nalang sasabihin ko. If I…\n",
      "RT @sahouraxo: Really? Because I thought you dreamt of being one of the biggest warmongering sociopaths that history has ever seen. 🤗 https…\n",
      "nasa point na ako ng buhay ko na kailangan ko na talaga ng kaibigan kaya ako na makiki-fc :(\n",
      "RT @AusSpaceAgency: Watch history being made @Astro_Christina &amp; @Astro_Jessica 1st #AllWomanSpacewalk replacing a faulty battery charger on…\n",
      "So many Democrats seem to be serial liars.\n",
      "RT @BurcuYldz0563: Şanlıurfa Bahçeşehir Koleji NASA’nın tüm dünyada  yaklaşık 100 ülke 177 şehirde eş zamanlı olarak düzenlediği sekizinci…\n",
      "RT @magicheart21: I love how the movie ended with all the unknotted ends and still unfulfilled big dreams because it’s hopeful for what’s i…\n",
      "RT @dxmads_: wala sa pera ang kaibigan nasa pakikisama yan\n",
      "RT @ezralevant: Omigod stop lying. NASA didn't even recruit astronauts until you were twelve.\n",
      "\n",
      "This is like when you said you were named af…\n",
      "RT @Alias255k: - Houston on a un problème \n",
      "- Oui dites nous ?\n",
      "- Rien laisse tomber. \n",
      "- mais ? \n",
      "- Bonne nuit. https://t.co/mbtk4kE9G5\n",
      "RT @Space_Station: .@Astro_Jessica is checking her tethers that keep her safely attached to the station at all times. @OtienoArthur asked,…\n",
      "RT @CaliaDomenico: The Full Rotation of the Moon: A Beautiful, High Resolution Timelapse Film\n",
      "Credit NASA/LRO https://t.co/S345zBtR85\n",
      "RT @dbongino: Did you accuse them of being “Russian assets” afterwards? https://t.co/6dw6cddvij\n",
      "RT @zorantomic87: Nasa vojska je dobro opremljena i spremna da brani Srbiju. Ima moderno naoruzanje i domace proizvodnje, ali i ruske kojim…\n",
      "ZaNa oL mAganDa nAsa loOb nG pRugRAm.\n",
      "RT @nujoud: Updated my NASA headshot, aged 7 years overnight 😂, but wore the same necklace for continuity https://t.co/q3ZMq5dSHx\n",
      "Fantastic moment in space exploration. The pictures (courtesy of the helmet cameras) were spectacular. Kudos all ro… https://t.co/HAGJ4ZF8bx\n",
      "RT @ezralevant: Omigod stop lying. NASA didn't even recruit astronauts until you were twelve.\n",
      "\n",
      "This is like when you said you were named af…\n",
      "RT @debbikutner: #RealityWinner, #Whistleblower, denied bond due to prosecution’s repeated phrase: “not criminal, but it is ‘of interest’…s…\n",
      "RT @dbongino: Did you accuse them of being “Russian assets” afterwards? https://t.co/6dw6cddvij\n",
      "@NASA A ver haced que pare de llover en mi pueblo que no veas,quiero sol!!!\n",
      "RT @sahouraxo: Really? Because I thought you dreamt of being one of the biggest warmongering sociopaths that history has ever seen. 🤗 https…\n",
      "RT @NASA_Marshall: What makes a supernova remnant clumpy?\n",
      "\n",
      "450 years after its namesake first spotted it, here's what @chandraxray is learn…\n",
      "RT @DrakeGatsby: [Tour of NASA Headquarters] \n",
      "\n",
      "Guide: So NASA was founded in July of 1958 with the goal- \n",
      "\n",
      "Me: *interrupting* Is it true th…\n"
     ]
    },
    {
     "name": "stdout",
     "output_type": "stream",
     "text": [
      "RT @MaichardArmy: ALAM NIYO NG NEGA AT IKAKASAMA NG LOOB NIYO DUN PA KAYO NAKABABAD. KATANGAHAN NA PO IYAN, ANG UTAK NASA TAAS.\n",
      "\n",
      "BASTA ANG…\n",
      "RT @dan_pizzo: To my 3 daughters....THIS!! https://t.co/CypUN3Vcfj\n",
      "RT @SB19Official: Sobrang thankful po kami sa lahat ng nagpunta sa SM City BF Parañaque! Para kaming nasa sky dahil may blue kahit saan 💙 D…\n",
      "RT @cicilavraie: trop drôle les mecs en commentaires qui ironisent sur la vaisselle &amp; le ménage alors qu'à 25 ans ils savent pas laver leur…\n",
      "RT @HillaryClinton: When I was a little girl, I wrote to NASA and told them I dreamed of being an astronaut. \n",
      "\n",
      "They wrote back and said the…\n",
      "RT @C_3C_3: There’s a higher probability that Corn Pop is real than young Hillary Clinton writing a letter to NASA.\n",
      "\n",
      "She’s a pathological l…\n",
      "RT @NASA: During our #AllWomanSpacewalk, there was an Earth-to-space call as @POTUS called @Astro_Christina &amp; @Astro_Jessica to congratulat…\n",
      "RT @NASA: Throughout spaceflight history, 14 women have completed spacewalks. Today, @Astro_Jessica brought that number up to 15 as she flo…\n",
      "RT @HillaryClinton: When I was a little girl, I wrote to NASA and told them I dreamed of being an astronaut. \n",
      "\n",
      "They wrote back and said the…\n",
      "RT @Alias255k: - Houston on a un problème \n",
      "- Oui dites nous ?\n",
      "- Rien laisse tomber. \n",
      "- mais ? \n",
      "- Bonne nuit. https://t.co/mbtk4kE9G5\n",
      "RT @padillacathh: “Iba talaga glow up pag nasa tamang tao ka”\n",
      "\n",
      "NOPE. IBA GLOW UP MO PAG MASAYA KA SA BUHAY MO , NATUTUNAN MO MAHALIN SARILI…\n",
      "@NASA @POTUS @Astro_Christina @Astro_Jessica @Space_Station Showing that orange turd in association with an amazing… https://t.co/KXWi6DOE4h\n",
      "RT @dbongino: Did you accuse them of being “Russian assets” afterwards? https://t.co/6dw6cddvij\n",
      "RT @Easycure: You were born in 1947, NASA wasn't formed until 1958 and we didn't have an astronaut in space until until 1962 when you were…\n",
      "Curating the Internet: Science and technology micro-summaries for October 19, 2019 https://t.co/wn8nhJKnja via… https://t.co/tu3s14cJBa\n",
      "RT @JimBridenstine: .@Space_Station update: our first all-female spacewalk with @Astro_Christina and @Astro_Jessica will be Thursday or Fri…\n",
      "RT @DrakeGatsby: [Tour of NASA Headquarters] \n",
      "\n",
      "Guide: So NASA was founded in July of 1958 with the goal- \n",
      "\n",
      "Me: *interrupting* Is it true th…\n",
      "@NASAEarth @NASA @SpaceApps From the Desk of Jim R, Take 2: From the Desk of Jim R, Take 2, Column 209, A Revi... https://t.co/HrRsJ8u1j9\n",
      "This is neat\n",
      "@ebishopphoto @myrubypearl @Tentoads4truth @carrybeyond @ThomasS4217 @DKnight10000 He is/was on NASA's financial bo… https://t.co/F16B7adVXz\n",
      "RT @elfamosopaulo: https://t.co/ItalP5SAZN https://t.co/OTsU5S51oJ\n",
      "RT @ThomasEWoods: I'd take Things That Never Happened for $200, but Hillary Jeopardy cleared out that category 30 years ago https://t.co/Bf…\n",
      "RT @ezralevant: Omigod stop lying. NASA didn't even recruit astronauts until you were twelve.\n",
      "\n",
      "This is like when you said you were named af…\n",
      "RT @debbierigaud: HOPE would be ecstatic and super proud. #HOPEbooks 🚀\n",
      "https://t.co/WW8YhtTmiF\n",
      "Por primera vez en la historia se realizará una caminata lunar en la que solamente participan mujeres... Un pequeño… https://t.co/1HdazSN3pM\n",
      "International gbas gbos..\n",
      "Swarm gets green light from FCC for its 150-satellite constellation https://t.co/xkQ7jrCUxI #CIO #itnews #Cloud… https://t.co/Ylj6R0ERuB\n",
      "RT @ismailsaymaz: Kadınlar ilk kez yanlarında erkekler olmadan uzay yürüyüşü yaptı. Hayrettin Karaman, Cübbeli Ahmet, Nurettin Yıldız ve İh…\n",
      "RT @Reynaldo0130: Nasa bs at nakapila siguro sa oras nato ang karamihan  \n",
      "@mainedcm \n",
      "#MaineMendoza #DADDYSGURLFeelingPogi\n",
      "RT @Easycure: You were born in 1947, NASA wasn't formed until 1958 and we didn't have an astronaut in space until until 1962 when you were…\n",
      "RT @GeekGirlsLatam: Hoy en la estación espacial de la @NASA 4 talentosas mujeres realizan labores importantes importantes de ingeniería y c…\n",
      "RT @JackPosobiec: 2019 NASA would have cancelled Apollo 11 after the SPLC complained https://t.co/TYHO22IAFd\n",
      "RT @viewsfrance: Aujourd’hui, et après 50 ans de sorties spatiales masculines, la NASA s’apprête à réaliser pour la 1ère fois une sortie sp…\n",
      "RT @elfamosopaulo: https://t.co/ItalP5SAZN https://t.co/OTsU5S51oJ\n",
      "RT @cicilavraie: trop drôle les mecs en commentaires qui ironisent sur la vaisselle &amp; le ménage alors qu'à 25 ans ils savent pas laver leur…\n",
      "RT @cicilavraie: trop drôle les mecs en commentaires qui ironisent sur la vaisselle &amp; le ménage alors qu'à 25 ans ils savent pas laver leur…\n",
      "RT @stillgray: This is a nonsensical, untrue story that has about as much legitimacy to it as her “landing under sniper fire in Bosnia” sto…\n",
      "RT @Easycure: You were born in 1947, NASA wasn't formed until 1958 and we didn't have an astronaut in space until until 1962 when you were…\n",
      "RT @Easycure: You were born in 1947, NASA wasn't formed until 1958 and we didn't have an astronaut in space until until 1962 when you were…\n",
      "RT @Stemettes: Happy #AllWomanSpacewalk Day. 👩‍🚀👩‍🚀💫\n",
      "\n",
      "#TeamStemette is sending out a thank you across the years to all the amazing women wh…\n",
      "RT @HillaryClinton: When I was a little girl, I wrote to NASA and told them I dreamed of being an astronaut. \n",
      "\n",
      "They wrote back and said the…\n",
      "RT @dbongino: Did you accuse them of being “Russian assets” afterwards? https://t.co/6dw6cddvij\n",
      "Kakaalis lang ni pitu 5mins sa bahay hinatid niya pa si pam tangina bigla nasa bahay na nila\n",
      "RT @cicilavraie: trop drôle les mecs en commentaires qui ironisent sur la vaisselle &amp; le ménage alors qu'à 25 ans ils savent pas laver leur…\n",
      "Isipin mo sayo na sya pero ako parin nasa puso't isip nya hahaha....\n",
      "RT @TheBabylonBee: NASA Announces All-Female Remake Of Staged Moon Landings\n",
      "https://t.co/rrV5thZB2A\n",
      "RT @HillaryClinton: When I was a little girl, I wrote to NASA and told them I dreamed of being an astronaut. \n",
      "\n",
      "They wrote back and said the…\n",
      "RT @cicilavraie: trop drôle les mecs en commentaires qui ironisent sur la vaisselle &amp; le ménage alors qu'à 25 ans ils savent pas laver leur…\n",
      "RT @dbongino: Did you accuse them of being “Russian assets” afterwards? https://t.co/6dw6cddvij\n",
      "WOW\n",
      "@NASA @POTUS @Astro_Christina @Astro_Jessica @Space_Station And we randomly have #IvankaTheFutureSpaceQueen in the room🙄\n",
      "@NASA @Twitter @Astro_Jessica @Astro_Christina Well done girls. You are a great inspiration to many of young people… https://t.co/WfmJex7bzP\n",
      "@NASA @SpaceX @Commercial_Crew @Space_Station @JimBridenstine @elonmusk From the Desk of Jim R, Take 2: From the De… https://t.co/Os6AY8U5Tx\n",
      "RT @fabbrdn: Mdrrr y’a autant de poussière que sa sur la Lune ? https://t.co/OwcLlnZOZF\n",
      "RT @NASA360: NASA InSight's 'mole' is on the move! The Red Planet lander used a new strategy that employed its robotic arm to help it start…\n",
      "RT @elfamosopaulo: https://t.co/ItalP5SAZN https://t.co/OTsU5S51oJ\n",
      "7️⃣So eto na nga kanina.  Naloka ako sa mga tao doon, parang ang dating ko eh im looking for Maynard only and not t… https://t.co/QHC8CNutX2\n",
      "RT @Caroiline_: Vous devenez originaux et drôles à quelle heure les hommes ?\n",
      "Vraiment c'est gênant. https://t.co/fSRWREUNPZ https://t.co/pW…\n",
      "@NASAGoddard @Astro_Jessica @Astro_Christina @NASA_ASTRONAUT During spacewalk...\n",
      "Great 👽 and I followed live broadc… https://t.co/8Bqp3jyfQ5\n",
      "\"Editorial: San Francisco should try safe #Parking centers for homeless\" has been published on… https://t.co/faj6gOyY8M\n",
      "RT @__gaby_yy: Ces femmes ont du subir des tonnes de remarques sexistes (illustré en commentaire) avant d'en arriver là.\n",
      "Bravo à elles 😌 ht…\n",
      "RT @Caroiline_: Vous devenez originaux et drôles à quelle heure les hommes ?\n",
      "Vraiment c'est gênant. https://t.co/fSRWREUNPZ https://t.co/pW…\n",
      "RT @HillaryClinton: When I was a little girl, I wrote to NASA and told them I dreamed of being an astronaut. \n",
      "\n",
      "They wrote back and said the…\n",
      "\n",
      "\n",
      "900\n",
      "\n",
      "\n",
      "RT @astromonocyte: #OTD in 1967, Mariner 5 successfully performed the planend Venus fly-by. 📷 Mariner 10, NASA (right) https://t.co/8NuGcPM…\n",
      "RT @HillaryClinton: When I was a little girl, I wrote to NASA and told them I dreamed of being an astronaut. \n",
      "\n",
      "They wrote back and said the…\n",
      "RT @Cyprustar7: https://t.co/Odx07tetgv\n",
      "#Apollo #hoax #NASA\n",
      "RT @NASA_SLS: Earlier this week, NASA unveiled two new, next-generation spacesuits that will be used for the #Artemis lunar missions. WATCH…\n"
     ]
    },
    {
     "name": "stdout",
     "output_type": "stream",
     "text": [
      "RT @cicilavraie: trop drôle les mecs en commentaires qui ironisent sur la vaisselle &amp; le ménage alors qu'à 25 ans ils savent pas laver leur…\n",
      "RT @glennlibrary: @spaceappsCLE @SpaceApps @NASAglenn Excited to hear all about our lunchtime keynote speaker! We're getting into the data…\n",
      "RT @dbongino: Did you accuse them of being “Russian assets” afterwards? https://t.co/6dw6cddvij\n",
      "Oh give it a rest. President Obama used that middle finger to rub the side of his nose when getting a question he d… https://t.co/j8cBBLE9yL\n",
      "@Roxanne05042140 @Elizabe44166685 @HillaryClinton She was 11 when NASA was founded. Lmao she’s lying.\n",
      "@ufoartwork Lol. Bigelow helped put this TTSA thing together. He’s already been working with NASA for years. Hell,… https://t.co/lg1fH7Ocow\n",
      "RT @SPACEdotcom: The 1st Human on Mars May Be a Woman, NASA Chief Says https://t.co/28h0JI6lEO https://t.co/LhInOWu0yR\n",
      "RT @WhipClyburn: Congratulations to NASA astronauts Jessica Meir and Christina Koch on completing the first-ever all-women spacewalk today!…\n",
      "tbh sana puro ganto nalang nasa tl ko di eye sore eh kesa sa mga hehe :----)\n",
      "RT @C_3C_3: There’s a higher probability that Corn Pop is real than young Hillary Clinton writing a letter to NASA.\n",
      "\n",
      "She’s a pathological l…\n",
      "RT @BiancShe25: We all know that they have the same Element ( Water ). But Ponytail is Lifer for Kiano. Hindi talaga pwdeng iwan khit nasa…\n",
      "RT @ChristinePolon1: When I was a little girl, I dreamed about lying about this and other things... everything. My dreams came true. I'm a…\n",
      "RT @CarpeDonktum: On the list of \"things that never happened\" this ranks right up there with you becoming President. https://t.co/o3W41WMIOM\n",
      "RT @LaPvlga: Pourtant y’a pas d’enfants à garder dans l’espace non ? https://t.co/G0LglRn8R4\n",
      "RT @USArmy: From the @WestPoint_USMA Parachute Team to the International Space Station, Jeff Williams was ready to enter into the void. \n",
      "\n",
      "R…\n",
      "Talk at @spaceappsCLE by Nelson Colon Vargas. He is running a program that looks at #tweets about @SpaceApps weeken… https://t.co/NuGc7bVRH0\n",
      "RT @_shierieontop_: #IsaPaWithFeelings lang talaga nasa isip ko ngayon tsaka yung Sino ni Unique. Kasi naman @mainedcm ba't niyo masyadong…\n",
      "Nasa yangabot pasab\n",
      "Nasa point na ako na masgusto ko pa matulog kaysa magwalwal\n",
      "RT @nytimes: 2 NASA astronauts, Christina Koch and Jessica Meir, completed the first all-female spacewalk on Friday. The walk lasted 7 hour…\n",
      "RT @me_think_free: Must have been Russian Assets. https://t.co/Fuu1PnCtMb\n",
      "RT @CatherineNetWeb: LIVE NOW:  Watch and listen to the LIVE feed. \n",
      "\n",
      "#AllWomanSpacewalk \n",
      "@Astro_Christina &amp; @Astro_Jessica venture into the…\n",
      "RT @cicilavraie: trop drôle les mecs en commentaires qui ironisent sur la vaisselle &amp; le ménage alors qu'à 25 ans ils savent pas laver leur…\n",
      "ni minsan hindi ko nakuha o nagawang magrebelde sa parents ko kahit nasa broken family position kami, naging open a… https://t.co/q0bxUbLZgr\n",
      "RT @Teccr: Empezó en el TEC el #SpaceAppsChallenge, una competencia mundial organizada por la NASA en el que estudiantes se reúnen para pro…\n",
      "RT @NASA: During our #AllWomanSpacewalk, there was an Earth-to-space call as @POTUS called @Astro_Christina &amp; @Astro_Jessica to congratulat…\n",
      "Erin Smith, from NASA Goddard  gave a https://t.co/3At04WhTqy\n",
      "RT @elizemariano_: HAHAHAHAHAHAHAHAHAHAHAHAHAHHAHAAHHAAHHAHAHAHAHAHAAHHAHAHAHAHAHA https://t.co/bYWcHaRhIX\n",
      "RT @mrmanhere_: Deeper into my what? https://t.co/JFS00BqYgm\n",
      "RT @padillacathh: “Iba talaga glow up pag nasa tamang tao ka”\n",
      "\n",
      "NOPE. IBA GLOW UP MO PAG MASAYA KA SA BUHAY MO , NATUTUNAN MO MAHALIN SARILI…\n",
      "Inktober Day 19 Sling\n",
      "\n",
      "Sale 35% off! Check out this awesome 'Sling through space' design on @TeePublic!\n",
      "\n",
      "#inktober… https://t.co/UfwQagbZWW\n",
      "RT @CyberDigitalTec: cc @mikequindazzi @antgrasso @fisher85m\n",
      "This beautiful map gives us a clearer picture of Mars https://t.co/Y7JShSWl9v…\n",
      "RT @padillacathh: “Iba talaga glow up pag nasa tamang tao ka”\n",
      "\n",
      "NOPE. IBA GLOW UP MO PAG MASAYA KA SA BUHAY MO , NATUTUNAN MO MAHALIN SARILI…\n",
      "@HillaryClinton https://t.co/lyKqxzTpCv\n",
      "RT @ComputerLab: #MoonWater won’t be anything like its counterpart on Earth, but #NASA wants it anyway. https://t.co/esiLHJvuMo\n",
      "RT @ReaIJhonathan: Peo el México\n",
      "Peo en Argentina\n",
      "Peo en Bolivia\n",
      "Peo Honduras \n",
      "Peo en Venezuela\n",
      "Peo en Hong Kong\n",
      "Peo en España\n",
      "Peo en Líban…\n",
      "RT @SB19Official: Sobrang thankful po kami sa lahat ng nagpunta sa SM City BF Parañaque! Para kaming nasa sky dahil may blue kahit saan 💙 D…\n",
      "RT @Easycure: You were born in 1947, NASA wasn't formed until 1958 and we didn't have an astronaut in space until until 1962 when you were…\n",
      "Ang hirap naman nun, nasa Concert ako ng GOT7 habang Concert din ng BTS 🤦🏻‍♀️🤦🏻‍♀️🤦🏻‍♀️\n",
      "Hoy nasa venezuela na si samantha lo!\n"
     ]
    },
    {
     "ename": "KeyboardInterrupt",
     "evalue": "",
     "output_type": "error",
     "traceback": [
      "\u001b[0;31m---------------------------------------------------------------------------\u001b[0m",
      "\u001b[0;31mKeyboardInterrupt\u001b[0m                         Traceback (most recent call last)",
      "\u001b[0;32m<ipython-input-819-cafa3f1fd411>\u001b[0m in \u001b[0;36m<module>\u001b[0;34m()\u001b[0m\n\u001b[1;32m      1\u001b[0m \u001b[0mc\u001b[0m \u001b[0;34m=\u001b[0m \u001b[0;36m0\u001b[0m\u001b[0;34m\u001b[0m\u001b[0m\n\u001b[0;32m----> 2\u001b[0;31m \u001b[0;32mfor\u001b[0m \u001b[0mtweet\u001b[0m \u001b[0;32min\u001b[0m \u001b[0mislice\u001b[0m\u001b[0;34m(\u001b[0m\u001b[0mtweet_generator\u001b[0m\u001b[0;34m(\u001b[0m\u001b[0;34m)\u001b[0m\u001b[0;34m,\u001b[0m \u001b[0;36m1000\u001b[0m\u001b[0;34m)\u001b[0m\u001b[0;34m:\u001b[0m\u001b[0;34m\u001b[0m\u001b[0m\n\u001b[0m\u001b[1;32m      3\u001b[0m     \u001b[0mc\u001b[0m \u001b[0;34m+=\u001b[0m \u001b[0;36m1\u001b[0m\u001b[0;34m\u001b[0m\u001b[0m\n\u001b[1;32m      4\u001b[0m     \u001b[0;32mif\u001b[0m \u001b[0mc\u001b[0m \u001b[0;34m%\u001b[0m \u001b[0;36m100\u001b[0m \u001b[0;34m==\u001b[0m \u001b[0;36m0\u001b[0m\u001b[0;34m:\u001b[0m\u001b[0;34m\u001b[0m\u001b[0m\n\u001b[1;32m      5\u001b[0m         \u001b[0mprint\u001b[0m\u001b[0;34m(\u001b[0m\u001b[0;34m'\\n'\u001b[0m\u001b[0;34m)\u001b[0m\u001b[0;34m\u001b[0m\u001b[0m\n",
      "\u001b[0;32m<ipython-input-754-d687d43b68ac>\u001b[0m in \u001b[0;36mtweet_generator\u001b[0;34m()\u001b[0m\n\u001b[1;32m     19\u001b[0m                                 })\n\u001b[1;32m     20\u001b[0m \u001b[0;34m\u001b[0m\u001b[0m\n\u001b[0;32m---> 21\u001b[0;31m     \u001b[0;32mfor\u001b[0m \u001b[0mline\u001b[0m \u001b[0;32min\u001b[0m \u001b[0mstream\u001b[0m\u001b[0;34m.\u001b[0m\u001b[0miter_lines\u001b[0m\u001b[0;34m(\u001b[0m\u001b[0;34m)\u001b[0m\u001b[0;34m:\u001b[0m\u001b[0;34m\u001b[0m\u001b[0m\n\u001b[0m\u001b[1;32m     22\u001b[0m         \u001b[0;32mif\u001b[0m \u001b[0;32mnot\u001b[0m \u001b[0mline\u001b[0m\u001b[0;34m:\u001b[0m  \u001b[0;31m# filter out keep-alive new lines\u001b[0m\u001b[0;34m\u001b[0m\u001b[0m\n\u001b[1;32m     23\u001b[0m             \u001b[0;32mcontinue\u001b[0m\u001b[0;34m\u001b[0m\u001b[0m\n",
      "\u001b[0;32m~/anaconda3/lib/python3.6/site-packages/requests/models.py\u001b[0m in \u001b[0;36miter_lines\u001b[0;34m(self, chunk_size, decode_unicode, delimiter)\u001b[0m\n\u001b[1;32m    787\u001b[0m         \u001b[0mpending\u001b[0m \u001b[0;34m=\u001b[0m \u001b[0;32mNone\u001b[0m\u001b[0;34m\u001b[0m\u001b[0m\n\u001b[1;32m    788\u001b[0m \u001b[0;34m\u001b[0m\u001b[0m\n\u001b[0;32m--> 789\u001b[0;31m         \u001b[0;32mfor\u001b[0m \u001b[0mchunk\u001b[0m \u001b[0;32min\u001b[0m \u001b[0mself\u001b[0m\u001b[0;34m.\u001b[0m\u001b[0miter_content\u001b[0m\u001b[0;34m(\u001b[0m\u001b[0mchunk_size\u001b[0m\u001b[0;34m=\u001b[0m\u001b[0mchunk_size\u001b[0m\u001b[0;34m,\u001b[0m \u001b[0mdecode_unicode\u001b[0m\u001b[0;34m=\u001b[0m\u001b[0mdecode_unicode\u001b[0m\u001b[0;34m)\u001b[0m\u001b[0;34m:\u001b[0m\u001b[0;34m\u001b[0m\u001b[0m\n\u001b[0m\u001b[1;32m    790\u001b[0m \u001b[0;34m\u001b[0m\u001b[0m\n\u001b[1;32m    791\u001b[0m             \u001b[0;32mif\u001b[0m \u001b[0mpending\u001b[0m \u001b[0;32mis\u001b[0m \u001b[0;32mnot\u001b[0m \u001b[0;32mNone\u001b[0m\u001b[0;34m:\u001b[0m\u001b[0;34m\u001b[0m\u001b[0m\n",
      "\u001b[0;32m~/anaconda3/lib/python3.6/site-packages/requests/models.py\u001b[0m in \u001b[0;36mgenerate\u001b[0;34m()\u001b[0m\n\u001b[1;32m    743\u001b[0m             \u001b[0;32mif\u001b[0m \u001b[0mhasattr\u001b[0m\u001b[0;34m(\u001b[0m\u001b[0mself\u001b[0m\u001b[0;34m.\u001b[0m\u001b[0mraw\u001b[0m\u001b[0;34m,\u001b[0m \u001b[0;34m'stream'\u001b[0m\u001b[0;34m)\u001b[0m\u001b[0;34m:\u001b[0m\u001b[0;34m\u001b[0m\u001b[0m\n\u001b[1;32m    744\u001b[0m                 \u001b[0;32mtry\u001b[0m\u001b[0;34m:\u001b[0m\u001b[0;34m\u001b[0m\u001b[0m\n\u001b[0;32m--> 745\u001b[0;31m                     \u001b[0;32mfor\u001b[0m \u001b[0mchunk\u001b[0m \u001b[0;32min\u001b[0m \u001b[0mself\u001b[0m\u001b[0;34m.\u001b[0m\u001b[0mraw\u001b[0m\u001b[0;34m.\u001b[0m\u001b[0mstream\u001b[0m\u001b[0;34m(\u001b[0m\u001b[0mchunk_size\u001b[0m\u001b[0;34m,\u001b[0m \u001b[0mdecode_content\u001b[0m\u001b[0;34m=\u001b[0m\u001b[0;32mTrue\u001b[0m\u001b[0;34m)\u001b[0m\u001b[0;34m:\u001b[0m\u001b[0;34m\u001b[0m\u001b[0m\n\u001b[0m\u001b[1;32m    746\u001b[0m                         \u001b[0;32myield\u001b[0m \u001b[0mchunk\u001b[0m\u001b[0;34m\u001b[0m\u001b[0m\n\u001b[1;32m    747\u001b[0m                 \u001b[0;32mexcept\u001b[0m \u001b[0mProtocolError\u001b[0m \u001b[0;32mas\u001b[0m \u001b[0me\u001b[0m\u001b[0;34m:\u001b[0m\u001b[0;34m\u001b[0m\u001b[0m\n",
      "\u001b[0;32m~/anaconda3/lib/python3.6/site-packages/urllib3/response.py\u001b[0m in \u001b[0;36mstream\u001b[0;34m(self, amt, decode_content)\u001b[0m\n\u001b[1;32m    430\u001b[0m         \"\"\"\n\u001b[1;32m    431\u001b[0m         \u001b[0;32mif\u001b[0m \u001b[0mself\u001b[0m\u001b[0;34m.\u001b[0m\u001b[0mchunked\u001b[0m \u001b[0;32mand\u001b[0m \u001b[0mself\u001b[0m\u001b[0;34m.\u001b[0m\u001b[0msupports_chunked_reads\u001b[0m\u001b[0;34m(\u001b[0m\u001b[0;34m)\u001b[0m\u001b[0;34m:\u001b[0m\u001b[0;34m\u001b[0m\u001b[0m\n\u001b[0;32m--> 432\u001b[0;31m             \u001b[0;32mfor\u001b[0m \u001b[0mline\u001b[0m \u001b[0;32min\u001b[0m \u001b[0mself\u001b[0m\u001b[0;34m.\u001b[0m\u001b[0mread_chunked\u001b[0m\u001b[0;34m(\u001b[0m\u001b[0mamt\u001b[0m\u001b[0;34m,\u001b[0m \u001b[0mdecode_content\u001b[0m\u001b[0;34m=\u001b[0m\u001b[0mdecode_content\u001b[0m\u001b[0;34m)\u001b[0m\u001b[0;34m:\u001b[0m\u001b[0;34m\u001b[0m\u001b[0m\n\u001b[0m\u001b[1;32m    433\u001b[0m                 \u001b[0;32myield\u001b[0m \u001b[0mline\u001b[0m\u001b[0;34m\u001b[0m\u001b[0m\n\u001b[1;32m    434\u001b[0m         \u001b[0;32melse\u001b[0m\u001b[0;34m:\u001b[0m\u001b[0;34m\u001b[0m\u001b[0m\n",
      "\u001b[0;32m~/anaconda3/lib/python3.6/site-packages/urllib3/response.py\u001b[0m in \u001b[0;36mread_chunked\u001b[0;34m(self, amt, decode_content)\u001b[0m\n\u001b[1;32m    596\u001b[0m         \u001b[0;32mwith\u001b[0m \u001b[0mself\u001b[0m\u001b[0;34m.\u001b[0m\u001b[0m_error_catcher\u001b[0m\u001b[0;34m(\u001b[0m\u001b[0;34m)\u001b[0m\u001b[0;34m:\u001b[0m\u001b[0;34m\u001b[0m\u001b[0m\n\u001b[1;32m    597\u001b[0m             \u001b[0;32mwhile\u001b[0m \u001b[0;32mTrue\u001b[0m\u001b[0;34m:\u001b[0m\u001b[0;34m\u001b[0m\u001b[0m\n\u001b[0;32m--> 598\u001b[0;31m                 \u001b[0mself\u001b[0m\u001b[0;34m.\u001b[0m\u001b[0m_update_chunk_length\u001b[0m\u001b[0;34m(\u001b[0m\u001b[0;34m)\u001b[0m\u001b[0;34m\u001b[0m\u001b[0m\n\u001b[0m\u001b[1;32m    599\u001b[0m                 \u001b[0;32mif\u001b[0m \u001b[0mself\u001b[0m\u001b[0;34m.\u001b[0m\u001b[0mchunk_left\u001b[0m \u001b[0;34m==\u001b[0m \u001b[0;36m0\u001b[0m\u001b[0;34m:\u001b[0m\u001b[0;34m\u001b[0m\u001b[0m\n\u001b[1;32m    600\u001b[0m                     \u001b[0;32mbreak\u001b[0m\u001b[0;34m\u001b[0m\u001b[0m\n",
      "\u001b[0;32m~/anaconda3/lib/python3.6/site-packages/urllib3/response.py\u001b[0m in \u001b[0;36m_update_chunk_length\u001b[0;34m(self)\u001b[0m\n\u001b[1;32m    538\u001b[0m         \u001b[0;32mif\u001b[0m \u001b[0mself\u001b[0m\u001b[0;34m.\u001b[0m\u001b[0mchunk_left\u001b[0m \u001b[0;32mis\u001b[0m \u001b[0;32mnot\u001b[0m \u001b[0;32mNone\u001b[0m\u001b[0;34m:\u001b[0m\u001b[0;34m\u001b[0m\u001b[0m\n\u001b[1;32m    539\u001b[0m             \u001b[0;32mreturn\u001b[0m\u001b[0;34m\u001b[0m\u001b[0m\n\u001b[0;32m--> 540\u001b[0;31m         \u001b[0mline\u001b[0m \u001b[0;34m=\u001b[0m \u001b[0mself\u001b[0m\u001b[0;34m.\u001b[0m\u001b[0m_fp\u001b[0m\u001b[0;34m.\u001b[0m\u001b[0mfp\u001b[0m\u001b[0;34m.\u001b[0m\u001b[0mreadline\u001b[0m\u001b[0;34m(\u001b[0m\u001b[0;34m)\u001b[0m\u001b[0;34m\u001b[0m\u001b[0m\n\u001b[0m\u001b[1;32m    541\u001b[0m         \u001b[0mline\u001b[0m \u001b[0;34m=\u001b[0m \u001b[0mline\u001b[0m\u001b[0;34m.\u001b[0m\u001b[0msplit\u001b[0m\u001b[0;34m(\u001b[0m\u001b[0;34mb';'\u001b[0m\u001b[0;34m,\u001b[0m \u001b[0;36m1\u001b[0m\u001b[0;34m)\u001b[0m\u001b[0;34m[\u001b[0m\u001b[0;36m0\u001b[0m\u001b[0;34m]\u001b[0m\u001b[0;34m\u001b[0m\u001b[0m\n\u001b[1;32m    542\u001b[0m         \u001b[0;32mtry\u001b[0m\u001b[0;34m:\u001b[0m\u001b[0;34m\u001b[0m\u001b[0m\n",
      "\u001b[0;32m~/anaconda3/lib/python3.6/socket.py\u001b[0m in \u001b[0;36mreadinto\u001b[0;34m(self, b)\u001b[0m\n\u001b[1;32m    584\u001b[0m         \u001b[0;32mwhile\u001b[0m \u001b[0;32mTrue\u001b[0m\u001b[0;34m:\u001b[0m\u001b[0;34m\u001b[0m\u001b[0m\n\u001b[1;32m    585\u001b[0m             \u001b[0;32mtry\u001b[0m\u001b[0;34m:\u001b[0m\u001b[0;34m\u001b[0m\u001b[0m\n\u001b[0;32m--> 586\u001b[0;31m                 \u001b[0;32mreturn\u001b[0m \u001b[0mself\u001b[0m\u001b[0;34m.\u001b[0m\u001b[0m_sock\u001b[0m\u001b[0;34m.\u001b[0m\u001b[0mrecv_into\u001b[0m\u001b[0;34m(\u001b[0m\u001b[0mb\u001b[0m\u001b[0;34m)\u001b[0m\u001b[0;34m\u001b[0m\u001b[0m\n\u001b[0m\u001b[1;32m    587\u001b[0m             \u001b[0;32mexcept\u001b[0m \u001b[0mtimeout\u001b[0m\u001b[0;34m:\u001b[0m\u001b[0;34m\u001b[0m\u001b[0m\n\u001b[1;32m    588\u001b[0m                 \u001b[0mself\u001b[0m\u001b[0;34m.\u001b[0m\u001b[0m_timeout_occurred\u001b[0m \u001b[0;34m=\u001b[0m \u001b[0;32mTrue\u001b[0m\u001b[0;34m\u001b[0m\u001b[0m\n",
      "\u001b[0;32m~/anaconda3/lib/python3.6/site-packages/urllib3/contrib/pyopenssl.py\u001b[0m in \u001b[0;36mrecv_into\u001b[0;34m(self, *args, **kwargs)\u001b[0m\n\u001b[1;32m    278\u001b[0m     \u001b[0;32mdef\u001b[0m \u001b[0mrecv_into\u001b[0m\u001b[0;34m(\u001b[0m\u001b[0mself\u001b[0m\u001b[0;34m,\u001b[0m \u001b[0;34m*\u001b[0m\u001b[0margs\u001b[0m\u001b[0;34m,\u001b[0m \u001b[0;34m**\u001b[0m\u001b[0mkwargs\u001b[0m\u001b[0;34m)\u001b[0m\u001b[0;34m:\u001b[0m\u001b[0;34m\u001b[0m\u001b[0m\n\u001b[1;32m    279\u001b[0m         \u001b[0;32mtry\u001b[0m\u001b[0;34m:\u001b[0m\u001b[0;34m\u001b[0m\u001b[0m\n\u001b[0;32m--> 280\u001b[0;31m             \u001b[0;32mreturn\u001b[0m \u001b[0mself\u001b[0m\u001b[0;34m.\u001b[0m\u001b[0mconnection\u001b[0m\u001b[0;34m.\u001b[0m\u001b[0mrecv_into\u001b[0m\u001b[0;34m(\u001b[0m\u001b[0;34m*\u001b[0m\u001b[0margs\u001b[0m\u001b[0;34m,\u001b[0m \u001b[0;34m**\u001b[0m\u001b[0mkwargs\u001b[0m\u001b[0;34m)\u001b[0m\u001b[0;34m\u001b[0m\u001b[0m\n\u001b[0m\u001b[1;32m    281\u001b[0m         \u001b[0;32mexcept\u001b[0m \u001b[0mOpenSSL\u001b[0m\u001b[0;34m.\u001b[0m\u001b[0mSSL\u001b[0m\u001b[0;34m.\u001b[0m\u001b[0mSysCallError\u001b[0m \u001b[0;32mas\u001b[0m \u001b[0me\u001b[0m\u001b[0;34m:\u001b[0m\u001b[0;34m\u001b[0m\u001b[0m\n\u001b[1;32m    282\u001b[0m             \u001b[0;32mif\u001b[0m \u001b[0mself\u001b[0m\u001b[0;34m.\u001b[0m\u001b[0msuppress_ragged_eofs\u001b[0m \u001b[0;32mand\u001b[0m \u001b[0me\u001b[0m\u001b[0;34m.\u001b[0m\u001b[0margs\u001b[0m \u001b[0;34m==\u001b[0m \u001b[0;34m(\u001b[0m\u001b[0;34m-\u001b[0m\u001b[0;36m1\u001b[0m\u001b[0;34m,\u001b[0m \u001b[0;34m'Unexpected EOF'\u001b[0m\u001b[0;34m)\u001b[0m\u001b[0;34m:\u001b[0m\u001b[0;34m\u001b[0m\u001b[0m\n",
      "\u001b[0;32m~/anaconda3/lib/python3.6/site-packages/OpenSSL/SSL.py\u001b[0m in \u001b[0;36mrecv_into\u001b[0;34m(self, buffer, nbytes, flags)\u001b[0m\n\u001b[1;32m   1811\u001b[0m             \u001b[0mresult\u001b[0m \u001b[0;34m=\u001b[0m \u001b[0m_lib\u001b[0m\u001b[0;34m.\u001b[0m\u001b[0mSSL_peek\u001b[0m\u001b[0;34m(\u001b[0m\u001b[0mself\u001b[0m\u001b[0;34m.\u001b[0m\u001b[0m_ssl\u001b[0m\u001b[0;34m,\u001b[0m \u001b[0mbuf\u001b[0m\u001b[0;34m,\u001b[0m \u001b[0mnbytes\u001b[0m\u001b[0;34m)\u001b[0m\u001b[0;34m\u001b[0m\u001b[0m\n\u001b[1;32m   1812\u001b[0m         \u001b[0;32melse\u001b[0m\u001b[0;34m:\u001b[0m\u001b[0;34m\u001b[0m\u001b[0m\n\u001b[0;32m-> 1813\u001b[0;31m             \u001b[0mresult\u001b[0m \u001b[0;34m=\u001b[0m \u001b[0m_lib\u001b[0m\u001b[0;34m.\u001b[0m\u001b[0mSSL_read\u001b[0m\u001b[0;34m(\u001b[0m\u001b[0mself\u001b[0m\u001b[0;34m.\u001b[0m\u001b[0m_ssl\u001b[0m\u001b[0;34m,\u001b[0m \u001b[0mbuf\u001b[0m\u001b[0;34m,\u001b[0m \u001b[0mnbytes\u001b[0m\u001b[0;34m)\u001b[0m\u001b[0;34m\u001b[0m\u001b[0m\n\u001b[0m\u001b[1;32m   1814\u001b[0m         \u001b[0mself\u001b[0m\u001b[0;34m.\u001b[0m\u001b[0m_raise_ssl_error\u001b[0m\u001b[0;34m(\u001b[0m\u001b[0mself\u001b[0m\u001b[0;34m.\u001b[0m\u001b[0m_ssl\u001b[0m\u001b[0;34m,\u001b[0m \u001b[0mresult\u001b[0m\u001b[0;34m)\u001b[0m\u001b[0;34m\u001b[0m\u001b[0m\n\u001b[1;32m   1815\u001b[0m \u001b[0;34m\u001b[0m\u001b[0m\n",
      "\u001b[0;31mKeyboardInterrupt\u001b[0m: "
     ]
    }
   ],
   "source": [
    "c = 0\n",
    "for tweet in islice(tweet_generator(), 1000):\n",
    "    c += 1\n",
    "    if c % 100 == 0:\n",
    "        print('\\n')\n",
    "        print(c)\n",
    "        print('\\n')\n",
    "    print(tweet)"
   ]
  },
  {
   "cell_type": "markdown",
   "metadata": {},
   "source": [
    "### What data is there?"
   ]
  },
  {
   "cell_type": "code",
   "execution_count": 820,
   "metadata": {
    "scrolled": false
   },
   "outputs": [
    {
     "data": {
      "text/plain": [
       "{'created_at': 'Thu Oct 17 21:07:09 +0000 2019',\n",
       " 'id': 1184938925703319552,\n",
       " 'id_str': '1184938925703319552',\n",
       " 'text': 'RT @riahfab: Ikaw na nasa bus/jeep na antok na antok na tapos sumakay si crush https://t.co/xEQcsLnUnH',\n",
       " 'source': '<a href=\"http://twitter.com/download/iphone\" rel=\"nofollow\">Twitter for iPhone</a>',\n",
       " 'truncated': False,\n",
       " 'in_reply_to_status_id': None,\n",
       " 'in_reply_to_status_id_str': None,\n",
       " 'in_reply_to_user_id': None,\n",
       " 'in_reply_to_user_id_str': None,\n",
       " 'in_reply_to_screen_name': None,\n",
       " 'user': {'id': 1002518687813754880,\n",
       "  'id_str': '1002518687813754880',\n",
       "  'name': 'amme',\n",
       "  'screen_name': 'rhaeex',\n",
       "  'location': \"Jc's ❤🏳️\\u200d🌈\",\n",
       "  'url': None,\n",
       "  'description': 'Have Faith, Hope and Love 😇💕 || Astrophile ✨',\n",
       "  'translator_type': 'none',\n",
       "  'protected': False,\n",
       "  'verified': False,\n",
       "  'followers_count': 342,\n",
       "  'friends_count': 520,\n",
       "  'listed_count': 0,\n",
       "  'favourites_count': 19843,\n",
       "  'statuses_count': 11750,\n",
       "  'created_at': 'Fri Jun 01 11:54:15 +0000 2018',\n",
       "  'utc_offset': None,\n",
       "  'time_zone': None,\n",
       "  'geo_enabled': True,\n",
       "  'lang': None,\n",
       "  'contributors_enabled': False,\n",
       "  'is_translator': False,\n",
       "  'profile_background_color': 'F5F8FA',\n",
       "  'profile_background_image_url': '',\n",
       "  'profile_background_image_url_https': '',\n",
       "  'profile_background_tile': False,\n",
       "  'profile_link_color': '1DA1F2',\n",
       "  'profile_sidebar_border_color': 'C0DEED',\n",
       "  'profile_sidebar_fill_color': 'DDEEF6',\n",
       "  'profile_text_color': '333333',\n",
       "  'profile_use_background_image': True,\n",
       "  'profile_image_url': 'http://pbs.twimg.com/profile_images/1184807724187414528/vR-U5MEi_normal.jpg',\n",
       "  'profile_image_url_https': 'https://pbs.twimg.com/profile_images/1184807724187414528/vR-U5MEi_normal.jpg',\n",
       "  'profile_banner_url': 'https://pbs.twimg.com/profile_banners/1002518687813754880/1565696865',\n",
       "  'default_profile': True,\n",
       "  'default_profile_image': False,\n",
       "  'following': None,\n",
       "  'follow_request_sent': None,\n",
       "  'notifications': None},\n",
       " 'geo': None,\n",
       " 'coordinates': None,\n",
       " 'place': None,\n",
       " 'contributors': None,\n",
       " 'retweeted_status': {'created_at': 'Wed Oct 16 03:41:55 +0000 2019',\n",
       "  'id': 1184313494713188352,\n",
       "  'id_str': '1184313494713188352',\n",
       "  'text': 'Ikaw na nasa bus/jeep na antok na antok na tapos sumakay si crush https://t.co/xEQcsLnUnH',\n",
       "  'display_text_range': [0, 65],\n",
       "  'source': '<a href=\"http://twitter.com/download/iphone\" rel=\"nofollow\">Twitter for iPhone</a>',\n",
       "  'truncated': False,\n",
       "  'in_reply_to_status_id': None,\n",
       "  'in_reply_to_status_id_str': None,\n",
       "  'in_reply_to_user_id': None,\n",
       "  'in_reply_to_user_id_str': None,\n",
       "  'in_reply_to_screen_name': None,\n",
       "  'user': {'id': 1040855022819454976,\n",
       "   'id_str': '1040855022819454976',\n",
       "   'name': 'bh0sxcz m@p4qmähUAL',\n",
       "   'screen_name': 'riahfab',\n",
       "   'location': None,\n",
       "   'url': 'https://www.youtube.com/channel/UCZAPJhlUGe6WrmIFuckMkYQ',\n",
       "   'description': 'kailangan ba ‘to?????',\n",
       "   'translator_type': 'none',\n",
       "   'protected': False,\n",
       "   'verified': False,\n",
       "   'followers_count': 2544,\n",
       "   'friends_count': 72,\n",
       "   'listed_count': 0,\n",
       "   'favourites_count': 132,\n",
       "   'statuses_count': 343,\n",
       "   'created_at': 'Sat Sep 15 06:49:10 +0000 2018',\n",
       "   'utc_offset': None,\n",
       "   'time_zone': None,\n",
       "   'geo_enabled': False,\n",
       "   'lang': None,\n",
       "   'contributors_enabled': False,\n",
       "   'is_translator': False,\n",
       "   'profile_background_color': '000000',\n",
       "   'profile_background_image_url': 'http://abs.twimg.com/images/themes/theme1/bg.png',\n",
       "   'profile_background_image_url_https': 'https://abs.twimg.com/images/themes/theme1/bg.png',\n",
       "   'profile_background_tile': False,\n",
       "   'profile_link_color': 'FF0000',\n",
       "   'profile_sidebar_border_color': '000000',\n",
       "   'profile_sidebar_fill_color': '000000',\n",
       "   'profile_text_color': '000000',\n",
       "   'profile_use_background_image': False,\n",
       "   'profile_image_url': 'http://pbs.twimg.com/profile_images/1168082631310761984/WVr8a5W2_normal.jpg',\n",
       "   'profile_image_url_https': 'https://pbs.twimg.com/profile_images/1168082631310761984/WVr8a5W2_normal.jpg',\n",
       "   'profile_banner_url': 'https://pbs.twimg.com/profile_banners/1040855022819454976/1561459056',\n",
       "   'default_profile': False,\n",
       "   'default_profile_image': False,\n",
       "   'following': None,\n",
       "   'follow_request_sent': None,\n",
       "   'notifications': None},\n",
       "  'geo': None,\n",
       "  'coordinates': None,\n",
       "  'place': None,\n",
       "  'contributors': None,\n",
       "  'is_quote_status': False,\n",
       "  'quote_count': 209,\n",
       "  'reply_count': 22,\n",
       "  'retweet_count': 562,\n",
       "  'favorite_count': 2957,\n",
       "  'entities': {'hashtags': [],\n",
       "   'urls': [],\n",
       "   'user_mentions': [],\n",
       "   'symbols': [],\n",
       "   'media': [{'id': 1184313291855679488,\n",
       "     'id_str': '1184313291855679488',\n",
       "     'indices': [66, 89],\n",
       "     'additional_media_info': {'monetizable': False},\n",
       "     'media_url': 'http://pbs.twimg.com/ext_tw_video_thumb/1184313291855679488/pu/img/DAjVFseAa3BZ46Jj.jpg',\n",
       "     'media_url_https': 'https://pbs.twimg.com/ext_tw_video_thumb/1184313291855679488/pu/img/DAjVFseAa3BZ46Jj.jpg',\n",
       "     'url': 'https://t.co/xEQcsLnUnH',\n",
       "     'display_url': 'pic.twitter.com/xEQcsLnUnH',\n",
       "     'expanded_url': 'https://twitter.com/riahfab/status/1184313494713188352/video/1',\n",
       "     'type': 'photo',\n",
       "     'sizes': {'thumb': {'w': 150, 'h': 150, 'resize': 'crop'},\n",
       "      'medium': {'w': 1200, 'h': 675, 'resize': 'fit'},\n",
       "      'small': {'w': 680, 'h': 383, 'resize': 'fit'},\n",
       "      'large': {'w': 1280, 'h': 720, 'resize': 'fit'}}}]},\n",
       "  'extended_entities': {'media': [{'id': 1184313291855679488,\n",
       "     'id_str': '1184313291855679488',\n",
       "     'indices': [66, 89],\n",
       "     'additional_media_info': {'monetizable': False},\n",
       "     'media_url': 'http://pbs.twimg.com/ext_tw_video_thumb/1184313291855679488/pu/img/DAjVFseAa3BZ46Jj.jpg',\n",
       "     'media_url_https': 'https://pbs.twimg.com/ext_tw_video_thumb/1184313291855679488/pu/img/DAjVFseAa3BZ46Jj.jpg',\n",
       "     'url': 'https://t.co/xEQcsLnUnH',\n",
       "     'display_url': 'pic.twitter.com/xEQcsLnUnH',\n",
       "     'expanded_url': 'https://twitter.com/riahfab/status/1184313494713188352/video/1',\n",
       "     'type': 'video',\n",
       "     'video_info': {'aspect_ratio': [16, 9],\n",
       "      'duration_millis': 15403,\n",
       "      'variants': [{'content_type': 'application/x-mpegURL',\n",
       "        'url': 'https://video.twimg.com/ext_tw_video/1184313291855679488/pu/pl/92jZN4OQZRFzpYcl.m3u8?tag=10'},\n",
       "       {'bitrate': 256000,\n",
       "        'content_type': 'video/mp4',\n",
       "        'url': 'https://video.twimg.com/ext_tw_video/1184313291855679488/pu/vid/480x270/-p6CqUpnmZE_gi0f.mp4?tag=10'},\n",
       "       {'bitrate': 832000,\n",
       "        'content_type': 'video/mp4',\n",
       "        'url': 'https://video.twimg.com/ext_tw_video/1184313291855679488/pu/vid/640x360/11m27nBreyiuNajq.mp4?tag=10'},\n",
       "       {'bitrate': 2176000,\n",
       "        'content_type': 'video/mp4',\n",
       "        'url': 'https://video.twimg.com/ext_tw_video/1184313291855679488/pu/vid/1280x720/ClZlCeFyQivoxzpY.mp4?tag=10'}]},\n",
       "     'sizes': {'thumb': {'w': 150, 'h': 150, 'resize': 'crop'},\n",
       "      'medium': {'w': 1200, 'h': 675, 'resize': 'fit'},\n",
       "      'small': {'w': 680, 'h': 383, 'resize': 'fit'},\n",
       "      'large': {'w': 1280, 'h': 720, 'resize': 'fit'}}}]},\n",
       "  'favorited': False,\n",
       "  'retweeted': False,\n",
       "  'possibly_sensitive': False,\n",
       "  'filter_level': 'low',\n",
       "  'lang': 'tl'},\n",
       " 'is_quote_status': False,\n",
       " 'quote_count': 0,\n",
       " 'reply_count': 0,\n",
       " 'retweet_count': 0,\n",
       " 'favorite_count': 0,\n",
       " 'entities': {'hashtags': [],\n",
       "  'urls': [],\n",
       "  'user_mentions': [{'screen_name': 'riahfab',\n",
       "    'name': 'bh0sxcz m@p4qmähUAL',\n",
       "    'id': 1040855022819454976,\n",
       "    'id_str': '1040855022819454976',\n",
       "    'indices': [3, 11]}],\n",
       "  'symbols': [],\n",
       "  'media': [{'id': 1184313291855679488,\n",
       "    'id_str': '1184313291855679488',\n",
       "    'indices': [79, 102],\n",
       "    'additional_media_info': {'monetizable': False},\n",
       "    'media_url': 'http://pbs.twimg.com/ext_tw_video_thumb/1184313291855679488/pu/img/DAjVFseAa3BZ46Jj.jpg',\n",
       "    'media_url_https': 'https://pbs.twimg.com/ext_tw_video_thumb/1184313291855679488/pu/img/DAjVFseAa3BZ46Jj.jpg',\n",
       "    'url': 'https://t.co/xEQcsLnUnH',\n",
       "    'display_url': 'pic.twitter.com/xEQcsLnUnH',\n",
       "    'expanded_url': 'https://twitter.com/riahfab/status/1184313494713188352/video/1',\n",
       "    'type': 'photo',\n",
       "    'sizes': {'thumb': {'w': 150, 'h': 150, 'resize': 'crop'},\n",
       "     'medium': {'w': 1200, 'h': 675, 'resize': 'fit'},\n",
       "     'small': {'w': 680, 'h': 383, 'resize': 'fit'},\n",
       "     'large': {'w': 1280, 'h': 720, 'resize': 'fit'}},\n",
       "    'source_status_id': 1184313494713188352,\n",
       "    'source_status_id_str': '1184313494713188352',\n",
       "    'source_user_id': 1040855022819454976,\n",
       "    'source_user_id_str': '1040855022819454976'}]},\n",
       " 'extended_entities': {'media': [{'id': 1184313291855679488,\n",
       "    'id_str': '1184313291855679488',\n",
       "    'indices': [79, 102],\n",
       "    'additional_media_info': {'monetizable': False},\n",
       "    'media_url': 'http://pbs.twimg.com/ext_tw_video_thumb/1184313291855679488/pu/img/DAjVFseAa3BZ46Jj.jpg',\n",
       "    'media_url_https': 'https://pbs.twimg.com/ext_tw_video_thumb/1184313291855679488/pu/img/DAjVFseAa3BZ46Jj.jpg',\n",
       "    'url': 'https://t.co/xEQcsLnUnH',\n",
       "    'display_url': 'pic.twitter.com/xEQcsLnUnH',\n",
       "    'expanded_url': 'https://twitter.com/riahfab/status/1184313494713188352/video/1',\n",
       "    'type': 'video',\n",
       "    'video_info': {'aspect_ratio': [16, 9],\n",
       "     'duration_millis': 15403,\n",
       "     'variants': [{'content_type': 'application/x-mpegURL',\n",
       "       'url': 'https://video.twimg.com/ext_tw_video/1184313291855679488/pu/pl/92jZN4OQZRFzpYcl.m3u8?tag=10'},\n",
       "      {'bitrate': 256000,\n",
       "       'content_type': 'video/mp4',\n",
       "       'url': 'https://video.twimg.com/ext_tw_video/1184313291855679488/pu/vid/480x270/-p6CqUpnmZE_gi0f.mp4?tag=10'},\n",
       "      {'bitrate': 832000,\n",
       "       'content_type': 'video/mp4',\n",
       "       'url': 'https://video.twimg.com/ext_tw_video/1184313291855679488/pu/vid/640x360/11m27nBreyiuNajq.mp4?tag=10'},\n",
       "      {'bitrate': 2176000,\n",
       "       'content_type': 'video/mp4',\n",
       "       'url': 'https://video.twimg.com/ext_tw_video/1184313291855679488/pu/vid/1280x720/ClZlCeFyQivoxzpY.mp4?tag=10'}]},\n",
       "    'sizes': {'thumb': {'w': 150, 'h': 150, 'resize': 'crop'},\n",
       "     'medium': {'w': 1200, 'h': 675, 'resize': 'fit'},\n",
       "     'small': {'w': 680, 'h': 383, 'resize': 'fit'},\n",
       "     'large': {'w': 1280, 'h': 720, 'resize': 'fit'}},\n",
       "    'source_status_id': 1184313494713188352,\n",
       "    'source_status_id_str': '1184313494713188352',\n",
       "    'source_user_id': 1040855022819454976,\n",
       "    'source_user_id_str': '1040855022819454976'}]},\n",
       " 'favorited': False,\n",
       " 'retweeted': False,\n",
       " 'possibly_sensitive': False,\n",
       " 'filter_level': 'low',\n",
       " 'lang': 'tl',\n",
       " 'timestamp_ms': '1571346429645'}"
      ]
     },
     "execution_count": 820,
     "metadata": {},
     "output_type": "execute_result"
    }
   ],
   "source": [
    "L[0]"
   ]
  },
  {
   "cell_type": "markdown",
   "metadata": {},
   "source": [
    "### Lets now extract some information from each tweet and save it in a dataframe."
   ]
  },
  {
   "cell_type": "code",
   "execution_count": 821,
   "metadata": {},
   "outputs": [],
   "source": [
    "df = pd.DataFrame()"
   ]
  },
  {
   "cell_type": "code",
   "execution_count": 822,
   "metadata": {},
   "outputs": [
    {
     "data": {
      "text/html": [
       "<div>\n",
       "<style scoped>\n",
       "    .dataframe tbody tr th:only-of-type {\n",
       "        vertical-align: middle;\n",
       "    }\n",
       "\n",
       "    .dataframe tbody tr th {\n",
       "        vertical-align: top;\n",
       "    }\n",
       "\n",
       "    .dataframe thead th {\n",
       "        text-align: right;\n",
       "    }\n",
       "</style>\n",
       "<table border=\"1\" class=\"dataframe\">\n",
       "  <thead>\n",
       "    <tr style=\"text-align: right;\">\n",
       "      <th></th>\n",
       "      <th>created_at</th>\n",
       "      <th>lang</th>\n",
       "      <th>location</th>\n",
       "      <th>place</th>\n",
       "      <th>raw_data</th>\n",
       "      <th>screen_name</th>\n",
       "      <th>text</th>\n",
       "      <th>timestamp</th>\n",
       "      <th>user_description</th>\n",
       "      <th>user_location</th>\n",
       "    </tr>\n",
       "  </thead>\n",
       "  <tbody>\n",
       "    <tr>\n",
       "      <th>22936</th>\n",
       "      <td>Sat Oct 19 16:35:29 +0000 2019</td>\n",
       "      <td>es</td>\n",
       "      <td>None</td>\n",
       "      <td>None</td>\n",
       "      <td>{'created_at': 'Sat Oct 19 16:35:29 +0000 2019...</td>\n",
       "      <td>unaestupidadice</td>\n",
       "      <td>RT @ReaIJhonathan: Peo el México\\nPeo en Argen...</td>\n",
       "      <td>1571502929525</td>\n",
       "      <td>None</td>\n",
       "      <td>None</td>\n",
       "    </tr>\n",
       "    <tr>\n",
       "      <th>22937</th>\n",
       "      <td>Sat Oct 19 16:35:29 +0000 2019</td>\n",
       "      <td>tl</td>\n",
       "      <td>None</td>\n",
       "      <td>None</td>\n",
       "      <td>{'created_at': 'Sat Oct 19 16:35:29 +0000 2019...</td>\n",
       "      <td>Itsmedimple7</td>\n",
       "      <td>RT @SB19Official: Sobrang thankful po kami sa ...</td>\n",
       "      <td>1571502929980</td>\n",
       "      <td>SB19💕💕💕</td>\n",
       "      <td>None</td>\n",
       "    </tr>\n",
       "    <tr>\n",
       "      <th>22938</th>\n",
       "      <td>Sat Oct 19 16:35:30 +0000 2019</td>\n",
       "      <td>en</td>\n",
       "      <td>None</td>\n",
       "      <td>None</td>\n",
       "      <td>{'created_at': 'Sat Oct 19 16:35:30 +0000 2019...</td>\n",
       "      <td>BlackIrishI</td>\n",
       "      <td>RT @Easycure: You were born in 1947, NASA wasn...</td>\n",
       "      <td>1571502930104</td>\n",
       "      <td>Adore my children. Love animals. Former Air Fo...</td>\n",
       "      <td>Colo. (God's Country)</td>\n",
       "    </tr>\n",
       "    <tr>\n",
       "      <th>22939</th>\n",
       "      <td>Sat Oct 19 16:35:30 +0000 2019</td>\n",
       "      <td>tl</td>\n",
       "      <td>None</td>\n",
       "      <td>None</td>\n",
       "      <td>{'created_at': 'Sat Oct 19 16:35:30 +0000 2019...</td>\n",
       "      <td>gisilgslgiselle</td>\n",
       "      <td>Ang hirap naman nun, nasa Concert ako ng GOT7 ...</td>\n",
       "      <td>1571502930879</td>\n",
       "      <td>BTS ARMY 💜 OT7 STAN | COOKY x KOOKIE 🐰</td>\n",
       "      <td>PH 🇵🇭</td>\n",
       "    </tr>\n",
       "    <tr>\n",
       "      <th>22940</th>\n",
       "      <td>Sat Oct 19 16:35:31 +0000 2019</td>\n",
       "      <td>es</td>\n",
       "      <td>None</td>\n",
       "      <td>None</td>\n",
       "      <td>{'created_at': 'Sat Oct 19 16:35:31 +0000 2019...</td>\n",
       "      <td>ItsJustCutie</td>\n",
       "      <td>Hoy nasa venezuela na si samantha lo!</td>\n",
       "      <td>1571502931002</td>\n",
       "      <td>1.Joshua Garcia (Ph) \\n2.Guo Junchen (Cn) \\n3....</td>\n",
       "      <td>Philippines</td>\n",
       "    </tr>\n",
       "  </tbody>\n",
       "</table>\n",
       "</div>"
      ],
      "text/plain": [
       "                           created_at lang location place  \\\n",
       "22936  Sat Oct 19 16:35:29 +0000 2019   es     None  None   \n",
       "22937  Sat Oct 19 16:35:29 +0000 2019   tl     None  None   \n",
       "22938  Sat Oct 19 16:35:30 +0000 2019   en     None  None   \n",
       "22939  Sat Oct 19 16:35:30 +0000 2019   tl     None  None   \n",
       "22940  Sat Oct 19 16:35:31 +0000 2019   es     None  None   \n",
       "\n",
       "                                                raw_data      screen_name  \\\n",
       "22936  {'created_at': 'Sat Oct 19 16:35:29 +0000 2019...  unaestupidadice   \n",
       "22937  {'created_at': 'Sat Oct 19 16:35:29 +0000 2019...     Itsmedimple7   \n",
       "22938  {'created_at': 'Sat Oct 19 16:35:30 +0000 2019...      BlackIrishI   \n",
       "22939  {'created_at': 'Sat Oct 19 16:35:30 +0000 2019...  gisilgslgiselle   \n",
       "22940  {'created_at': 'Sat Oct 19 16:35:31 +0000 2019...     ItsJustCutie   \n",
       "\n",
       "                                                    text      timestamp  \\\n",
       "22936  RT @ReaIJhonathan: Peo el México\\nPeo en Argen...  1571502929525   \n",
       "22937  RT @SB19Official: Sobrang thankful po kami sa ...  1571502929980   \n",
       "22938  RT @Easycure: You were born in 1947, NASA wasn...  1571502930104   \n",
       "22939  Ang hirap naman nun, nasa Concert ako ng GOT7 ...  1571502930879   \n",
       "22940              Hoy nasa venezuela na si samantha lo!  1571502931002   \n",
       "\n",
       "                                        user_description  \\\n",
       "22936                                               None   \n",
       "22937                                            SB19💕💕💕   \n",
       "22938  Adore my children. Love animals. Former Air Fo...   \n",
       "22939             BTS ARMY 💜 OT7 STAN | COOKY x KOOKIE 🐰   \n",
       "22940  1.Joshua Garcia (Ph) \\n2.Guo Junchen (Cn) \\n3....   \n",
       "\n",
       "               user_location  \n",
       "22936                   None  \n",
       "22937                   None  \n",
       "22938  Colo. (God's Country)  \n",
       "22939                  PH 🇵🇭  \n",
       "22940            Philippines  "
      ]
     },
     "execution_count": 822,
     "metadata": {},
     "output_type": "execute_result"
    }
   ],
   "source": [
    "k = 0\n",
    "for el in L:\n",
    "    try:\n",
    "        temp = pd.DataFrame([[el['text'], el['lang'], \n",
    "                              el['coordinates'], el['place'],\n",
    "                              el['timestamp_ms'], \n",
    "                              el['created_at'], el['user']['location'], \n",
    "                              el['user']['description'], \n",
    "                              el['user']['screen_name'],\n",
    "                              el\n",
    "                             ]\n",
    "                            ], \n",
    "\n",
    "                            columns=['text', 'lang', \n",
    "                                     'location', 'place',\n",
    "                                     'timestamp',\n",
    "                                     'created_at', 'user_location', \n",
    "                                     'user_description','screen_name', \n",
    "                                     'raw_data'])\n",
    "        df = df.append(temp, ignore_index=True, sort=True)\n",
    "    except:\n",
    "        pass\n",
    "df.tail()"
   ]
  },
  {
   "cell_type": "code",
   "execution_count": 814,
   "metadata": {},
   "outputs": [
    {
     "data": {
      "text/plain": [
       "(18998, 10)"
      ]
     },
     "execution_count": 814,
     "metadata": {},
     "output_type": "execute_result"
    }
   ],
   "source": [
    "df.shape"
   ]
  },
  {
   "cell_type": "markdown",
   "metadata": {},
   "source": [
    "### Let try to answer question (1): What is the sentiment of the conversation?"
   ]
  },
  {
   "cell_type": "code",
   "execution_count": 557,
   "metadata": {},
   "outputs": [],
   "source": [
    "def clean_tweet(tweet): \n",
    "    ''' \n",
    "    Utility function to clean tweet text by removing links, special characters \n",
    "    using simple regex statements. \n",
    "    '''\n",
    "    return ' '.join(re.sub(\"(@[A-Za-z0-9]+)|([^0-9A-Za-z \\t])|(\\w+:\\/\\/\\S+)\", \" \", tweet).split()) \n",
    "\n",
    "def get_tweet_sentiment(tweet): \n",
    "    ''' \n",
    "    Utility function to classify sentiment of passed tweet \n",
    "    using textblob's sentiment method \n",
    "    '''\n",
    "    # create TextBlob object of passed tweet text \n",
    "    analysis = TextBlob(clean_tweet(tweet)) \n",
    "    # set sentiment \n",
    "    return analysis.sentiment.polarity"
   ]
  },
  {
   "cell_type": "markdown",
   "metadata": {},
   "source": [
    "### Lets score the sentiment on our tweets"
   ]
  },
  {
   "cell_type": "code",
   "execution_count": 823,
   "metadata": {},
   "outputs": [],
   "source": [
    "df['sentiment'] = df.apply(lambda x: get_tweet_sentiment(x['text']), 1)"
   ]
  },
  {
   "cell_type": "code",
   "execution_count": 824,
   "metadata": {},
   "outputs": [],
   "source": [
    "# What is the average sentiment?"
   ]
  },
  {
   "cell_type": "code",
   "execution_count": 825,
   "metadata": {},
   "outputs": [
    {
     "data": {
      "text/plain": [
       "0.06016106545503288"
      ]
     },
     "execution_count": 825,
     "metadata": {},
     "output_type": "execute_result"
    }
   ],
   "source": [
    "df['sentiment'].mean()"
   ]
  },
  {
   "cell_type": "code",
   "execution_count": 826,
   "metadata": {},
   "outputs": [],
   "source": [
    "# What is the average sentiment of tweets containing the word 'nasa'"
   ]
  },
  {
   "cell_type": "code",
   "execution_count": 827,
   "metadata": {},
   "outputs": [
    {
     "data": {
      "text/plain": [
       "0.04851678575020321"
      ]
     },
     "execution_count": 827,
     "metadata": {},
     "output_type": "execute_result"
    }
   ],
   "source": [
    "df[df['text'].str.contains('nasa')]['sentiment'].mean()"
   ]
  },
  {
   "cell_type": "code",
   "execution_count": 828,
   "metadata": {},
   "outputs": [],
   "source": [
    "# What is the average sentiment of tweets containing 'spaceapps' or 'space app'"
   ]
  },
  {
   "cell_type": "code",
   "execution_count": 829,
   "metadata": {},
   "outputs": [
    {
     "data": {
      "text/plain": [
       "0.08495928674500104"
      ]
     },
     "execution_count": 829,
     "metadata": {},
     "output_type": "execute_result"
    }
   ],
   "source": [
    "df[(df['text'].str.contains('spaceapps')) | (df['text'].str.contains('space app'))]['sentiment'].mean()"
   ]
  },
  {
   "cell_type": "code",
   "execution_count": 830,
   "metadata": {},
   "outputs": [],
   "source": [
    "# Let's take a look at the ones containing 'spaceapps' or 'space app'"
   ]
  },
  {
   "cell_type": "code",
   "execution_count": 831,
   "metadata": {},
   "outputs": [
    {
     "data": {
      "text/html": [
       "<div>\n",
       "<style scoped>\n",
       "    .dataframe tbody tr th:only-of-type {\n",
       "        vertical-align: middle;\n",
       "    }\n",
       "\n",
       "    .dataframe tbody tr th {\n",
       "        vertical-align: top;\n",
       "    }\n",
       "\n",
       "    .dataframe thead th {\n",
       "        text-align: right;\n",
       "    }\n",
       "</style>\n",
       "<table border=\"1\" class=\"dataframe\">\n",
       "  <thead>\n",
       "    <tr style=\"text-align: right;\">\n",
       "      <th></th>\n",
       "      <th>created_at</th>\n",
       "      <th>lang</th>\n",
       "      <th>location</th>\n",
       "      <th>place</th>\n",
       "      <th>raw_data</th>\n",
       "      <th>screen_name</th>\n",
       "      <th>text</th>\n",
       "      <th>timestamp</th>\n",
       "      <th>user_description</th>\n",
       "      <th>user_location</th>\n",
       "      <th>sentiment</th>\n",
       "    </tr>\n",
       "  </thead>\n",
       "  <tbody>\n",
       "    <tr>\n",
       "      <th>339</th>\n",
       "      <td>Thu Oct 17 21:12:04 +0000 2019</td>\n",
       "      <td>en</td>\n",
       "      <td>None</td>\n",
       "      <td>None</td>\n",
       "      <td>{'created_at': 'Thu Oct 17 21:12:04 +0000 2019...</td>\n",
       "      <td>joespens</td>\n",
       "      <td>RT @spaceappsnyc: T-36 hours until the hacking...</td>\n",
       "      <td>1571346724610</td>\n",
       "      <td>executive director @spaceappsnyc • systems arc...</td>\n",
       "      <td>Harrison, NY</td>\n",
       "      <td>0.000000</td>\n",
       "    </tr>\n",
       "    <tr>\n",
       "      <th>1629</th>\n",
       "      <td>Thu Oct 17 23:19:50 +0000 2019</td>\n",
       "      <td>en</td>\n",
       "      <td>None</td>\n",
       "      <td>None</td>\n",
       "      <td>{'created_at': 'Thu Oct 17 23:19:50 +0000 2019...</td>\n",
       "      <td>sadukie</td>\n",
       "      <td>Tonight's goals - Carmen Sandiego with the kid...</td>\n",
       "      <td>1571354390592</td>\n",
       "      <td>Wife to an IT guy, Mom, Developer Technologies...</td>\n",
       "      <td>Northeast Ohio</td>\n",
       "      <td>0.200000</td>\n",
       "    </tr>\n",
       "    <tr>\n",
       "      <th>1813</th>\n",
       "      <td>Thu Oct 17 23:23:30 +0000 2019</td>\n",
       "      <td>en</td>\n",
       "      <td>None</td>\n",
       "      <td>{'id': '01a9a39529b27f36', 'url': 'https://api...</td>\n",
       "      <td>{'created_at': 'Thu Oct 17 23:23:30 +0000 2019...</td>\n",
       "      <td>nwhysel</td>\n",
       "      <td>I’m mentoring at NASA Space Apps NYC at the Ex...</td>\n",
       "      <td>1571354610530</td>\n",
       "      <td>Co-Chair #IAC20, COO @DecisionFish #bestforNYC...</td>\n",
       "      <td>New York, NY</td>\n",
       "      <td>0.000000</td>\n",
       "    </tr>\n",
       "    <tr>\n",
       "      <th>3306</th>\n",
       "      <td>Fri Oct 18 10:42:24 +0000 2019</td>\n",
       "      <td>en</td>\n",
       "      <td>None</td>\n",
       "      <td>None</td>\n",
       "      <td>{'created_at': 'Fri Oct 18 10:42:24 +0000 2019...</td>\n",
       "      <td>sos_jr</td>\n",
       "      <td>@sadukie @spaceappsCLE 🎶”Tonight is going to b...</td>\n",
       "      <td>1571395344669</td>\n",
       "      <td>Interests: https://t.co/ahHmS93CLo, Website De...</td>\n",
       "      <td>Cleveland, Ohio</td>\n",
       "      <td>0.700000</td>\n",
       "    </tr>\n",
       "    <tr>\n",
       "      <th>5485</th>\n",
       "      <td>Fri Oct 18 18:57:51 +0000 2019</td>\n",
       "      <td>en</td>\n",
       "      <td>None</td>\n",
       "      <td>None</td>\n",
       "      <td>{'created_at': 'Fri Oct 18 18:57:51 +0000 2019...</td>\n",
       "      <td>_DEVince</td>\n",
       "      <td>I took this  least y'all could do is tag me 😏\\...</td>\n",
       "      <td>1571425071825</td>\n",
       "      <td>CS  undergrad | Frontend webdeveloper | 🏀Balle...</td>\n",
       "      <td>None</td>\n",
       "      <td>0.100000</td>\n",
       "    </tr>\n",
       "    <tr>\n",
       "      <th>5938</th>\n",
       "      <td>Fri Oct 18 19:00:22 +0000 2019</td>\n",
       "      <td>en</td>\n",
       "      <td>None</td>\n",
       "      <td>None</td>\n",
       "      <td>{'created_at': 'Fri Oct 18 19:00:22 +0000 2019...</td>\n",
       "      <td>ColinJ_Keogh</td>\n",
       "      <td>Sending to outer space at @WeWork Charlemont E...</td>\n",
       "      <td>1571425222179</td>\n",
       "      <td>#Engineering,#3dprinting,#Innovation|CEO @rapi...</td>\n",
       "      <td>Dublin City, Ireland</td>\n",
       "      <td>0.000000</td>\n",
       "    </tr>\n",
       "    <tr>\n",
       "      <th>6145</th>\n",
       "      <td>Fri Oct 18 19:31:29 +0000 2019</td>\n",
       "      <td>en</td>\n",
       "      <td>None</td>\n",
       "      <td>None</td>\n",
       "      <td>{'created_at': 'Fri Oct 18 19:31:29 +0000 2019...</td>\n",
       "      <td>coderinheels</td>\n",
       "      <td>RT @PaulaLKennedy: Fantastic turnout for the @...</td>\n",
       "      <td>1571427089174</td>\n",
       "      <td>Founder @TECHKNOWDay | Ambassador #Google @Wom...</td>\n",
       "      <td>London</td>\n",
       "      <td>0.400000</td>\n",
       "    </tr>\n",
       "    <tr>\n",
       "      <th>6728</th>\n",
       "      <td>Fri Oct 18 19:34:29 +0000 2019</td>\n",
       "      <td>en</td>\n",
       "      <td>None</td>\n",
       "      <td>None</td>\n",
       "      <td>{'created_at': 'Fri Oct 18 19:34:29 +0000 2019...</td>\n",
       "      <td>codewithgideon</td>\n",
       "      <td>RT @emeka_boris: We are at @NASA @PHSpaceApps ...</td>\n",
       "      <td>1571427269486</td>\n",
       "      <td>AI Research + Community\\nBuilding @AI6ph</td>\n",
       "      <td>Port Harcourt, Nigeria</td>\n",
       "      <td>0.000000</td>\n",
       "    </tr>\n",
       "    <tr>\n",
       "      <th>6732</th>\n",
       "      <td>Fri Oct 18 19:34:31 +0000 2019</td>\n",
       "      <td>es</td>\n",
       "      <td>None</td>\n",
       "      <td>None</td>\n",
       "      <td>{'created_at': 'Fri Oct 18 19:34:31 +0000 2019...</td>\n",
       "      <td>Francisco_gmd</td>\n",
       "      <td>Ha sido un orgullo poder volver a dar la bienv...</td>\n",
       "      <td>1571427271434</td>\n",
       "      <td>What we do in life echoes in eternity. Talent&amp;...</td>\n",
       "      <td>Spain</td>\n",
       "      <td>0.000000</td>\n",
       "    </tr>\n",
       "    <tr>\n",
       "      <th>6857</th>\n",
       "      <td>Fri Oct 18 19:35:06 +0000 2019</td>\n",
       "      <td>es</td>\n",
       "      <td>None</td>\n",
       "      <td>None</td>\n",
       "      <td>{'created_at': 'Fri Oct 18 19:35:06 +0000 2019...</td>\n",
       "      <td>juanli995</td>\n",
       "      <td>RT @spaceappsalm: @juanli995 nos explica los 2...</td>\n",
       "      <td>1571427306450</td>\n",
       "      <td>Entrepreneur🚀&amp; Engineer🛠️ •\\nThailō Bags🌱🎒🇳🇵 •...</td>\n",
       "      <td>📍 Almería, Spain 🏖️🏜️</td>\n",
       "      <td>0.000000</td>\n",
       "    </tr>\n",
       "    <tr>\n",
       "      <th>6882</th>\n",
       "      <td>Fri Oct 18 19:35:11 +0000 2019</td>\n",
       "      <td>es</td>\n",
       "      <td>None</td>\n",
       "      <td>None</td>\n",
       "      <td>{'created_at': 'Fri Oct 18 19:35:11 +0000 2019...</td>\n",
       "      <td>USembassyMadrid</td>\n",
       "      <td>RT @Francisco_gmd: Ha sido un orgullo poder vo...</td>\n",
       "      <td>1571427311949</td>\n",
       "      <td>Embassy of the U.S. in Madrid. Embajada de EE....</td>\n",
       "      <td>Madrid</td>\n",
       "      <td>0.000000</td>\n",
       "    </tr>\n",
       "    <tr>\n",
       "      <th>7025</th>\n",
       "      <td>Fri Oct 18 19:35:55 +0000 2019</td>\n",
       "      <td>en</td>\n",
       "      <td>None</td>\n",
       "      <td>None</td>\n",
       "      <td>{'created_at': 'Fri Oct 18 19:35:55 +0000 2019...</td>\n",
       "      <td>propelland</td>\n",
       "      <td>RT @JGonTW: Full house for NASA #SpaceAppsMadr...</td>\n",
       "      <td>1571427355659</td>\n",
       "      <td>propelland is a global strategic design &amp; engi...</td>\n",
       "      <td>San Francisco, Madrid, Mexico</td>\n",
       "      <td>0.350000</td>\n",
       "    </tr>\n",
       "    <tr>\n",
       "      <th>7218</th>\n",
       "      <td>Fri Oct 18 19:36:59 +0000 2019</td>\n",
       "      <td>es</td>\n",
       "      <td>None</td>\n",
       "      <td>None</td>\n",
       "      <td>{'created_at': 'Fri Oct 18 19:36:59 +0000 2019...</td>\n",
       "      <td>propelland</td>\n",
       "      <td>RT @Francisco_gmd: Ha sido un orgullo poder vo...</td>\n",
       "      <td>1571427419877</td>\n",
       "      <td>propelland is a global strategic design &amp; engi...</td>\n",
       "      <td>San Francisco, Madrid, Mexico</td>\n",
       "      <td>0.000000</td>\n",
       "    </tr>\n",
       "    <tr>\n",
       "      <th>7666</th>\n",
       "      <td>Fri Oct 18 19:39:22 +0000 2019</td>\n",
       "      <td>en</td>\n",
       "      <td>None</td>\n",
       "      <td>None</td>\n",
       "      <td>{'created_at': 'Fri Oct 18 19:39:22 +0000 2019...</td>\n",
       "      <td>Yes2GlobalPeace</td>\n",
       "      <td>RT @SpaceAppsDublin: All-female spacewalk make...</td>\n",
       "      <td>1571427562524</td>\n",
       "      <td>\"Serve humanity through Science, technology an...</td>\n",
       "      <td>Worldwide</td>\n",
       "      <td>0.000000</td>\n",
       "    </tr>\n",
       "    <tr>\n",
       "      <th>8754</th>\n",
       "      <td>Fri Oct 18 21:49:43 +0000 2019</td>\n",
       "      <td>en</td>\n",
       "      <td>None</td>\n",
       "      <td>None</td>\n",
       "      <td>{'created_at': 'Fri Oct 18 21:49:43 +0000 2019...</td>\n",
       "      <td>SpaceAppsBA</td>\n",
       "      <td>RT @spaceappsnyc: RAISE YOUR HAND IF YOU'RE EX...</td>\n",
       "      <td>1571435383278</td>\n",
       "      <td>Vamos a diseñar soluciones innovadoras que res...</td>\n",
       "      <td>Ciudad Autónoma de Buenos Aire</td>\n",
       "      <td>0.437500</td>\n",
       "    </tr>\n",
       "    <tr>\n",
       "      <th>9754</th>\n",
       "      <td>Sat Oct 19 02:05:03 +0000 2019</td>\n",
       "      <td>en</td>\n",
       "      <td>None</td>\n",
       "      <td>None</td>\n",
       "      <td>{'created_at': 'Sat Oct 19 02:05:03 +0000 2019...</td>\n",
       "      <td>astro_bidushi</td>\n",
       "      <td>Singapore #NASA #spaceapps2019 underway!\\n#pad...</td>\n",
       "      <td>1571450703641</td>\n",
       "      <td>ex-NASA  scientist turned entrepreneur, with g...</td>\n",
       "      <td>Singapore</td>\n",
       "      <td>0.000000</td>\n",
       "    </tr>\n",
       "    <tr>\n",
       "      <th>10744</th>\n",
       "      <td>Sat Oct 19 10:23:59 +0000 2019</td>\n",
       "      <td>en</td>\n",
       "      <td>None</td>\n",
       "      <td>{'id': '01ded2e53f4eedb1', 'url': 'https://api...</td>\n",
       "      <td>{'created_at': 'Sat Oct 19 10:23:59 +0000 2019...</td>\n",
       "      <td>Ainyish</td>\n",
       "      <td>Its a privilege to be among some great and cre...</td>\n",
       "      <td>1571480639211</td>\n",
       "      <td>\"What she demanded of people is metanoia\" ✨, B...</td>\n",
       "      <td>Peshawar, Pakistan</td>\n",
       "      <td>0.650000</td>\n",
       "    </tr>\n",
       "    <tr>\n",
       "      <th>11145</th>\n",
       "      <td>Sat Oct 19 10:42:16 +0000 2019</td>\n",
       "      <td>es</td>\n",
       "      <td>None</td>\n",
       "      <td>None</td>\n",
       "      <td>{'created_at': 'Sat Oct 19 10:42:16 +0000 2019...</td>\n",
       "      <td>spaceappsalm</td>\n",
       "      <td>RT @RemediosFdez: Hoy, a las 17 horas desde @L...</td>\n",
       "      <td>1571481736222</td>\n",
       "      <td>Edición almeriense del Space Apps Challenge de...</td>\n",
       "      <td>None</td>\n",
       "      <td>0.000000</td>\n",
       "    </tr>\n",
       "    <tr>\n",
       "      <th>11409</th>\n",
       "      <td>Sat Oct 19 10:44:05 +0000 2019</td>\n",
       "      <td>es</td>\n",
       "      <td>None</td>\n",
       "      <td>{'id': '07d9f602a0086001', 'url': 'https://api...</td>\n",
       "      <td>{'created_at': 'Sat Oct 19 10:44:05 +0000 2019...</td>\n",
       "      <td>spaceapps_vlc</td>\n",
       "      <td>Comienza la charla de Luis Ruiz: Intento tras ...</td>\n",
       "      <td>1571481845786</td>\n",
       "      <td>Tu oportunidad de ayudar a construir solucione...</td>\n",
       "      <td>Valencia</td>\n",
       "      <td>0.000000</td>\n",
       "    </tr>\n",
       "    <tr>\n",
       "      <th>11707</th>\n",
       "      <td>Sat Oct 19 10:46:03 +0000 2019</td>\n",
       "      <td>es</td>\n",
       "      <td>None</td>\n",
       "      <td>None</td>\n",
       "      <td>{'created_at': 'Sat Oct 19 10:46:03 +0000 2019...</td>\n",
       "      <td>everis</td>\n",
       "      <td>Las tripulaciones del #spaceappschallenge ya s...</td>\n",
       "      <td>1571481963416</td>\n",
       "      <td>Cuenta global de everis, an NTT DATA Company. ...</td>\n",
       "      <td>Global</td>\n",
       "      <td>0.000000</td>\n",
       "    </tr>\n",
       "    <tr>\n",
       "      <th>11746</th>\n",
       "      <td>Sat Oct 19 10:46:16 +0000 2019</td>\n",
       "      <td>en</td>\n",
       "      <td>None</td>\n",
       "      <td>None</td>\n",
       "      <td>{'created_at': 'Sat Oct 19 10:46:16 +0000 2019...</td>\n",
       "      <td>spaceappsexeter</td>\n",
       "      <td>And we're off! Teams assembled, go go go! #spa...</td>\n",
       "      <td>1571481976528</td>\n",
       "      <td>NASA Space Apps Challenge, by TechExeter and t...</td>\n",
       "      <td>Met Office Exeter</td>\n",
       "      <td>0.000000</td>\n",
       "    </tr>\n",
       "    <tr>\n",
       "      <th>12016</th>\n",
       "      <td>Sat Oct 19 12:43:27 +0000 2019</td>\n",
       "      <td>es</td>\n",
       "      <td>None</td>\n",
       "      <td>None</td>\n",
       "      <td>{'created_at': 'Sat Oct 19 12:43:27 +0000 2019...</td>\n",
       "      <td>rauljuanes</td>\n",
       "      <td>RT @everis: Las tripulaciones del #spaceappsch...</td>\n",
       "      <td>1571489007439</td>\n",
       "      <td>Head of Public Sector @everis Levante: Consult...</td>\n",
       "      <td>Valencia, Comunidad Valenciana</td>\n",
       "      <td>0.000000</td>\n",
       "    </tr>\n",
       "    <tr>\n",
       "      <th>12019</th>\n",
       "      <td>Sat Oct 19 12:43:28 +0000 2019</td>\n",
       "      <td>pt</td>\n",
       "      <td>None</td>\n",
       "      <td>None</td>\n",
       "      <td>{'created_at': 'Sat Oct 19 12:43:28 +0000 2019...</td>\n",
       "      <td>kadtok</td>\n",
       "      <td>As mina pa.\\n.\\n#nasaspaceapps #spaceappschall...</td>\n",
       "      <td>1571489008135</td>\n",
       "      <td>Desenhista, designer, blogueira, bruxa e como ...</td>\n",
       "      <td>Terra do chuvisco</td>\n",
       "      <td>0.000000</td>\n",
       "    </tr>\n",
       "    <tr>\n",
       "      <th>12144</th>\n",
       "      <td>Sat Oct 19 12:44:18 +0000 2019</td>\n",
       "      <td>en</td>\n",
       "      <td>None</td>\n",
       "      <td>None</td>\n",
       "      <td>{'created_at': 'Sat Oct 19 12:44:18 +0000 2019...</td>\n",
       "      <td>MariaSitumbeko</td>\n",
       "      <td>RT @Big_Zude: Building time! @alushaks @SpaceA...</td>\n",
       "      <td>1571489058488</td>\n",
       "      <td>JavaScript Enthusiast\\nFC Barcelona Fanatic\\nP...</td>\n",
       "      <td>None</td>\n",
       "      <td>0.000000</td>\n",
       "    </tr>\n",
       "    <tr>\n",
       "      <th>12346</th>\n",
       "      <td>Sat Oct 19 12:45:24 +0000 2019</td>\n",
       "      <td>en</td>\n",
       "      <td>None</td>\n",
       "      <td>None</td>\n",
       "      <td>{'created_at': 'Sat Oct 19 12:45:24 +0000 2019...</td>\n",
       "      <td>spaceappsexeter</td>\n",
       "      <td>Food time this morning at #spaceappsexeter hos...</td>\n",
       "      <td>1571489124759</td>\n",
       "      <td>NASA Space Apps Challenge, by TechExeter and t...</td>\n",
       "      <td>Met Office Exeter</td>\n",
       "      <td>0.000000</td>\n",
       "    </tr>\n",
       "    <tr>\n",
       "      <th>12594</th>\n",
       "      <td>Sat Oct 19 12:46:53 +0000 2019</td>\n",
       "      <td>ca</td>\n",
       "      <td>{'type': 'Point', 'coordinates': [-0.33815361,...</td>\n",
       "      <td>{'id': '071a52d3a927a1b8', 'url': 'https://api...</td>\n",
       "      <td>{'created_at': 'Sat Oct 19 12:46:53 +0000 2019...</td>\n",
       "      <td>luisruizpa</td>\n",
       "      <td>#spaceapps2019  #spaceapps #spaceappsnasa en P...</td>\n",
       "      <td>1571489213429</td>\n",
       "      <td>Software Developer. There's nothing wrong with...</td>\n",
       "      <td>La Pobla de Farnals, España</td>\n",
       "      <td>0.000000</td>\n",
       "    </tr>\n",
       "    <tr>\n",
       "      <th>12714</th>\n",
       "      <td>Sat Oct 19 12:47:33 +0000 2019</td>\n",
       "      <td>und</td>\n",
       "      <td>None</td>\n",
       "      <td>None</td>\n",
       "      <td>{'created_at': 'Sat Oct 19 12:47:33 +0000 2019...</td>\n",
       "      <td>kamilah_santos</td>\n",
       "      <td>@spaceappssp #SpaceApps #SpaceAppsSP https://t...</td>\n",
       "      <td>1571489253637</td>\n",
       "      <td>Developer at @brqdigital\\ncommunity co-organiz...</td>\n",
       "      <td>Taboão da Serra, Brasil</td>\n",
       "      <td>0.000000</td>\n",
       "    </tr>\n",
       "    <tr>\n",
       "      <th>12784</th>\n",
       "      <td>Sat Oct 19 12:48:00 +0000 2019</td>\n",
       "      <td>pt</td>\n",
       "      <td>None</td>\n",
       "      <td>None</td>\n",
       "      <td>{'created_at': 'Sat Oct 19 12:48:00 +0000 2019...</td>\n",
       "      <td>denulIepart</td>\n",
       "      <td>@youhitmeonce tu tá no space apps bb?</td>\n",
       "      <td>1571489280303</td>\n",
       "      <td>atualizações ao vivo das minhas várias tentati...</td>\n",
       "      <td>Curitiba, Brasil</td>\n",
       "      <td>0.000000</td>\n",
       "    </tr>\n",
       "    <tr>\n",
       "      <th>12843</th>\n",
       "      <td>Sat Oct 19 12:48:21 +0000 2019</td>\n",
       "      <td>es</td>\n",
       "      <td>None</td>\n",
       "      <td>None</td>\n",
       "      <td>{'created_at': 'Sat Oct 19 12:48:21 +0000 2019...</td>\n",
       "      <td>LokiGameDev</td>\n",
       "      <td>RT @SpaceAppSVQ: Nuestro participante @LokiGam...</td>\n",
       "      <td>1571489301394</td>\n",
       "      <td>Game Dev with Unity. Programmer. C, C# and Jav...</td>\n",
       "      <td>Sevilla, España</td>\n",
       "      <td>0.000000</td>\n",
       "    </tr>\n",
       "    <tr>\n",
       "      <th>12865</th>\n",
       "      <td>Sat Oct 19 12:48:27 +0000 2019</td>\n",
       "      <td>en</td>\n",
       "      <td>None</td>\n",
       "      <td>None</td>\n",
       "      <td>{'created_at': 'Sat Oct 19 12:48:27 +0000 2019...</td>\n",
       "      <td>alteredeye</td>\n",
       "      <td>RT @elena_sinel: Phenomenal #designthinking wo...</td>\n",
       "      <td>1571489307352</td>\n",
       "      <td>Experience designer, thinker, problem solver, ...</td>\n",
       "      <td>London, England</td>\n",
       "      <td>0.500000</td>\n",
       "    </tr>\n",
       "    <tr>\n",
       "      <th>...</th>\n",
       "      <td>...</td>\n",
       "      <td>...</td>\n",
       "      <td>...</td>\n",
       "      <td>...</td>\n",
       "      <td>...</td>\n",
       "      <td>...</td>\n",
       "      <td>...</td>\n",
       "      <td>...</td>\n",
       "      <td>...</td>\n",
       "      <td>...</td>\n",
       "      <td>...</td>\n",
       "    </tr>\n",
       "    <tr>\n",
       "      <th>14191</th>\n",
       "      <td>Sat Oct 19 13:50:11 +0000 2019</td>\n",
       "      <td>es</td>\n",
       "      <td>None</td>\n",
       "      <td>None</td>\n",
       "      <td>{'created_at': 'Sat Oct 19 13:50:11 +0000 2019...</td>\n",
       "      <td>spaceappsZgz</td>\n",
       "      <td>RT @Hiberus: Un año más colaboramos con @space...</td>\n",
       "      <td>1571493011732</td>\n",
       "      <td>Somos una comunidad nacida para APRENDER resol...</td>\n",
       "      <td>Zaragoza</td>\n",
       "      <td>0.000000</td>\n",
       "    </tr>\n",
       "    <tr>\n",
       "      <th>14242</th>\n",
       "      <td>Sat Oct 19 13:50:31 +0000 2019</td>\n",
       "      <td>en</td>\n",
       "      <td>None</td>\n",
       "      <td>None</td>\n",
       "      <td>{'created_at': 'Sat Oct 19 13:50:31 +0000 2019...</td>\n",
       "      <td>trevsharp</td>\n",
       "      <td>#spaceapps Looking at Infrared energy for the ...</td>\n",
       "      <td>1571493031663</td>\n",
       "      <td>I like making things. I like fixing things. I ...</td>\n",
       "      <td>None</td>\n",
       "      <td>0.000000</td>\n",
       "    </tr>\n",
       "    <tr>\n",
       "      <th>14746</th>\n",
       "      <td>Sat Oct 19 13:53:16 +0000 2019</td>\n",
       "      <td>en</td>\n",
       "      <td>None</td>\n",
       "      <td>None</td>\n",
       "      <td>{'created_at': 'Sat Oct 19 13:53:16 +0000 2019...</td>\n",
       "      <td>UnicodeUnicorns</td>\n",
       "      <td>RT @spaceappsnyc: The @BushXGenerator is open!...</td>\n",
       "      <td>1571493196663</td>\n",
       "      <td>Grab life by the horn.</td>\n",
       "      <td>Manhattan, NY</td>\n",
       "      <td>0.000000</td>\n",
       "    </tr>\n",
       "    <tr>\n",
       "      <th>15149</th>\n",
       "      <td>Sat Oct 19 14:38:49 +0000 2019</td>\n",
       "      <td>ja</td>\n",
       "      <td>None</td>\n",
       "      <td>None</td>\n",
       "      <td>{'created_at': 'Sat Oct 19 14:38:49 +0000 2019...</td>\n",
       "      <td>yumu19</td>\n",
       "      <td>RT @SpaceAppsTyhs: シャトルに祈りを捧げる人々\\n#SpaceApps \\...</td>\n",
       "      <td>1571495929858</td>\n",
       "      <td>石川在住の情報科学研究者。情報通信研究機構(NICT)北陸StarBED技術センター研究員／...</td>\n",
       "      <td>石川 能美市</td>\n",
       "      <td>0.000000</td>\n",
       "    </tr>\n",
       "    <tr>\n",
       "      <th>15168</th>\n",
       "      <td>Sat Oct 19 14:38:54 +0000 2019</td>\n",
       "      <td>ja</td>\n",
       "      <td>None</td>\n",
       "      <td>None</td>\n",
       "      <td>{'created_at': 'Sat Oct 19 14:38:54 +0000 2019...</td>\n",
       "      <td>yumu19</td>\n",
       "      <td>RT @crispytaffy: 天体観測🌌\\n#spaceapps #spaceappsU...</td>\n",
       "      <td>1571495934434</td>\n",
       "      <td>石川在住の情報科学研究者。情報通信研究機構(NICT)北陸StarBED技術センター研究員／...</td>\n",
       "      <td>石川 能美市</td>\n",
       "      <td>0.000000</td>\n",
       "    </tr>\n",
       "    <tr>\n",
       "      <th>15186</th>\n",
       "      <td>Sat Oct 19 14:38:59 +0000 2019</td>\n",
       "      <td>ja</td>\n",
       "      <td>None</td>\n",
       "      <td>None</td>\n",
       "      <td>{'created_at': 'Sat Oct 19 14:38:59 +0000 2019...</td>\n",
       "      <td>yumu19</td>\n",
       "      <td>RT @crispytaffy: 想像していたよりキレイに混ざってる。\\n#spaceapp...</td>\n",
       "      <td>1571495939716</td>\n",
       "      <td>石川在住の情報科学研究者。情報通信研究機構(NICT)北陸StarBED技術センター研究員／...</td>\n",
       "      <td>石川 能美市</td>\n",
       "      <td>0.000000</td>\n",
       "    </tr>\n",
       "    <tr>\n",
       "      <th>15266</th>\n",
       "      <td>Sat Oct 19 14:39:20 +0000 2019</td>\n",
       "      <td>ja</td>\n",
       "      <td>None</td>\n",
       "      <td>None</td>\n",
       "      <td>{'created_at': 'Sat Oct 19 14:39:20 +0000 2019...</td>\n",
       "      <td>yumu19</td>\n",
       "      <td>RT @crispytaffy: Perfect venue!!!\\nプラネタリウムの中にも...</td>\n",
       "      <td>1571495960908</td>\n",
       "      <td>石川在住の情報科学研究者。情報通信研究機構(NICT)北陸StarBED技術センター研究員／...</td>\n",
       "      <td>石川 能美市</td>\n",
       "      <td>1.000000</td>\n",
       "    </tr>\n",
       "    <tr>\n",
       "      <th>15589</th>\n",
       "      <td>Sat Oct 19 14:40:58 +0000 2019</td>\n",
       "      <td>ja</td>\n",
       "      <td>None</td>\n",
       "      <td>None</td>\n",
       "      <td>{'created_at': 'Sat Oct 19 14:40:58 +0000 2019...</td>\n",
       "      <td>yumu19</td>\n",
       "      <td>RT @spaceappsosaka: #NASA #spaceappsosaka\\nダイジ...</td>\n",
       "      <td>1571496058816</td>\n",
       "      <td>石川在住の情報科学研究者。情報通信研究機構(NICT)北陸StarBED技術センター研究員／...</td>\n",
       "      <td>石川 能美市</td>\n",
       "      <td>0.000000</td>\n",
       "    </tr>\n",
       "    <tr>\n",
       "      <th>16490</th>\n",
       "      <td>Sat Oct 19 15:07:17 +0000 2019</td>\n",
       "      <td>ca</td>\n",
       "      <td>None</td>\n",
       "      <td>None</td>\n",
       "      <td>{'created_at': 'Sat Oct 19 15:07:17 +0000 2019...</td>\n",
       "      <td>luisruizpa</td>\n",
       "      <td>RT @carlosgaliana: Hui estem a @LasNavesINN pa...</td>\n",
       "      <td>1571497637987</td>\n",
       "      <td>Software Developer. There's nothing wrong with...</td>\n",
       "      <td>La Pobla de Farnals, España</td>\n",
       "      <td>0.000000</td>\n",
       "    </tr>\n",
       "    <tr>\n",
       "      <th>16553</th>\n",
       "      <td>Sat Oct 19 15:07:39 +0000 2019</td>\n",
       "      <td>es</td>\n",
       "      <td>None</td>\n",
       "      <td>None</td>\n",
       "      <td>{'created_at': 'Sat Oct 19 15:07:39 +0000 2019...</td>\n",
       "      <td>luisruizpa</td>\n",
       "      <td>RT @spaceapps_vlc: Comienza la charla de Luis ...</td>\n",
       "      <td>1571497659322</td>\n",
       "      <td>Software Developer. There's nothing wrong with...</td>\n",
       "      <td>La Pobla de Farnals, España</td>\n",
       "      <td>0.000000</td>\n",
       "    </tr>\n",
       "    <tr>\n",
       "      <th>16995</th>\n",
       "      <td>Sat Oct 19 15:10:05 +0000 2019</td>\n",
       "      <td>en</td>\n",
       "      <td>None</td>\n",
       "      <td>None</td>\n",
       "      <td>{'created_at': 'Sat Oct 19 15:10:05 +0000 2019...</td>\n",
       "      <td>carobrunatti</td>\n",
       "      <td>We launched SpaceApps Buenos Aires @SpaceAppsB...</td>\n",
       "      <td>1571497805775</td>\n",
       "      <td>Participación y presupuesto participativo para...</td>\n",
       "      <td>Buenos Aires, Argentina</td>\n",
       "      <td>0.000000</td>\n",
       "    </tr>\n",
       "    <tr>\n",
       "      <th>17041</th>\n",
       "      <td>Sat Oct 19 15:10:21 +0000 2019</td>\n",
       "      <td>es</td>\n",
       "      <td>None</td>\n",
       "      <td>None</td>\n",
       "      <td>{'created_at': 'Sat Oct 19 15:10:21 +0000 2019...</td>\n",
       "      <td>micheladaio</td>\n",
       "      <td>RT @_spaceexplorers: Nuestros amigos de @miche...</td>\n",
       "      <td>1571497821838</td>\n",
       "      <td>Spicing it up since '15. #Rails, iOS, #Ruby, a...</td>\n",
       "      <td>None</td>\n",
       "      <td>0.000000</td>\n",
       "    </tr>\n",
       "    <tr>\n",
       "      <th>18329</th>\n",
       "      <td>Sat Oct 19 15:17:09 +0000 2019</td>\n",
       "      <td>en</td>\n",
       "      <td>None</td>\n",
       "      <td>None</td>\n",
       "      <td>{'created_at': 'Sat Oct 19 15:17:09 +0000 2019...</td>\n",
       "      <td>trevsharp</td>\n",
       "      <td>#spaceapps Sticker haul https://t.co/Yye9mEE9GL</td>\n",
       "      <td>1571498229138</td>\n",
       "      <td>I like making things. I like fixing things. I ...</td>\n",
       "      <td>None</td>\n",
       "      <td>0.000000</td>\n",
       "    </tr>\n",
       "    <tr>\n",
       "      <th>18590</th>\n",
       "      <td>Sat Oct 19 15:18:31 +0000 2019</td>\n",
       "      <td>en</td>\n",
       "      <td>None</td>\n",
       "      <td>None</td>\n",
       "      <td>{'created_at': 'Sat Oct 19 15:18:31 +0000 2019...</td>\n",
       "      <td>sos_jr</td>\n",
       "      <td>RT @tkunsman: A youth fan of @NASA_GVIS checki...</td>\n",
       "      <td>1571498311762</td>\n",
       "      <td>Interests: https://t.co/ahHmS93CLo, Website De...</td>\n",
       "      <td>Cleveland, Ohio</td>\n",
       "      <td>0.000000</td>\n",
       "    </tr>\n",
       "    <tr>\n",
       "      <th>19009</th>\n",
       "      <td>Sat Oct 19 15:37:51 +0000 2019</td>\n",
       "      <td>en</td>\n",
       "      <td>None</td>\n",
       "      <td>None</td>\n",
       "      <td>{'created_at': 'Sat Oct 19 15:37:51 +0000 2019...</td>\n",
       "      <td>MdAbdur89291105</td>\n",
       "      <td>My team on NASA spaceapps challenge \\n#nasa_sp...</td>\n",
       "      <td>1571499471621</td>\n",
       "      <td>Simplicity makes me special. Black and white i...</td>\n",
       "      <td>None</td>\n",
       "      <td>0.000000</td>\n",
       "    </tr>\n",
       "    <tr>\n",
       "      <th>19177</th>\n",
       "      <td>Sat Oct 19 15:38:40 +0000 2019</td>\n",
       "      <td>en</td>\n",
       "      <td>None</td>\n",
       "      <td>None</td>\n",
       "      <td>{'created_at': 'Sat Oct 19 15:38:40 +0000 2019...</td>\n",
       "      <td>coderinheels</td>\n",
       "      <td>RT @spaceappslondon: Hacking continues at 🚀 NA...</td>\n",
       "      <td>1571499520448</td>\n",
       "      <td>Founder @TECHKNOWDay | Ambassador #Google @Wom...</td>\n",
       "      <td>London</td>\n",
       "      <td>-0.050000</td>\n",
       "    </tr>\n",
       "    <tr>\n",
       "      <th>19211</th>\n",
       "      <td>Sat Oct 19 15:38:53 +0000 2019</td>\n",
       "      <td>en</td>\n",
       "      <td>None</td>\n",
       "      <td>None</td>\n",
       "      <td>{'created_at': 'Sat Oct 19 15:38:53 +0000 2019...</td>\n",
       "      <td>_TeDiouS_</td>\n",
       "      <td>RT @spaceappsnyc: The @BushXGenerator is open!...</td>\n",
       "      <td>1571499533386</td>\n",
       "      <td>Enabler</td>\n",
       "      <td>San Diego!</td>\n",
       "      <td>0.000000</td>\n",
       "    </tr>\n",
       "    <tr>\n",
       "      <th>19395</th>\n",
       "      <td>Sat Oct 19 15:40:01 +0000 2019</td>\n",
       "      <td>es</td>\n",
       "      <td>None</td>\n",
       "      <td>None</td>\n",
       "      <td>{'created_at': 'Sat Oct 19 15:40:01 +0000 2019...</td>\n",
       "      <td>NegroRoizen</td>\n",
       "      <td>RT @spaceappsmvd: ¡Comienza #SpaceAppsMVD! Ya ...</td>\n",
       "      <td>1571499601746</td>\n",
       "      <td>Padre, educador, uruguayo. Director liceo en @...</td>\n",
       "      <td>Montevideo, Uruguay</td>\n",
       "      <td>0.000000</td>\n",
       "    </tr>\n",
       "    <tr>\n",
       "      <th>20090</th>\n",
       "      <td>Sat Oct 19 15:44:11 +0000 2019</td>\n",
       "      <td>es</td>\n",
       "      <td>None</td>\n",
       "      <td>None</td>\n",
       "      <td>{'created_at': 'Sat Oct 19 15:44:11 +0000 2019...</td>\n",
       "      <td>outecran</td>\n",
       "      <td>RT @LaJaqueria: Explicando los retos seleccion...</td>\n",
       "      <td>1571499851599</td>\n",
       "      <td>None</td>\n",
       "      <td>None</td>\n",
       "      <td>0.000000</td>\n",
       "    </tr>\n",
       "    <tr>\n",
       "      <th>20847</th>\n",
       "      <td>Sat Oct 19 15:48:30 +0000 2019</td>\n",
       "      <td>und</td>\n",
       "      <td>None</td>\n",
       "      <td>None</td>\n",
       "      <td>{'created_at': 'Sat Oct 19 15:48:30 +0000 2019...</td>\n",
       "      <td>AmandaMaruny</td>\n",
       "      <td>RT @QuiqueChin: #spaceappschallenge 🚀 @SpaceAp...</td>\n",
       "      <td>1571500110351</td>\n",
       "      <td>23. 🚺 🐕 🎶\\n\\nWords travel worlds. Translators ...</td>\n",
       "      <td>Sevilla, España</td>\n",
       "      <td>0.000000</td>\n",
       "    </tr>\n",
       "    <tr>\n",
       "      <th>21829</th>\n",
       "      <td>Sat Oct 19 15:54:21 +0000 2019</td>\n",
       "      <td>es</td>\n",
       "      <td>None</td>\n",
       "      <td>None</td>\n",
       "      <td>{'created_at': 'Sat Oct 19 15:54:21 +0000 2019...</td>\n",
       "      <td>everis</td>\n",
       "      <td>Ha sido un día intenso para los participantes ...</td>\n",
       "      <td>1571500461441</td>\n",
       "      <td>Cuenta global de everis, an NTT DATA Company. ...</td>\n",
       "      <td>Global</td>\n",
       "      <td>0.000000</td>\n",
       "    </tr>\n",
       "    <tr>\n",
       "      <th>21903</th>\n",
       "      <td>Sat Oct 19 15:54:50 +0000 2019</td>\n",
       "      <td>en</td>\n",
       "      <td>None</td>\n",
       "      <td>None</td>\n",
       "      <td>{'created_at': 'Sat Oct 19 15:54:50 +0000 2019...</td>\n",
       "      <td>merinerasauce</td>\n",
       "      <td>One year I’ll have time and friends to do NASA...</td>\n",
       "      <td>1571500490085</td>\n",
       "      <td>goblin brain says click clack dice and rocks</td>\n",
       "      <td>None</td>\n",
       "      <td>0.000000</td>\n",
       "    </tr>\n",
       "    <tr>\n",
       "      <th>21971</th>\n",
       "      <td>Sat Oct 19 15:55:10 +0000 2019</td>\n",
       "      <td>es</td>\n",
       "      <td>None</td>\n",
       "      <td>None</td>\n",
       "      <td>{'created_at': 'Sat Oct 19 15:55:10 +0000 2019...</td>\n",
       "      <td>ilingo1</td>\n",
       "      <td>#spaceapps @SpaceAppsBA Esta mañana, durante l...</td>\n",
       "      <td>1571500510802</td>\n",
       "      <td>None</td>\n",
       "      <td>None</td>\n",
       "      <td>0.000000</td>\n",
       "    </tr>\n",
       "    <tr>\n",
       "      <th>22058</th>\n",
       "      <td>Sat Oct 19 16:30:14 +0000 2019</td>\n",
       "      <td>en</td>\n",
       "      <td>None</td>\n",
       "      <td>None</td>\n",
       "      <td>{'created_at': 'Sat Oct 19 16:30:14 +0000 2019...</td>\n",
       "      <td>tkunsman</td>\n",
       "      <td>Live tweeting @spaceappsCLE #SpaceAppsCLE @NAS...</td>\n",
       "      <td>1571502614483</td>\n",
       "      <td>Interested in space, #Revit #BIM #MSL #Stateof...</td>\n",
       "      <td>Cleveland, OH</td>\n",
       "      <td>0.136364</td>\n",
       "    </tr>\n",
       "    <tr>\n",
       "      <th>22072</th>\n",
       "      <td>Sat Oct 19 16:30:22 +0000 2019</td>\n",
       "      <td>en</td>\n",
       "      <td>None</td>\n",
       "      <td>None</td>\n",
       "      <td>{'created_at': 'Sat Oct 19 16:30:22 +0000 2019...</td>\n",
       "      <td>sos_jr</td>\n",
       "      <td>RT @tkunsman: Our special Saturday key note @s...</td>\n",
       "      <td>1571502622621</td>\n",
       "      <td>Interests: https://t.co/ahHmS93CLo, Website De...</td>\n",
       "      <td>Cleveland, Ohio</td>\n",
       "      <td>0.178571</td>\n",
       "    </tr>\n",
       "    <tr>\n",
       "      <th>22078</th>\n",
       "      <td>Sat Oct 19 16:30:25 +0000 2019</td>\n",
       "      <td>en</td>\n",
       "      <td>None</td>\n",
       "      <td>None</td>\n",
       "      <td>{'created_at': 'Sat Oct 19 16:30:25 +0000 2019...</td>\n",
       "      <td>sos_jr</td>\n",
       "      <td>RT @labboopanda: Davia is trying out AR of Mar...</td>\n",
       "      <td>1571502625207</td>\n",
       "      <td>Interests: https://t.co/ahHmS93CLo, Website De...</td>\n",
       "      <td>Cleveland, Ohio</td>\n",
       "      <td>0.000000</td>\n",
       "    </tr>\n",
       "    <tr>\n",
       "      <th>22357</th>\n",
       "      <td>Sat Oct 19 16:32:03 +0000 2019</td>\n",
       "      <td>en</td>\n",
       "      <td>None</td>\n",
       "      <td>None</td>\n",
       "      <td>{'created_at': 'Sat Oct 19 16:32:03 +0000 2019...</td>\n",
       "      <td>glennlibrary</td>\n",
       "      <td>@spaceappsCLE @SpaceApps @NASAglenn Excited to...</td>\n",
       "      <td>1571502723257</td>\n",
       "      <td>NASA Glenn Research Center's house of informat...</td>\n",
       "      <td>Cleveland, OH</td>\n",
       "      <td>0.375000</td>\n",
       "    </tr>\n",
       "    <tr>\n",
       "      <th>22778</th>\n",
       "      <td>Sat Oct 19 16:34:34 +0000 2019</td>\n",
       "      <td>en</td>\n",
       "      <td>None</td>\n",
       "      <td>None</td>\n",
       "      <td>{'created_at': 'Sat Oct 19 16:34:34 +0000 2019...</td>\n",
       "      <td>thinker_habeeb</td>\n",
       "      <td>RT @spaceappshur: Did someone say pizza? 🍕 we’...</td>\n",
       "      <td>1571502874682</td>\n",
       "      <td>Whatever their circumstances, people still had...</td>\n",
       "      <td>None</td>\n",
       "      <td>0.000000</td>\n",
       "    </tr>\n",
       "    <tr>\n",
       "      <th>22902</th>\n",
       "      <td>Sat Oct 19 16:35:15 +0000 2019</td>\n",
       "      <td>en</td>\n",
       "      <td>None</td>\n",
       "      <td>None</td>\n",
       "      <td>{'created_at': 'Sat Oct 19 16:35:15 +0000 2019...</td>\n",
       "      <td>tkunsman</td>\n",
       "      <td>RT @glennlibrary: @spaceappsCLE @SpaceApps @NA...</td>\n",
       "      <td>1571502915884</td>\n",
       "      <td>Interested in space, #Revit #BIM #MSL #Stateof...</td>\n",
       "      <td>Cleveland, OH</td>\n",
       "      <td>0.375000</td>\n",
       "    </tr>\n",
       "    <tr>\n",
       "      <th>22916</th>\n",
       "      <td>Sat Oct 19 16:35:21 +0000 2019</td>\n",
       "      <td>en</td>\n",
       "      <td>None</td>\n",
       "      <td>{'id': '07d9ecca0b880004', 'url': 'https://api...</td>\n",
       "      <td>{'created_at': 'Sat Oct 19 16:35:21 +0000 2019...</td>\n",
       "      <td>sos_jr</td>\n",
       "      <td>Talk at @spaceappsCLE by Nelson Colon Vargas. ...</td>\n",
       "      <td>1571502921780</td>\n",
       "      <td>Interests: https://t.co/ahHmS93CLo, Website De...</td>\n",
       "      <td>Cleveland, Ohio</td>\n",
       "      <td>0.000000</td>\n",
       "    </tr>\n",
       "  </tbody>\n",
       "</table>\n",
       "<p>63 rows × 11 columns</p>\n",
       "</div>"
      ],
      "text/plain": [
       "                           created_at lang  \\\n",
       "339    Thu Oct 17 21:12:04 +0000 2019   en   \n",
       "1629   Thu Oct 17 23:19:50 +0000 2019   en   \n",
       "1813   Thu Oct 17 23:23:30 +0000 2019   en   \n",
       "3306   Fri Oct 18 10:42:24 +0000 2019   en   \n",
       "5485   Fri Oct 18 18:57:51 +0000 2019   en   \n",
       "5938   Fri Oct 18 19:00:22 +0000 2019   en   \n",
       "6145   Fri Oct 18 19:31:29 +0000 2019   en   \n",
       "6728   Fri Oct 18 19:34:29 +0000 2019   en   \n",
       "6732   Fri Oct 18 19:34:31 +0000 2019   es   \n",
       "6857   Fri Oct 18 19:35:06 +0000 2019   es   \n",
       "6882   Fri Oct 18 19:35:11 +0000 2019   es   \n",
       "7025   Fri Oct 18 19:35:55 +0000 2019   en   \n",
       "7218   Fri Oct 18 19:36:59 +0000 2019   es   \n",
       "7666   Fri Oct 18 19:39:22 +0000 2019   en   \n",
       "8754   Fri Oct 18 21:49:43 +0000 2019   en   \n",
       "9754   Sat Oct 19 02:05:03 +0000 2019   en   \n",
       "10744  Sat Oct 19 10:23:59 +0000 2019   en   \n",
       "11145  Sat Oct 19 10:42:16 +0000 2019   es   \n",
       "11409  Sat Oct 19 10:44:05 +0000 2019   es   \n",
       "11707  Sat Oct 19 10:46:03 +0000 2019   es   \n",
       "11746  Sat Oct 19 10:46:16 +0000 2019   en   \n",
       "12016  Sat Oct 19 12:43:27 +0000 2019   es   \n",
       "12019  Sat Oct 19 12:43:28 +0000 2019   pt   \n",
       "12144  Sat Oct 19 12:44:18 +0000 2019   en   \n",
       "12346  Sat Oct 19 12:45:24 +0000 2019   en   \n",
       "12594  Sat Oct 19 12:46:53 +0000 2019   ca   \n",
       "12714  Sat Oct 19 12:47:33 +0000 2019  und   \n",
       "12784  Sat Oct 19 12:48:00 +0000 2019   pt   \n",
       "12843  Sat Oct 19 12:48:21 +0000 2019   es   \n",
       "12865  Sat Oct 19 12:48:27 +0000 2019   en   \n",
       "...                               ...  ...   \n",
       "14191  Sat Oct 19 13:50:11 +0000 2019   es   \n",
       "14242  Sat Oct 19 13:50:31 +0000 2019   en   \n",
       "14746  Sat Oct 19 13:53:16 +0000 2019   en   \n",
       "15149  Sat Oct 19 14:38:49 +0000 2019   ja   \n",
       "15168  Sat Oct 19 14:38:54 +0000 2019   ja   \n",
       "15186  Sat Oct 19 14:38:59 +0000 2019   ja   \n",
       "15266  Sat Oct 19 14:39:20 +0000 2019   ja   \n",
       "15589  Sat Oct 19 14:40:58 +0000 2019   ja   \n",
       "16490  Sat Oct 19 15:07:17 +0000 2019   ca   \n",
       "16553  Sat Oct 19 15:07:39 +0000 2019   es   \n",
       "16995  Sat Oct 19 15:10:05 +0000 2019   en   \n",
       "17041  Sat Oct 19 15:10:21 +0000 2019   es   \n",
       "18329  Sat Oct 19 15:17:09 +0000 2019   en   \n",
       "18590  Sat Oct 19 15:18:31 +0000 2019   en   \n",
       "19009  Sat Oct 19 15:37:51 +0000 2019   en   \n",
       "19177  Sat Oct 19 15:38:40 +0000 2019   en   \n",
       "19211  Sat Oct 19 15:38:53 +0000 2019   en   \n",
       "19395  Sat Oct 19 15:40:01 +0000 2019   es   \n",
       "20090  Sat Oct 19 15:44:11 +0000 2019   es   \n",
       "20847  Sat Oct 19 15:48:30 +0000 2019  und   \n",
       "21829  Sat Oct 19 15:54:21 +0000 2019   es   \n",
       "21903  Sat Oct 19 15:54:50 +0000 2019   en   \n",
       "21971  Sat Oct 19 15:55:10 +0000 2019   es   \n",
       "22058  Sat Oct 19 16:30:14 +0000 2019   en   \n",
       "22072  Sat Oct 19 16:30:22 +0000 2019   en   \n",
       "22078  Sat Oct 19 16:30:25 +0000 2019   en   \n",
       "22357  Sat Oct 19 16:32:03 +0000 2019   en   \n",
       "22778  Sat Oct 19 16:34:34 +0000 2019   en   \n",
       "22902  Sat Oct 19 16:35:15 +0000 2019   en   \n",
       "22916  Sat Oct 19 16:35:21 +0000 2019   en   \n",
       "\n",
       "                                                location  \\\n",
       "339                                                 None   \n",
       "1629                                                None   \n",
       "1813                                                None   \n",
       "3306                                                None   \n",
       "5485                                                None   \n",
       "5938                                                None   \n",
       "6145                                                None   \n",
       "6728                                                None   \n",
       "6732                                                None   \n",
       "6857                                                None   \n",
       "6882                                                None   \n",
       "7025                                                None   \n",
       "7218                                                None   \n",
       "7666                                                None   \n",
       "8754                                                None   \n",
       "9754                                                None   \n",
       "10744                                               None   \n",
       "11145                                               None   \n",
       "11409                                               None   \n",
       "11707                                               None   \n",
       "11746                                               None   \n",
       "12016                                               None   \n",
       "12019                                               None   \n",
       "12144                                               None   \n",
       "12346                                               None   \n",
       "12594  {'type': 'Point', 'coordinates': [-0.33815361,...   \n",
       "12714                                               None   \n",
       "12784                                               None   \n",
       "12843                                               None   \n",
       "12865                                               None   \n",
       "...                                                  ...   \n",
       "14191                                               None   \n",
       "14242                                               None   \n",
       "14746                                               None   \n",
       "15149                                               None   \n",
       "15168                                               None   \n",
       "15186                                               None   \n",
       "15266                                               None   \n",
       "15589                                               None   \n",
       "16490                                               None   \n",
       "16553                                               None   \n",
       "16995                                               None   \n",
       "17041                                               None   \n",
       "18329                                               None   \n",
       "18590                                               None   \n",
       "19009                                               None   \n",
       "19177                                               None   \n",
       "19211                                               None   \n",
       "19395                                               None   \n",
       "20090                                               None   \n",
       "20847                                               None   \n",
       "21829                                               None   \n",
       "21903                                               None   \n",
       "21971                                               None   \n",
       "22058                                               None   \n",
       "22072                                               None   \n",
       "22078                                               None   \n",
       "22357                                               None   \n",
       "22778                                               None   \n",
       "22902                                               None   \n",
       "22916                                               None   \n",
       "\n",
       "                                                   place  \\\n",
       "339                                                 None   \n",
       "1629                                                None   \n",
       "1813   {'id': '01a9a39529b27f36', 'url': 'https://api...   \n",
       "3306                                                None   \n",
       "5485                                                None   \n",
       "5938                                                None   \n",
       "6145                                                None   \n",
       "6728                                                None   \n",
       "6732                                                None   \n",
       "6857                                                None   \n",
       "6882                                                None   \n",
       "7025                                                None   \n",
       "7218                                                None   \n",
       "7666                                                None   \n",
       "8754                                                None   \n",
       "9754                                                None   \n",
       "10744  {'id': '01ded2e53f4eedb1', 'url': 'https://api...   \n",
       "11145                                               None   \n",
       "11409  {'id': '07d9f602a0086001', 'url': 'https://api...   \n",
       "11707                                               None   \n",
       "11746                                               None   \n",
       "12016                                               None   \n",
       "12019                                               None   \n",
       "12144                                               None   \n",
       "12346                                               None   \n",
       "12594  {'id': '071a52d3a927a1b8', 'url': 'https://api...   \n",
       "12714                                               None   \n",
       "12784                                               None   \n",
       "12843                                               None   \n",
       "12865                                               None   \n",
       "...                                                  ...   \n",
       "14191                                               None   \n",
       "14242                                               None   \n",
       "14746                                               None   \n",
       "15149                                               None   \n",
       "15168                                               None   \n",
       "15186                                               None   \n",
       "15266                                               None   \n",
       "15589                                               None   \n",
       "16490                                               None   \n",
       "16553                                               None   \n",
       "16995                                               None   \n",
       "17041                                               None   \n",
       "18329                                               None   \n",
       "18590                                               None   \n",
       "19009                                               None   \n",
       "19177                                               None   \n",
       "19211                                               None   \n",
       "19395                                               None   \n",
       "20090                                               None   \n",
       "20847                                               None   \n",
       "21829                                               None   \n",
       "21903                                               None   \n",
       "21971                                               None   \n",
       "22058                                               None   \n",
       "22072                                               None   \n",
       "22078                                               None   \n",
       "22357                                               None   \n",
       "22778                                               None   \n",
       "22902                                               None   \n",
       "22916  {'id': '07d9ecca0b880004', 'url': 'https://api...   \n",
       "\n",
       "                                                raw_data      screen_name  \\\n",
       "339    {'created_at': 'Thu Oct 17 21:12:04 +0000 2019...         joespens   \n",
       "1629   {'created_at': 'Thu Oct 17 23:19:50 +0000 2019...          sadukie   \n",
       "1813   {'created_at': 'Thu Oct 17 23:23:30 +0000 2019...          nwhysel   \n",
       "3306   {'created_at': 'Fri Oct 18 10:42:24 +0000 2019...           sos_jr   \n",
       "5485   {'created_at': 'Fri Oct 18 18:57:51 +0000 2019...         _DEVince   \n",
       "5938   {'created_at': 'Fri Oct 18 19:00:22 +0000 2019...     ColinJ_Keogh   \n",
       "6145   {'created_at': 'Fri Oct 18 19:31:29 +0000 2019...     coderinheels   \n",
       "6728   {'created_at': 'Fri Oct 18 19:34:29 +0000 2019...   codewithgideon   \n",
       "6732   {'created_at': 'Fri Oct 18 19:34:31 +0000 2019...    Francisco_gmd   \n",
       "6857   {'created_at': 'Fri Oct 18 19:35:06 +0000 2019...        juanli995   \n",
       "6882   {'created_at': 'Fri Oct 18 19:35:11 +0000 2019...  USembassyMadrid   \n",
       "7025   {'created_at': 'Fri Oct 18 19:35:55 +0000 2019...       propelland   \n",
       "7218   {'created_at': 'Fri Oct 18 19:36:59 +0000 2019...       propelland   \n",
       "7666   {'created_at': 'Fri Oct 18 19:39:22 +0000 2019...  Yes2GlobalPeace   \n",
       "8754   {'created_at': 'Fri Oct 18 21:49:43 +0000 2019...      SpaceAppsBA   \n",
       "9754   {'created_at': 'Sat Oct 19 02:05:03 +0000 2019...    astro_bidushi   \n",
       "10744  {'created_at': 'Sat Oct 19 10:23:59 +0000 2019...          Ainyish   \n",
       "11145  {'created_at': 'Sat Oct 19 10:42:16 +0000 2019...     spaceappsalm   \n",
       "11409  {'created_at': 'Sat Oct 19 10:44:05 +0000 2019...    spaceapps_vlc   \n",
       "11707  {'created_at': 'Sat Oct 19 10:46:03 +0000 2019...           everis   \n",
       "11746  {'created_at': 'Sat Oct 19 10:46:16 +0000 2019...  spaceappsexeter   \n",
       "12016  {'created_at': 'Sat Oct 19 12:43:27 +0000 2019...       rauljuanes   \n",
       "12019  {'created_at': 'Sat Oct 19 12:43:28 +0000 2019...           kadtok   \n",
       "12144  {'created_at': 'Sat Oct 19 12:44:18 +0000 2019...   MariaSitumbeko   \n",
       "12346  {'created_at': 'Sat Oct 19 12:45:24 +0000 2019...  spaceappsexeter   \n",
       "12594  {'created_at': 'Sat Oct 19 12:46:53 +0000 2019...       luisruizpa   \n",
       "12714  {'created_at': 'Sat Oct 19 12:47:33 +0000 2019...   kamilah_santos   \n",
       "12784  {'created_at': 'Sat Oct 19 12:48:00 +0000 2019...      denulIepart   \n",
       "12843  {'created_at': 'Sat Oct 19 12:48:21 +0000 2019...      LokiGameDev   \n",
       "12865  {'created_at': 'Sat Oct 19 12:48:27 +0000 2019...       alteredeye   \n",
       "...                                                  ...              ...   \n",
       "14191  {'created_at': 'Sat Oct 19 13:50:11 +0000 2019...     spaceappsZgz   \n",
       "14242  {'created_at': 'Sat Oct 19 13:50:31 +0000 2019...        trevsharp   \n",
       "14746  {'created_at': 'Sat Oct 19 13:53:16 +0000 2019...  UnicodeUnicorns   \n",
       "15149  {'created_at': 'Sat Oct 19 14:38:49 +0000 2019...           yumu19   \n",
       "15168  {'created_at': 'Sat Oct 19 14:38:54 +0000 2019...           yumu19   \n",
       "15186  {'created_at': 'Sat Oct 19 14:38:59 +0000 2019...           yumu19   \n",
       "15266  {'created_at': 'Sat Oct 19 14:39:20 +0000 2019...           yumu19   \n",
       "15589  {'created_at': 'Sat Oct 19 14:40:58 +0000 2019...           yumu19   \n",
       "16490  {'created_at': 'Sat Oct 19 15:07:17 +0000 2019...       luisruizpa   \n",
       "16553  {'created_at': 'Sat Oct 19 15:07:39 +0000 2019...       luisruizpa   \n",
       "16995  {'created_at': 'Sat Oct 19 15:10:05 +0000 2019...     carobrunatti   \n",
       "17041  {'created_at': 'Sat Oct 19 15:10:21 +0000 2019...      micheladaio   \n",
       "18329  {'created_at': 'Sat Oct 19 15:17:09 +0000 2019...        trevsharp   \n",
       "18590  {'created_at': 'Sat Oct 19 15:18:31 +0000 2019...           sos_jr   \n",
       "19009  {'created_at': 'Sat Oct 19 15:37:51 +0000 2019...  MdAbdur89291105   \n",
       "19177  {'created_at': 'Sat Oct 19 15:38:40 +0000 2019...     coderinheels   \n",
       "19211  {'created_at': 'Sat Oct 19 15:38:53 +0000 2019...        _TeDiouS_   \n",
       "19395  {'created_at': 'Sat Oct 19 15:40:01 +0000 2019...      NegroRoizen   \n",
       "20090  {'created_at': 'Sat Oct 19 15:44:11 +0000 2019...         outecran   \n",
       "20847  {'created_at': 'Sat Oct 19 15:48:30 +0000 2019...     AmandaMaruny   \n",
       "21829  {'created_at': 'Sat Oct 19 15:54:21 +0000 2019...           everis   \n",
       "21903  {'created_at': 'Sat Oct 19 15:54:50 +0000 2019...    merinerasauce   \n",
       "21971  {'created_at': 'Sat Oct 19 15:55:10 +0000 2019...          ilingo1   \n",
       "22058  {'created_at': 'Sat Oct 19 16:30:14 +0000 2019...         tkunsman   \n",
       "22072  {'created_at': 'Sat Oct 19 16:30:22 +0000 2019...           sos_jr   \n",
       "22078  {'created_at': 'Sat Oct 19 16:30:25 +0000 2019...           sos_jr   \n",
       "22357  {'created_at': 'Sat Oct 19 16:32:03 +0000 2019...     glennlibrary   \n",
       "22778  {'created_at': 'Sat Oct 19 16:34:34 +0000 2019...   thinker_habeeb   \n",
       "22902  {'created_at': 'Sat Oct 19 16:35:15 +0000 2019...         tkunsman   \n",
       "22916  {'created_at': 'Sat Oct 19 16:35:21 +0000 2019...           sos_jr   \n",
       "\n",
       "                                                    text      timestamp  \\\n",
       "339    RT @spaceappsnyc: T-36 hours until the hacking...  1571346724610   \n",
       "1629   Tonight's goals - Carmen Sandiego with the kid...  1571354390592   \n",
       "1813   I’m mentoring at NASA Space Apps NYC at the Ex...  1571354610530   \n",
       "3306   @sadukie @spaceappsCLE 🎶”Tonight is going to b...  1571395344669   \n",
       "5485   I took this  least y'all could do is tag me 😏\\...  1571425071825   \n",
       "5938   Sending to outer space at @WeWork Charlemont E...  1571425222179   \n",
       "6145   RT @PaulaLKennedy: Fantastic turnout for the @...  1571427089174   \n",
       "6728   RT @emeka_boris: We are at @NASA @PHSpaceApps ...  1571427269486   \n",
       "6732   Ha sido un orgullo poder volver a dar la bienv...  1571427271434   \n",
       "6857   RT @spaceappsalm: @juanli995 nos explica los 2...  1571427306450   \n",
       "6882   RT @Francisco_gmd: Ha sido un orgullo poder vo...  1571427311949   \n",
       "7025   RT @JGonTW: Full house for NASA #SpaceAppsMadr...  1571427355659   \n",
       "7218   RT @Francisco_gmd: Ha sido un orgullo poder vo...  1571427419877   \n",
       "7666   RT @SpaceAppsDublin: All-female spacewalk make...  1571427562524   \n",
       "8754   RT @spaceappsnyc: RAISE YOUR HAND IF YOU'RE EX...  1571435383278   \n",
       "9754   Singapore #NASA #spaceapps2019 underway!\\n#pad...  1571450703641   \n",
       "10744  Its a privilege to be among some great and cre...  1571480639211   \n",
       "11145  RT @RemediosFdez: Hoy, a las 17 horas desde @L...  1571481736222   \n",
       "11409  Comienza la charla de Luis Ruiz: Intento tras ...  1571481845786   \n",
       "11707  Las tripulaciones del #spaceappschallenge ya s...  1571481963416   \n",
       "11746  And we're off! Teams assembled, go go go! #spa...  1571481976528   \n",
       "12016  RT @everis: Las tripulaciones del #spaceappsch...  1571489007439   \n",
       "12019  As mina pa.\\n.\\n#nasaspaceapps #spaceappschall...  1571489008135   \n",
       "12144  RT @Big_Zude: Building time! @alushaks @SpaceA...  1571489058488   \n",
       "12346  Food time this morning at #spaceappsexeter hos...  1571489124759   \n",
       "12594  #spaceapps2019  #spaceapps #spaceappsnasa en P...  1571489213429   \n",
       "12714  @spaceappssp #SpaceApps #SpaceAppsSP https://t...  1571489253637   \n",
       "12784              @youhitmeonce tu tá no space apps bb?  1571489280303   \n",
       "12843  RT @SpaceAppSVQ: Nuestro participante @LokiGam...  1571489301394   \n",
       "12865  RT @elena_sinel: Phenomenal #designthinking wo...  1571489307352   \n",
       "...                                                  ...            ...   \n",
       "14191  RT @Hiberus: Un año más colaboramos con @space...  1571493011732   \n",
       "14242  #spaceapps Looking at Infrared energy for the ...  1571493031663   \n",
       "14746  RT @spaceappsnyc: The @BushXGenerator is open!...  1571493196663   \n",
       "15149  RT @SpaceAppsTyhs: シャトルに祈りを捧げる人々\\n#SpaceApps \\...  1571495929858   \n",
       "15168  RT @crispytaffy: 天体観測🌌\\n#spaceapps #spaceappsU...  1571495934434   \n",
       "15186  RT @crispytaffy: 想像していたよりキレイに混ざってる。\\n#spaceapp...  1571495939716   \n",
       "15266  RT @crispytaffy: Perfect venue!!!\\nプラネタリウムの中にも...  1571495960908   \n",
       "15589  RT @spaceappsosaka: #NASA #spaceappsosaka\\nダイジ...  1571496058816   \n",
       "16490  RT @carlosgaliana: Hui estem a @LasNavesINN pa...  1571497637987   \n",
       "16553  RT @spaceapps_vlc: Comienza la charla de Luis ...  1571497659322   \n",
       "16995  We launched SpaceApps Buenos Aires @SpaceAppsB...  1571497805775   \n",
       "17041  RT @_spaceexplorers: Nuestros amigos de @miche...  1571497821838   \n",
       "18329    #spaceapps Sticker haul https://t.co/Yye9mEE9GL  1571498229138   \n",
       "18590  RT @tkunsman: A youth fan of @NASA_GVIS checki...  1571498311762   \n",
       "19009  My team on NASA spaceapps challenge \\n#nasa_sp...  1571499471621   \n",
       "19177  RT @spaceappslondon: Hacking continues at 🚀 NA...  1571499520448   \n",
       "19211  RT @spaceappsnyc: The @BushXGenerator is open!...  1571499533386   \n",
       "19395  RT @spaceappsmvd: ¡Comienza #SpaceAppsMVD! Ya ...  1571499601746   \n",
       "20090  RT @LaJaqueria: Explicando los retos seleccion...  1571499851599   \n",
       "20847  RT @QuiqueChin: #spaceappschallenge 🚀 @SpaceAp...  1571500110351   \n",
       "21829  Ha sido un día intenso para los participantes ...  1571500461441   \n",
       "21903  One year I’ll have time and friends to do NASA...  1571500490085   \n",
       "21971  #spaceapps @SpaceAppsBA Esta mañana, durante l...  1571500510802   \n",
       "22058  Live tweeting @spaceappsCLE #SpaceAppsCLE @NAS...  1571502614483   \n",
       "22072  RT @tkunsman: Our special Saturday key note @s...  1571502622621   \n",
       "22078  RT @labboopanda: Davia is trying out AR of Mar...  1571502625207   \n",
       "22357  @spaceappsCLE @SpaceApps @NASAglenn Excited to...  1571502723257   \n",
       "22778  RT @spaceappshur: Did someone say pizza? 🍕 we’...  1571502874682   \n",
       "22902  RT @glennlibrary: @spaceappsCLE @SpaceApps @NA...  1571502915884   \n",
       "22916  Talk at @spaceappsCLE by Nelson Colon Vargas. ...  1571502921780   \n",
       "\n",
       "                                        user_description  \\\n",
       "339    executive director @spaceappsnyc • systems arc...   \n",
       "1629   Wife to an IT guy, Mom, Developer Technologies...   \n",
       "1813   Co-Chair #IAC20, COO @DecisionFish #bestforNYC...   \n",
       "3306   Interests: https://t.co/ahHmS93CLo, Website De...   \n",
       "5485   CS  undergrad | Frontend webdeveloper | 🏀Balle...   \n",
       "5938   #Engineering,#3dprinting,#Innovation|CEO @rapi...   \n",
       "6145   Founder @TECHKNOWDay | Ambassador #Google @Wom...   \n",
       "6728            AI Research + Community\\nBuilding @AI6ph   \n",
       "6732   What we do in life echoes in eternity. Talent&...   \n",
       "6857   Entrepreneur🚀& Engineer🛠️ •\\nThailō Bags🌱🎒🇳🇵 •...   \n",
       "6882   Embassy of the U.S. in Madrid. Embajada de EE....   \n",
       "7025   propelland is a global strategic design & engi...   \n",
       "7218   propelland is a global strategic design & engi...   \n",
       "7666   \"Serve humanity through Science, technology an...   \n",
       "8754   Vamos a diseñar soluciones innovadoras que res...   \n",
       "9754   ex-NASA  scientist turned entrepreneur, with g...   \n",
       "10744  \"What she demanded of people is metanoia\" ✨, B...   \n",
       "11145  Edición almeriense del Space Apps Challenge de...   \n",
       "11409  Tu oportunidad de ayudar a construir solucione...   \n",
       "11707  Cuenta global de everis, an NTT DATA Company. ...   \n",
       "11746  NASA Space Apps Challenge, by TechExeter and t...   \n",
       "12016  Head of Public Sector @everis Levante: Consult...   \n",
       "12019  Desenhista, designer, blogueira, bruxa e como ...   \n",
       "12144  JavaScript Enthusiast\\nFC Barcelona Fanatic\\nP...   \n",
       "12346  NASA Space Apps Challenge, by TechExeter and t...   \n",
       "12594  Software Developer. There's nothing wrong with...   \n",
       "12714  Developer at @brqdigital\\ncommunity co-organiz...   \n",
       "12784  atualizações ao vivo das minhas várias tentati...   \n",
       "12843  Game Dev with Unity. Programmer. C, C# and Jav...   \n",
       "12865  Experience designer, thinker, problem solver, ...   \n",
       "...                                                  ...   \n",
       "14191  Somos una comunidad nacida para APRENDER resol...   \n",
       "14242  I like making things. I like fixing things. I ...   \n",
       "14746                             Grab life by the horn.   \n",
       "15149  石川在住の情報科学研究者。情報通信研究機構(NICT)北陸StarBED技術センター研究員／...   \n",
       "15168  石川在住の情報科学研究者。情報通信研究機構(NICT)北陸StarBED技術センター研究員／...   \n",
       "15186  石川在住の情報科学研究者。情報通信研究機構(NICT)北陸StarBED技術センター研究員／...   \n",
       "15266  石川在住の情報科学研究者。情報通信研究機構(NICT)北陸StarBED技術センター研究員／...   \n",
       "15589  石川在住の情報科学研究者。情報通信研究機構(NICT)北陸StarBED技術センター研究員／...   \n",
       "16490  Software Developer. There's nothing wrong with...   \n",
       "16553  Software Developer. There's nothing wrong with...   \n",
       "16995  Participación y presupuesto participativo para...   \n",
       "17041  Spicing it up since '15. #Rails, iOS, #Ruby, a...   \n",
       "18329  I like making things. I like fixing things. I ...   \n",
       "18590  Interests: https://t.co/ahHmS93CLo, Website De...   \n",
       "19009  Simplicity makes me special. Black and white i...   \n",
       "19177  Founder @TECHKNOWDay | Ambassador #Google @Wom...   \n",
       "19211                                            Enabler   \n",
       "19395  Padre, educador, uruguayo. Director liceo en @...   \n",
       "20090                                               None   \n",
       "20847  23. 🚺 🐕 🎶\\n\\nWords travel worlds. Translators ...   \n",
       "21829  Cuenta global de everis, an NTT DATA Company. ...   \n",
       "21903       goblin brain says click clack dice and rocks   \n",
       "21971                                               None   \n",
       "22058  Interested in space, #Revit #BIM #MSL #Stateof...   \n",
       "22072  Interests: https://t.co/ahHmS93CLo, Website De...   \n",
       "22078  Interests: https://t.co/ahHmS93CLo, Website De...   \n",
       "22357  NASA Glenn Research Center's house of informat...   \n",
       "22778  Whatever their circumstances, people still had...   \n",
       "22902  Interested in space, #Revit #BIM #MSL #Stateof...   \n",
       "22916  Interests: https://t.co/ahHmS93CLo, Website De...   \n",
       "\n",
       "                        user_location  sentiment  \n",
       "339                      Harrison, NY   0.000000  \n",
       "1629                   Northeast Ohio   0.200000  \n",
       "1813                     New York, NY   0.000000  \n",
       "3306                  Cleveland, Ohio   0.700000  \n",
       "5485                             None   0.100000  \n",
       "5938             Dublin City, Ireland   0.000000  \n",
       "6145                           London   0.400000  \n",
       "6728           Port Harcourt, Nigeria   0.000000  \n",
       "6732                            Spain   0.000000  \n",
       "6857            📍 Almería, Spain 🏖️🏜️   0.000000  \n",
       "6882                           Madrid   0.000000  \n",
       "7025    San Francisco, Madrid, Mexico   0.350000  \n",
       "7218    San Francisco, Madrid, Mexico   0.000000  \n",
       "7666                        Worldwide   0.000000  \n",
       "8754   Ciudad Autónoma de Buenos Aire   0.437500  \n",
       "9754                        Singapore   0.000000  \n",
       "10744              Peshawar, Pakistan   0.650000  \n",
       "11145                            None   0.000000  \n",
       "11409                        Valencia   0.000000  \n",
       "11707                          Global   0.000000  \n",
       "11746               Met Office Exeter   0.000000  \n",
       "12016  Valencia, Comunidad Valenciana   0.000000  \n",
       "12019               Terra do chuvisco   0.000000  \n",
       "12144                            None   0.000000  \n",
       "12346               Met Office Exeter   0.000000  \n",
       "12594     La Pobla de Farnals, España   0.000000  \n",
       "12714         Taboão da Serra, Brasil   0.000000  \n",
       "12784                Curitiba, Brasil   0.000000  \n",
       "12843                 Sevilla, España   0.000000  \n",
       "12865                 London, England   0.500000  \n",
       "...                               ...        ...  \n",
       "14191                        Zaragoza   0.000000  \n",
       "14242                            None   0.000000  \n",
       "14746                   Manhattan, NY   0.000000  \n",
       "15149                          石川 能美市   0.000000  \n",
       "15168                          石川 能美市   0.000000  \n",
       "15186                          石川 能美市   0.000000  \n",
       "15266                          石川 能美市   1.000000  \n",
       "15589                          石川 能美市   0.000000  \n",
       "16490     La Pobla de Farnals, España   0.000000  \n",
       "16553     La Pobla de Farnals, España   0.000000  \n",
       "16995         Buenos Aires, Argentina   0.000000  \n",
       "17041                            None   0.000000  \n",
       "18329                            None   0.000000  \n",
       "18590                 Cleveland, Ohio   0.000000  \n",
       "19009                            None   0.000000  \n",
       "19177                          London  -0.050000  \n",
       "19211                      San Diego!   0.000000  \n",
       "19395             Montevideo, Uruguay   0.000000  \n",
       "20090                            None   0.000000  \n",
       "20847                 Sevilla, España   0.000000  \n",
       "21829                          Global   0.000000  \n",
       "21903                            None   0.000000  \n",
       "21971                            None   0.000000  \n",
       "22058                   Cleveland, OH   0.136364  \n",
       "22072                 Cleveland, Ohio   0.178571  \n",
       "22078                 Cleveland, Ohio   0.000000  \n",
       "22357                   Cleveland, OH   0.375000  \n",
       "22778                            None   0.000000  \n",
       "22902                   Cleveland, OH   0.375000  \n",
       "22916                 Cleveland, Ohio   0.000000  \n",
       "\n",
       "[63 rows x 11 columns]"
      ]
     },
     "execution_count": 831,
     "metadata": {},
     "output_type": "execute_result"
    }
   ],
   "source": [
    "df[(df['text'].str.contains('spaceapps')) | (df['text'].str.contains('space app'))]"
   ]
  },
  {
   "cell_type": "markdown",
   "metadata": {},
   "source": [
    "### Let's graph the sentiment!"
   ]
  },
  {
   "cell_type": "code",
   "execution_count": 832,
   "metadata": {},
   "outputs": [],
   "source": [
    "df['created_at'] = pd.to_datetime(df['created_at'])"
   ]
  },
  {
   "cell_type": "code",
   "execution_count": 833,
   "metadata": {},
   "outputs": [
    {
     "data": {
      "text/html": [
       "<div>\n",
       "<style scoped>\n",
       "    .dataframe tbody tr th:only-of-type {\n",
       "        vertical-align: middle;\n",
       "    }\n",
       "\n",
       "    .dataframe tbody tr th {\n",
       "        vertical-align: top;\n",
       "    }\n",
       "\n",
       "    .dataframe thead th {\n",
       "        text-align: right;\n",
       "    }\n",
       "</style>\n",
       "<table border=\"1\" class=\"dataframe\">\n",
       "  <thead>\n",
       "    <tr style=\"text-align: right;\">\n",
       "      <th></th>\n",
       "      <th>created_at</th>\n",
       "      <th>sentiment</th>\n",
       "    </tr>\n",
       "  </thead>\n",
       "  <tbody>\n",
       "    <tr>\n",
       "      <th>0</th>\n",
       "      <td>2019-10-17 21:07:09</td>\n",
       "      <td>0.068182</td>\n",
       "    </tr>\n",
       "    <tr>\n",
       "      <th>1</th>\n",
       "      <td>2019-10-17 21:07:10</td>\n",
       "      <td>0.000000</td>\n",
       "    </tr>\n",
       "    <tr>\n",
       "      <th>2</th>\n",
       "      <td>2019-10-17 21:07:11</td>\n",
       "      <td>0.325000</td>\n",
       "    </tr>\n",
       "    <tr>\n",
       "      <th>3</th>\n",
       "      <td>2019-10-17 21:07:12</td>\n",
       "      <td>0.000000</td>\n",
       "    </tr>\n",
       "    <tr>\n",
       "      <th>4</th>\n",
       "      <td>2019-10-17 21:07:13</td>\n",
       "      <td>0.068182</td>\n",
       "    </tr>\n",
       "  </tbody>\n",
       "</table>\n",
       "</div>"
      ],
      "text/plain": [
       "           created_at  sentiment\n",
       "0 2019-10-17 21:07:09   0.068182\n",
       "1 2019-10-17 21:07:10   0.000000\n",
       "2 2019-10-17 21:07:11   0.325000\n",
       "3 2019-10-17 21:07:12   0.000000\n",
       "4 2019-10-17 21:07:13   0.068182"
      ]
     },
     "execution_count": 833,
     "metadata": {},
     "output_type": "execute_result"
    }
   ],
   "source": [
    "dfS = df[['created_at', 'sentiment']].groupby('created_at')['sentiment'].mean().reset_index()\n",
    "#dfS['color'] = dfS.apply(lambda x: 'g' if x['sentiment'] >= 0 else 'r', 1)\n",
    "dfS.head()"
   ]
  },
  {
   "cell_type": "code",
   "execution_count": 834,
   "metadata": {},
   "outputs": [
    {
     "data": {
      "text/html": [
       "<div>\n",
       "<style scoped>\n",
       "    .dataframe tbody tr th:only-of-type {\n",
       "        vertical-align: middle;\n",
       "    }\n",
       "\n",
       "    .dataframe tbody tr th {\n",
       "        vertical-align: top;\n",
       "    }\n",
       "\n",
       "    .dataframe thead th {\n",
       "        text-align: right;\n",
       "    }\n",
       "</style>\n",
       "<table border=\"1\" class=\"dataframe\">\n",
       "  <thead>\n",
       "    <tr style=\"text-align: right;\">\n",
       "      <th></th>\n",
       "      <th>sentiment</th>\n",
       "    </tr>\n",
       "    <tr>\n",
       "      <th>created_at</th>\n",
       "      <th></th>\n",
       "    </tr>\n",
       "  </thead>\n",
       "  <tbody>\n",
       "    <tr>\n",
       "      <th>2019-10-19 16:35:26</th>\n",
       "      <td>0.000000</td>\n",
       "    </tr>\n",
       "    <tr>\n",
       "      <th>2019-10-19 16:35:28</th>\n",
       "      <td>0.616667</td>\n",
       "    </tr>\n",
       "    <tr>\n",
       "      <th>2019-10-19 16:35:29</th>\n",
       "      <td>0.050000</td>\n",
       "    </tr>\n",
       "    <tr>\n",
       "      <th>2019-10-19 16:35:30</th>\n",
       "      <td>0.000000</td>\n",
       "    </tr>\n",
       "    <tr>\n",
       "      <th>2019-10-19 16:35:31</th>\n",
       "      <td>0.000000</td>\n",
       "    </tr>\n",
       "  </tbody>\n",
       "</table>\n",
       "</div>"
      ],
      "text/plain": [
       "                     sentiment\n",
       "created_at                    \n",
       "2019-10-19 16:35:26   0.000000\n",
       "2019-10-19 16:35:28   0.616667\n",
       "2019-10-19 16:35:29   0.050000\n",
       "2019-10-19 16:35:30   0.000000\n",
       "2019-10-19 16:35:31   0.000000"
      ]
     },
     "execution_count": 834,
     "metadata": {},
     "output_type": "execute_result"
    }
   ],
   "source": [
    "dfS = dfS.set_index('created_at')\n",
    "dfS.tail()"
   ]
  },
  {
   "cell_type": "code",
   "execution_count": null,
   "metadata": {},
   "outputs": [],
   "source": []
  },
  {
   "cell_type": "code",
   "execution_count": 835,
   "metadata": {
    "scrolled": false
   },
   "outputs": [
    {
     "data": {
      "text/plain": [
       "[<matplotlib.lines.Line2D at 0x156e73278>]"
      ]
     },
     "execution_count": 835,
     "metadata": {},
     "output_type": "execute_result"
    },
    {
     "data": {
      "image/png": "[encoded data removed]",
      "text/plain": [
       "<Figure size 1152x648 with 1 Axes>"
      ]
     },
     "metadata": {},
     "output_type": "display_data"
    }
   ],
   "source": [
    "rcParams['figure.figsize'] = 16, 9\n",
    "\n",
    "dfS[-250:].plot(kind='line', color='grey')\n",
    "\n",
    "ax1 = dfS['sentiment'].rolling(30, min_periods=1).mean()[-250:].plot(kind='line', color='g')\n",
    "plt.plot(dfS.index[-250:], [0]*len(dfS.index[-250:]), '--r')"
   ]
  },
  {
   "cell_type": "code",
   "execution_count": null,
   "metadata": {},
   "outputs": [],
   "source": []
  },
  {
   "cell_type": "markdown",
   "metadata": {},
   "source": [
    "## Let's try to answer question (2) now. What's the converation about?"
   ]
  },
  {
   "cell_type": "code",
   "execution_count": 771,
   "metadata": {},
   "outputs": [],
   "source": [
    "stop = set(stopwords.words('english'))  # predefined list of \"uninteresting\" words\n",
    "\n",
    "counter = Counter()\n",
    "\n",
    "def nlargest(n, word_scores):\n",
    "    \"\"\" Wrapper around heapq to return the n words with the largest count.\"\"\"\n",
    "    # word_scores: index 0=>word, 1=>count\n",
    "    return heapq.nlargest(n, word_scores, key=lambda x: x[1])"
   ]
  },
  {
   "cell_type": "code",
   "execution_count": 836,
   "metadata": {
    "scrolled": false
   },
   "outputs": [
    {
     "data": {
      "image/png": "[encoded data removed]",
      "text/plain": [
       "<Figure size 648x432 with 1 Axes>"
      ]
     },
     "metadata": {},
     "output_type": "display_data"
    }
   ],
   "source": [
    "rcParams['figure.figsize'] = 9, 6\n",
    "DISPLAY_EVERY = 100\n",
    "\n",
    "try:\n",
    "    for k in range(len(L)):\n",
    "        try:\n",
    "            tweet = L[k]['text']\n",
    "            for word in tweet.lower().split():\n",
    "                if word not in stop and 'http' not in word:\n",
    "                    counter[word] += 1\n",
    "            if k % DISPLAY_EVERY == (DISPLAY_EVERY - 1):\n",
    "                wordcloud = WordCloud(background_color='white'#, collocations=False #, \n",
    "                                      #width=1600, height=800\n",
    "                                     ).fit_words(counter)\n",
    "                plt.axis(\"off\")\n",
    "                display.clear_output(wait=True)\n",
    "                plt.imshow(wordcloud)\n",
    "                display.display(plt.gcf())\n",
    "        except:\n",
    "            pass\n",
    "    display.clear_output(wait=True)\n",
    "except KeyboardInterrupt:\n",
    "    pass"
   ]
  },
  {
   "cell_type": "code",
   "execution_count": 773,
   "metadata": {},
   "outputs": [
    {
     "data": {
      "text/plain": [
       "[('rt', 10998),\n",
       " ('nasa', 6293),\n",
       " ('la', 2468),\n",
       " ('sa', 2388),\n",
       " ('de', 2257),\n",
       " ('first', 1887),\n",
       " ('na', 1585),\n",
       " ('?', 1351),\n",
       " ('mo', 1309),\n",
       " ('sur', 1281)]"
      ]
     },
     "execution_count": 773,
     "metadata": {},
     "output_type": "execute_result"
    }
   ],
   "source": [
    "nlargest(10, counter.items())"
   ]
  },
  {
   "cell_type": "code",
   "execution_count": 774,
   "metadata": {},
   "outputs": [],
   "source": [
    "#L = [x for x in L if x]"
   ]
  },
  {
   "cell_type": "code",
   "execution_count": null,
   "metadata": {},
   "outputs": [],
   "source": []
  },
  {
   "cell_type": "markdown",
   "metadata": {},
   "source": [
    "### Is there more than one topic?"
   ]
  },
  {
   "cell_type": "code",
   "execution_count": 775,
   "metadata": {},
   "outputs": [],
   "source": [
    "#Collect only the tweets\n",
    "T = []\n",
    "for tweet in L:\n",
    "    T.append(tweet['text'])"
   ]
  },
  {
   "cell_type": "code",
   "execution_count": 776,
   "metadata": {},
   "outputs": [],
   "source": [
    "BATCH_SIZE = 100\n",
    "CLUSTER_SIZE = 4\n",
    "\n",
    "kmeans = MiniBatchKMeans(n_clusters=CLUSTER_SIZE)\n",
    "\n",
    "def batch(iterable, size):\n",
    "    \"\"\" batch(\"ABCDEFG\", 3) -> ABC DEF G \"\"\"\n",
    "    sourceiter = iter(iterable)\n",
    "    while True:\n",
    "        batchiter = islice(sourceiter, size)\n",
    "        yield chain([next(batchiter)], batchiter)"
   ]
  },
  {
   "cell_type": "code",
   "execution_count": 777,
   "metadata": {},
   "outputs": [],
   "source": [
    "with open(\"dictnostops.txt\") as fh:\n",
    "    words = [line.strip() for line in fh.readlines()]\n",
    "    word_to_index = { word: k for k, word in enumerate(words) }"
   ]
  },
  {
   "cell_type": "code",
   "execution_count": 778,
   "metadata": {},
   "outputs": [],
   "source": [
    "def wordclouds(wordcounts):\n",
    "    wordclouds = [WordCloud().fit_words(Counter({k:v for (k,v) in dict(counts).items() if v > 0})) for counts in wordcounts]\n",
    "    fig, axes = plt.subplots(2,2)\n",
    "    display.clear_output(wait=True)\n",
    "    for k, (ax, wordcloud) in enumerate(zip(axes.flatten(), wordclouds)):\n",
    "        ax.axis(\"off\")\n",
    "        ax.imshow(wordcloud)\n",
    "        ax.set_title(\"Topic %d\" % k)\n",
    "    display.display(fig)\n",
    "    fig.clear()"
   ]
  },
  {
   "cell_type": "code",
   "execution_count": 780,
   "metadata": {},
   "outputs": [
    {
     "data": {
      "image/png": "[encoded data removed]",
      "text/plain": [
       "<Figure size 648x432 with 4 Axes>"
      ]
     },
     "metadata": {},
     "output_type": "display_data"
    },
    {
     "name": "stderr",
     "output_type": "stream",
     "text": [
      "/Users/Nel/anaconda3/lib/python3.6/site-packages/ipykernel/__main__.py:2: DeprecationWarning: generator 'batch' raised StopIteration\n",
      "  from ipykernel import kernelapp as app\n"
     ]
    },
    {
     "data": {
      "text/plain": [
       "<Figure size 648x432 with 0 Axes>"
      ]
     },
     "metadata": {},
     "output_type": "display_data"
    },
    {
     "data": {
      "text/plain": [
       "<Figure size 648x432 with 0 Axes>"
      ]
     },
     "metadata": {},
     "output_type": "display_data"
    },
    {
     "data": {
      "text/plain": [
       "<Figure size 648x432 with 0 Axes>"
      ]
     },
     "metadata": {},
     "output_type": "display_data"
    },
    {
     "data": {
      "text/plain": [
       "<Figure size 648x432 with 0 Axes>"
      ]
     },
     "metadata": {},
     "output_type": "display_data"
    },
    {
     "data": {
      "text/plain": [
       "<Figure size 648x432 with 0 Axes>"
      ]
     },
     "metadata": {},
     "output_type": "display_data"
    },
    {
     "data": {
      "text/plain": [
       "<Figure size 648x432 with 0 Axes>"
      ]
     },
     "metadata": {},
     "output_type": "display_data"
    },
    {
     "data": {
      "text/plain": [
       "<Figure size 648x432 with 0 Axes>"
      ]
     },
     "metadata": {},
     "output_type": "display_data"
    },
    {
     "data": {
      "text/plain": [
       "<Figure size 648x432 with 0 Axes>"
      ]
     },
     "metadata": {},
     "output_type": "display_data"
    },
    {
     "data": {
      "text/plain": [
       "<Figure size 648x432 with 0 Axes>"
      ]
     },
     "metadata": {},
     "output_type": "display_data"
    },
    {
     "data": {
      "text/plain": [
       "<Figure size 648x432 with 0 Axes>"
      ]
     },
     "metadata": {},
     "output_type": "display_data"
    },
    {
     "data": {
      "text/plain": [
       "<Figure size 648x432 with 0 Axes>"
      ]
     },
     "metadata": {},
     "output_type": "display_data"
    },
    {
     "data": {
      "text/plain": [
       "<Figure size 648x432 with 0 Axes>"
      ]
     },
     "metadata": {},
     "output_type": "display_data"
    },
    {
     "data": {
      "text/plain": [
       "<Figure size 648x432 with 0 Axes>"
      ]
     },
     "metadata": {},
     "output_type": "display_data"
    },
    {
     "data": {
      "text/plain": [
       "<Figure size 648x432 with 0 Axes>"
      ]
     },
     "metadata": {},
     "output_type": "display_data"
    },
    {
     "data": {
      "text/plain": [
       "<Figure size 648x432 with 0 Axes>"
      ]
     },
     "metadata": {},
     "output_type": "display_data"
    },
    {
     "data": {
      "text/plain": [
       "<Figure size 648x432 with 0 Axes>"
      ]
     },
     "metadata": {},
     "output_type": "display_data"
    },
    {
     "data": {
      "text/plain": [
       "<Figure size 648x432 with 0 Axes>"
      ]
     },
     "metadata": {},
     "output_type": "display_data"
    },
    {
     "data": {
      "text/plain": [
       "<Figure size 648x432 with 0 Axes>"
      ]
     },
     "metadata": {},
     "output_type": "display_data"
    },
    {
     "data": {
      "text/plain": [
       "<Figure size 648x432 with 0 Axes>"
      ]
     },
     "metadata": {},
     "output_type": "display_data"
    },
    {
     "data": {
      "text/plain": [
       "<Figure size 648x432 with 0 Axes>"
      ]
     },
     "metadata": {},
     "output_type": "display_data"
    },
    {
     "data": {
      "text/plain": [
       "<Figure size 648x432 with 0 Axes>"
      ]
     },
     "metadata": {},
     "output_type": "display_data"
    },
    {
     "data": {
      "text/plain": [
       "<Figure size 648x432 with 0 Axes>"
      ]
     },
     "metadata": {},
     "output_type": "display_data"
    },
    {
     "data": {
      "text/plain": [
       "<Figure size 648x432 with 0 Axes>"
      ]
     },
     "metadata": {},
     "output_type": "display_data"
    },
    {
     "data": {
      "text/plain": [
       "<Figure size 648x432 with 0 Axes>"
      ]
     },
     "metadata": {},
     "output_type": "display_data"
    },
    {
     "data": {
      "text/plain": [
       "<Figure size 648x432 with 0 Axes>"
      ]
     },
     "metadata": {},
     "output_type": "display_data"
    },
    {
     "data": {
      "text/plain": [
       "<Figure size 648x432 with 0 Axes>"
      ]
     },
     "metadata": {},
     "output_type": "display_data"
    },
    {
     "data": {
      "text/plain": [
       "<Figure size 648x432 with 0 Axes>"
      ]
     },
     "metadata": {},
     "output_type": "display_data"
    },
    {
     "data": {
      "text/plain": [
       "<Figure size 648x432 with 0 Axes>"
      ]
     },
     "metadata": {},
     "output_type": "display_data"
    },
    {
     "data": {
      "text/plain": [
       "<Figure size 648x432 with 0 Axes>"
      ]
     },
     "metadata": {},
     "output_type": "display_data"
    },
    {
     "data": {
      "text/plain": [
       "<Figure size 648x432 with 0 Axes>"
      ]
     },
     "metadata": {},
     "output_type": "display_data"
    },
    {
     "data": {
      "text/plain": [
       "<Figure size 648x432 with 0 Axes>"
      ]
     },
     "metadata": {},
     "output_type": "display_data"
    },
    {
     "data": {
      "text/plain": [
       "<Figure size 648x432 with 0 Axes>"
      ]
     },
     "metadata": {},
     "output_type": "display_data"
    },
    {
     "data": {
      "text/plain": [
       "<Figure size 648x432 with 0 Axes>"
      ]
     },
     "metadata": {},
     "output_type": "display_data"
    },
    {
     "data": {
      "text/plain": [
       "<Figure size 648x432 with 0 Axes>"
      ]
     },
     "metadata": {},
     "output_type": "display_data"
    },
    {
     "data": {
      "text/plain": [
       "<Figure size 648x432 with 0 Axes>"
      ]
     },
     "metadata": {},
     "output_type": "display_data"
    },
    {
     "data": {
      "text/plain": [
       "<Figure size 648x432 with 0 Axes>"
      ]
     },
     "metadata": {},
     "output_type": "display_data"
    },
    {
     "data": {
      "text/plain": [
       "<Figure size 648x432 with 0 Axes>"
      ]
     },
     "metadata": {},
     "output_type": "display_data"
    },
    {
     "data": {
      "text/plain": [
       "<Figure size 648x432 with 0 Axes>"
      ]
     },
     "metadata": {},
     "output_type": "display_data"
    },
    {
     "data": {
      "text/plain": [
       "<Figure size 648x432 with 0 Axes>"
      ]
     },
     "metadata": {},
     "output_type": "display_data"
    },
    {
     "data": {
      "text/plain": [
       "<Figure size 648x432 with 0 Axes>"
      ]
     },
     "metadata": {},
     "output_type": "display_data"
    },
    {
     "data": {
      "text/plain": [
       "<Figure size 648x432 with 0 Axes>"
      ]
     },
     "metadata": {},
     "output_type": "display_data"
    },
    {
     "data": {
      "text/plain": [
       "<Figure size 648x432 with 0 Axes>"
      ]
     },
     "metadata": {},
     "output_type": "display_data"
    },
    {
     "data": {
      "text/plain": [
       "<Figure size 648x432 with 0 Axes>"
      ]
     },
     "metadata": {},
     "output_type": "display_data"
    },
    {
     "data": {
      "text/plain": [
       "<Figure size 648x432 with 0 Axes>"
      ]
     },
     "metadata": {},
     "output_type": "display_data"
    },
    {
     "data": {
      "text/plain": [
       "<Figure size 648x432 with 0 Axes>"
      ]
     },
     "metadata": {},
     "output_type": "display_data"
    },
    {
     "data": {
      "text/plain": [
       "<Figure size 648x432 with 0 Axes>"
      ]
     },
     "metadata": {},
     "output_type": "display_data"
    },
    {
     "data": {
      "text/plain": [
       "<Figure size 648x432 with 0 Axes>"
      ]
     },
     "metadata": {},
     "output_type": "display_data"
    },
    {
     "data": {
      "text/plain": [
       "<Figure size 648x432 with 0 Axes>"
      ]
     },
     "metadata": {},
     "output_type": "display_data"
    },
    {
     "data": {
      "text/plain": [
       "<Figure size 648x432 with 0 Axes>"
      ]
     },
     "metadata": {},
     "output_type": "display_data"
    },
    {
     "data": {
      "text/plain": [
       "<Figure size 648x432 with 0 Axes>"
      ]
     },
     "metadata": {},
     "output_type": "display_data"
    },
    {
     "data": {
      "text/plain": [
       "<Figure size 648x432 with 0 Axes>"
      ]
     },
     "metadata": {},
     "output_type": "display_data"
    },
    {
     "data": {
      "text/plain": [
       "<Figure size 648x432 with 0 Axes>"
      ]
     },
     "metadata": {},
     "output_type": "display_data"
    },
    {
     "data": {
      "text/plain": [
       "<Figure size 648x432 with 0 Axes>"
      ]
     },
     "metadata": {},
     "output_type": "display_data"
    },
    {
     "data": {
      "text/plain": [
       "<Figure size 648x432 with 0 Axes>"
      ]
     },
     "metadata": {},
     "output_type": "display_data"
    },
    {
     "data": {
      "text/plain": [
       "<Figure size 648x432 with 0 Axes>"
      ]
     },
     "metadata": {},
     "output_type": "display_data"
    },
    {
     "data": {
      "text/plain": [
       "<Figure size 648x432 with 0 Axes>"
      ]
     },
     "metadata": {},
     "output_type": "display_data"
    },
    {
     "data": {
      "text/plain": [
       "<Figure size 648x432 with 0 Axes>"
      ]
     },
     "metadata": {},
     "output_type": "display_data"
    },
    {
     "data": {
      "text/plain": [
       "<Figure size 648x432 with 0 Axes>"
      ]
     },
     "metadata": {},
     "output_type": "display_data"
    },
    {
     "data": {
      "text/plain": [
       "<Figure size 648x432 with 0 Axes>"
      ]
     },
     "metadata": {},
     "output_type": "display_data"
    },
    {
     "data": {
      "text/plain": [
       "<Figure size 648x432 with 0 Axes>"
      ]
     },
     "metadata": {},
     "output_type": "display_data"
    },
    {
     "data": {
      "text/plain": [
       "<Figure size 648x432 with 0 Axes>"
      ]
     },
     "metadata": {},
     "output_type": "display_data"
    },
    {
     "data": {
      "text/plain": [
       "<Figure size 648x432 with 0 Axes>"
      ]
     },
     "metadata": {},
     "output_type": "display_data"
    },
    {
     "data": {
      "text/plain": [
       "<Figure size 648x432 with 0 Axes>"
      ]
     },
     "metadata": {},
     "output_type": "display_data"
    },
    {
     "data": {
      "text/plain": [
       "<Figure size 648x432 with 0 Axes>"
      ]
     },
     "metadata": {},
     "output_type": "display_data"
    },
    {
     "data": {
      "text/plain": [
       "<Figure size 648x432 with 0 Axes>"
      ]
     },
     "metadata": {},
     "output_type": "display_data"
    },
    {
     "data": {
      "text/plain": [
       "<Figure size 648x432 with 0 Axes>"
      ]
     },
     "metadata": {},
     "output_type": "display_data"
    },
    {
     "data": {
      "text/plain": [
       "<Figure size 648x432 with 0 Axes>"
      ]
     },
     "metadata": {},
     "output_type": "display_data"
    },
    {
     "data": {
      "text/plain": [
       "<Figure size 648x432 with 0 Axes>"
      ]
     },
     "metadata": {},
     "output_type": "display_data"
    },
    {
     "data": {
      "text/plain": [
       "<Figure size 648x432 with 0 Axes>"
      ]
     },
     "metadata": {},
     "output_type": "display_data"
    },
    {
     "data": {
      "text/plain": [
       "<Figure size 648x432 with 0 Axes>"
      ]
     },
     "metadata": {},
     "output_type": "display_data"
    },
    {
     "data": {
      "text/plain": [
       "<Figure size 648x432 with 0 Axes>"
      ]
     },
     "metadata": {},
     "output_type": "display_data"
    },
    {
     "data": {
      "text/plain": [
       "<Figure size 648x432 with 0 Axes>"
      ]
     },
     "metadata": {},
     "output_type": "display_data"
    },
    {
     "data": {
      "text/plain": [
       "<Figure size 648x432 with 0 Axes>"
      ]
     },
     "metadata": {},
     "output_type": "display_data"
    },
    {
     "data": {
      "text/plain": [
       "<Figure size 648x432 with 0 Axes>"
      ]
     },
     "metadata": {},
     "output_type": "display_data"
    },
    {
     "data": {
      "text/plain": [
       "<Figure size 648x432 with 0 Axes>"
      ]
     },
     "metadata": {},
     "output_type": "display_data"
    },
    {
     "data": {
      "text/plain": [
       "<Figure size 648x432 with 0 Axes>"
      ]
     },
     "metadata": {},
     "output_type": "display_data"
    },
    {
     "data": {
      "text/plain": [
       "<Figure size 648x432 with 0 Axes>"
      ]
     },
     "metadata": {},
     "output_type": "display_data"
    },
    {
     "data": {
      "text/plain": [
       "<Figure size 648x432 with 0 Axes>"
      ]
     },
     "metadata": {},
     "output_type": "display_data"
    },
    {
     "data": {
      "text/plain": [
       "<Figure size 648x432 with 0 Axes>"
      ]
     },
     "metadata": {},
     "output_type": "display_data"
    },
    {
     "data": {
      "text/plain": [
       "<Figure size 648x432 with 0 Axes>"
      ]
     },
     "metadata": {},
     "output_type": "display_data"
    },
    {
     "data": {
      "text/plain": [
       "<Figure size 648x432 with 0 Axes>"
      ]
     },
     "metadata": {},
     "output_type": "display_data"
    },
    {
     "data": {
      "text/plain": [
       "<Figure size 648x432 with 0 Axes>"
      ]
     },
     "metadata": {},
     "output_type": "display_data"
    },
    {
     "data": {
      "text/plain": [
       "<Figure size 648x432 with 0 Axes>"
      ]
     },
     "metadata": {},
     "output_type": "display_data"
    },
    {
     "data": {
      "text/plain": [
       "<Figure size 648x432 with 0 Axes>"
      ]
     },
     "metadata": {},
     "output_type": "display_data"
    },
    {
     "data": {
      "text/plain": [
       "<Figure size 648x432 with 0 Axes>"
      ]
     },
     "metadata": {},
     "output_type": "display_data"
    },
    {
     "data": {
      "text/plain": [
       "<Figure size 648x432 with 0 Axes>"
      ]
     },
     "metadata": {},
     "output_type": "display_data"
    },
    {
     "data": {
      "text/plain": [
       "<Figure size 648x432 with 0 Axes>"
      ]
     },
     "metadata": {},
     "output_type": "display_data"
    },
    {
     "data": {
      "text/plain": [
       "<Figure size 648x432 with 0 Axes>"
      ]
     },
     "metadata": {},
     "output_type": "display_data"
    },
    {
     "data": {
      "text/plain": [
       "<Figure size 648x432 with 0 Axes>"
      ]
     },
     "metadata": {},
     "output_type": "display_data"
    },
    {
     "data": {
      "text/plain": [
       "<Figure size 648x432 with 0 Axes>"
      ]
     },
     "metadata": {},
     "output_type": "display_data"
    },
    {
     "data": {
      "text/plain": [
       "<Figure size 648x432 with 0 Axes>"
      ]
     },
     "metadata": {},
     "output_type": "display_data"
    },
    {
     "data": {
      "text/plain": [
       "<Figure size 648x432 with 0 Axes>"
      ]
     },
     "metadata": {},
     "output_type": "display_data"
    },
    {
     "data": {
      "text/plain": [
       "<Figure size 648x432 with 0 Axes>"
      ]
     },
     "metadata": {},
     "output_type": "display_data"
    },
    {
     "data": {
      "text/plain": [
       "<Figure size 648x432 with 0 Axes>"
      ]
     },
     "metadata": {},
     "output_type": "display_data"
    },
    {
     "data": {
      "text/plain": [
       "<Figure size 648x432 with 0 Axes>"
      ]
     },
     "metadata": {},
     "output_type": "display_data"
    },
    {
     "data": {
      "text/plain": [
       "<Figure size 648x432 with 0 Axes>"
      ]
     },
     "metadata": {},
     "output_type": "display_data"
    },
    {
     "data": {
      "text/plain": [
       "<Figure size 648x432 with 0 Axes>"
      ]
     },
     "metadata": {},
     "output_type": "display_data"
    },
    {
     "data": {
      "text/plain": [
       "<Figure size 648x432 with 0 Axes>"
      ]
     },
     "metadata": {},
     "output_type": "display_data"
    },
    {
     "data": {
      "text/plain": [
       "<Figure size 648x432 with 0 Axes>"
      ]
     },
     "metadata": {},
     "output_type": "display_data"
    },
    {
     "data": {
      "text/plain": [
       "<Figure size 648x432 with 0 Axes>"
      ]
     },
     "metadata": {},
     "output_type": "display_data"
    },
    {
     "data": {
      "text/plain": [
       "<Figure size 648x432 with 0 Axes>"
      ]
     },
     "metadata": {},
     "output_type": "display_data"
    },
    {
     "data": {
      "text/plain": [
       "<Figure size 648x432 with 0 Axes>"
      ]
     },
     "metadata": {},
     "output_type": "display_data"
    },
    {
     "data": {
      "text/plain": [
       "<Figure size 648x432 with 0 Axes>"
      ]
     },
     "metadata": {},
     "output_type": "display_data"
    },
    {
     "data": {
      "text/plain": [
       "<Figure size 648x432 with 0 Axes>"
      ]
     },
     "metadata": {},
     "output_type": "display_data"
    },
    {
     "data": {
      "text/plain": [
       "<Figure size 648x432 with 0 Axes>"
      ]
     },
     "metadata": {},
     "output_type": "display_data"
    },
    {
     "data": {
      "text/plain": [
       "<Figure size 648x432 with 0 Axes>"
      ]
     },
     "metadata": {},
     "output_type": "display_data"
    },
    {
     "data": {
      "text/plain": [
       "<Figure size 648x432 with 0 Axes>"
      ]
     },
     "metadata": {},
     "output_type": "display_data"
    },
    {
     "data": {
      "text/plain": [
       "<Figure size 648x432 with 0 Axes>"
      ]
     },
     "metadata": {},
     "output_type": "display_data"
    },
    {
     "data": {
      "text/plain": [
       "<Figure size 648x432 with 0 Axes>"
      ]
     },
     "metadata": {},
     "output_type": "display_data"
    },
    {
     "data": {
      "text/plain": [
       "<Figure size 648x432 with 0 Axes>"
      ]
     },
     "metadata": {},
     "output_type": "display_data"
    },
    {
     "data": {
      "text/plain": [
       "<Figure size 648x432 with 0 Axes>"
      ]
     },
     "metadata": {},
     "output_type": "display_data"
    },
    {
     "data": {
      "text/plain": [
       "<Figure size 648x432 with 0 Axes>"
      ]
     },
     "metadata": {},
     "output_type": "display_data"
    },
    {
     "data": {
      "text/plain": [
       "<Figure size 648x432 with 0 Axes>"
      ]
     },
     "metadata": {},
     "output_type": "display_data"
    },
    {
     "data": {
      "text/plain": [
       "<Figure size 648x432 with 0 Axes>"
      ]
     },
     "metadata": {},
     "output_type": "display_data"
    },
    {
     "data": {
      "text/plain": [
       "<Figure size 648x432 with 0 Axes>"
      ]
     },
     "metadata": {},
     "output_type": "display_data"
    },
    {
     "data": {
      "text/plain": [
       "<Figure size 648x432 with 0 Axes>"
      ]
     },
     "metadata": {},
     "output_type": "display_data"
    },
    {
     "data": {
      "text/plain": [
       "<Figure size 648x432 with 0 Axes>"
      ]
     },
     "metadata": {},
     "output_type": "display_data"
    },
    {
     "data": {
      "text/plain": [
       "<Figure size 648x432 with 0 Axes>"
      ]
     },
     "metadata": {},
     "output_type": "display_data"
    },
    {
     "data": {
      "text/plain": [
       "<Figure size 648x432 with 0 Axes>"
      ]
     },
     "metadata": {},
     "output_type": "display_data"
    },
    {
     "data": {
      "text/plain": [
       "<Figure size 648x432 with 0 Axes>"
      ]
     },
     "metadata": {},
     "output_type": "display_data"
    },
    {
     "data": {
      "text/plain": [
       "<Figure size 648x432 with 0 Axes>"
      ]
     },
     "metadata": {},
     "output_type": "display_data"
    },
    {
     "data": {
      "text/plain": [
       "<Figure size 648x432 with 0 Axes>"
      ]
     },
     "metadata": {},
     "output_type": "display_data"
    },
    {
     "data": {
      "text/plain": [
       "<Figure size 648x432 with 0 Axes>"
      ]
     },
     "metadata": {},
     "output_type": "display_data"
    },
    {
     "data": {
      "text/plain": [
       "<Figure size 648x432 with 0 Axes>"
      ]
     },
     "metadata": {},
     "output_type": "display_data"
    },
    {
     "data": {
      "text/plain": [
       "<Figure size 648x432 with 0 Axes>"
      ]
     },
     "metadata": {},
     "output_type": "display_data"
    },
    {
     "data": {
      "text/plain": [
       "<Figure size 648x432 with 0 Axes>"
      ]
     },
     "metadata": {},
     "output_type": "display_data"
    },
    {
     "data": {
      "text/plain": [
       "<Figure size 648x432 with 0 Axes>"
      ]
     },
     "metadata": {},
     "output_type": "display_data"
    },
    {
     "data": {
      "text/plain": [
       "<Figure size 648x432 with 0 Axes>"
      ]
     },
     "metadata": {},
     "output_type": "display_data"
    },
    {
     "data": {
      "text/plain": [
       "<Figure size 648x432 with 0 Axes>"
      ]
     },
     "metadata": {},
     "output_type": "display_data"
    },
    {
     "data": {
      "text/plain": [
       "<Figure size 648x432 with 0 Axes>"
      ]
     },
     "metadata": {},
     "output_type": "display_data"
    },
    {
     "data": {
      "text/plain": [
       "<Figure size 648x432 with 0 Axes>"
      ]
     },
     "metadata": {},
     "output_type": "display_data"
    },
    {
     "data": {
      "text/plain": [
       "<Figure size 648x432 with 0 Axes>"
      ]
     },
     "metadata": {},
     "output_type": "display_data"
    },
    {
     "data": {
      "text/plain": [
       "<Figure size 648x432 with 0 Axes>"
      ]
     },
     "metadata": {},
     "output_type": "display_data"
    },
    {
     "data": {
      "text/plain": [
       "<Figure size 648x432 with 0 Axes>"
      ]
     },
     "metadata": {},
     "output_type": "display_data"
    },
    {
     "data": {
      "text/plain": [
       "<Figure size 648x432 with 0 Axes>"
      ]
     },
     "metadata": {},
     "output_type": "display_data"
    },
    {
     "data": {
      "text/plain": [
       "<Figure size 648x432 with 0 Axes>"
      ]
     },
     "metadata": {},
     "output_type": "display_data"
    },
    {
     "data": {
      "text/plain": [
       "<Figure size 648x432 with 0 Axes>"
      ]
     },
     "metadata": {},
     "output_type": "display_data"
    },
    {
     "data": {
      "text/plain": [
       "<Figure size 648x432 with 0 Axes>"
      ]
     },
     "metadata": {},
     "output_type": "display_data"
    },
    {
     "data": {
      "text/plain": [
       "<Figure size 648x432 with 0 Axes>"
      ]
     },
     "metadata": {},
     "output_type": "display_data"
    },
    {
     "data": {
      "text/plain": [
       "<Figure size 648x432 with 0 Axes>"
      ]
     },
     "metadata": {},
     "output_type": "display_data"
    },
    {
     "data": {
      "text/plain": [
       "<Figure size 648x432 with 0 Axes>"
      ]
     },
     "metadata": {},
     "output_type": "display_data"
    },
    {
     "data": {
      "text/plain": [
       "<Figure size 648x432 with 0 Axes>"
      ]
     },
     "metadata": {},
     "output_type": "display_data"
    },
    {
     "data": {
      "text/plain": [
       "<Figure size 648x432 with 0 Axes>"
      ]
     },
     "metadata": {},
     "output_type": "display_data"
    },
    {
     "data": {
      "text/plain": [
       "<Figure size 648x432 with 0 Axes>"
      ]
     },
     "metadata": {},
     "output_type": "display_data"
    },
    {
     "data": {
      "text/plain": [
       "<Figure size 648x432 with 0 Axes>"
      ]
     },
     "metadata": {},
     "output_type": "display_data"
    },
    {
     "data": {
      "text/plain": [
       "<Figure size 648x432 with 0 Axes>"
      ]
     },
     "metadata": {},
     "output_type": "display_data"
    },
    {
     "data": {
      "text/plain": [
       "<Figure size 648x432 with 0 Axes>"
      ]
     },
     "metadata": {},
     "output_type": "display_data"
    },
    {
     "data": {
      "text/plain": [
       "<Figure size 648x432 with 0 Axes>"
      ]
     },
     "metadata": {},
     "output_type": "display_data"
    },
    {
     "data": {
      "text/plain": [
       "<Figure size 648x432 with 0 Axes>"
      ]
     },
     "metadata": {},
     "output_type": "display_data"
    },
    {
     "data": {
      "text/plain": [
       "<Figure size 648x432 with 0 Axes>"
      ]
     },
     "metadata": {},
     "output_type": "display_data"
    },
    {
     "data": {
      "text/plain": [
       "<Figure size 648x432 with 0 Axes>"
      ]
     },
     "metadata": {},
     "output_type": "display_data"
    },
    {
     "data": {
      "text/plain": [
       "<Figure size 648x432 with 0 Axes>"
      ]
     },
     "metadata": {},
     "output_type": "display_data"
    },
    {
     "data": {
      "text/plain": [
       "<Figure size 648x432 with 0 Axes>"
      ]
     },
     "metadata": {},
     "output_type": "display_data"
    },
    {
     "data": {
      "text/plain": [
       "<Figure size 648x432 with 0 Axes>"
      ]
     },
     "metadata": {},
     "output_type": "display_data"
    },
    {
     "data": {
      "text/plain": [
       "<Figure size 648x432 with 0 Axes>"
      ]
     },
     "metadata": {},
     "output_type": "display_data"
    },
    {
     "data": {
      "text/plain": [
       "<Figure size 648x432 with 0 Axes>"
      ]
     },
     "metadata": {},
     "output_type": "display_data"
    },
    {
     "data": {
      "text/plain": [
       "<Figure size 648x432 with 0 Axes>"
      ]
     },
     "metadata": {},
     "output_type": "display_data"
    },
    {
     "data": {
      "text/plain": [
       "<Figure size 648x432 with 0 Axes>"
      ]
     },
     "metadata": {},
     "output_type": "display_data"
    },
    {
     "data": {
      "text/plain": [
       "<Figure size 648x432 with 0 Axes>"
      ]
     },
     "metadata": {},
     "output_type": "display_data"
    },
    {
     "data": {
      "text/plain": [
       "<Figure size 648x432 with 0 Axes>"
      ]
     },
     "metadata": {},
     "output_type": "display_data"
    }
   ],
   "source": [
    "try:\n",
    "    for tweets in batch(T, BATCH_SIZE):\n",
    "        mat = sp.sparse.dok_matrix((BATCH_SIZE, len(words)))\n",
    "        for row, tweet in enumerate(tweets):\n",
    "            for word in tweet.lower().split():\n",
    "                if word in word_to_index:\n",
    "                    mat[row, word_to_index[word]] = 1.\n",
    "        kmeans.partial_fit(mat.tocsr())\n",
    "        wordcounts = [nlargest(50, zip(words, kmeans.cluster_centers_[i])) for i in range(kmeans.n_clusters)]\n",
    "        wordclouds(wordcounts)\n",
    "except:\n",
    "    pass"
   ]
  },
  {
   "cell_type": "code",
   "execution_count": null,
   "metadata": {},
   "outputs": [],
   "source": []
  },
  {
   "cell_type": "markdown",
   "metadata": {},
   "source": [
    "### Let's move on to question (3): Can we build a few profiles based on information provided by users in their description?"
   ]
  },
  {
   "cell_type": "code",
   "execution_count": 837,
   "metadata": {},
   "outputs": [],
   "source": [
    "vectorizer = TfidfVectorizer()\n",
    "X = vectorizer.fit_transform(df['user_description'].dropna().drop_duplicates())"
   ]
  },
  {
   "cell_type": "code",
   "execution_count": 838,
   "metadata": {},
   "outputs": [
    {
     "data": {
      "text/plain": [
       "(17042, 42408)"
      ]
     },
     "execution_count": 838,
     "metadata": {},
     "output_type": "execute_result"
    }
   ],
   "source": [
    "X.shape"
   ]
  },
  {
   "cell_type": "code",
   "execution_count": 839,
   "metadata": {},
   "outputs": [
    {
     "name": "stdout",
     "output_type": "stream",
     "text": [
      "['911survivor', '9189', '91b', '92', '9228', '92i', '93', '9333', '93歳の義母', '94', '945619', '9471', '94line', '95', '9558', '96', '97', '972', '97524', '9781432741488']\n"
     ]
    }
   ],
   "source": [
    "print(vectorizer.get_feature_names()[1000:1020])"
   ]
  },
  {
   "cell_type": "code",
   "execution_count": 840,
   "metadata": {},
   "outputs": [],
   "source": [
    "dfDBS = df['user_description'].dropna().drop_duplicates().reset_index()"
   ]
  },
  {
   "cell_type": "code",
   "execution_count": 841,
   "metadata": {},
   "outputs": [],
   "source": [
    "clustering = DBSCAN(eps=.5, min_samples=3).fit(X)"
   ]
  },
  {
   "cell_type": "code",
   "execution_count": 842,
   "metadata": {},
   "outputs": [],
   "source": [
    "dfDBS['dbscan'] = clustering.labels_"
   ]
  },
  {
   "cell_type": "code",
   "execution_count": 843,
   "metadata": {},
   "outputs": [
    {
     "data": {
      "text/plain": [
       "array([-1,  0,  1,  2,  3,  4,  5,  6,  7,  8,  9, 37, 10, 11, 12, 13, 14,\n",
       "       15, 16, 17, 18, 19, 20, 28, 21, 22, 23, 24, 25, 26, 27, 29, 30, 31,\n",
       "       32, 33, 34, 35, 36])"
      ]
     },
     "execution_count": 843,
     "metadata": {},
     "output_type": "execute_result"
    }
   ],
   "source": [
    "dfDBS['dbscan'].unique()"
   ]
  },
  {
   "cell_type": "code",
   "execution_count": 844,
   "metadata": {},
   "outputs": [
    {
     "data": {
      "text/html": [
       "<div>\n",
       "<style scoped>\n",
       "    .dataframe tbody tr th:only-of-type {\n",
       "        vertical-align: middle;\n",
       "    }\n",
       "\n",
       "    .dataframe tbody tr th {\n",
       "        vertical-align: top;\n",
       "    }\n",
       "\n",
       "    .dataframe thead th {\n",
       "        text-align: right;\n",
       "    }\n",
       "</style>\n",
       "<table border=\"1\" class=\"dataframe\">\n",
       "  <thead>\n",
       "    <tr style=\"text-align: right;\">\n",
       "      <th></th>\n",
       "      <th>index</th>\n",
       "      <th>user_description</th>\n",
       "      <th>dbscan</th>\n",
       "    </tr>\n",
       "  </thead>\n",
       "  <tbody>\n",
       "    <tr>\n",
       "      <th>309</th>\n",
       "      <td>408</td>\n",
       "      <td>He/Him</td>\n",
       "      <td>1</td>\n",
       "    </tr>\n",
       "    <tr>\n",
       "      <th>12722</th>\n",
       "      <td>16917</td>\n",
       "      <td>He/him</td>\n",
       "      <td>1</td>\n",
       "    </tr>\n",
       "    <tr>\n",
       "      <th>12943</th>\n",
       "      <td>17196</td>\n",
       "      <td>[he/him] 🏳️‍🌈</td>\n",
       "      <td>1</td>\n",
       "    </tr>\n",
       "  </tbody>\n",
       "</table>\n",
       "</div>"
      ],
      "text/plain": [
       "       index user_description  dbscan\n",
       "309      408           He/Him       1\n",
       "12722  16917           He/him       1\n",
       "12943  17196    [he/him] 🏳️‍🌈       1"
      ]
     },
     "execution_count": 844,
     "metadata": {},
     "output_type": "execute_result"
    }
   ],
   "source": [
    "dfDBS[dfDBS['dbscan'] == 1]"
   ]
  },
  {
   "cell_type": "code",
   "execution_count": 845,
   "metadata": {
    "scrolled": false
   },
   "outputs": [
    {
     "name": "stdout",
     "output_type": "stream",
     "text": [
      "user names:\n",
      "He/Him\n",
      "He/him\n",
      "[he/him] 🏳️‍🌈\n",
      "\n",
      "\n",
      "tweets:\n",
      "RT @NASAInSight: ICYMI: The mole is on the move.\n",
      "This video recaps our latest heat probe recovery efforts. We still have a long way to go.🤞…\n",
      "RT @unabanned: The Soviets had a woman fly rocket two years later. Her name was Valentina Tereshkova and she became the first lady astronau…\n",
      "RT @cicilavraie: trop drôle les mecs en commentaires qui ironisent sur la vaisselle &amp; le ménage alors qu'à 25 ans ils savent pas laver leur…\n",
      "\n",
      "\n",
      "\n",
      "\n",
      "user names:\n",
      "Manok Na Pula\n",
      "MANOK NA PULA\n",
      "manok na pula\n",
      "Manok na pula\n",
      "\n",
      "\n",
      "tweets:\n",
      "RT @sayatttjaimeee: at\n",
      "sinong\n",
      "tanga\n",
      "ang\n",
      "nasa\n",
      "twitter\n",
      "kesa\n",
      "nag-aaral\n",
      "lt yung nasa instagram HAHAHAHAHA amp\n",
      "RT @wantamad13: Pag nasa school:\n",
      "\"Panibagong araw panibagong katarantaduhan nanaman\"\n",
      "Pag nasa bahay:\n",
      "\"Panibagong araw panibagong hugas ng p…\n",
      "Mahal ko nasa header q.\n",
      "\n",
      "\n",
      "\n",
      "\n",
      "user names:\n",
      "Happy\n",
      "happy\n",
      "Happy 😊\n",
      "\n",
      "\n",
      "tweets:\n",
      "RT @NASA: Even though they were designed for a two-year mission, our Van Allen Probes lasted for about seven years in one of the harshest e…\n",
      "RT @troobie_md: Dahil puro students at teachers lang ang nasa loob, heto kami sa labas! Thanks po uli sa generous sponsors namin! To God be…\n",
      "RT @MsM1995: Nasa EB si @mainedcm!😍\n",
      "\n",
      "#IsaPaFeelGoodWeekend\n",
      "#MaineMendoza\n",
      "\n",
      " https://t.co/grmvel2hJj\n",
      "\n",
      "\n",
      "\n",
      "\n",
      "user names:\n",
      "Simple❤\n",
      "simple\n",
      "Simple....\n",
      "Simple\n",
      "\n",
      "\n",
      "tweets:\n",
      "RT @jeyynuhhhh: saana ol breakfast in bed 🥺❤️❤️❤️ https://t.co/PhXtjN8ILa\n",
      "RT @MDyey21: @chefgoosegirl @panotsha @aldenrichards02 Maganda ung Ikaw Pala. Though I'm really waiting for the other one. Yung nasa dining…\n",
      "RT @DLorania: Nasa Top trends a din,siya waiting nalang sa mga Big Account \n",
      "\n",
      "#MMKTheYamyamStory \n",
      "\n",
      "@gucong_yamyam \n",
      "@MMKOfficial https://t.co…\n",
      "RT @liezlibarra1: Mukhang naunahan ng katapangan ! Ano na Boss Gino ?!nasa Mindanao ka na ei....ahahahaha \n",
      "\n",
      "NCCDavaoM&amp;Gwith KIANO\n",
      "\n",
      " https:/…\n",
      "\n",
      "\n",
      "\n",
      "\n",
      "user names:\n",
      "#MAGA\n",
      "#MAGA,\n",
      "MAGA⭐️⭐️⭐️\n",
      "@MAGA\n",
      "\n",
      "\n",
      "tweets:\n",
      "RT @IvankaTrump: The 1st all-women spacewalk is scheduled for tomorrow at 7:50am ET!\n",
      "Watch live 🎥 at https://t.co/rDMpbkYDtX.  🚀👩‍🚀  https:…\n",
      "RT @IvankaTrump: The 1st all-women spacewalk is scheduled for tomorrow at 7:50am ET!\n",
      "Watch live 🎥 at https://t.co/rDMpbkYDtX.  🚀👩‍🚀  https:…\n",
      "RT @WhiteHouse: \"Please stand by for a call from the President of the United States.\" \n",
      "\n",
      "Congratulations to @NASA astronauts @Astro_Christin…\n",
      "RT @RowdyRick73: Well TBF math isn't her strong suit and she has a tenuous grip on reality. I mean she was an adult when NASA was still in…\n",
      "\n",
      "\n",
      "\n",
      "\n",
      "user names:\n",
      "being a human\n",
      "A human. Being. 💛🇲🇻\n",
      "Human being👽\n",
      "\n",
      "\n",
      "tweets:\n",
      "RT @marlina79: She takes time to enjoy which is nice...\n",
      "\n",
      "#ILoveYouMaineMendoza https://t.co/m6B91xO9Z9\n",
      "RT @siruarts: Dhen emme avahah NASA in Mars ah kuraa dhathuruga sakindhaa gengos dheyne gotheh nehtha.. anburaa nugenna gothah.. molhethi r…\n",
      "RT @Pvlgaa: Pourtant y’a pas d’enfants à garder dans l’espace non ? https://t.co/G0LglRn8R4\n",
      "\n",
      "\n",
      "\n",
      "\n",
      "user names:\n",
      "la vie est belle ❣️\n",
      "La vie est belle\n",
      "La vie est belle 💚\n",
      "La vie est belle 💕\n",
      "La vie est belle 💛\n",
      "\n",
      "\n",
      "tweets:\n",
      "RT @Treshameyshang: \"mag tsunami unta para suspend klase\" okay first of all, gago ka? Ikaw kaya nasa place na duol ug dagat? Sige daw. Pasa…\n",
      "RT @fabbrdn: Mdrrr y’a autant de poussière que sa sur la Lune ? https://t.co/OwcLlnZOZF\n",
      "RT @Daisy52256684: @yamswang Kausap.ko yun kita kits sa plaza ten pm pa LNG sleep na ako din alarm ko twelve but sorry d kinaya nagising ak…\n",
      "Hindi na ako napipirmi sa bahay, lagi nalng nasa labasan.\n",
      "RT @pat_05: @mainedcm Day 1 - yung panahong SINUNGITAN kita, sabi ko.. \"SINO BA YANG BABAE NA YAN N NASA SULOK\"?? NGAYON, jusko! nasa TUKTO…\n",
      "\n",
      "\n",
      "\n",
      "\n",
      "user names:\n",
      "| Jeremiah 29:11 |\n",
      "Jeremiah 29:11 ✨\n",
      "Jeremiah 29:11\n",
      "JEREMIAH 29:11 ✨\n",
      "\n",
      "\n",
      "tweets:\n",
      "Feeling ko nasa dugo na talaga namin ang magparty. 😂\n",
      "Gusto ko ga pag akoy nagpapatugtog, yung kahit nasa 2nd floor ka ng bahay nyo e ramdam na ramdam mo yung bass HAHAHAHAAHAHHA\n",
      "RT @StrongIam: Qing Inang commercial to! Hahaha\n",
      "\n",
      "Basahin nyo yung nasa baba. https://t.co/uIS21dSnjl\n",
      "MAGSESEND NA LANG KAYO NG VOICE RECORD NYO. BABASAHIN NYO LANG YUNG NASA LIBRO DI NYO PA AGAD MAGAWA???!!! nakanang… https://t.co/OKVolqu18E\n",
      "\n",
      "\n",
      "\n",
      "\n",
      "user names:\n",
      "new account\n",
      "new account🤪\n",
      "NEW ACCOUNT😘\n",
      "\n",
      "\n",
      "tweets:\n",
      "@KurtMadridano nasa point na ko ng buhay ko na pagpasok ko ng trabaho 3 am agad hinihintay ko\n",
      "@christaneee Hahaaahaha takte wala namann ako nasa ospital ako aksi nag pacheck up ako pero nabanggit ni kim yon ha… https://t.co/BR0yDUFUcn\n",
      "Yung feeling na asa 36th floor ka lang dapat tas feeling mo nasa bandang 10th floor ka na? Ukis ti saba. Inyan ngayen ati?\n",
      "\n",
      "\n",
      "\n",
      "\n",
      "user names:\n",
      "carpe diem 🤙\n",
      "Carpe Diem\n",
      "carpe diem 🔮\n",
      "\n",
      "\n",
      "tweets:\n",
      "haneeep na yaan isang oras nang nasa jeep\n",
      "RT @jondaly: Two women floating in space were forced to talk to a rapist. https://t.co/IAAXXUqpID\n",
      "they randomly called me during a sad night. maybe they were able to sense something, kahit na nasa baguio man sila.… https://t.co/Ek9G0hHmh4\n",
      "\n",
      "\n",
      "\n",
      "\n",
      "user names:\n",
      "be kind\n",
      "be kind.\n",
      "Be kind.\n",
      "\n",
      "\n",
      "tweets:\n",
      "Gugusto ng nasa malayo pero haharot sa ng nasa malapit\n",
      "RT @HillaryClinton: When I was a little girl, I wrote to NASA and told them I dreamed of being an astronaut. \n",
      "\n",
      "They wrote back and said the…\n",
      "RT @magicheart21: I love how the movie ended with all the unknotted ends and still unfulfilled big dreams because it’s hopeful for what’s i…\n",
      "\n",
      "\n",
      "\n",
      "\n",
      "user names:\n",
      "—maine mendoza.\n",
      "I love MAINE MENDOZA\n",
      "❤️Maine Mendoza\n",
      "i love MAINE MENDOZA\n",
      "\n",
      "\n",
      "tweets:\n",
      "RT @cassiemaiden: May scene pala nung naka focus kay meng ang cam napabulalas ako \"ang ganda talaga ng bebe ko\" natawa yung nasa likod nami…\n",
      "RT @EtincaJilius12: 4. Tinuruan tayo kung paano makapag adopt hindi lang sa mga deaf kundi sa lahat ng klase ng tao may kapansanan man o wa…\n",
      "RT @Reynaldo0130: Nasa bs at nakapila siguro sa oras nato ang karamihan  \n",
      "@mainedcm \n",
      "#MaineMendoza #DADDYSGURLFeelingPogi\n",
      "RT @SmMartin10: Aba Astig na sila ang mga Feeling Pogi nasa DG...Feeling Artistahin na sila 😄.#DADDYSGURLFeelingPogi\n",
      "\n",
      "\n",
      "\n",
      "\n",
      "user names:\n",
      "Hakuna Matata🐸\n",
      "HAKUNA MATATA\n",
      "Hakuna Matata\n",
      "\n",
      "\n",
      "tweets:\n",
      "RT @NASA: On Friday, Oct. 18, @astro_christina and @astro_jessica will venture outside @Space_Station for a spacewalk, the first to be perf…\n",
      "Pa pm nga po ako kung ano mga pt na gagawin kasi nasa utak ko manood lang ng vlogs mamaya🙇🏻‍♂️\n",
      "RT @lustermood: Ang sexy naman kasi ni Nadine kaya si boy bakod nasa likod lang niya 😄😍\n",
      "\n",
      "https://t.co/Bfhl8DawEm\n",
      "\n",
      "\n",
      "\n",
      "\n",
      "user names:\n",
      "Philippians 4:13 💯\n",
      "Philippians 4:13\n",
      "Philippians 4:13 🙌💖\n",
      "\n",
      "\n",
      "tweets:\n",
      "dabest feeling: Late ka na, tas nasa pinaka unahan ka ng traffic. 🙃\n",
      "buti pa sila nasa ilo-ilo :(((\n",
      "RT @padillacathh: “Iba talaga glow up pag nasa tamang tao ka”\n",
      "\n",
      "NOPE. IBA GLOW UP MO PAG MASAYA KA SA BUHAY MO , NATUTUNAN MO MAHALIN SARILI…\n",
      "\n",
      "\n",
      "\n",
      "\n",
      "user names:\n",
      "-15✨\n",
      "15\n",
      "; | 15\n",
      "15•🇵🇭\n",
      "💚#15💚\n",
      "\n",
      "\n",
      "tweets:\n",
      "HAHAHAHAHAHAHAHA NASA LOOB ANG KULO🤦‍♀️\n",
      "😺✏ — pag nasa mood na. https://t.co/4vOYFHTIZh\n",
      "RT @jastumapat: teka,,, ano yung nasa last pic? https://t.co/mI843Pd8lR\n",
      "RT @padillacathh: “Iba talaga glow up pag nasa tamang tao ka”\n",
      "\n",
      "NOPE. IBA GLOW UP MO PAG MASAYA KA SA BUHAY MO , NATUTUNAN MO MAHALIN SARILI…\n",
      "Who you nga po pala ngaun ung mga namba bash sa TEAM MOTOLITE nung first conference na puro HYPE PLAYERS ang naka l… https://t.co/Jc5I5vg2rc\n",
      "\n",
      "\n",
      "\n",
      "\n",
      "user names:\n",
      "She, Her\n",
      "she/her.\n",
      "• 🏳️‍🌈 • she/her\n",
      "she/her\n",
      "She/her.\n",
      "\n",
      "\n",
      "tweets:\n",
      "RT @NASA: On Friday, Oct. 18, @astro_christina and @astro_jessica will venture outside @Space_Station for a spacewalk, the first to be perf…\n",
      "RT @KamalaHarris: For the first time in our nation’s history, an all-female crew walked in space today. It’s more than historic—it’s a remi…\n",
      "RT @cicilavraie: trop drôle les mecs en commentaires qui ironisent sur la vaisselle &amp; le ménage alors qu'à 25 ans ils savent pas laver leur…\n",
      "RT @HillaryClinton: When I was a little girl, I wrote to NASA and told them I dreamed of being an astronaut. \n",
      "\n",
      "They wrote back and said the…\n",
      "RT @DrakeGatsby: [Tour of NASA Headquarters] \n",
      "\n",
      "Guide: So NASA was founded in July of 1958 with the goal- \n",
      "\n",
      "Me: *interrupting* Is it true th…\n",
      "\n",
      "\n",
      "\n",
      "\n",
      "user names:\n",
      "16\n",
      "16💛\n",
      "16•🦄/🌈\n",
      "\n",
      "\n",
      "tweets:\n",
      "recto pa school ko pero nasa herbosa pa lg ako,tas 8:15 start ng exam,anong oras na 8:02 na!!\n",
      "lakas tama ko pinapalabas ko si zam sabi ko nasa 7eleven ako kahit wala\n",
      "RT @StrongIam: Qing Inang commercial to! Hahaha\n",
      "\n",
      "Basahin nyo yung nasa baba. https://t.co/uIS21dSnjl\n",
      "\n",
      "\n",
      "\n",
      "\n",
      "user names:\n",
      "Add bio to your profile\n",
      "Add a bio to your profile\n",
      "Add a bio to my profile\n",
      "\n",
      "\n",
      "tweets:\n",
      "#IntroduceHazelToANewListener Si Superman may 'S' sa dibdib kase small ang ano nya, este Kryotonian symbol yun for… https://t.co/tEBLU86VD1\n",
      "@jaredkim @NASA\n",
      "RT @StrongIam: Qing Inang commercial to! Hahaha\n",
      "\n",
      "Basahin nyo yung nasa baba. https://t.co/uIS21dSnjl\n",
      "\n",
      "\n",
      "\n",
      "\n",
      "user names:\n",
      "To GOD be the glory.\n",
      "To God be the Glory💖\n",
      "To GOD be the Glory\n",
      "god to be glory\n",
      "\n",
      "\n",
      "tweets:\n",
      "RT @amethystxmw: Japorms talaga si grandpa hahahahaha\n",
      "\n",
      "#MayWard #MaymayEntrata #EdwardBarber https://t.co/hxXpAKYbi8\n",
      "Nasa kaniya ang buhay; at ang buhay ay siyang ilaw ng mga tao.\n",
      "\n",
      "Juan 1:4\n",
      "Tagalog (Ang Dating Biblia) (1905) (TAB)\n",
      "#SuicideIsNeverAnOption\n",
      "RT @ONEnananuuh: Yung nag away kayo ng jowa mo habang nasa date pero favorite food mo yung inorder niya hahaha\n",
      "\n",
      "Singvestigator Angge https:…\n",
      "RT @AngBagsikKo: Ito ay para sa akin lang at wala akong paki sa iba HEADPHONES, COUCH, LAPTOP kulang na lang aquarium Alden 😂😂😂 parang nasa…\n",
      "\n",
      "\n",
      "\n",
      "\n",
      "user names:\n",
      "17 | 🌙\n",
      "17,🇫🇷\n",
      "17🍓\n",
      "🇵🇭/ 🇭🇰 | 17\n",
      "17^\n",
      "17 ✌\n",
      "\n",
      "\n",
      "tweets:\n",
      "RT @StrongIam: Qing Inang commercial to! Hahaha\n",
      "\n",
      "Basahin nyo yung nasa baba. https://t.co/uIS21dSnjl\n",
      "RT @fabbrdn: Mdrrr y’a autant de poussière que sa sur la Lune ? https://t.co/OwcLlnZOZF\n",
      "kala ko nasa gubat ako nung nakita ko yung umagaw sa crush ko\n",
      "RT @padillacathh: “Iba talaga glow up pag nasa tamang tao ka”\n",
      "\n",
      "NOPE. IBA GLOW UP MO PAG MASAYA KA SA BUHAY MO , NATUTUNAN MO MAHALIN SARILI…\n",
      "Hindi ko alam na pinicturan pala ako ni mateo kanina habang nasa camp boomy kami ahahha\n",
      "RT @elfamosopaulo: https://t.co/ItalP5SAZN https://t.co/OTsU5S51oJ\n",
      "\n",
      "\n",
      "\n",
      "\n",
      "user names:\n",
      "Student Athlete🐴🏐//❤\n",
      "student🎓 athlete🏀\n",
      "student-athlete\n",
      "STUDENT | ATHLETE\n",
      "\n",
      "\n",
      "tweets:\n",
      "@ericopter_ @dei Ako sa haus waiting kay ano, tas si dei nasa salon pa HAHAHAH\n",
      "Nasa akin pa yung picture,pero yung nasa picture wala na\n",
      "RT @padillacathh: “Iba talaga glow up pag nasa tamang tao ka”\n",
      "\n",
      "NOPE. IBA GLOW UP MO PAG MASAYA KA SA BUHAY MO , NATUTUNAN MO MAHALIN SARILI…\n",
      "Overthink nanaman😓\n",
      "\n",
      "\n",
      "\n",
      "\n",
      "user names:\n",
      "21 🇸🇳🇨🇵\n",
      "|21|\n",
      "🇨🇮||21\n",
      "👑 | 21 | Ψ\n",
      "21.\n",
      "\n",
      "\n",
      "tweets:\n",
      "RT @TRODRAWLE: Pourtant y’a pas d’enfants à garder dans l’espace non ? https://t.co/G0LglRn8R4\n",
      "RT @fabbrdn: Mdrrr y’a autant de poussière que sa sur la Lune ? https://t.co/OwcLlnZOZF\n",
      "RT @fabbrdn: Mdrrr y’a autant de poussière que sa sur la Lune ? https://t.co/OwcLlnZOZF\n",
      "RT @ViceGandaLife: Nasa point nako ng buhay ko na ayaw ko na mag explain, if someone don't understand me, \"okay\" nalang sasabihin ko. If I…\n",
      "@aiElleria @queenchikin OMG NASA LISTAHAN AKOO!! HAHA HUNTINGIN KA PO NAMIN NI ATE AIRELLE 🤣🤣\n",
      "\n",
      "\n",
      "\n",
      "\n",
      "user names:\n",
      "Hi\n",
      "hi\n",
      "hi.\n",
      "\n",
      "\n",
      "tweets:\n",
      "@NASA How long does it take to put on the space suits? (WARWICK Valley central school district)\n",
      "What age did you st… https://t.co/MsI8kbwbMV\n",
      "RT @HillaryClinton: When I was a little girl, I wrote to NASA and told them I dreamed of being an astronaut. \n",
      "\n",
      "They wrote back and said the…\n",
      "RT @SB19Official: Sobrang thankful po kami sa lahat ng nagpunta sa SM City BF Parañaque! Para kaming nasa sky dahil may blue kahit saan 💙 D…\n",
      "\n",
      "\n",
      "\n",
      "\n",
      "user names:\n",
      "PSG 🔵🔴\n",
      "| PSG |🇮🇹\n",
      "#PSG\n",
      "Psg\n",
      "\n",
      "\n",
      "tweets:\n",
      "RT @fabbrdn: Mdrrr y’a autant de poussière que sa sur la Lune ? https://t.co/OwcLlnZOZF\n",
      "RT @fabbrdn: Mdrrr y’a autant de poussière que sa sur la Lune ? https://t.co/OwcLlnZOZF\n",
      "RT @fabbrdn: Mdrrr y’a autant de poussière que sa sur la Lune ? https://t.co/OwcLlnZOZF\n",
      "RT @fabbrdn: Mdrrr y’a autant de poussière que sa sur la Lune ? https://t.co/OwcLlnZOZF\n",
      "\n",
      "\n",
      "\n",
      "\n",
      "user names:\n",
      "QLF ⚜️\n",
      "Qlf\n",
      "QLF ✌🔥\n",
      "\n",
      "\n",
      "tweets:\n",
      "RT @fabbrdn: Mdrrr y’a autant de poussière que sa sur la Lune ? https://t.co/OwcLlnZOZF\n",
      "RT @fabbrdn: Mdrrr y’a autant de poussière que sa sur la Lune ? https://t.co/OwcLlnZOZF\n",
      "RT @TRODRAWLE: Pourtant y’a pas d’enfants à garder dans l’espace non ? https://t.co/G0LglRn8R4\n",
      "\n",
      "\n",
      "\n",
      "\n",
      "user names:\n",
      "fan account.\n",
      "fan account\n",
      "Fan Account\n",
      "FAN ACCOUNT\n",
      "\n",
      "\n",
      "tweets:\n",
      "RT @Space_Station: Spacewalkers @Astro_Christina and @Astro_Jessica are outside in the vacuum of space getting their tools ready to replace…\n",
      "RT @itsdlyn: #IsaPaWithFeelingsFridate \n",
      "Yung uri ng pelikula na gustong magpadama sa audience kung anong pakiramdam nang ikaw yung nasa sit…\n",
      "RT @saintkaylo_: huwag mo na basahin nasa isip niyan May, ikaw lang laman niyan HAHAHAHAHAHAHA DEJOKE \n",
      "\n",
      "#MayWard https://t.co/N8EaMuOPCI\n",
      "RT @SB19Official: Sobrang thankful po kami sa lahat ng nagpunta sa SM City BF Parañaque! Para kaming nasa sky dahil may blue kahit saan 💙 D…\n",
      "\n",
      "\n",
      "\n",
      "\n",
      "user names:\n",
      "19 🦋\n",
      "|19| ♐\n",
      "19/🇲🇽\n",
      "🌻 • 19\n",
      "19\n",
      "\n",
      "\n",
      "tweets:\n",
      "@xpatty_abcn akala ko kung sino yung nasa dp mo HAHAHHAHAHAA di ko nakilala\n",
      "Nakakalungkot lang. Kasi yung ben&amp;ben nasa EK ngayon.. hays\n",
      "RT @HillaryClinton: When I was a little girl, I wrote to NASA and told them I dreamed of being an astronaut. \n",
      "\n",
      "They wrote back and said the…\n",
      "RT @illonsa: Siz pag sinabing laboratory kasi, pwedeng na-expose ka to different toxic chemicals AND possibly waste (especially when taking…\n",
      "hindi naman masamang mangarap pero puta gusto ko maging part ng NASA 😁\n",
      "\n",
      "\n",
      "\n",
      "\n",
      "user names:\n",
      "You (Don't) know who I am...\n",
      "you know who i am\n",
      "Do you know who I am ?\n",
      "\n",
      "\n",
      "tweets:\n",
      "RT @USATODAY: NASA astronauts Christina Koch and Jessica Meir will spend more than three hours repairing a broken battery charger outside t…\n",
      "RT @StrongIam: Qing Inang commercial to! Hahaha\n",
      "\n",
      "Basahin nyo yung nasa baba. https://t.co/uIS21dSnjl\n",
      "RT @fabbrdn: Mdrrr y’a autant de poussière que sa sur la Lune ? https://t.co/OwcLlnZOZF\n",
      "\n",
      "\n",
      "\n",
      "\n",
      "user names:\n",
      "20\n",
      "20. 🇳🇱.\n",
      "20 | 🇵🇭\n",
      "\n",
      "\n",
      "tweets:\n",
      "RT @Karnagemvp: JE CHIALE LES RÉPONSES 😭😭😭😭😭 https://t.co/1VRgmU5lej\n",
      "RT @__gaby_yy: Ces femmes ont du subir des tonnes de remarques sexistes (illustré en commentaire) avant d'en arriver là.\n",
      "Bravo à elles 😌 ht…\n",
      "RT @PauloArguelles1: Sa'yo na nasasaktan ngayon\n",
      "Sa'yo na nasusugatan ngayon\n",
      "Sa'yo na may pinagdadaanan ngayon\n",
      "Sa'yo na nasa sitwasyon mo ng…\n",
      "\n",
      "\n",
      "\n",
      "\n",
      "user names:\n",
      "@PNLMusic\n",
      "🇹🇳🇵🇸|@PNLmusic\n",
      "@PNLmusic\n",
      "\n",
      "\n",
      "tweets:\n",
      "RT @fabbrdn: Mdrrr y’a autant de poussière que sa sur la Lune ? https://t.co/OwcLlnZOZF\n",
      "RT @beely37z: Il était temps, commençait à y’avoir beaucoup de poussière sur la lune https://t.co/ynklLILQyk\n",
      "RT @elfamosopaulo: https://t.co/ItalP5SAZN https://t.co/OTsU5S51oJ\n",
      "\n",
      "\n",
      "\n",
      "\n",
      "user names:\n",
      "nothing\n",
      "nothing....\n",
      "Nothing\n",
      "\n",
      "\n",
      "tweets:\n",
      "RT @Rojean_vielka: Wala yan sa natapos or sa estado sa buhay, nasa diskarte yan. 🙂\n",
      "Talaga pag hindi mona naiintindi sarili mo ganun kasi talaga pag ibang tao na nasa isip mo ganun kasi talaga eh hin… https://t.co/KPDAknYK7y\n",
      "RT @HillaryClinton: When I was a little girl, I wrote to NASA and told them I dreamed of being an astronaut. \n",
      "\n",
      "They wrote back and said the…\n",
      "\n",
      "\n",
      "\n",
      "\n",
      "user names:\n",
      "💛What ever happen,happens💛\n",
      "what ever happens happen\n",
      "What ever happen,happens\n",
      "\n",
      "\n",
      "tweets:\n",
      "RT @liezlibarra1: Mukhang naunahan ng katapangan ! Ano na Boss Gino ?!nasa Mindanao ka na ei....ahahahaha \n",
      "\n",
      "NCCDavaoM&amp;Gwith KIANO\n",
      "\n",
      " https:/…\n",
      "RT @KiaraTrendsOFC: Nakakahinga paba yung mga nasa davao ngyon?  Haha guys gusto niyo padeliver kami ng oxygen?  \n",
      "\n",
      "NCCCDavaoM&amp;Gwith KIANO…\n",
      "RT @liezlibarra1: Mukhang naunahan ng katapangan ! Ano na Boss Gino ?!nasa Mindanao ka na ei....ahahahaha \n",
      "\n",
      "NCCDavaoM&amp;Gwith KIANO\n",
      "\n",
      " https:/…\n",
      "\n",
      "\n",
      "\n",
      "\n",
      "user names:\n",
      "sana ol\n",
      "SANA OL\n",
      "Sana ol\n",
      "sana ol.\n",
      "\n",
      "\n",
      "tweets:\n",
      "RT @padillacathh: “Iba talaga glow up pag nasa tamang tao ka”\n",
      "\n",
      "NOPE. IBA GLOW UP MO PAG MASAYA KA SA BUHAY MO , NATUTUNAN MO MAHALIN SARILI…\n",
      "Ang epal ng tatay ko. Naglalove sa peysbuk porket nasa Ilocos🙄😂\n",
      "Nasa kanya lahat ng gusto ko skl sksksksks.❤\n",
      "lab ko yang nasa header ko!!!\n",
      "\n",
      "\n",
      "\n",
      "\n",
      "user names:\n",
      "God is Good💕\n",
      "God Is Good !\n",
      "GOD IS GOOD 🙏😇\n",
      "🇵🇭♏🐍✈ — God is good\n",
      "\n",
      "\n",
      "tweets:\n",
      "Yung dating magkatabi nasa parehong dulo na💔 hahaha https://t.co/15DW8ZlL5L\n",
      "Habang Nasa hospital ako kanina imbes na ako mag bantay ako yung binabantayan\n",
      "RT @pat_05: @mainedcm Day 1 - yung panahong SINUNGITAN kita, sabi ko.. \"SINO BA YANG BABAE NA YAN N NASA SULOK\"?? NGAYON, jusko! nasa TUKTO…\n",
      "RT @Kyranicss: Sorry pls! Nasa mood kasi ako kumanta ngayon eh 😞\n",
      "(may ubo at sipon ako kaya mas panget boses ko ngayon) https://t.co/nt6yzi…\n",
      "\n",
      "\n",
      "\n",
      "\n",
      "user names:\n",
      "I LOVE TO LOVE YOU\n",
      "I love you ❣️💞😍😘\n",
      "I LOVE YOU\n",
      "\n",
      "\n",
      "tweets:\n",
      "RT @KIANO_UAE: Kc sabi ni Pres. Duterte kay Boss..\n",
      "PAG NASA DAVAO KA DONG DAPAT MATAPANG, PALABAN AT ALL EYES LANG SA MAGANDANG TANAWIN hah…\n",
      "RT @YourMajo: Sana nasa tabi kita\n",
      "I can't stop crying. I'm not that oa pero kasi this whole week puro problema at stress nalang diko na kaya. Nasa pu… https://t.co/lK3x6p39QM\n",
      "\n",
      "\n",
      "\n",
      "\n",
      "user names:\n",
      "Paris❤️\n",
      "paris\n",
      "•paris\n",
      "\n",
      "\n",
      "tweets:\n",
      "RT @Pvlgaa: Pourtant y’a pas d’enfants à garder dans l’espace non ? https://t.co/G0LglRn8R4\n",
      "RT @fabbrdn: Mdrrr y’a autant de poussière que sa sur la Lune ? https://t.co/OwcLlnZOZF\n",
      "RT @fabbrdn: Mdrrr y’a autant de poussière que sa sur la Lune ? https://t.co/OwcLlnZOZF\n",
      "\n",
      "\n",
      "\n",
      "\n"
     ]
    }
   ],
   "source": [
    "for l in range(1,dfDBS['dbscan'].unique().max()):\n",
    "    print('user names:')\n",
    "    for q in list(dfDBS[dfDBS['dbscan'] == l]['user_description']):\n",
    "        print(q)\n",
    "    t = list(df.loc[list(dfDBS[dfDBS['dbscan'] == l]['index'])]['text'])\n",
    "    print('\\n')\n",
    "    print('tweets:')\n",
    "    for a in t:\n",
    "        print(a)\n",
    "    print('\\n')\n",
    "    print('\\n')"
   ]
  },
  {
   "cell_type": "markdown",
   "metadata": {},
   "source": [
    "## Let's move on to my favorite part, geospatial analysis!! And let's try to answer question (4): Where (in the physical world) are people tweeting from and of those locations which ones have a higher engagement?"
   ]
  },
  {
   "cell_type": "markdown",
   "metadata": {},
   "source": [
    "*We extracted the location information from the tweets that had it so let's see how many did.*"
   ]
  },
  {
   "cell_type": "code",
   "execution_count": 846,
   "metadata": {},
   "outputs": [
    {
     "data": {
      "text/plain": [
       "1336     {'type': 'Point', 'coordinates': [112.72278627...\n",
       "3457     {'type': 'Point', 'coordinates': [121.05386257...\n",
       "6462     {'type': 'Point', 'coordinates': [-78.8962636,...\n",
       "12594    {'type': 'Point', 'coordinates': [-0.33815361,...\n",
       "17267    {'type': 'Point', 'coordinates': [-80.68148492...\n",
       "17974    {'type': 'Point', 'coordinates': [-105.0250914...\n",
       "20009    {'type': 'Point', 'coordinates': [-46.6333, -2...\n",
       "21336    {'type': 'Point', 'coordinates': [-95.36283014...\n",
       "22109    {'type': 'Point', 'coordinates': [-122.7756216...\n",
       "Name: location, dtype: object"
      ]
     },
     "execution_count": 846,
     "metadata": {},
     "output_type": "execute_result"
    }
   ],
   "source": [
    "df.location.dropna()"
   ]
  },
  {
   "cell_type": "code",
   "execution_count": 847,
   "metadata": {},
   "outputs": [],
   "source": [
    "#df = df.drop(3350, axis=0)"
   ]
  },
  {
   "cell_type": "markdown",
   "metadata": {},
   "source": [
    "## That's not very promising. What else can we do to get geospatial information? We can look into the 'place' key."
   ]
  },
  {
   "cell_type": "code",
   "execution_count": 848,
   "metadata": {},
   "outputs": [
    {
     "data": {
      "text/plain": [
       "248      {'id': '3b77caf94bfc81fe', 'url': 'https://api...\n",
       "249      {'id': '0087ad0f1b6dfcc8', 'url': 'https://api...\n",
       "267      {'id': '3b77caf94bfc81fe', 'url': 'https://api...\n",
       "313      {'id': '01516da6022dca08', 'url': 'https://api...\n",
       "321      {'id': '521b6f591c4b3ce8', 'url': 'https://api...\n",
       "377      {'id': '006523c50dfe9086', 'url': 'https://api...\n",
       "459      {'id': '01e93ed535e05b29', 'url': 'https://api...\n",
       "485      {'id': '013379ee5729a5e6', 'url': 'https://api...\n",
       "661      {'id': '07d9ec9cc0086001', 'url': 'https://api...\n",
       "778      {'id': '3797791ff9c0e4c6', 'url': 'https://api...\n",
       "868      {'id': '01d7c74272e5eafe', 'url': 'https://api...\n",
       "961      {'id': '5579f6b17e36847b', 'url': 'https://api...\n",
       "1012     {'id': '003d47f62835a9f1', 'url': 'https://api...\n",
       "1063     {'id': '00fc4c873d8a5e32', 'url': 'https://api...\n",
       "1094     {'id': 'd6819fe60643ebc1', 'url': 'https://api...\n",
       "1117     {'id': '4ec01c9dbc693497', 'url': 'https://api...\n",
       "1155     {'id': '0fa65e5e6fbf3eb8', 'url': 'https://api...\n",
       "1214     {'id': '005de1fe214f002d', 'url': 'https://api...\n",
       "1336     {'id': '48fa312df6d273f1', 'url': 'https://api...\n",
       "1372     {'id': '0028e8dd72e9304c', 'url': 'https://api...\n",
       "1404     {'id': '97bcdfca1a2dca59', 'url': 'https://api...\n",
       "1406     {'id': 'f9838a67f87a80ed', 'url': 'https://api...\n",
       "1488     {'id': '012fcce738a98ee6', 'url': 'https://api...\n",
       "1581     {'id': '014ff5bc45533d1c', 'url': 'https://api...\n",
       "1718     {'id': '0155a9a75374d970', 'url': 'https://api...\n",
       "1801     {'id': '1d9a5370a355ab0c', 'url': 'https://api...\n",
       "1813     {'id': '01a9a39529b27f36', 'url': 'https://api...\n",
       "1839     {'id': '375aa1ab4abd79b1', 'url': 'https://api...\n",
       "1967     {'id': '68e019afec7d0ba5', 'url': 'https://api...\n",
       "1972     {'id': 'a612c69b44b2e5da', 'url': 'https://api...\n",
       "                               ...                        \n",
       "19953    {'id': '2eb3293957fd451a', 'url': 'https://api...\n",
       "19967    {'id': '002f96a33d4ca7da', 'url': 'https://api...\n",
       "20009    {'id': '68e019afec7d0ba5', 'url': 'https://api...\n",
       "20057    {'id': '47fb55876adec22e', 'url': 'https://api...\n",
       "20143    {'id': '00fd48477bdede9a', 'url': 'https://api...\n",
       "20265    {'id': '000c69ad123213a8', 'url': 'https://api...\n",
       "20295    {'id': '01d354f852e22f68', 'url': 'https://api...\n",
       "20506    {'id': '0004114222a7eb71', 'url': 'https://api...\n",
       "20508    {'id': 'fa08d6d726ac4c91', 'url': 'https://api...\n",
       "20679    {'id': 'eaa9968c2be92860', 'url': 'https://api...\n",
       "20730    {'id': '0de4c71dbfcd2c32', 'url': 'https://api...\n",
       "20837    {'id': '0d63964865661876', 'url': 'https://api...\n",
       "20843    {'id': 'dcdb417053af045a', 'url': 'https://api...\n",
       "20917    {'id': '00482e135814d8a7', 'url': 'https://api...\n",
       "21142    {'id': '731c9d11275a5436', 'url': 'https://api...\n",
       "21336    {'id': '1c69a67ad480e1b1', 'url': 'https://api...\n",
       "21373    {'id': '016d66187df0025a', 'url': 'https://api...\n",
       "21426    {'id': '63d0671506628c8d', 'url': 'https://api...\n",
       "21639    {'id': '01230e78373323c2', 'url': 'https://api...\n",
       "21657    {'id': '3a22597bb94d08bd', 'url': 'https://api...\n",
       "21856    {'id': '70b538807e617654', 'url': 'https://api...\n",
       "22005    {'id': 'eaa9968c2be92860', 'url': 'https://api...\n",
       "22109    {'id': 'c2c88ba58010961f', 'url': 'https://api...\n",
       "22156    {'id': '2edb6e240797c549', 'url': 'https://api...\n",
       "22302    {'id': '056f095744ceb021', 'url': 'https://api...\n",
       "22358    {'id': 'eaa9968c2be92860', 'url': 'https://api...\n",
       "22472    {'id': '006523c50dfe9086', 'url': 'https://api...\n",
       "22586    {'id': '011add077f4d2da3', 'url': 'https://api...\n",
       "22916    {'id': '07d9ecca0b880004', 'url': 'https://api...\n",
       "22934    {'id': '6ffcf3b0b904bbcb', 'url': 'https://api...\n",
       "Name: place, Length: 253, dtype: object"
      ]
     },
     "execution_count": 848,
     "metadata": {},
     "output_type": "execute_result"
    }
   ],
   "source": [
    "df.place.dropna()"
   ]
  },
  {
   "cell_type": "code",
   "execution_count": null,
   "metadata": {},
   "outputs": [],
   "source": []
  },
  {
   "cell_type": "code",
   "execution_count": 849,
   "metadata": {},
   "outputs": [
    {
     "data": {
      "text/plain": [
       "{'id': '3b77caf94bfc81fe',\n",
       " 'url': 'https://api.twitter.com/1.1/geo/id/3b77caf94bfc81fe.json',\n",
       " 'place_type': 'city',\n",
       " 'name': 'Los Angeles',\n",
       " 'full_name': 'Los Angeles, CA',\n",
       " 'country_code': 'US',\n",
       " 'country': 'United States',\n",
       " 'bounding_box': {'type': 'Polygon',\n",
       "  'coordinates': [[[-118.668404, 33.704538],\n",
       "    [-118.668404, 34.337041],\n",
       "    [-118.155409, 34.337041],\n",
       "    [-118.155409, 33.704538]]]},\n",
       " 'attributes': {}}"
      ]
     },
     "execution_count": 849,
     "metadata": {},
     "output_type": "execute_result"
    }
   ],
   "source": [
    "df.place.loc[248]"
   ]
  },
  {
   "cell_type": "code",
   "execution_count": null,
   "metadata": {},
   "outputs": [],
   "source": []
  },
  {
   "cell_type": "markdown",
   "metadata": {},
   "source": [
    "## Not all tweets have a 'place' key but there are definitely more of those than with a location. Inside 'place' there are coordinates for a geographical bounding box so let's compute its centroid and use that as a point of reference for location."
   ]
  },
  {
   "cell_type": "code",
   "execution_count": 850,
   "metadata": {},
   "outputs": [],
   "source": [
    "df1 = df[['place', 'text']].dropna().reset_index()\n",
    "df1['centroid_lat'] = df1.apply(lambda x: np.array(x['place']['bounding_box']['coordinates'][0]).mean(axis=0)[0], 1)\n",
    "df1['centroid_lon'] = df1.apply(lambda x: np.array(x['place']['bounding_box']['coordinates'][0]).mean(axis=0)[1], 1)\n",
    "\n",
    "df1 = df1.groupby(['centroid_lat', 'centroid_lon'])['text'].count().reset_index()\n",
    "df1.columns = ['centroid_lat', 'centroid_lon', 'count']"
   ]
  },
  {
   "cell_type": "markdown",
   "metadata": {},
   "source": [
    "#### What are the most common centroids?"
   ]
  },
  {
   "cell_type": "code",
   "execution_count": 851,
   "metadata": {},
   "outputs": [
    {
     "data": {
      "text/html": [
       "<div>\n",
       "<style scoped>\n",
       "    .dataframe tbody tr th:only-of-type {\n",
       "        vertical-align: middle;\n",
       "    }\n",
       "\n",
       "    .dataframe tbody tr th {\n",
       "        vertical-align: top;\n",
       "    }\n",
       "\n",
       "    .dataframe thead th {\n",
       "        text-align: right;\n",
       "    }\n",
       "</style>\n",
       "<table border=\"1\" class=\"dataframe\">\n",
       "  <thead>\n",
       "    <tr style=\"text-align: right;\">\n",
       "      <th></th>\n",
       "      <th>centroid_lat</th>\n",
       "      <th>centroid_lon</th>\n",
       "      <th>count</th>\n",
       "    </tr>\n",
       "  </thead>\n",
       "  <tbody>\n",
       "    <tr>\n",
       "      <th>156</th>\n",
       "      <td>121.062736</td>\n",
       "      <td>14.683012</td>\n",
       "      <td>11</td>\n",
       "    </tr>\n",
       "    <tr>\n",
       "      <th>147</th>\n",
       "      <td>120.983987</td>\n",
       "      <td>14.591457</td>\n",
       "      <td>7</td>\n",
       "    </tr>\n",
       "    <tr>\n",
       "      <th>85</th>\n",
       "      <td>-46.595546</td>\n",
       "      <td>-23.682803</td>\n",
       "      <td>4</td>\n",
       "    </tr>\n",
       "    <tr>\n",
       "      <th>94</th>\n",
       "      <td>-3.742541</td>\n",
       "      <td>37.791399</td>\n",
       "      <td>4</td>\n",
       "    </tr>\n",
       "    <tr>\n",
       "      <th>154</th>\n",
       "      <td>121.033212</td>\n",
       "      <td>14.546499</td>\n",
       "      <td>4</td>\n",
       "    </tr>\n",
       "    <tr>\n",
       "      <th>66</th>\n",
       "      <td>-77.014398</td>\n",
       "      <td>38.898603</td>\n",
       "      <td>3</td>\n",
       "    </tr>\n",
       "    <tr>\n",
       "      <th>165</th>\n",
       "      <td>121.124227</td>\n",
       "      <td>14.606718</td>\n",
       "      <td>3</td>\n",
       "    </tr>\n",
       "    <tr>\n",
       "      <th>52</th>\n",
       "      <td>-81.854561</td>\n",
       "      <td>41.419246</td>\n",
       "      <td>3</td>\n",
       "    </tr>\n",
       "    <tr>\n",
       "      <th>74</th>\n",
       "      <td>-73.968542</td>\n",
       "      <td>40.780709</td>\n",
       "      <td>3</td>\n",
       "    </tr>\n",
       "    <tr>\n",
       "      <th>8</th>\n",
       "      <td>-118.411907</td>\n",
       "      <td>34.020789</td>\n",
       "      <td>3</td>\n",
       "    </tr>\n",
       "    <tr>\n",
       "      <th>189</th>\n",
       "      <td>125.443261</td>\n",
       "      <td>7.317582</td>\n",
       "      <td>3</td>\n",
       "    </tr>\n",
       "    <tr>\n",
       "      <th>25</th>\n",
       "      <td>-95.446486</td>\n",
       "      <td>29.838495</td>\n",
       "      <td>3</td>\n",
       "    </tr>\n",
       "    <tr>\n",
       "      <th>46</th>\n",
       "      <td>-83.804475</td>\n",
       "      <td>27.698682</td>\n",
       "      <td>3</td>\n",
       "    </tr>\n",
       "    <tr>\n",
       "      <th>159</th>\n",
       "      <td>121.082345</td>\n",
       "      <td>14.583306</td>\n",
       "      <td>3</td>\n",
       "    </tr>\n",
       "    <tr>\n",
       "      <th>170</th>\n",
       "      <td>121.213935</td>\n",
       "      <td>14.155995</td>\n",
       "      <td>2</td>\n",
       "    </tr>\n",
       "    <tr>\n",
       "      <th>150</th>\n",
       "      <td>121.006950</td>\n",
       "      <td>14.532882</td>\n",
       "      <td>2</td>\n",
       "    </tr>\n",
       "    <tr>\n",
       "      <th>73</th>\n",
       "      <td>-74.243671</td>\n",
       "      <td>4.262283</td>\n",
       "      <td>2</td>\n",
       "    </tr>\n",
       "    <tr>\n",
       "      <th>42</th>\n",
       "      <td>-85.768241</td>\n",
       "      <td>37.822244</td>\n",
       "      <td>2</td>\n",
       "    </tr>\n",
       "    <tr>\n",
       "      <th>153</th>\n",
       "      <td>121.031142</td>\n",
       "      <td>14.710894</td>\n",
       "      <td>2</td>\n",
       "    </tr>\n",
       "    <tr>\n",
       "      <th>54</th>\n",
       "      <td>-81.197276</td>\n",
       "      <td>28.588445</td>\n",
       "      <td>2</td>\n",
       "    </tr>\n",
       "    <tr>\n",
       "      <th>140</th>\n",
       "      <td>120.962621</td>\n",
       "      <td>14.115378</td>\n",
       "      <td>2</td>\n",
       "    </tr>\n",
       "    <tr>\n",
       "      <th>47</th>\n",
       "      <td>-83.173867</td>\n",
       "      <td>32.678207</td>\n",
       "      <td>2</td>\n",
       "    </tr>\n",
       "    <tr>\n",
       "      <th>82</th>\n",
       "      <td>-61.811730</td>\n",
       "      <td>44.321234</td>\n",
       "      <td>2</td>\n",
       "    </tr>\n",
       "    <tr>\n",
       "      <th>6</th>\n",
       "      <td>-119.827182</td>\n",
       "      <td>39.512436</td>\n",
       "      <td>2</td>\n",
       "    </tr>\n",
       "    <tr>\n",
       "      <th>5</th>\n",
       "      <td>-122.330602</td>\n",
       "      <td>47.614817</td>\n",
       "      <td>2</td>\n",
       "    </tr>\n",
       "    <tr>\n",
       "      <th>113</th>\n",
       "      <td>34.968429</td>\n",
       "      <td>31.342253</td>\n",
       "      <td>2</td>\n",
       "    </tr>\n",
       "    <tr>\n",
       "      <th>101</th>\n",
       "      <td>0.131479</td>\n",
       "      <td>49.496210</td>\n",
       "      <td>2</td>\n",
       "    </tr>\n",
       "    <tr>\n",
       "      <th>95</th>\n",
       "      <td>-3.703508</td>\n",
       "      <td>40.477795</td>\n",
       "      <td>2</td>\n",
       "    </tr>\n",
       "    <tr>\n",
       "      <th>108</th>\n",
       "      <td>24.830963</td>\n",
       "      <td>65.862802</td>\n",
       "      <td>2</td>\n",
       "    </tr>\n",
       "    <tr>\n",
       "      <th>110</th>\n",
       "      <td>28.060613</td>\n",
       "      <td>-26.058708</td>\n",
       "      <td>1</td>\n",
       "    </tr>\n",
       "    <tr>\n",
       "      <th>...</th>\n",
       "      <td>...</td>\n",
       "      <td>...</td>\n",
       "      <td>...</td>\n",
       "    </tr>\n",
       "    <tr>\n",
       "      <th>96</th>\n",
       "      <td>-3.203009</td>\n",
       "      <td>55.943196</td>\n",
       "      <td>1</td>\n",
       "    </tr>\n",
       "    <tr>\n",
       "      <th>1</th>\n",
       "      <td>-122.870030</td>\n",
       "      <td>44.847157</td>\n",
       "      <td>1</td>\n",
       "    </tr>\n",
       "    <tr>\n",
       "      <th>98</th>\n",
       "      <td>-1.630385</td>\n",
       "      <td>47.224783</td>\n",
       "      <td>1</td>\n",
       "    </tr>\n",
       "    <tr>\n",
       "      <th>99</th>\n",
       "      <td>-0.352529</td>\n",
       "      <td>39.422485</td>\n",
       "      <td>1</td>\n",
       "    </tr>\n",
       "    <tr>\n",
       "      <th>100</th>\n",
       "      <td>-0.338001</td>\n",
       "      <td>39.458730</td>\n",
       "      <td>1</td>\n",
       "    </tr>\n",
       "    <tr>\n",
       "      <th>102</th>\n",
       "      <td>0.314300</td>\n",
       "      <td>42.308346</td>\n",
       "      <td>1</td>\n",
       "    </tr>\n",
       "    <tr>\n",
       "      <th>103</th>\n",
       "      <td>5.974099</td>\n",
       "      <td>49.489683</td>\n",
       "      <td>1</td>\n",
       "    </tr>\n",
       "    <tr>\n",
       "      <th>80</th>\n",
       "      <td>-66.134334</td>\n",
       "      <td>-33.933572</td>\n",
       "      <td>1</td>\n",
       "    </tr>\n",
       "    <tr>\n",
       "      <th>78</th>\n",
       "      <td>-71.683502</td>\n",
       "      <td>42.036939</td>\n",
       "      <td>1</td>\n",
       "    </tr>\n",
       "    <tr>\n",
       "      <th>55</th>\n",
       "      <td>-80.737633</td>\n",
       "      <td>28.258804</td>\n",
       "      <td>1</td>\n",
       "    </tr>\n",
       "    <tr>\n",
       "      <th>64</th>\n",
       "      <td>-77.090869</td>\n",
       "      <td>38.817380</td>\n",
       "      <td>1</td>\n",
       "    </tr>\n",
       "    <tr>\n",
       "      <th>56</th>\n",
       "      <td>-80.650764</td>\n",
       "      <td>28.586010</td>\n",
       "      <td>1</td>\n",
       "    </tr>\n",
       "    <tr>\n",
       "      <th>57</th>\n",
       "      <td>-80.201097</td>\n",
       "      <td>44.080757</td>\n",
       "      <td>1</td>\n",
       "    </tr>\n",
       "    <tr>\n",
       "      <th>58</th>\n",
       "      <td>-79.861034</td>\n",
       "      <td>35.170499</td>\n",
       "      <td>1</td>\n",
       "    </tr>\n",
       "    <tr>\n",
       "      <th>59</th>\n",
       "      <td>-79.674847</td>\n",
       "      <td>44.371263</td>\n",
       "      <td>1</td>\n",
       "    </tr>\n",
       "    <tr>\n",
       "      <th>60</th>\n",
       "      <td>-79.428376</td>\n",
       "      <td>43.903509</td>\n",
       "      <td>1</td>\n",
       "    </tr>\n",
       "    <tr>\n",
       "      <th>61</th>\n",
       "      <td>-79.420865</td>\n",
       "      <td>38.003376</td>\n",
       "      <td>1</td>\n",
       "    </tr>\n",
       "    <tr>\n",
       "      <th>62</th>\n",
       "      <td>-79.272570</td>\n",
       "      <td>43.629311</td>\n",
       "      <td>1</td>\n",
       "    </tr>\n",
       "    <tr>\n",
       "      <th>63</th>\n",
       "      <td>-78.855078</td>\n",
       "      <td>35.723200</td>\n",
       "      <td>1</td>\n",
       "    </tr>\n",
       "    <tr>\n",
       "      <th>65</th>\n",
       "      <td>-77.079619</td>\n",
       "      <td>39.090427</td>\n",
       "      <td>1</td>\n",
       "    </tr>\n",
       "    <tr>\n",
       "      <th>77</th>\n",
       "      <td>-72.455370</td>\n",
       "      <td>41.297423</td>\n",
       "      <td>1</td>\n",
       "    </tr>\n",
       "    <tr>\n",
       "      <th>67</th>\n",
       "      <td>-75.770041</td>\n",
       "      <td>42.746617</td>\n",
       "      <td>1</td>\n",
       "    </tr>\n",
       "    <tr>\n",
       "      <th>68</th>\n",
       "      <td>-75.699457</td>\n",
       "      <td>39.736777</td>\n",
       "      <td>1</td>\n",
       "    </tr>\n",
       "    <tr>\n",
       "      <th>69</th>\n",
       "      <td>-75.483936</td>\n",
       "      <td>40.591825</td>\n",
       "      <td>1</td>\n",
       "    </tr>\n",
       "    <tr>\n",
       "      <th>70</th>\n",
       "      <td>-74.814403</td>\n",
       "      <td>10.839213</td>\n",
       "      <td>1</td>\n",
       "    </tr>\n",
       "    <tr>\n",
       "      <th>71</th>\n",
       "      <td>-74.315005</td>\n",
       "      <td>40.569527</td>\n",
       "      <td>1</td>\n",
       "    </tr>\n",
       "    <tr>\n",
       "      <th>72</th>\n",
       "      <td>-74.278855</td>\n",
       "      <td>40.266520</td>\n",
       "      <td>1</td>\n",
       "    </tr>\n",
       "    <tr>\n",
       "      <th>75</th>\n",
       "      <td>-73.948775</td>\n",
       "      <td>40.655138</td>\n",
       "      <td>1</td>\n",
       "    </tr>\n",
       "    <tr>\n",
       "      <th>76</th>\n",
       "      <td>-73.789133</td>\n",
       "      <td>5.108820</td>\n",
       "      <td>1</td>\n",
       "    </tr>\n",
       "    <tr>\n",
       "      <th>194</th>\n",
       "      <td>153.369361</td>\n",
       "      <td>-27.954221</td>\n",
       "      <td>1</td>\n",
       "    </tr>\n",
       "  </tbody>\n",
       "</table>\n",
       "<p>195 rows × 3 columns</p>\n",
       "</div>"
      ],
      "text/plain": [
       "     centroid_lat  centroid_lon  count\n",
       "156    121.062736     14.683012     11\n",
       "147    120.983987     14.591457      7\n",
       "85     -46.595546    -23.682803      4\n",
       "94      -3.742541     37.791399      4\n",
       "154    121.033212     14.546499      4\n",
       "66     -77.014398     38.898603      3\n",
       "165    121.124227     14.606718      3\n",
       "52     -81.854561     41.419246      3\n",
       "74     -73.968542     40.780709      3\n",
       "8     -118.411907     34.020789      3\n",
       "189    125.443261      7.317582      3\n",
       "25     -95.446486     29.838495      3\n",
       "46     -83.804475     27.698682      3\n",
       "159    121.082345     14.583306      3\n",
       "170    121.213935     14.155995      2\n",
       "150    121.006950     14.532882      2\n",
       "73     -74.243671      4.262283      2\n",
       "42     -85.768241     37.822244      2\n",
       "153    121.031142     14.710894      2\n",
       "54     -81.197276     28.588445      2\n",
       "140    120.962621     14.115378      2\n",
       "47     -83.173867     32.678207      2\n",
       "82     -61.811730     44.321234      2\n",
       "6     -119.827182     39.512436      2\n",
       "5     -122.330602     47.614817      2\n",
       "113     34.968429     31.342253      2\n",
       "101      0.131479     49.496210      2\n",
       "95      -3.703508     40.477795      2\n",
       "108     24.830963     65.862802      2\n",
       "110     28.060613    -26.058708      1\n",
       "..            ...           ...    ...\n",
       "96      -3.203009     55.943196      1\n",
       "1     -122.870030     44.847157      1\n",
       "98      -1.630385     47.224783      1\n",
       "99      -0.352529     39.422485      1\n",
       "100     -0.338001     39.458730      1\n",
       "102      0.314300     42.308346      1\n",
       "103      5.974099     49.489683      1\n",
       "80     -66.134334    -33.933572      1\n",
       "78     -71.683502     42.036939      1\n",
       "55     -80.737633     28.258804      1\n",
       "64     -77.090869     38.817380      1\n",
       "56     -80.650764     28.586010      1\n",
       "57     -80.201097     44.080757      1\n",
       "58     -79.861034     35.170499      1\n",
       "59     -79.674847     44.371263      1\n",
       "60     -79.428376     43.903509      1\n",
       "61     -79.420865     38.003376      1\n",
       "62     -79.272570     43.629311      1\n",
       "63     -78.855078     35.723200      1\n",
       "65     -77.079619     39.090427      1\n",
       "77     -72.455370     41.297423      1\n",
       "67     -75.770041     42.746617      1\n",
       "68     -75.699457     39.736777      1\n",
       "69     -75.483936     40.591825      1\n",
       "70     -74.814403     10.839213      1\n",
       "71     -74.315005     40.569527      1\n",
       "72     -74.278855     40.266520      1\n",
       "75     -73.948775     40.655138      1\n",
       "76     -73.789133      5.108820      1\n",
       "194    153.369361    -27.954221      1\n",
       "\n",
       "[195 rows x 3 columns]"
      ]
     },
     "execution_count": 851,
     "metadata": {},
     "output_type": "execute_result"
    }
   ],
   "source": [
    "df1.sort_values(by='count', ascending=False)"
   ]
  },
  {
   "cell_type": "markdown",
   "metadata": {},
   "source": [
    "### Where are users located according to their bios?"
   ]
  },
  {
   "cell_type": "code",
   "execution_count": 852,
   "metadata": {},
   "outputs": [
    {
     "data": {
      "text/html": [
       "<div>\n",
       "<style scoped>\n",
       "    .dataframe tbody tr th:only-of-type {\n",
       "        vertical-align: middle;\n",
       "    }\n",
       "\n",
       "    .dataframe tbody tr th {\n",
       "        vertical-align: top;\n",
       "    }\n",
       "\n",
       "    .dataframe thead th {\n",
       "        text-align: right;\n",
       "    }\n",
       "</style>\n",
       "<table border=\"1\" class=\"dataframe\">\n",
       "  <thead>\n",
       "    <tr style=\"text-align: right;\">\n",
       "      <th></th>\n",
       "      <th>user_location</th>\n",
       "      <th>text</th>\n",
       "    </tr>\n",
       "  </thead>\n",
       "  <tbody>\n",
       "    <tr>\n",
       "      <th>0</th>\n",
       "      <td>Republic of the Philippines</td>\n",
       "      <td>349</td>\n",
       "    </tr>\n",
       "    <tr>\n",
       "      <th>1</th>\n",
       "      <td>United States</td>\n",
       "      <td>331</td>\n",
       "    </tr>\n",
       "    <tr>\n",
       "      <th>2</th>\n",
       "      <td>France</td>\n",
       "      <td>117</td>\n",
       "    </tr>\n",
       "    <tr>\n",
       "      <th>3</th>\n",
       "      <td>USA</td>\n",
       "      <td>107</td>\n",
       "    </tr>\n",
       "    <tr>\n",
       "      <th>4</th>\n",
       "      <td>Paris, France</td>\n",
       "      <td>100</td>\n",
       "    </tr>\n",
       "    <tr>\n",
       "      <th>5</th>\n",
       "      <td>California, USA</td>\n",
       "      <td>93</td>\n",
       "    </tr>\n",
       "    <tr>\n",
       "      <th>6</th>\n",
       "      <td>Los Angeles, CA</td>\n",
       "      <td>88</td>\n",
       "    </tr>\n",
       "    <tr>\n",
       "      <th>7</th>\n",
       "      <td>Texas, USA</td>\n",
       "      <td>75</td>\n",
       "    </tr>\n",
       "    <tr>\n",
       "      <th>8</th>\n",
       "      <td>Philippines</td>\n",
       "      <td>73</td>\n",
       "    </tr>\n",
       "    <tr>\n",
       "      <th>9</th>\n",
       "      <td>Florida, USA</td>\n",
       "      <td>66</td>\n",
       "    </tr>\n",
       "    <tr>\n",
       "      <th>10</th>\n",
       "      <td>New York, NY</td>\n",
       "      <td>64</td>\n",
       "    </tr>\n",
       "    <tr>\n",
       "      <th>11</th>\n",
       "      <td>🇵🇭</td>\n",
       "      <td>61</td>\n",
       "    </tr>\n",
       "    <tr>\n",
       "      <th>12</th>\n",
       "      <td>Washington, DC</td>\n",
       "      <td>59</td>\n",
       "    </tr>\n",
       "    <tr>\n",
       "      <th>13</th>\n",
       "      <td>London, England</td>\n",
       "      <td>52</td>\n",
       "    </tr>\n",
       "    <tr>\n",
       "      <th>14</th>\n",
       "      <td>Ile-de-France, France</td>\n",
       "      <td>51</td>\n",
       "    </tr>\n",
       "    <tr>\n",
       "      <th>15</th>\n",
       "      <td>Canada</td>\n",
       "      <td>49</td>\n",
       "    </tr>\n",
       "    <tr>\n",
       "      <th>16</th>\n",
       "      <td>Earth</td>\n",
       "      <td>48</td>\n",
       "    </tr>\n",
       "    <tr>\n",
       "      <th>17</th>\n",
       "      <td>Comunidad de Madrid, España</td>\n",
       "      <td>40</td>\n",
       "    </tr>\n",
       "    <tr>\n",
       "      <th>18</th>\n",
       "      <td>Chicago, IL</td>\n",
       "      <td>40</td>\n",
       "    </tr>\n",
       "    <tr>\n",
       "      <th>19</th>\n",
       "      <td>Houston, TX</td>\n",
       "      <td>40</td>\n",
       "    </tr>\n",
       "    <tr>\n",
       "      <th>20</th>\n",
       "      <td>India</td>\n",
       "      <td>39</td>\n",
       "    </tr>\n",
       "    <tr>\n",
       "      <th>21</th>\n",
       "      <td>North Carolina, USA</td>\n",
       "      <td>35</td>\n",
       "    </tr>\n",
       "    <tr>\n",
       "      <th>22</th>\n",
       "      <td>Lille, France</td>\n",
       "      <td>33</td>\n",
       "    </tr>\n",
       "    <tr>\n",
       "      <th>23</th>\n",
       "      <td>New York, USA</td>\n",
       "      <td>33</td>\n",
       "    </tr>\n",
       "    <tr>\n",
       "      <th>24</th>\n",
       "      <td>Worldwide</td>\n",
       "      <td>33</td>\n",
       "    </tr>\n",
       "    <tr>\n",
       "      <th>25</th>\n",
       "      <td>Paris</td>\n",
       "      <td>31</td>\n",
       "    </tr>\n",
       "    <tr>\n",
       "      <th>26</th>\n",
       "      <td>Australia</td>\n",
       "      <td>29</td>\n",
       "    </tr>\n",
       "    <tr>\n",
       "      <th>27</th>\n",
       "      <td>Lyon, France</td>\n",
       "      <td>29</td>\n",
       "    </tr>\n",
       "    <tr>\n",
       "      <th>28</th>\n",
       "      <td>Pennsylvania, USA</td>\n",
       "      <td>28</td>\n",
       "    </tr>\n",
       "    <tr>\n",
       "      <th>29</th>\n",
       "      <td>Toronto, Ontario</td>\n",
       "      <td>28</td>\n",
       "    </tr>\n",
       "    <tr>\n",
       "      <th>...</th>\n",
       "      <td>...</td>\n",
       "      <td>...</td>\n",
       "    </tr>\n",
       "    <tr>\n",
       "      <th>8243</th>\n",
       "      <td>Sukkur,Sindh,Pakistan</td>\n",
       "      <td>1</td>\n",
       "    </tr>\n",
       "    <tr>\n",
       "      <th>8244</th>\n",
       "      <td>Suffolk, VA</td>\n",
       "      <td>1</td>\n",
       "    </tr>\n",
       "    <tr>\n",
       "      <th>8245</th>\n",
       "      <td>Sta.Maria Bulacan</td>\n",
       "      <td>1</td>\n",
       "    </tr>\n",
       "    <tr>\n",
       "      <th>8246</th>\n",
       "      <td>Suffolk, UK</td>\n",
       "      <td>1</td>\n",
       "    </tr>\n",
       "    <tr>\n",
       "      <th>8247</th>\n",
       "      <td>Standard Hotel, W. Hollyweird</td>\n",
       "      <td>1</td>\n",
       "    </tr>\n",
       "    <tr>\n",
       "      <th>8248</th>\n",
       "      <td>Standing behind you</td>\n",
       "      <td>1</td>\n",
       "    </tr>\n",
       "    <tr>\n",
       "      <th>8249</th>\n",
       "      <td>Stanford, CA</td>\n",
       "      <td>1</td>\n",
       "    </tr>\n",
       "    <tr>\n",
       "      <th>8250</th>\n",
       "      <td>Starnberg DE / New York City</td>\n",
       "      <td>1</td>\n",
       "    </tr>\n",
       "    <tr>\n",
       "      <th>8251</th>\n",
       "      <td>State of Dismay, USA</td>\n",
       "      <td>1</td>\n",
       "    </tr>\n",
       "    <tr>\n",
       "      <th>8252</th>\n",
       "      <td>Stateless</td>\n",
       "      <td>1</td>\n",
       "    </tr>\n",
       "    <tr>\n",
       "      <th>8253</th>\n",
       "      <td>Stavropol.Russia</td>\n",
       "      <td>1</td>\n",
       "    </tr>\n",
       "    <tr>\n",
       "      <th>8254</th>\n",
       "      <td>Sterling, IL</td>\n",
       "      <td>1</td>\n",
       "    </tr>\n",
       "    <tr>\n",
       "      <th>8255</th>\n",
       "      <td>Stockholm</td>\n",
       "      <td>1</td>\n",
       "    </tr>\n",
       "    <tr>\n",
       "      <th>8256</th>\n",
       "      <td>Stockholm, Sverige</td>\n",
       "      <td>1</td>\n",
       "    </tr>\n",
       "    <tr>\n",
       "      <th>8257</th>\n",
       "      <td>Stockholm, Sweden 🌍</td>\n",
       "      <td>1</td>\n",
       "    </tr>\n",
       "    <tr>\n",
       "      <th>8258</th>\n",
       "      <td>Stockport, England</td>\n",
       "      <td>1</td>\n",
       "    </tr>\n",
       "    <tr>\n",
       "      <th>8259</th>\n",
       "      <td>Stockton, CA</td>\n",
       "      <td>1</td>\n",
       "    </tr>\n",
       "    <tr>\n",
       "      <th>8260</th>\n",
       "      <td>Stockton, CA, USA</td>\n",
       "      <td>1</td>\n",
       "    </tr>\n",
       "    <tr>\n",
       "      <th>8261</th>\n",
       "      <td>Stockton, California</td>\n",
       "      <td>1</td>\n",
       "    </tr>\n",
       "    <tr>\n",
       "      <th>8262</th>\n",
       "      <td>Stone Ridge School of the Sacred Heart, Bethes...</td>\n",
       "      <td>1</td>\n",
       "    </tr>\n",
       "    <tr>\n",
       "      <th>8263</th>\n",
       "      <td>Straight Out The Fruit</td>\n",
       "      <td>1</td>\n",
       "    </tr>\n",
       "    <tr>\n",
       "      <th>8264</th>\n",
       "      <td>Strasbourg, Alsace</td>\n",
       "      <td>1</td>\n",
       "    </tr>\n",
       "    <tr>\n",
       "      <th>8265</th>\n",
       "      <td>Stratosphere</td>\n",
       "      <td>1</td>\n",
       "    </tr>\n",
       "    <tr>\n",
       "      <th>8266</th>\n",
       "      <td>Streaming Globally</td>\n",
       "      <td>1</td>\n",
       "    </tr>\n",
       "    <tr>\n",
       "      <th>8267</th>\n",
       "      <td>Stuck in Lamont's crappy CT</td>\n",
       "      <td>1</td>\n",
       "    </tr>\n",
       "    <tr>\n",
       "      <th>8268</th>\n",
       "      <td>Sual Pangasinan</td>\n",
       "      <td>1</td>\n",
       "    </tr>\n",
       "    <tr>\n",
       "      <th>8269</th>\n",
       "      <td>Suba Bogotá, D.C., Colombia</td>\n",
       "      <td>1</td>\n",
       "    </tr>\n",
       "    <tr>\n",
       "      <th>8270</th>\n",
       "      <td>Suburban DC</td>\n",
       "      <td>1</td>\n",
       "    </tr>\n",
       "    <tr>\n",
       "      <th>8271</th>\n",
       "      <td>Suffolk county NY</td>\n",
       "      <td>1</td>\n",
       "    </tr>\n",
       "    <tr>\n",
       "      <th>8272</th>\n",
       "      <td>OngNielHwan~</td>\n",
       "      <td>1</td>\n",
       "    </tr>\n",
       "  </tbody>\n",
       "</table>\n",
       "<p>8273 rows × 2 columns</p>\n",
       "</div>"
      ],
      "text/plain": [
       "                                          user_location  text\n",
       "0                           Republic of the Philippines   349\n",
       "1                                         United States   331\n",
       "2                                                France   117\n",
       "3                                                   USA   107\n",
       "4                                         Paris, France   100\n",
       "5                                       California, USA    93\n",
       "6                                       Los Angeles, CA    88\n",
       "7                                            Texas, USA    75\n",
       "8                                           Philippines    73\n",
       "9                                          Florida, USA    66\n",
       "10                                         New York, NY    64\n",
       "11                                                   🇵🇭    61\n",
       "12                                       Washington, DC    59\n",
       "13                                      London, England    52\n",
       "14                                Ile-de-France, France    51\n",
       "15                                               Canada    49\n",
       "16                                                Earth    48\n",
       "17                          Comunidad de Madrid, España    40\n",
       "18                                          Chicago, IL    40\n",
       "19                                          Houston, TX    40\n",
       "20                                                India    39\n",
       "21                                  North Carolina, USA    35\n",
       "22                                        Lille, France    33\n",
       "23                                        New York, USA    33\n",
       "24                                            Worldwide    33\n",
       "25                                                Paris    31\n",
       "26                                            Australia    29\n",
       "27                                         Lyon, France    29\n",
       "28                                    Pennsylvania, USA    28\n",
       "29                                     Toronto, Ontario    28\n",
       "...                                                 ...   ...\n",
       "8243                              Sukkur,Sindh,Pakistan     1\n",
       "8244                                        Suffolk, VA     1\n",
       "8245                                  Sta.Maria Bulacan     1\n",
       "8246                                        Suffolk, UK     1\n",
       "8247                      Standard Hotel, W. Hollyweird     1\n",
       "8248                                Standing behind you     1\n",
       "8249                                       Stanford, CA     1\n",
       "8250                       Starnberg DE / New York City     1\n",
       "8251                               State of Dismay, USA     1\n",
       "8252                                          Stateless     1\n",
       "8253                                   Stavropol.Russia     1\n",
       "8254                                       Sterling, IL     1\n",
       "8255                                          Stockholm     1\n",
       "8256                                 Stockholm, Sverige     1\n",
       "8257                                Stockholm, Sweden 🌍     1\n",
       "8258                                 Stockport, England     1\n",
       "8259                                       Stockton, CA     1\n",
       "8260                                  Stockton, CA, USA     1\n",
       "8261                               Stockton, California     1\n",
       "8262  Stone Ridge School of the Sacred Heart, Bethes...     1\n",
       "8263                            Straight Out The Fruit      1\n",
       "8264                                 Strasbourg, Alsace     1\n",
       "8265                                       Stratosphere     1\n",
       "8266                                 Streaming Globally     1\n",
       "8267                        Stuck in Lamont's crappy CT     1\n",
       "8268                                    Sual Pangasinan     1\n",
       "8269                        Suba Bogotá, D.C., Colombia     1\n",
       "8270                                        Suburban DC     1\n",
       "8271                                  Suffolk county NY     1\n",
       "8272                                       OngNielHwan~     1\n",
       "\n",
       "[8273 rows x 2 columns]"
      ]
     },
     "execution_count": 852,
     "metadata": {},
     "output_type": "execute_result"
    }
   ],
   "source": [
    "df.groupby('user_location')['text'].count().sort_values(ascending=False).reset_index()"
   ]
  },
  {
   "cell_type": "code",
   "execution_count": null,
   "metadata": {},
   "outputs": [],
   "source": []
  },
  {
   "cell_type": "code",
   "execution_count": 853,
   "metadata": {},
   "outputs": [],
   "source": [
    "# Go through all tweets and add locations to 'coordinates' dictionary\n",
    "coordinates = {'latitude': [], 'longitude': []}\n",
    "for index, row in df.iterrows():\n",
    "    try:\n",
    "        \n",
    "        #location = geolocator.geocode(user_loc)\n",
    "        # If coordinates are found for location\n",
    "        if row['location']['coordinates']:\n",
    "            coordinates['latitude'].append(row['location']['coordinates'][0])\n",
    "            coordinates['longitude'].append(row['location']['coordinates'][1])\n",
    "            \n",
    "    # If too many connection requests\n",
    "    except:\n",
    "        pass"
   ]
  },
  {
   "cell_type": "code",
   "execution_count": 854,
   "metadata": {},
   "outputs": [
    {
     "data": {
      "text/plain": [
       "{'latitude': [112.72278627,\n",
       "  121.05386257,\n",
       "  -78.8962636,\n",
       "  -0.33815361,\n",
       "  -80.68148492,\n",
       "  -105.0250914,\n",
       "  -46.6333,\n",
       "  -95.36283014,\n",
       "  -122.7756216],\n",
       " 'longitude': [-7.27586109,\n",
       "  14.62204492,\n",
       "  35.7372126,\n",
       "  39.45877415,\n",
       "  28.52373178,\n",
       "  39.59363571,\n",
       "  -23.55,\n",
       "  29.75699599,\n",
       "  45.5064511]}"
      ]
     },
     "execution_count": 854,
     "metadata": {},
     "output_type": "execute_result"
    }
   ],
   "source": [
    "coordinates"
   ]
  },
  {
   "cell_type": "markdown",
   "metadata": {},
   "source": [
    "### Lets now map the information we have from tweet's location and bounding box centroids."
   ]
  },
  {
   "cell_type": "code",
   "execution_count": 855,
   "metadata": {},
   "outputs": [
    {
     "data": {
      "image/png": "[encoded data removed]",
      "text/plain": [
       "<Figure size 1080x648 with 1 Axes>"
      ]
     },
     "metadata": {},
     "output_type": "display_data"
    }
   ],
   "source": [
    "shp_link = './ne_10m_admin_0_countries/ne_10m_admin_0_countries.shp'\n",
    "shp = ps.open(shp_link)\n",
    "some = [True for i in ps.open(shp_link)] #bool(rdm.getrandbits(1))\n",
    "\n",
    "\n",
    "fig = figure(figsize=(15,9))\n",
    "\n",
    "base = maps.map_poly_shp(shp)\n",
    "base.set_facecolor('navy')\n",
    "base.set_linewidth(0.75)\n",
    "base.set_edgecolor('0.8')\n",
    "some = maps.map_poly_shp(shp, which=some)\n",
    "some.set_alpha(0.5)\n",
    "some.set_linewidth(0.)\n",
    "ptsC = scatter(df1['centroid_lat'], df1['centroid_lon'], s=400*df1['count'], alpha=.3)\n",
    "ptsC.set_color('red')\n",
    "\n",
    "pts = scatter(coordinates['latitude'], coordinates['longitude'])\n",
    "pts.set_color('green')\n",
    "\n",
    "ax = maps.setup_ax([base, some, ptsC, pts], [shp.bbox, shp.bbox, shp.bbox, shp.bbox])\n",
    "\n",
    "fig.add_axes(ax)\n",
    "show()"
   ]
  },
  {
   "cell_type": "code",
   "execution_count": null,
   "metadata": {
    "scrolled": false
   },
   "outputs": [],
   "source": []
  },
  {
   "cell_type": "code",
   "execution_count": null,
   "metadata": {},
   "outputs": [],
   "source": []
  },
  {
   "cell_type": "markdown",
   "metadata": {},
   "source": [
    "# Thank you!"
   ]
  },
  {
   "cell_type": "code",
   "execution_count": null,
   "metadata": {},
   "outputs": [],
   "source": []
  },
  {
   "cell_type": "code",
   "execution_count": null,
   "metadata": {},
   "outputs": [],
   "source": []
  },
  {
   "cell_type": "code",
   "execution_count": null,
   "metadata": {},
   "outputs": [],
   "source": []
  },
  {
   "cell_type": "code",
   "execution_count": null,
   "metadata": {},
   "outputs": [],
   "source": []
  },
  {
   "cell_type": "code",
   "execution_count": null,
   "metadata": {},
   "outputs": [],
   "source": []
  },
  {
   "cell_type": "code",
   "execution_count": null,
   "metadata": {},
   "outputs": [],
   "source": []
  },
  {
   "cell_type": "code",
   "execution_count": 856,
   "metadata": {},
   "outputs": [],
   "source": [
    "#df.to_csv('../dataTNASATalk.csv', index=False)"
   ]
  },
  {
   "cell_type": "code",
   "execution_count": null,
   "metadata": {},
   "outputs": [],
   "source": []
  },
  {
   "cell_type": "code",
   "execution_count": 66,
   "metadata": {},
   "outputs": [],
   "source": [
    "#dfA = pd.read_csv('dataT.csv')"
   ]
  },
  {
   "cell_type": "code",
   "execution_count": 70,
   "metadata": {},
   "outputs": [],
   "source": [
    "def Converter(x):\n",
    "    try:\n",
    "        return eval(x)\n",
    "    except:\n",
    "        None"
   ]
  },
  {
   "cell_type": "code",
   "execution_count": 71,
   "metadata": {},
   "outputs": [],
   "source": [
    "#dfA['raw_data'] = dfA.apply(lambda x: Converter(x['raw_data']), 1)"
   ]
  },
  {
   "cell_type": "code",
   "execution_count": 74,
   "metadata": {},
   "outputs": [],
   "source": [
    "#L = list(dfA['raw_data']) + L"
   ]
  },
  {
   "cell_type": "code",
   "execution_count": null,
   "metadata": {},
   "outputs": [],
   "source": [
    "#L = [x for x in L if x]"
   ]
  },
  {
   "cell_type": "code",
   "execution_count": null,
   "metadata": {},
   "outputs": [],
   "source": []
  }
 ],
 "metadata": {
  "kernelspec": {
   "display_name": "Python [conda env:anaconda3]",
   "language": "python",
   "name": "conda-env-anaconda3-py"
  },
  "language_info": {
   "codemirror_mode": {
    "name": "ipython",
    "version": 3
   },
   "file_extension": ".py",
   "mimetype": "text/x-python",
   "name": "python",
   "nbconvert_exporter": "python",
   "pygments_lexer": "ipython3",
   "version": "3.6.5"
  }
 },
 "nbformat": 4,
 "nbformat_minor": 2
}
