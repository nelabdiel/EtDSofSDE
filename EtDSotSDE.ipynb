{
 "cells": [
  {
   "cell_type": "markdown",
   "metadata": {},
   "source": [
    "# Exploring the Data Space of the Space Data Explorers"
   ]
  },
  {
   "cell_type": "markdown",
   "metadata": {},
   "source": [
    "## In this notebook we will use the Twitter API to explore the conversation happening on Twitter related to NASA and Space Apps."
   ]
  },
  {
   "cell_type": "code",
   "execution_count": 1,
   "metadata": {},
   "outputs": [],
   "source": [
    "import pandas as pd\n",
    "import scipy as sp\n",
    "import random as rdm\n",
    "import requests  # better than the urllib libraries\n",
    "import simplejson\n",
    "from requests_oauthlib import OAuth1\n",
    "from sklearn.feature_extraction.text import TfidfVectorizer\n",
    "from sklearn.decomposition import TruncatedSVD\n",
    "from sklearn.decomposition import LatentDirichletAllocation\n",
    "from matplotlib.patches import Polygon\n",
    "from matplotlib.collections import PatchCollection\n",
    "\n",
    "import re\n",
    "from nltk.tokenize import word_tokenize\n",
    "from string import punctuation \n",
    "from nltk.corpus import stopwords \n",
    "from textblob import TextBlob\n",
    "import heapq\n",
    "from collections import Counter\n",
    "from wordcloud import WordCloud\n",
    "from sklearn.cluster import MiniBatchKMeans\n",
    "from sklearn.cluster import DBSCAN\n",
    "from itertools import islice, chain\n",
    "from IPython.display import Image\n",
    "from IPython import display\n",
    "import matplotlib.pylab as plt\n",
    "%matplotlib inline\n",
    "import pysal as ps\n",
    "from pysal.contrib.viz import mapping as maps\n",
    "from pylab import *\n",
    "\n",
    "from pylab import rcParams\n",
    "rcParams['figure.figsize'] = 12, 7\n",
    "\n",
    "import sys\n",
    "from twython import Twython\n",
    "import os\n",
    "from datetime import datetime\n",
    "\n",
    "\n",
    "import warnings\n",
    "import matplotlib.cbook\n",
    "warnings.filterwarnings(\"ignore\",category=matplotlib.cbook.mplDeprecation)"
   ]
  },
  {
   "cell_type": "markdown",
   "metadata": {},
   "source": [
    "### We need twitter credentials in order to use the API. For more info on how to obtain them go to https://developer.twitter.com/en/docs"
   ]
  },
  {
   "cell_type": "code",
   "execution_count": 3,
   "metadata": {},
   "outputs": [],
   "source": [
    "\n",
    "#twitter_secrets.json.nogit\n",
    "secrets = {\"api_key\": CONSUMER_KEY,\n",
    "           \"api_secret\": CONSUMER_SECRET,\n",
    "           \"access_token\": ACCESS_KEY,\n",
    "           \"access_token_secret\": ACCESS_SECRET}\n",
    "\n",
    "auth = OAuth1(\n",
    "    secrets[\"api_key\"],\n",
    "    secrets[\"api_secret\"],\n",
    "    secrets[\"access_token\"],\n",
    "    secrets[\"access_token_secret\"]\n",
    ")"
   ]
  },
  {
   "cell_type": "markdown",
   "metadata": {},
   "source": [
    "# Let's create a function to request the posts we are interested in."
   ]
  },
  {
   "cell_type": "code",
   "execution_count": 6,
   "metadata": {},
   "outputs": [],
   "source": [
    "#L = []\n",
    "\n",
    "def tweet_generator():\n",
    "    \"\"\" Generator that live streams tweets (see 'yield' keyword)\"\"\"\n",
    "    stream = requests.post('https://stream.twitter.com/1.1/statuses/filter.json',\n",
    "                           auth=auth, \n",
    "                           stream=True,\n",
    "                           data={\"track\":[\"nasa\", \n",
    "                                          #\"@nasa\",\n",
    "                                          #\"#nasa\",\n",
    "                                          \"spaceapps\"#, \n",
    "                                          #\"spaceappschallenge\"\n",
    "                                         ]#, \n",
    "                                 #\"languages\":\"en\"#\n",
    "                                })\n",
    "    \n",
    "    for line in stream.iter_lines():\n",
    "        if not line:  # filter out keep-alive new lines\n",
    "            continue\n",
    "        tweet = simplejson.loads(line)\n",
    "        if ('text' in tweet): # and ((tweet['coordinates']) or (tweet['place'])):\n",
    "            L.append(tweet)\n",
    "            yield tweet['text']"
   ]
  },
  {
   "cell_type": "markdown",
   "metadata": {},
   "source": [
    "### Let's use that function to get a 1000 tweets!"
   ]
  },
  {
   "cell_type": "code",
   "execution_count": 404,
   "metadata": {},
   "outputs": [
    {
     "name": "stdout",
     "output_type": "stream",
     "text": [
      "@NASA @Astro_Christina @Astro_Jessica @Space_Station My astronaut is so inspired. https://t.co/65Lh27vaWr\n",
      "RT @maarcos_go: a nasa tem que estudar o @VintageCulture https://t.co/dzZXSLx0u6\n",
      "RT @HillaryClinton: When I was a little girl, I wrote to NASA and told them I dreamed of being an astronaut. \n",
      "\n",
      "They wrote back and said the…\n",
      "RT @CarpeDonktum: On the list of \"things that never happened\" this ranks right up there with you becoming President. https://t.co/o3W41WMIOM\n",
      "Hahahahaha... deep  breath......hahahahaha!! \n",
      "\n",
      "Did you see the latest load of bull? 😳\n",
      "\n",
      "Killary said NASA wrote her… https://t.co/ceqFbTs3Mr\n",
      "RT @SirHublife: They should have launched this bitch into space when they had the chance.\n",
      "\n",
      "Thanks a lot NASA. https://t.co/AXqMDdXCWb\n",
      "RT @HillaryClinton: When I was a little girl, I wrote to NASA and told them I dreamed of being an astronaut. \n",
      "\n",
      "They wrote back and said the…\n",
      "@TJWalters16 @TipaOdiosa @El_Papageno @RstrixxX @NASA @Astro_Christina @Astro_Jessica Civilized world is a literary… https://t.co/ulqJCCIRdC\n",
      "Paano po mawawala yung nasa toplist sa messenger ko?? Wala na kase e👻\n",
      "RT @HillaryClinton: When I was a little girl, I wrote to NASA and told them I dreamed of being an astronaut. \n",
      "\n",
      "They wrote back and said the…\n",
      "RT @spacecrafff: i'm reading about NASA studying the effect of freefall on astronauts &amp; my first thought is \"why bother?\"  most spaceships…\n",
      "RT @GOPLeader: One giant leap for women, everywhere. #AllWomanSpacewalk https://t.co/4vOYlveKuW\n",
      "@Vincent_Dicho nasa lts ka pala @vntr_angge ?? 🤣\n",
      "RT @seamachineart: as celebration for october 1st, shadowkeep, AND hitting 1k, i made a Remastered Blu-Ray of the most notorious piece of a…\n",
      "RT @lemondefr: Les astronautes de la NASA Christina Koch et Jessica Meir s’apprêtent à réaliser la première sortie entièrement féminine ven…\n",
      "RT @WhiteHouse: \"Please stand by for a call from the President of the United States.\" \n",
      "\n",
      "Congratulations to @NASA astronauts @Astro_Christin…\n",
      "Puro water heater system and pumps na nasa utak ko. 😪\n",
      "RT @SirHublife: They should have launched this bitch into space when they had the chance.\n",
      "\n",
      "Thanks a lot NASA. https://t.co/AXqMDdXCWb\n",
      "Cult of victimhood\n",
      "RT @fabbrdn: Mdrrr y’a autant de poussière que sa sur la Lune ? https://t.co/OwcLlnZOZF\n",
      "RT @Blood_Berry23: Ang konti naman \"nasa pwet mo na yung iba\"_bagets😋😋 https://t.co/4HmNE7CYbz\n",
      "No problem, Hillary. We can send you into space and make your dream come true.\n",
      "@mainedcm Happy Saturdaaaay too Meng!😍 nasa @EatBulaga kaba maya? nakakamiss ka sa EB. 😀 #IsaPaFeelGoodWeekend #MaineMendoza\n",
      "SOBRANG GWAPO NI TAN, NAPAPAMURA KAGABI UNG MGA NASA TABI KO MAPABABAE, BAKLA KAHIT LALAKI\n",
      "RT @KamalaHarris: For the first time in our nation’s history, an all-female crew walked in space today. It’s more than historic—it’s a remi…\n",
      "RT @Debbieann422: I don't think I could have less respect for a person right now.. Or the entire #Warmongers of the Democratic Party! https…\n",
      "RT @SirHublife: They should have launched this bitch into space when they had the chance.\n",
      "\n",
      "Thanks a lot NASA. https://t.co/AXqMDdXCWb\n",
      "LES RÉPONSES AU TWEET, CHUI ABATTU 😭😭😭\n",
      "RT @PeteButtigieg: “The stars don't look bigger, but they do look brighter.” —Sally Ride https://t.co/dEJD6IJbAA\n",
      "The largeat in the Universe?\n",
      "How does he know about other planets #hackathon's?\n",
      "😍\n",
      "RT @elakdawalla: For some reason it always tickles me that space boots have heels. They have them for the same reason that cowboy boots hav…\n",
      "La histórica caminata espacial de la NASA https://t.co/pSLEjOaUkK\n",
      "RT @ASTRlDYOUNG: Iba pala talaga pag totoong mga Icons ang nasa stage. Kahit anong gawin nila mapapangiti ka na lang! Saka Bosesan din tala…\n",
      "RT @jondaly: Two women floating in space were forced to talk to a rapist. https://t.co/IAAXXUqpID\n",
      "RT @DNA_RNA_Uni: The biggest double helix in the world ... 🧬\n",
      "\n",
      "aka When Thailand decides to have their own space exploration 🚀\n",
      "\n",
      "turn your 🔉…\n",
      "RT @HillaryClinton: When I was a little girl, I wrote to NASA and told them I dreamed of being an astronaut. \n",
      "\n",
      "They wrote back and said the…\n",
      "He'd got it out for ET.\n",
      "RT @jondaly: Two women floating in space were forced to talk to a rapist. https://t.co/IAAXXUqpID\n",
      "RT @HillaryClinton: When I was a little girl, I wrote to NASA and told them I dreamed of being an astronaut. \n",
      "\n",
      "They wrote back and said the…\n",
      "RT @SmithsonianMag: NASA astronauts Christina Koch and Jessica Meir have completed their spacewalk, becoming the first two women to venture…\n",
      "RT @HillaryClinton: When I was a little girl, I wrote to NASA and told them I dreamed of being an astronaut. \n",
      "\n",
      "They wrote back and said the…\n",
      "RT @HillaryClinton: When I was a little girl, I wrote to NASA and told them I dreamed of being an astronaut. \n",
      "\n",
      "They wrote back and said the…\n",
      "Yung full video nasa comments. Sarap ipatranslate kay papa kaso DDS siya. 😢😂💔 https://t.co/i1NDsxfRg6\n",
      "RT @ViceGandaLife: Nasa point nako ng buhay ko na ayaw ko na mag explain, if someone don't understand me, \"okay\" nalang sasabihin ko. If I…\n",
      "RT @mariamLshehawi: Well, I'm about to send my photos to Nasa because I'm a star تيهيهي 😂✨ https://t.co/bGZF84p2rW\n",
      "RT @capeandcowell: When I was a little boy, I wrote NASA and told them I dreamed of becoming an astronaut. \n",
      "\n",
      "They wrote back and said they…\n",
      "RT @jondaly: Two women floating in space were forced to talk to a rapist. https://t.co/IAAXXUqpID\n",
      "RT @clairecmc: Why is she at this table? Get your kids out of the White House while they are “earning” 80+ million last year. And until you…\n",
      "RT @fabbrdn: Mdrrr y’a autant de poussière que sa sur la Lune ? https://t.co/OwcLlnZOZF\n",
      "RT @SpeakerPelosi: .@NASA has captured the imaginations of the world for generations. Congratulations to @Astro_Christina &amp; @Astro_Jessica…\n",
      "RT @CarpeDonktum: On the list of \"things that never happened\" this ranks right up there with you becoming President. https://t.co/o3W41WMIOM\n",
      "RT @Redtowel4: This right here is such a BS lie. https://t.co/DDGKy6wKDq\n",
      "Power!\n",
      "RT @SCfutureminds: The world’s first all-female spacewalking team made history high above Earth on Friday, replacing a broken part of the I…\n",
      "RT @yarinaut: Just learned a very interesting fact about EVAs. The metabolic rate that @Astro_Jessica and @Astro_Christina are experiencing…\n",
      "RT @bakoff333: Show us the letter they sent you \n",
      "\n",
      "Are you saying a little girl wrote a letter and adults from NASA wrote back they don’t ta…\n",
      "RT @HillaryClinton: When I was a little girl, I wrote to NASA and told them I dreamed of being an astronaut. \n",
      "\n",
      "They wrote back and said the…\n",
      "RT @KamalaHarris: For the first time in our nation’s history, an all-female crew walked in space today. It’s more than historic—it’s a remi…\n",
      "RT @JohnGrahamDick1: I wish she had been launched a long time ago.  Demon of the world https://t.co/NnpocrLzsN\n",
      "RT @KMGVictoria: \"When I was a little girl, I wrote to God &amp; told him I dreamed of being President.\n",
      "\n",
      "\"He wrote back &amp; said, 'Not while I'm…\n",
      "RT @BuzzPatterson: In all of the things that never happened, this is the neverest. https://t.co/Vkvn3xkqBn\n",
      "Well you are a Bush sibling.  Maybe one of your cousins in the Bush clan put in a good word!\n",
      "Please watch this amazing one minute video. I am absolutely in awe. 🚀🎇✨🌌\n",
      "#SMEF19\n",
      "RT @TRODRAWLE: Pourtant y’a pas d’enfants à garder dans l’espace non ? https://t.co/G0LglRn8R4\n",
      "RT @clairecmc: Why is she at this table? Get your kids out of the White House while they are “earning” 80+ million last year. And until you…\n",
      "Enaknya jadi member NASA ,,,,😀😀😀\n",
      "🌿Pake sendiri lebih murah \n",
      "🌿Jual dapat untung \n",
      "🌿Jalankan bisnis tambah banyak untu… https://t.co/GLZZoO3MZY\n",
      "RT @StrongIam: Qing Inang commercial to! Hahaha\n",
      "\n",
      "Basahin nyo yung nasa baba. https://t.co/uIS21dSnjl\n",
      "RT @YourMajo: Sana nasa tabi kita\n",
      "@TomFitton @realDonaldTrump This was the beginning. Our President Trump is fighting against the NWO for us. If we d… https://t.co/zioCX1K2Cb\n",
      "RT @MarZii47: @AldenTrendsOFC @aldenrichards02 Ang sipag ni alden kahapon nasa Bacolod sya ngayon naman Bulacan. #ALDENgoesPHirst\n",
      "RT @HillaryClinton: When I was a little girl, I wrote to NASA and told them I dreamed of being an astronaut. \n",
      "\n",
      "They wrote back and said the…\n",
      "RT @padillacathh: “Iba talaga glow up pag nasa tamang tao ka”\n",
      "\n",
      "NOPE. IBA GLOW UP MO PAG MASAYA KA SA BUHAY MO , NATUTUNAN MO MAHALIN SARILI…\n",
      "RT @IvankaTrump: LIVE NOW: Tune in to watch the first #AllWomanSpacewalk in human history! 🇺🇸👩‍🚀👩‍🚀🇺🇸 https://t.co/Ed0zmyCnSp\n",
      "Kala ko kanser na ko pero mas kanser pala mga nasa header ko\n"
     ]
    },
    {
     "name": "stdout",
     "output_type": "stream",
     "text": [
      "RT @HillaryClinton: When I was a little girl, I wrote to NASA and told them I dreamed of being an astronaut. \n",
      "\n",
      "They wrote back and said the…\n",
      "RT @AlterPinoyBott: #Kantot ako ni #Daddy habang nasa work pa si Mommy... Follow me for more HOT VIDEOS of my #Libog #Sex-perience.🔥🍆🍑\n",
      "\n",
      "#al…\n",
      "Nasa Rome na akooo! \n",
      "\n",
      "Jk. Sa Goshen lang yan 😘\n",
      "\n",
      "(c)@judslosito @ Goshen Resort and Hotel https://t.co/Q0Kv32iH5z\n",
      "RT @HillaryClinton: When I was a little girl, I wrote to NASA and told them I dreamed of being an astronaut. \n",
      "\n",
      "They wrote back and said the…\n",
      "RT @4AllSoulKind: BULLSHIT! \n",
      "Publish the letter. \n",
      "cc @POTUS #KAG https://t.co/RVq49TbOzo\n",
      "RT @nytimes: 2 NASA astronauts, Christina Koch and Jessica Meir, completed the first all-female spacewalk on Friday. The walk lasted 7 hour…\n",
      "RT @HillaryClinton: When I was a little girl, I wrote to NASA and told them I dreamed of being an astronaut. \n",
      "\n",
      "They wrote back and said the…\n",
      "RT @nytimes: 2 NASA astronauts, Christina Koch and Jessica Meir, completed the first all-female spacewalk on Friday. The walk lasted 7 hour…\n",
      "RT @nytimes: 2 NASA astronauts, Christina Koch and Jessica Meir, completed the first all-female spacewalk on Friday. The walk lasted 7 hour…\n",
      "RT @HillaryClinton: When I was a little girl, I wrote to NASA and told them I dreamed of being an astronaut. \n",
      "\n",
      "They wrote back and said the…\n",
      "RT @KMGVictoria: \"When I was a little girl, I wrote to God &amp; told him I dreamed of being President.\n",
      "\n",
      "\"He wrote back &amp; said, 'Not while I'm…\n",
      "RT @junjunjulian1: 吉本に100億円💸加計に170億円💸\n",
      "【アメリカの産業復興費に56兆円】\n",
      "↑アメリカの産業復興に56兆円💸をみんな忘れた⁉\n",
      "そして巨大台風が日本を襲うとNASA が注意報を発信している時に安倍総理は\n",
      "【環境技術研究に30兆円💸】をポンと出し…\n",
      "RT @darrylpetitt: I'd like to see you as an astronaut.  \n",
      "\n",
      "The first woman on Mars.  \n",
      "\n",
      "Then leaving you there. https://t.co/Tm4iGtDfbw\n",
      "RT @SpeakerPelosi: .@NASA has captured the imaginations of the world for generations. Congratulations to @Astro_Christina &amp; @Astro_Jessica…\n",
      "RT @JohnGrahamDick1: I wish she had been launched a long time ago.  Demon of the world https://t.co/NnpocrLzsN\n",
      "RT @catturd2: One time - at band camp! https://t.co/YZVvlBywgl\n",
      "RT @CarpeDonktum: On the list of \"things that never happened\" this ranks right up there with you becoming President. https://t.co/o3W41WMIOM\n",
      "@brnt_meh lagi kaya ako nasa mood hmpp\n",
      "RT @NASA: Throughout spaceflight history, 14 women have completed spacewalks. Today, @Astro_Jessica brought that number up to 15 as she flo…\n",
      "RT @MarZii47: @AldenTrendsOFC @aldenrichards02 Ang sipag ni alden kahapon nasa Bacolod sya ngayon naman Bulacan. #ALDENgoesPHirst\n",
      "jowa daw e🤣\n",
      "@RodRuncan @NASA @democracynow @CNET @TYTPolitics @NASA_Astronauts @HuffPost @PopSci @Gizmodo @NASA_Technology… https://t.co/ev1O7mfcQ7\n",
      "RT @jondaly: Two women floating in space were forced to talk to a rapist. https://t.co/IAAXXUqpID\n",
      "\n",
      "\n",
      "100\n",
      "\n",
      "\n",
      "RT @SenKamalaHarris: This morning, for the first time ever in history, astronauts Christina Koch and Jessica Meir conducted the first ever…\n",
      "RT @StrongIam: Qing Inang commercial to! Hahaha\n",
      "\n",
      "Basahin nyo yung nasa baba. https://t.co/uIS21dSnjl\n",
      "RT @HillaryClinton: When I was a little girl, I wrote to NASA and told them I dreamed of being an astronaut. \n",
      "\n",
      "They wrote back and said the…\n",
      "RT @nytimes: 2 NASA astronauts, Christina Koch and Jessica Meir, completed the first all-female spacewalk on Friday. The walk lasted 7 hour…\n",
      "RT @mishacollins: This morning, history was made as two women astronauts took a spacewalk to replace a failed power controller. This is a g…\n",
      "RT @mydwardooo: Yung nagkagulo na kami dito, not knowing nasa Bali na pala kayo. #MayWardGhosting101 🤣 https://t.co/nQTg0N3JOk\n",
      "RT @HillaryClinton: When I was a little girl, I wrote to NASA and told them I dreamed of being an astronaut. \n",
      "\n",
      "They wrote back and said the…\n",
      "RT @kayenne22: Here is a clip of a very confused @NASA showing the #DaytimeMoon Right up there!! 👆🏼 🌚🌝\n",
      "See past the desperation of a #Schoo…\n",
      "RT @WilliamShatner: 👍🏻 https://t.co/p2AmDPvidD\n",
      "AHAHAHAHHAHA RAMDAM KO EHH AHAHAAHAH\n",
      "RT @HillaryClinton: When I was a little girl, I wrote to NASA and told them I dreamed of being an astronaut. \n",
      "\n",
      "They wrote back and said the…\n",
      "RT @SenKamalaHarris: This morning, for the first time ever in history, astronauts Christina Koch and Jessica Meir conducted the first ever…\n",
      "She may get her orange jumpsuit, processed food and a long stretch watching screens in tightly confined quarters ye… https://t.co/MxGwy7fXa8\n",
      "RT @WhiteHouse: \"Please stand by for a call from the President of the United States.\" \n",
      "\n",
      "Congratulations to @NASA astronauts @Astro_Christin…\n",
      "RT @galpaojnnll: Nasa kanya na lahat jowa nalang wala lezgoo 😬 https://t.co/1XTdGNHmuQ\n",
      "sarap replyan ng mga nasa message request ko ah, palike daw ng profile pic nila HAHAHABA\n",
      "@HillaryClinton File this in the total BS folder. Hillary yet again trying to put herself over a historic moment. L… https://t.co/xdetwAS44B\n",
      "RT @jondaly: Two women floating in space were forced to talk to a rapist. https://t.co/IAAXXUqpID\n",
      "RT @HillaryClinton: When I was a little girl, I wrote to NASA and told them I dreamed of being an astronaut. \n",
      "\n",
      "They wrote back and said the…\n",
      "RT @HillaryClinton: When I was a little girl, I wrote to NASA and told them I dreamed of being an astronaut. \n",
      "\n",
      "They wrote back and said the…\n",
      "RT @KamalaHarris: For the first time in our nation’s history, an all-female crew walked in space today. It’s more than historic—it’s a remi…\n",
      "Nothing is impossible and CHANGE is inevitable !!!\n",
      "RT @HillaryClinton: When I was a little girl, I wrote to NASA and told them I dreamed of being an astronaut. \n",
      "\n",
      "They wrote back and said the…\n",
      "RT @darna817: Pansin ko lang. Ano yung nasa likod Paps? Yung may pa ilaw. May naalala lang ako. 🤟\n",
      "\n",
      "BASTAHAPIKAHAPISYA\n",
      "\n",
      "#ALDUBChangingLives…\n",
      "RT @nowthisnews: Meet Jessica Meir and Christina Koch, the history-making astronaut duo behind NASA’s first-ever all-women spacewalk 💪 http…\n",
      "RT @RepKatieHill: Incredible news: there will now be as many as twelve #Artemis missions! This is an incredible opportunity for all the har…\n",
      "RT @SenSchumer: I’m thinking of all the young women who look up to @Astro_Christina and @Astro_Jessica as their heroes, and who will get to…\n",
      "RT @CTVNews: NASA astronauts Christina Koch and Jessica Meir made history far above the surface of the Earth on Friday, becoming the first…\n",
      "RT @StevePasquale: Women in space having to endure talking to the worlds most famous rapist. https://t.co/7sQbOkAe2P\n",
      "RT @clairecmc: Why is she at this table? Get your kids out of the White House while they are “earning” 80+ million last year. And until you…\n",
      "@NASA @POTUS @Astro_Christina @Astro_Jessica Houston, we have a problem. We have to talk to him.\n",
      "https://t.co/67CdOx3ZdG\n",
      "RT @nytimes: 2 NASA astronauts made history today. Jessica Meir and Christina Koch have completed the first all-female spacewalk. https://t…\n",
      "RT @padillacathh: “Iba talaga glow up pag nasa tamang tao ka”\n",
      "\n",
      "NOPE. IBA GLOW UP MO PAG MASAYA KA SA BUHAY MO , NATUTUNAN MO MAHALIN SARILI…\n",
      "...because you will never see REAL news on the MSM\n",
      "A wonderful message from another trailblazer!\n",
      "RT @fabbrdn: Mdrrr y’a autant de poussière que sa sur la Lune ? https://t.co/OwcLlnZOZF\n",
      "RT @HillaryClinton: When I was a little girl, I wrote to NASA and told them I dreamed of being an astronaut. \n",
      "\n",
      "They wrote back and said the…\n",
      "30 September 1994 — Eruption of Kliuchevskoi volcano\n",
      "––––––––––––––\n",
      "STS068-150-045 (30 September 1994) --- (Kliuche… https://t.co/j3leBwCRaR\n",
      "RT @AFPespanol: #ULTIMAHORA Por primera vez, dos mujeres realizan una caminata espacial juntas (TV NASA) #AFP https://t.co/S2CK1JEdUz\n",
      "RT @SenKamalaHarris: This morning, for the first time ever in history, astronauts Christina Koch and Jessica Meir conducted the first ever…\n",
      "RT @johncsmith88: Hillary won’t say a word about girls in Honduras or Libya who are suffering because of her https://t.co/5BXcG6B5uT\n",
      "RT @HillaryClinton: When I was a little girl, I wrote to NASA and told them I dreamed of being an astronaut. \n",
      "\n",
      "They wrote back and said the…\n",
      "@Sheldon_Andreas @MikeHudema @GretaThunberg Haha.  PragerU.  There is a credible organization.  Far more credible t… https://t.co/bJTcRscaBy\n",
      "RT @NASAGoddard: Fifteen years ago, @Astro_Christina was an electrical engineer here at Goddard. 🔌 \n",
      "\n",
      "Today, she's making history with @Astr…\n"
     ]
    },
    {
     "name": "stdout",
     "output_type": "stream",
     "text": [
      "RT @jondaly: Two women floating in space were forced to talk to a rapist. https://t.co/IAAXXUqpID\n",
      "RT @menggalurks: Isa Pa With Feelings Review @Black_SheepPH \n",
      "\n",
      "#IsaPaFeelGoodWeekend\n",
      "#MaineMendoza https://t.co/FqlFyKuBTx\n",
      "RT @YahooNewsTopics: 【史上初 女性だけで宇宙遊泳】\n",
      "https://t.co/cCr7GlnJNp\n",
      "\n",
      "国際宇宙ステーションで18日、NASAの飛行士2人が、史上初の女性のみによる宇宙遊泳を行った。3月にも予定されていたが、サイズの合う宇宙服がそろわず実施さ…\n",
      "laging ikaw nasa panaginip ko\n",
      "RT @SirHublife: They should have launched this bitch into space when they had the chance.\n",
      "\n",
      "Thanks a lot NASA. https://t.co/AXqMDdXCWb\n",
      "RT @osodorna: iyak count ko sa isa pa with feelings: tatlo*\n",
      "\n",
      "* isa nasa first 15 minutes ng palabas TAMA HO BA IYON pabiglang atake ahmpuht…\n",
      "RT @Karnagemvp: JE CHIALE LES RÉPONSES 😭😭😭😭😭 https://t.co/1VRgmU5lej\n",
      "RT @GuyChicago5151: .@HillaryClinton Show US the letter, you know you didn’t write NASA and you know you never received a letter that said…\n",
      "RT @nytimes: 2 NASA astronauts, Christina Koch and Jessica Meir, completed the first all-female spacewalk on Friday. The walk lasted 7 hour…\n",
      "“ Girl power lets go!!! Errr...Houston we got a problem...can you send a MAN with a very large glass please...um..”… https://t.co/FSfzaCVvJ8\n",
      "RT @HillaryClinton: When I was a little girl, I wrote to NASA and told them I dreamed of being an astronaut. \n",
      "\n",
      "They wrote back and said the…\n",
      "@alimhaider Have my doubts about her story since other women in her age group were admitted. \n",
      "\n",
      "“The women accepted… https://t.co/yhalSqJpru\n",
      "RT @TheRealBuzz: Well done ladies. #AllWomanSpacewalk https://t.co/wbancSBV5S\n",
      "RT @b0yle: UPDATE: First all-female spacewalk is officially over at 2:55 p.m. ET, lasting 7 hours and 17 minutes and sparking waves of cong…\n",
      "RT @Amitafvb: @mainedcm Happy Saturdaaaay too Meng!😍 nasa @EatBulaga kaba maya? nakakamiss ka sa EB. 😀 #IsaPaFeelGoodWeekend #MaineMendoza\n",
      "RT @HillaryClinton: When I was a little girl, I wrote to NASA and told them I dreamed of being an astronaut. \n",
      "\n",
      "They wrote back and said the…\n",
      "RT @Space_Station: .@Astro_Christina and @Astro_Jessica are moving right along with their power maintenance spacewalk today. @Rene_Mathijss…\n",
      "RT @SirHublife: They should have launched this bitch into space when they had the chance.\n",
      "\n",
      "Thanks a lot NASA. https://t.co/AXqMDdXCWb\n",
      "RT @jarue369: Truth is the enemy to anyone who lies. https://t.co/msk7Wce0MD\n",
      "RT @aftab_sadiq: Top story: The first all-female spacewalk is underway - CNN https://t.co/PUk9uMMJEt, see more https://t.co/x6Al5Sg7rR\n",
      "clutched essay writing during a mall sale, submitted it online with 3 minutes to spare hehehe\n",
      "RT @ItsKrissy: Thanks a lot @NASA - y’all could’ve prevented a lot of death and destruction on earth by sending her into space https://t.co…\n",
      "RT @StrongIam: Qing Inang commercial to! Hahaha\n",
      "\n",
      "Basahin nyo yung nasa baba. https://t.co/uIS21dSnjl\n",
      "RT @WhipClyburn: Congratulations to NASA astronauts Jessica Meir and Christina Koch on completing the first-ever all-women spacewalk today!…\n",
      "RT @HillaryClinton: When I was a little girl, I wrote to NASA and told them I dreamed of being an astronaut. \n",
      "\n",
      "They wrote back and said the…\n",
      "RT @HillaryClinton: When I was a little girl, I wrote to NASA and told them I dreamed of being an astronaut. \n",
      "\n",
      "They wrote back and said the…\n",
      "Solo de pensarlo me sofoco😣\n",
      "RT @nytimes: 2 NASA astronauts made history today. Jessica Meir and Christina Koch have completed the first all-female spacewalk. https://t…\n",
      "RT @HillaryClinton: When I was a little girl, I wrote to NASA and told them I dreamed of being an astronaut. \n",
      "\n",
      "They wrote back and said the…\n",
      "🌻\n",
      "RT @junjunjulian1: 吉本に100億円💸加計に170億円💸\n",
      "【アメリカの産業復興費に56兆円】\n",
      "↑アメリカの産業復興に56兆円💸をみんな忘れた⁉\n",
      "そして巨大台風が日本を襲うとNASA が注意報を発信している時に安倍総理は\n",
      "【環境技術研究に30兆円💸】をポンと出し…\n",
      "RT @HillaryClinton: When I was a little girl, I wrote to NASA and told them I dreamed of being an astronaut. \n",
      "\n",
      "They wrote back and said the…\n",
      "RT @hey_punkymack: my mga assuming hahahaha! nasa taping ng ap ung AskFranki kagabi hoy!! mga irre*** hahaha\n",
      "\n",
      "#FrankiAnaBetterThanEver\n",
      "RT @WhiteHouse: \"Please stand by for a call from the President of the United States.\" \n",
      "\n",
      "Congratulations to @NASA astronauts @Astro_Christin…\n",
      "kung nasa normal na pagkatao naman ako kagabi i wont let my emotion win\n",
      "Thanks @zacharylipton for your great talk at @NASAJPL in the LEAP innovation Seminar on Robust Deep Learning under… https://t.co/NV9SYZJ1xq\n",
      "RT @clairecmc: Why is she at this table? Get your kids out of the White House while they are “earning” 80+ million last year. And until you…\n",
      "Hahahahaha\n",
      "RT @HillaryClinton: When I was a little girl, I wrote to NASA and told them I dreamed of being an astronaut. \n",
      "\n",
      "They wrote back and said the…\n",
      "RT @jondaly: Two women floating in space were forced to talk to a rapist. https://t.co/IAAXXUqpID\n",
      "@NASA @POTUS @Astro_Christina @Astro_Jessica First step?... then finally to the moon?\n",
      "Moron\n",
      "In a wong kar wai marathon today till sunday kasi dapat nasa hong kong ako ngayon umaakyat sa rooftop nag shushoot ng cinestill hahahaha\n",
      "RT @GuyChicago5151: .@HillaryClinton Show US the letter, you know you didn’t write NASA and you know you never received a letter that said…\n",
      "Parang nasa bahay lang sila \n",
      "\n",
      "MellowMYXSaturdaze KIANO https://t.co/LqyvoqPjML\n",
      "RT @NASA: “You’re doing an incredible job,” says @POTUS to @Astro_Christina and @Astro_Jessica during today’s #AllWomanSpacewalk. Tune in t…\n",
      "Sinong nasa school ngayon????\n",
      "RT @NASAHubble: #HubbleFriday Galaxy NGC 4380 looks like a special effect straight out of a science fiction or fantasy film, swirling like…\n",
      "RT @HillaryClinton: When I was a little girl, I wrote to NASA and told them I dreamed of being an astronaut. \n",
      "\n",
      "They wrote back and said the…\n",
      "RT @HillaryClinton: When I was a little girl, I wrote to NASA and told them I dreamed of being an astronaut. \n",
      "\n",
      "They wrote back and said the…\n",
      "RT @morten: @WhiteHouse @NASA @Astro_Christina @Astro_Jessica Donald Trump is the first President to get a false statement corrected from S…\n",
      "RT @fabbrdn: Mdrrr y’a autant de poussière que sa sur la Lune ? https://t.co/OwcLlnZOZF\n",
      "RT @boogieordie: The finally got more than one lady spacesuit?!? https://t.co/c6FBp4KtIZ\n",
      "You couldn't have been qualified to be an astronaut: Then or now! You don't have the character &amp; you are(to be blun… https://t.co/QxmX3maPx9\n",
      "Pourquoi la meuf a droite c'est un melange de Swan Perissé et de Nancy dans stranger things ?!\n",
      "RT @sean_spicier: I’m sure it’s just a coincidence that NASA’s first all-female space walk started 25 minutes late\n",
      "@GjDump di naman sa pinangunahan ko pero tama ba yung nasa isip ko brad? 😂\n",
      "\n",
      "\n",
      "200\n",
      "\n",
      "\n",
      "RT @ChristinePolon1: She's lying. She doesn't have the discipline. You need some exercise lady. There's a fenced in exercise yard just wait…\n",
      "@NASA @Astro_Jessica @Space_Station @Astro_Christina What is this thing about women and being in space I don’t understand it.\n",
      "RT @viewsfrance: Aujourd’hui, et après 50 ans de sorties spatiales masculines, la NASA s’apprête à réaliser pour la 1ère fois une sortie sp…\n",
      "RT @jondaly: Two women floating in space were forced to talk to a rapist. https://t.co/IAAXXUqpID\n",
      "RT @NonlesAnn: SOBRANG GWAPO NI TAN, NAPAPAMURA KAGABI UNG MGA NASA TABI KO MAPABABAE, BAKLA KAHIT LALAKI https://t.co/5wr1ZHP2TG\n",
      "RT @clairecmc: Why is she at this table? Get your kids out of the White House while they are “earning” 80+ million last year. And until you…\n",
      "RT @BillNye: Space brings out the best in us. Congrats to Astronauts Koch &amp; Meir, first spacewalk featuring 2 women. Looking forward to the…\n",
      "Nasa condo na sana🤦🏼‍♀️\n",
      "RT @SirHublife: They should have launched this bitch into space when they had the chance.\n",
      "\n",
      "Thanks a lot NASA. https://t.co/AXqMDdXCWb\n",
      "RT @bbcmundo: Dos astronautas mujeres en el espacio: la histórica caminata espacial de la NASA https://t.co/kuelyEQ4Y2\n",
      "RT @HillaryClinton: When I was a little girl, I wrote to NASA and told them I dreamed of being an astronaut. \n",
      "\n",
      "They wrote back and said the…\n",
      "RT @AddictKiano: Si Ms MJ nasa Bacolod, Ms April, Syd and Mama Bear With Fumiyam. Hala baka si Gino lang at Kiara sa Davao ay wowwwww hahah…\n",
      "RT @JenKirkman: Today’s historic NASA news marks the first all female space walk and it also marks the first time women walked somewhere wi…\n",
      "@LisaMei62 @davidwcpf Nasa 🌝\n",
      "RT @WhiteHouse: \"Please stand by for a call from the President of the United States.\" \n",
      "\n",
      "Congratulations to @NASA astronauts @Astro_Christin…\n"
     ]
    },
    {
     "name": "stdout",
     "output_type": "stream",
     "text": [
      "NASA Is About to Conduct Its First All-Female Spacewalk https://t.co/wWZIOr80oO\n",
      "@rokro111 @scottb_CITY @Freedom4thekids @FlatEarthExpert @_Gravity_Man @PaleAleWitch1 @Xaquery1 @dtjaayne @Mctoon27… https://t.co/I2tZLB9s2S\n",
      "RT @HillaryClinton: When I was a little girl, I wrote to NASA and told them I dreamed of being an astronaut. \n",
      "\n",
      "They wrote back and said the…\n",
      "RT @catturd2: One time - at band camp! https://t.co/YZVvlBywgl\n",
      "RT @HillaryClinton: When I was a little girl, I wrote to NASA and told them I dreamed of being an astronaut. \n",
      "\n",
      "They wrote back and said the…\n",
      "RT @NASA: Today, history was made as @Astro_Jessica and @Astro_Christina successfully completed the first #AllWomanSpacewalk! For more than…\n",
      "RT @HillaryClinton: When I was a little girl, I wrote to NASA and told them I dreamed of being an astronaut. \n",
      "\n",
      "They wrote back and said the…\n",
      "RT @HillaryClinton: When I was a little girl, I wrote to NASA and told them I dreamed of being an astronaut. \n",
      "\n",
      "They wrote back and said the…\n",
      "Bwiset ka!!!🙄\n",
      "RT @TheRealHolli: Breaking:\n",
      "\n",
      "Trump orders NASA to investigate illegal aliens.\n",
      "RT @nytimes: 2 NASA astronauts, Christina Koch and Jessica Meir, completed the first all-female spacewalk on Friday. The walk lasted 7 hour…\n",
      "RT @HillaryClinton: When I was a little girl, I wrote to NASA and told them I dreamed of being an astronaut. \n",
      "\n",
      "They wrote back and said the…\n",
      "Huwag kang umasa na babalik pa siya, kung nasa piling na siya ng iba.\n",
      "\n",
      "#FrankiAnaBetterThanEver\n",
      "RT @CNN: NASA astronauts Jessica Meir and Christina Koch will conduct the first all-female spacewalk outside of the International Space Sta…\n",
      "RT @Amitafvb: @mainedcm Happy Saturdaaaay too Meng!😍 nasa @EatBulaga kaba maya? nakakamiss ka sa EB. 😀 #IsaPaFeelGoodWeekend #MaineMendoza\n",
      "RT @HillaryClinton: When I was a little girl, I wrote to NASA and told them I dreamed of being an astronaut. \n",
      "\n",
      "They wrote back and said the…\n",
      "RT @SirHublife: They should have launched this bitch into space when they had the chance.\n",
      "\n",
      "Thanks a lot NASA. https://t.co/AXqMDdXCWb\n",
      "nagpunta pala ko jan kagabe???? hayuf ava HHSHAHHHS\n",
      "⤵️ https://t.co/mBRhuup1jm\n",
      "RT @OrdyPackard: When you were a little girl, there wasn't a NASA. https://t.co/fOzXDE2OCA\n",
      "RT @WhiteHouse: \"Please stand by for a call from the President of the United States.\" \n",
      "\n",
      "Congratulations to @NASA astronauts @Astro_Christin…\n",
      "RT @HillaryClinton: When I was a little girl, I wrote to NASA and told them I dreamed of being an astronaut. \n",
      "\n",
      "They wrote back and said the…\n",
      "RT @nytimes: 2 NASA astronauts, Christina Koch and Jessica Meir, completed the first all-female spacewalk on Friday. The walk lasted 7 hour…\n",
      "@prfctgws @grandexholland maybe nasa but bloodline? honey...\n",
      "@DunsScottus Because for the longest time, NASA didn’t allow women to even apply to be astronauts. Granted they hav… https://t.co/c5obwje2k9\n",
      "RT @HillaryClinton: When I was a little girl, I wrote to NASA and told them I dreamed of being an astronaut. \n",
      "\n",
      "They wrote back and said the…\n",
      "RT @nytimes: 2 NASA astronauts, Christina Koch and Jessica Meir, completed the first all-female spacewalk on Friday. The walk lasted 7 hour…\n",
      "RT @clairecmc: Why is she at this table? Get your kids out of the White House while they are “earning” 80+ million last year. And until you…\n",
      "RT @heybashers: aljon:dont look at the ano, the anong tawag dont look at the ahhh basta just eat \n",
      "\n",
      "HAHAHAHAHAHHAAHA RAMDAM NA RAMDAM KO YUN…\n",
      "RT @HillaryClinton: When I was a little girl, I wrote to NASA and told them I dreamed of being an astronaut. \n",
      "\n",
      "They wrote back and said the…\n",
      "RT @TheUniverse_TM: 'Moons of Saturn' image from the #NASA_App\n",
      "https://t.co/axqdbB5dPN https://t.co/CPOjGTAzPI\n",
      "RT @bluecle777: 本日は、2012年10月19日にハーモニー宇宙艦隊が日本やカムチャッカ半島周辺に大挙出現した記念すべき日であります。現在その衛星画像はNASAによって削除されておりますが、今も毎日日本付近のどこかに出現しております。\n",
      "\n",
      "https://t.co/…\n",
      "RT @clairecmc: Why is she at this table? Get your kids out of the White House while they are “earning” 80+ million last year. And until you…\n",
      "Kulang na lang umiyak siya kahapon ng umaga kasi gustung gusto niya ko makita, naglalambing pa maigi. Galit na gali… https://t.co/k1B15FBwtQ\n",
      "RT @HillaryClinton: When I was a little girl, I wrote to NASA and told them I dreamed of being an astronaut. \n",
      "\n",
      "They wrote back and said the…\n",
      "RT @TheBabylonBee: NASA Announces All-Female Remake Of Staged Moon Landings\n",
      "https://t.co/rrV5thZB2A\n",
      "RT @NebojsaMalic: The Soviet Union sent a woman into space when you were 16. Cool story, tho. https://t.co/dntDgsXdNC\n",
      "RT @HillaryClinton: When I was a little girl, I wrote to NASA and told them I dreamed of being an astronaut. \n",
      "\n",
      "They wrote back and said the…\n",
      "Nasa cosmetic section ako kanina, pero wala akong nabili hahahahaha di ko mabasa kung ano at para saan sila e 😂😂😂… https://t.co/EZXgnCK9CC\n",
      "RT @RedinBlue5: Wish we could launch your fat evil ass into space right now. https://t.co/2ohQ5BC5d8\n",
      "Nasa dugo ko to kapag inlove.\n",
      "RT @Space_Station: Today's spacewalk was unplanned due to necessary power maintenance work so @STEMin30 wants to know, \"Did @Astro_Christin…\n",
      "RT @camilleovanon: Watching #HERSTORY live while at the Office. First ever All-Female Spacewalk happening right now @NASA https://t.co/qRSL…\n",
      "RT @nytimes: 2 NASA astronauts, Christina Koch and Jessica Meir, completed the first all-female spacewalk on Friday. The walk lasted 7 hour…\n",
      "RT @troobie_md: Dahil puro students at teachers lang ang nasa loob, heto kami sa labas! Thanks po uli sa generous sponsors namin! To God be…\n",
      "RT @HillaryClinton: When I was a little girl, I wrote to NASA and told them I dreamed of being an astronaut. \n",
      "\n",
      "They wrote back and said the…\n",
      "RT @StrongIam: Qing Inang commercial to! Hahaha\n",
      "\n",
      "Basahin nyo yung nasa baba. https://t.co/uIS21dSnjl\n",
      "Nakakagutom talaga pag nasa bahay lang hays\n",
      "HAHAHAHAHAHA TAKTE PANOORIN NYO SA 0:48 HAHAHAHSHAHAA\n",
      "RT @jorourke2: @HeatherIsTaken @MAGA2ARIGHTS Damn you NASA!!!\n",
      "\n",
      "The least you could have done was to give her a job on the Rocket Sled. http…\n",
      "RT @HillaryClinton: When I was a little girl, I wrote to NASA and told them I dreamed of being an astronaut. \n",
      "\n",
      "They wrote back and said the…\n",
      "Oddly enough, that wouldn’t have disqualified Michelle Obama\n",
      "Hillary would've been an awesome president!\n",
      "Good was trumped by evil.\n",
      "RT @clairecmc: Why is she at this table? Get your kids out of the White House while they are “earning” 80+ million last year. And until you…\n",
      "Kahit matagalan basta nasa tamang panahon. ☺️\n",
      "@TwitchChio @WorldAndScience I may have conflated several articles (CNN, https://t.co/IRZx8nbGvi,… https://t.co/uNw8RAfNH1\n",
      "@ABSCBNNews Tangalin ninoy day chinese new year mga walang kakuwenta kuwenta na holiday alisin nagiging tamad mga tao puro holiday nasa isip\n",
      "RT @HillaryClinton: When I was a little girl, I wrote to NASA and told them I dreamed of being an astronaut. \n",
      "\n",
      "They wrote back and said the…\n",
      "RT @thefaceberg: NASA today is just the Vatican for Science-as-a-Religion. It's a figurehead that all the pop culture fake \"scientists\" of…\n",
      "muto nasa? daw ante mo ya hahahaha\n",
      "RT @HillaryClinton: When I was a little girl, I wrote to NASA and told them I dreamed of being an astronaut. \n",
      "\n",
      "They wrote back and said the…\n",
      "RT @SamLang48624550: Alam ko laspag na tong mga ganitong banat pero hindi ko matiis sabihin na sa tuwing nakangiti ka, hinihila ang mga paa…\n",
      "RT @IvankaTrump: LIVE NOW: Tune in to watch the first #AllWomanSpacewalk in human history! 🇺🇸👩‍🚀👩‍🚀🇺🇸 https://t.co/Ed0zmyCnSp\n",
      "RT @clairecmc: Why is she at this table? Get your kids out of the White House while they are “earning” 80+ million last year. And until you…\n",
      "RT @YouTube: 🔴 LIVE 🔴 It's time to make history with @NASA again! Tune in to watch the first all women space walk. 🌑 https://t.co/PjyeZPomxr\n",
      "@HillaryClinton Show US the letter, you know you didn’t write NASA and you know you never received a letter that sa… https://t.co/n1cembQ81V\n",
      "RT @NewMexicoRoni: Bull💩 stories from the home . Your not going to be President , no one cares who you wrote to . We know the truth you wer…\n",
      "RT @HillaryClinton: When I was a little girl, I wrote to NASA and told them I dreamed of being an astronaut. \n",
      "\n",
      "They wrote back and said the…\n",
      "RT @frxncessnichole: nasa point ako ng buhay ko na kung may aalis, edi go. kung ayaw, edi hayaan. kung ayaw nyo sakin, wala akong pake. pag…\n",
      "RT @menggalurks: Isa Pa With Feelings Review @Black_SheepPH \n",
      "\n",
      "#IsaPaFeelGoodWeekend\n",
      "#MaineMendoza https://t.co/FqlFyKuBTx\n"
     ]
    },
    {
     "name": "stdout",
     "output_type": "stream",
     "text": [
      "RT @YourMajo: Sana nasa tabi kita\n",
      "RT @fabbrdn: Mdrrr y’a autant de poussière que sa sur la Lune ? https://t.co/OwcLlnZOZF\n",
      "RT @pialicerio: Ang galing lang kasi, napafeel niyo sa amin yung pakiramdam ng isang deaf, ang hirap kapag ikaw yung nasa sitwasyon ni gali…\n",
      "RT @darna817: Pansin ko lang. Ano yung nasa likod Paps? Yung may pa ilaw. May naalala lang ako. 🤟\n",
      "\n",
      "BASTAHAPIKAHAPISYA\n",
      "\n",
      "#ALDUBChangingLives…\n",
      "RT @TaraForTrump: Hahahahaha... deep  breath......hahahahaha!! \n",
      "\n",
      "Did you see the latest load of bull? 😳\n",
      "\n",
      "Killary said NASA wrote her &amp; said…\n",
      "RT @AlterPinoyBott: #Kantot ako ni #Daddy habang nasa work pa si Mommy... Follow me for more HOT VIDEOS of my #Libog #Sex-perience.🔥🍆🍑\n",
      "\n",
      "#al…\n",
      "@HillaryClinton NASA didn’t take little girls, so Hillary showed them how.  Girls, boys, whatever Haiti had.  She t… https://t.co/98l30AYl0j\n",
      "RT @NASA: Today, history was made as @Astro_Jessica and @Astro_Christina successfully completed the first #AllWomanSpacewalk! For more than…\n",
      "@CCriadoPerez And if you are looking for something else to get mad about, check out Ken Bowersox (NASA) lame excuses re female spacewalks\n",
      "RT @gufalei: Então vamos assumir o seguinte. Há três dias toda a Marinha, o Ministério do Meio Ambiente, o Ministério da Defesa do maior pa…\n",
      "RT @TaraForTrump: Hahahahaha... deep  breath......hahahahaha!! \n",
      "\n",
      "Did you see the latest load of bull? 😳\n",
      "\n",
      "Killary said NASA wrote her &amp; said…\n",
      "RT @libogfucker2: Yun nasa work ka tapos naramdaman mo tigas ka na nman...sarap sana magjakol kaso magkape nalang hahahahahaha😋😂😂 https://t…\n",
      "RT @clairecmc: Why is she at this table? Get your kids out of the White House while they are “earning” 80+ million last year. And until you…\n",
      "RT @junjunjulian1: 吉本に100億円💸加計に170億円💸\n",
      "【アメリカの産業復興費に56兆円】\n",
      "↑アメリカの産業復興に56兆円💸をみんな忘れた⁉\n",
      "そして巨大台風が日本を襲うとNASA が注意報を発信している時に安倍総理は\n",
      "【環境技術研究に30兆円💸】をポンと出し…\n",
      "RT @HillaryClinton: When I was a little girl, I wrote to NASA and told them I dreamed of being an astronaut. \n",
      "\n",
      "They wrote back and said the…\n",
      "\n",
      "\n",
      "300\n",
      "\n",
      "\n",
      "RT @hey_punkymack: my mga assuming hahahaha! nasa taping ng ap ung AskFranki kagabi hoy!! mga irre*** hahaha\n",
      "\n",
      "#FrankiAnaBetterThanEver\n",
      "RT @avstrzangel: love ko nasa header ko💓\n",
      "Ung eto ang nasa harapan ko pero ung puso ko nasa iba 💔\n",
      "RT @TheBabylonBee: NASA Announces All-Female Remake Of Staged Moon Landings\n",
      "https://t.co/rrV5thZB2A\n",
      "RT @gossipbabies: When I was a little girl, I wrote a letter to VIACOM and told them I dreamed of being Chief of Programming for North Amer…\n",
      "RT @mtruzmanp: En un mundo como el de la ONU,\n",
      "Diosdado Cabello sería el jefe de la DEA, Maduro sería Ministro de Educación, Carreño jefe de…\n",
      "RT @SirHublife: They should have launched this bitch into space when they had the chance.\n",
      "\n",
      "Thanks a lot NASA. https://t.co/AXqMDdXCWb\n",
      "RT @HillaryClinton: When I was a little girl, I wrote to NASA and told them I dreamed of being an astronaut. \n",
      "\n",
      "They wrote back and said the…\n",
      "RT @VP: Congratulations to @NASA astronauts and American pioneers @Astro_Christina and @Astro_Jessica for completing a historic first all-f…\n",
      "If we sent you to the moon now, would you stay? #AskingForAFriend #AskingForTheNation\n",
      "mananaba talaga ako pag nasa bahay ng lola ko 😂\n",
      "RT @pvtjokerus: More sniper fire. https://t.co/tB5AKXUPVT\n",
      "And in high heels!\n",
      "RT @NCState: History made ✔️\n",
      "We are so proud of @NCStateEngr and @NCStateSciences alumna Christina Koch (@Astro_Christina), who is particip…\n",
      "Well, one can dream huh? #AVAstronaut #AVinaSpacesuit congrats to the females making history today. @NASA #dreams… https://t.co/OHM5SPKVcG\n",
      "RT @HillaryClinton: When I was a little girl, I wrote to NASA and told them I dreamed of being an astronaut. \n",
      "\n",
      "They wrote back and said the…\n",
      "RT @Djp5SOS: sugod na guys! mamayang 4pm nasa Ayala Manila Bay si Kathryn! 👌💙 https://t.co/w5Sxyo3CyN\n",
      "RT @clairecmc: Why is she at this table? Get your kids out of the White House while they are “earning” 80+ million last year. And until you…\n",
      "@KristinLummus @NASA @Astro_Christina @Astro_Jessica @Space_Station You rock, mom!\n",
      "RT @clairecmc: Why is she at this table? Get your kids out of the White House while they are “earning” 80+ million last year. And until you…\n",
      "RT @nytimes: 2 NASA astronauts, Christina Koch and Jessica Meir, completed the first all-female spacewalk on Friday. The walk lasted 7 hour…\n",
      "@NASA @Astro_Christina @Astro_Jessica Wow! Right on! Great job Ladies ! Thank you for your bravery!!! Thank you for… https://t.co/i3kssI2y5P\n",
      "RT @NASA: @IAmAmnaNawaz https://t.co/HCcxJCxnWC\n",
      "RT @la_patilla: Nasa descubre un \"muro\" alrededor  del sistema solar (Infografía) \n",
      "https://t.co/dyYHLATdTm\n",
      "RT @meemalee: Burmese women rock! \n",
      "\n",
      "Love that this NASA scientist MiMi Aung was inspired to excel by her Maths PhD mother!\n",
      "\n",
      "(Also people ca…\n",
      "RT @NASA: Today, history was made as @Astro_Jessica and @Astro_Christina successfully completed the first #AllWomanSpacewalk! For more than…\n",
      "RT @LeMTempete: https://t.co/pB7EgENjOe https://t.co/wVlU3ets6C\n",
      "RT @PineappleTrevor: His daughter is always sticking herself in things... why is she there? but Hunter Biden getting a good job is what we…\n",
      "RT @WhiteHouse: \"Please stand by for a call from the President of the United States.\" \n",
      "\n",
      "Congratulations to @NASA astronauts @Astro_Christin…\n",
      "@NASA @Astro_Christina @Astro_Jessica @Space_Station Way to go ladies!\n",
      "RT @TheRealHolli: Breaking:\n",
      "\n",
      "Trump orders NASA to investigate illegal aliens.\n",
      "RT @DianeNo54901680: @catturd2 She's lying, she didn't write NASA, she's planting seeds in ppls minds that women are still downtrodden. She…\n",
      "RT @_Emperor_Ming_: Sally Ride, the first US astronaut, was only 4 years younger than you. She joined NASA in 1978. You could have done tha…\n",
      "RT @statedeptspox: A big congrats to the crew of the first #AllWomanSpaceWalk! @Astro_Christina, @Astro_Jessica, you are stellar! You made…\n",
      "RT @NaturelsWeird: Eye of the Sahara, Mauritania, is a unique geological feature over 50 kilometres in diameter which can be seen from spac…\n",
      "Yung mga kaklase ko nasa laguan na \n",
      "\n",
      "Me: https://t.co/IZ87mLFtGG\n",
      "RT @Space_Station: .@Astro_Christina and @Astro_Jessica switched their spacesuits to battery power this morning at 7:38am ET beginning the…\n",
      "RT @CarpeDonktum: On the list of \"things that never happened\" this ranks right up there with you becoming President. https://t.co/o3W41WMIOM\n",
      "RT @jondaly: Two women floating in space were forced to talk to a rapist. https://t.co/IAAXXUqpID\n",
      "RT @clairecmc: Why is she at this table? Get your kids out of the White House while they are “earning” 80+ million last year. And until you…\n",
      "Ikaw ang aking lunas sa mga kalungkutan. Ako'y parang nasa langit na.\n",
      "RT @HillaryClinton: When I was a little girl, I wrote to NASA and told them I dreamed of being an astronaut. \n",
      "\n",
      "They wrote back and said the…\n",
      "RT @CarlosSimancas: Lying sack of shit.\n",
      "\n",
      "#CrookedHillary https://t.co/NnJeM9Xf6Y\n",
      "RT @b0yle: UPDATE: First all-female spacewalk is officially over at 2:55 p.m. ET, lasting 7 hours and 17 minutes and sparking waves of cong…\n",
      "RT @Kiarabossbabe: Tama lhat ng pupunta jan sa team live kausapin pra bumoto sila \n",
      "\n",
      "MellowMYXSaturdaze KIANO https://t.co/1RYYbto6G3\n",
      "RT @nytimes: 2 NASA astronauts, Christina Koch and Jessica Meir, completed the first all-female spacewalk on Friday. The walk lasted 7 hour…\n",
      "RT @OfTooth: Look at it this way:  You’re historical too.  You’re the 1st woman to lose 2 US elections as the clear front-runner. https://t…\n",
      "RT @HillaryClinton: When I was a little girl, I wrote to NASA and told them I dreamed of being an astronaut. \n",
      "\n",
      "They wrote back and said the…\n",
      "RT @HillaryClinton: When I was a little girl, I wrote to NASA and told them I dreamed of being an astronaut. \n",
      "\n",
      "They wrote back and said the…\n",
      "RT @Itskristinemarq: once talaga na attracted ka sa iisang tao, lahat ng attention at loyalty mo nasa kanya.\n",
      "RT @AntoniaCotacte: Meet and greet palang yan nasa billboard na\n",
      "\n",
      "MellowMYXSaturdaze KIANO https://t.co/t7m2VtfK7e\n",
      "Hugli River Delta, India https://t.co/OO5IIn7VXI https://t.co/VcjMBdILnU\n",
      "RT @Space_Station: .@EmilyOrscheln from Mrs. Harrison's environmental science class wants to know, \"How long did the battery last that you…\n",
      "RT @ECMcLaughlin: Scroll to 2:00 minutes and watch what happens.\n",
      "\n",
      "Because, you know, the President flipping off a female astronaut in space…\n",
      "RT @StrongIam: Qing Inang commercial to! Hahaha\n",
      "\n",
      "Basahin nyo yung nasa baba. https://t.co/uIS21dSnjl\n",
      "YUH ARI #Sweetener #ThankUNextVideo #ThankUNext #Ari #ArianaGrande #imagine #SweetenerWorldTour… https://t.co/Krm2Kqbh2o\n"
     ]
    },
    {
     "name": "stdout",
     "output_type": "stream",
     "text": [
      "RT @amyklobuchar: A great day in history. This is why I've always been a strong advocate for women in STEM, passing legislation that encour…\n",
      "RT @StrongIam: Qing Inang commercial to! Hahaha\n",
      "\n",
      "Basahin nyo yung nasa baba. https://t.co/uIS21dSnjl\n",
      "@httpsxjane nasa bahay ako e\n",
      "RT @p_k_rogers: @HeatherIsTaken Now NASA cheated her. LET IT REST @HillaryClinton , PLEASE,LET IT REST\n",
      "RT @aspiringinvntor: 🚀The💃 FIRST 💃ALL-FEMALE SPACEWALK👩🏽 is 👯👩🏽underway👭\n",
      "what a week this has been for WOMEN! \n",
      "\n",
      "After that iconic photo of…\n",
      "RT @Redtowel4: This right here is such a BS lie. https://t.co/DDGKy6wKDq\n",
      "I call BULLSHIT 🚩 on this one. My mother also write a letter in '61 to NASA, but instead of being told \"they don't… https://t.co/7jfnkuxfEq\n",
      "RT @NASA: Today, history was made as @Astro_Jessica and @Astro_Christina successfully completed the first #AllWomanSpacewalk! For more than…\n",
      "RT @HillaryClinton: When I was a little girl, I wrote to NASA and told them I dreamed of being an astronaut. \n",
      "\n",
      "They wrote back and said the…\n",
      "RT @GuyChicago5151: .@HillaryClinton Show US the letter, you know you didn’t write NASA and you know you never received a letter that said…\n",
      "RT @nytimes: 2 NASA astronauts, Christina Koch and Jessica Meir, completed the first all-female spacewalk on Friday. The walk lasted 7 hour…\n",
      "RT @maducorrea_: nunca q eu vou enjoar desse cara, fls @VintageCulture zero defeitos https://t.co/LT5eNwhOGL\n",
      "RT @StrongIam: Qing Inang commercial to! Hahaha\n",
      "\n",
      "Basahin nyo yung nasa baba. https://t.co/uIS21dSnjl\n",
      "RT @HillaryClinton: When I was a little girl, I wrote to NASA and told them I dreamed of being an astronaut. \n",
      "\n",
      "They wrote back and said the…\n",
      "SINO NASA MOA NA??\n",
      "RT @SirHublife: They should have launched this bitch into space when they had the chance.\n",
      "\n",
      "Thanks a lot NASA. https://t.co/AXqMDdXCWb\n",
      "There is no ceiling.\n",
      "@SpeakerPelosi @NASA @Astro_Christina @Astro_Jessica Did these women actually have vaginas? How can we be sure?\n",
      "RT @nowthisnews: Meet Jessica Meir and Christina Koch, the history-making astronaut duo behind NASA’s first-ever all-women spacewalk 💪 http…\n",
      "@PeterWa96366580 @WhiteHouse @NASA @Astro_Christina @Astro_Jessica No they don't. Lots of stuff is only servicable in port or even dry dock.\n",
      "RT @AngTanongKoSayo: Bakit parang mas nakakapagod yung nasa bahay ka lang buong araw kaysa sa nasa labas ka?\n",
      "RT @clairecmc: Why is she at this table? Get your kids out of the White House while they are “earning” 80+ million last year. And until you…\n",
      "RT @StrongIam: Qing Inang commercial to! Hahaha\n",
      "\n",
      "Basahin nyo yung nasa baba. https://t.co/uIS21dSnjl\n",
      "RT @Space_Station: .@Astro_Christina rides the Canadarm2 robotic arm to the worksite 250 miles above Earth. #AllWomanSpacewalk | https://t.…\n",
      "RT @HillaryClinton: When I was a little girl, I wrote to NASA and told them I dreamed of being an astronaut. \n",
      "\n",
      "They wrote back and said the…\n",
      "RT @TheRealHolli: Breaking:\n",
      "\n",
      "Trump orders NASA to investigate illegal aliens.\n",
      "NASA can take her now and then just kinda lose her in space... 🤷🏼‍♀️\n",
      "“buti nga kayo nagsusulat lang kayo, tapos mas madami review time niyo kasi special exam”\n",
      "\n",
      "una sa lahat, anong naka… https://t.co/IrZqzF8B2r\n",
      "さっき駅で、ご年配の方に「スペースシャトルに乗るにはどちらへ行けばよろしいかしら？」と聞かれ、国境を超えた突然の質問によく理解ができず「NASA…とかでしょうか？」と答えたら「？…鬼怒川に行きたいんですが」と言われた。おばあさま、それならば11番ホーム、スペーシアです！(´ω｀)\n",
      "RT @HillaryClinton: When I was a little girl, I wrote to NASA and told them I dreamed of being an astronaut. \n",
      "\n",
      "They wrote back and said the…\n",
      "RT @clairecmc: Why is she at this table? Get your kids out of the White House while they are “earning” 80+ million last year. And until you…\n",
      "RT @maryann47267905: Sa mga nasa davao na.makiki team live ikampanya nio na.din po ang ating rawr lion haha pantay nanaman po ang ating fb…\n",
      "RT @Yong0048: Alam ko low ranks si dian at mari kaya nasa likod lang sila pero please @mnl48official  sana kahit one time lang mag perform…\n",
      "HAHAHAHAHAA GAGO\n",
      "@anthonethnicole @CheerDianne Hinahamon mo ko :( nasa laguna pa ko hahahahahahaha\n",
      "RT @jondaly: Two women floating in space were forced to talk to a rapist. https://t.co/IAAXXUqpID\n",
      "You're mistaken...they said they don't take criminals.\n",
      "@darhar981 @up_weekly This was the beginning. Our President Trump is fighting against the NWO for us. If we don't h… https://t.co/R6XPr8xnnh\n",
      "RT @maarcos_go: a nasa tem que estudar o @VintageCulture https://t.co/dzZXSLx0u6\n",
      "RT @IJasonAlexander: One small step for women, one giant leap for womankind. Congratulations Ms Meir and Ms Koch. https://t.co/eQZQkOB33X\n",
      "Jongin smiles shyly, his hand nasa batok niya and Chanyeol hates that feeling.\n",
      "\n",
      "\"Dali na, angkas ka sakin sama ka s… https://t.co/D3QpU5wJTv\n",
      "@iamkharennn oo teh!nasa MOA kakainis talaga!\n",
      "NASA astronauts perform the 1st all-female spacewalk\n",
      "https://t.co/xukfJk2JZG - It is 2019 after all! Great work and… https://t.co/ip3lNp5mNM\n",
      "RT @Amitafvb: @mainedcm Happy Saturdaaaay too Meng!😍 nasa @EatBulaga kaba maya? nakakamiss ka sa EB. 😀 #IsaPaFeelGoodWeekend #MaineMendoza\n",
      "\n",
      "\n",
      "400\n",
      "\n",
      "\n",
      "RT @BillNye: Space brings out the best in us. Congrats to Astronauts Koch &amp; Meir, first spacewalk featuring 2 women. Looking forward to the…\n",
      "RT @jondaly: Two women floating in space were forced to talk to a rapist. https://t.co/IAAXXUqpID\n",
      "@WhiteHouse @NASA @Astro_Christina @Astro_Jessica Stand up for our xecutions!\n",
      "RT @lola_valeriana: Sa panahong may magandang pelikulang Pinoy na matapang/mag-isang lumalaban sa malakas na dayuhan, asan kaya ung ibang t…\n",
      "RT @StrongIam: Qing Inang commercial to! Hahaha\n",
      "\n",
      "Basahin nyo yung nasa baba. https://t.co/uIS21dSnjl\n",
      "@Augustussai Nasa Naga siya ngayon eh haha\n",
      "RT @cintiabolio: Algo hermoso:\n",
      "Primera e histórica caminata espacial de mujeres.\n",
      "#AllWomanSpaceWalk\n",
      "\n",
      "#Buenasyfeministastardes https://t.co/…\n",
      "RT @Flashyred1: ⤵️ https://t.co/NwA2dlEhy8 https://t.co/mBRhuup1jm\n",
      "RT @PatriotsOfMars: Hillary was born in 1947, Nasa wasn't even created until 1958. We didn't have actual astronauts until, what 1961? How o…\n",
      "RT @hey_punkymack: my mga assuming hahahaha! nasa taping ng ap ung AskFranki kagabi hoy!! mga irre*** hahaha\n",
      "\n",
      "#FrankiAnaBetterThanEver\n",
      "Highly recommended!\n",
      "Stress reliever 😂😂😂\n",
      "RT @KamalaHarris: For the first time in our nation’s history, an all-female crew walked in space today. It’s more than historic—it’s a remi…\n",
      "RT @nytimes: 2 NASA astronauts, Christina Koch and Jessica Meir, completed the first all-female spacewalk on Friday. The walk lasted 7 hour…\n",
      "RT @KamalaHarris: For the first time in our nation’s history, an all-female crew walked in space today. It’s more than historic—it’s a remi…\n",
      "RT @aca_geala: @kianobee @GNeones Yung phone una kong napansin at saka nasa likod cla nkaupo\n",
      "RT @HillaryClinton: When I was a little girl, I wrote to NASA and told them I dreamed of being an astronaut. \n",
      "\n",
      "They wrote back and said the…\n",
      "RT @NASA: Today, history was made as @Astro_Jessica and @Astro_Christina successfully completed the first #AllWomanSpacewalk! For more than…\n",
      "RT @__gaby_yy: Ces femmes ont du subir des tonnes de remarques sexistes (illustré en commentaire) avant d'en arriver là.\n",
      "Bravo à elles 😌 ht…\n",
      "Too bad they didn't accept you &amp; take you on a long one way trip!\n",
      "RT @sean_spicier: I’m sure it’s just a coincidence that NASA’s first all-female space walk started 25 minutes late\n",
      "All women team in space, just wow!\n",
      "RT @bad_tits: God you're such a liar https://t.co/2ZLWKWZzPe\n",
      "It was such fun to watch.\n",
      "Always proud to be a UCSD alumna, but today is extra special. 💫\n",
      "RT @jondaly: Two women floating in space were forced to talk to a rapist. https://t.co/IAAXXUqpID\n",
      "RT @HillaryClinton: When I was a little girl, I wrote to NASA and told them I dreamed of being an astronaut. \n",
      "\n",
      "They wrote back and said the…\n",
      "RT @jondaly: Two women floating in space were forced to talk to a rapist. https://t.co/IAAXXUqpID\n",
      "RT @clairecmc: Why is she at this table? Get your kids out of the White House while they are “earning” 80+ million last year. And until you…\n",
      "Reading this as \"ur-anus\" is too funny😂😂😂😂😂 and the fact you used \"deeper\". That's some cosmic cavity search😂\n",
      "RT @hmcd123: The 16 Year Plan To Destroy America\n",
      "\n",
      "KILL NASA (prevent space domination/allow bad actors to take down MIL SATs/WW secure comm…\n",
      "RT @girlscouts: Round of applause for the next generation of female space explorers, please! Start YOUR journey to space with the NEW Girl…\n"
     ]
    },
    {
     "name": "stdout",
     "output_type": "stream",
     "text": [
      "Trump Speaks to NASA Astronauts During the First All-Women Spacewalk https://t.co/WQTSuWHzX2 via @epochtimes\n",
      "RT @Tony__Heller: YouTube comment\n",
      "\n",
      "\"I’m literally petrified of climate change as I have anxiety disorder, it makes everything worse, I’ve t…\n",
      "Women can do anything 🛰🌎👩🏻‍🚀\n",
      "RT @StrongIam: Qing Inang commercial to! Hahaha\n",
      "\n",
      "Basahin nyo yung nasa baba. https://t.co/uIS21dSnjl\n",
      "RT @SirHublife: They should have launched this bitch into space when they had the chance.\n",
      "\n",
      "Thanks a lot NASA. https://t.co/AXqMDdXCWb\n",
      "RT @HillaryClinton: When I was a little girl, I wrote to NASA and told them I dreamed of being an astronaut. \n",
      "\n",
      "They wrote back and said the…\n",
      "RT @aftab_sadiq: Top story: The first all-female spacewalk is underway - CNN https://t.co/PUk9uMMJEt, see more https://t.co/x6Al5Sg7rR\n",
      "@HillaryClinton Looks like no one wants you Hills:  Bill, the Marines, those Bosnian snipers, NASA, the American pe… https://t.co/HMpBk5nGwB\n",
      "RT @rommel_perillo: nasa bahay namin si aiya, lasing gareks ahhahahhahaha\n",
      "RT @HillaryClinton: When I was a little girl, I wrote to NASA and told them I dreamed of being an astronaut. \n",
      "\n",
      "They wrote back and said the…\n",
      "RT @NASA: Who's talking to the astronauts from Mission Control during today's #AllWomanSpacewalk? That's astronaut Stephanie Wilson, who ha…\n",
      "RT @nytimes: 2 NASA astronauts, Christina Koch and Jessica Meir, completed the first all-female spacewalk on Friday. The walk lasted 7 hour…\n",
      "RT @fabbrdn: Mdrrr y’a autant de poussière que sa sur la Lune ? https://t.co/OwcLlnZOZF\n",
      "RT @clairecmc: Why is she at this table? Get your kids out of the White House while they are “earning” 80+ million last year. And until you…\n",
      "RT @TheRealBuzz: Well done ladies. #AllWomanSpacewalk https://t.co/wbancSBV5S\n",
      "RT @SpaceToday1: É assim que se formam as galáxias, graças a atração gravitacional das estrelas e da poeira estelar. Bela simulação da NASA…\n",
      "@SaraCarterDC This was the beginning. Our President Trump is fighting against the NWO for us. If we don't help and… https://t.co/jvBMhbvFLe\n",
      "RT @blogirista: Mulats are attacking The Gift ratings. Lol Nasa Top 5 lage ang TG daily including abs shows na yan. \n",
      "\n",
      "Bitch, check nyo if D…\n",
      "worthless words from a womanizing misogynist #DumpTrump #NotMyPresident\n",
      "RT @NASA: Today, history was made as @Astro_Jessica and @Astro_Christina successfully completed the first #AllWomanSpacewalk! For more than…\n",
      "RT @alejandraoraa: EN VIVO: las astronautas de la NASA Jessica Meir y Christina Koch realizarán la primera caminata espacial exclusivamente…\n",
      "Great talk by @NASA Astronaut @Astro_Wheels discussing his path to becoming an astronaut and smelling like burnt to… https://t.co/TLwmwHQsGg\n",
      "RT @ahlexpineda: Feel na feel ko yung akyatan! Kala ko nasa swimming pool talaga ako ate @annecurtissmith hahaha! Super sayaaaa sa blk pop…\n",
      "May destiny figure ka kasi\n",
      "Kaya pati nasa ABS CBN\n",
      "Naiistorbo\n",
      "RT @nowthisnews: Meet Jessica Meir and Christina Koch, the history-making astronaut duo behind NASA’s first-ever all-women spacewalk 💪 http…\n",
      "RT @Redtowel4: This right here is such a BS lie. https://t.co/DDGKy6wKDq\n",
      "RT @Astro_Jessica: Gearing up for Friday’s spacewalk to help the ground teams repair one of the battery channels with @Astro_Christina.\n",
      "\n",
      ".…\n",
      "@NASA #metrosantiago #EvasionMasiva #EvadirEsLuchar #FelizViernesATodos #EvasionMasivaTodoElDia #ChileEnMarcha… https://t.co/EMSQW3MPrR\n",
      "RT @KiarasurfersSG: Mgkatabi hawak kamay kaya phoNe sinantabi hehhehe \n",
      "\n",
      "MellowMYXSaturdaze KIANO https://t.co/DH5s0GTZ0w\n",
      "RT @jondaly: Two women floating in space were forced to talk to a rapist. https://t.co/IAAXXUqpID\n",
      "RT @aeronpot: Yung mga kaklase ko nasa laguan na \n",
      "\n",
      "Me: https://t.co/IZ87mLFtGG\n",
      "RT @RobertC06021970: @HeatherIsTaken @KessenaO NASA WHY DIDN't YOU SEND HILLARY TO WAY OUTER SPACE.\n",
      "RT @HillaryClinton: When I was a little girl, I wrote to NASA and told them I dreamed of being an astronaut. \n",
      "\n",
      "They wrote back and said the…\n",
      "RT @HillaryClinton: When I was a little girl, I wrote to NASA and told them I dreamed of being an astronaut. \n",
      "\n",
      "They wrote back and said the…\n",
      "Kung nasa PH lang ako siguro nasa SM BF na din ako ngayon at nakapila naaaa :((((((( @SB19atSMCityBF\n",
      "syempre special ka eh\n",
      "RT @jondaly: Two women floating in space were forced to talk to a rapist. https://t.co/IAAXXUqpID\n",
      "About that, https://t.co/ziRFvcjkrn\n",
      "RT @marialehc_2010: #AllWomanSpacewalk #NASA #Space_Station 🇻🇪👩‍🚀🚀😍 https://t.co/31ihtu9pF4\n",
      "RT @TheBabylonBee: NASA Announces All-Female Remake Of Staged Moon Landings\n",
      "https://t.co/rrV5thZB2A\n",
      "@HillaryClinton That wasn't NASA, it was the electorate in 2016.\n",
      "RT @PornRetweetFUCK: Ako lang ba yung nilalagnat pero jakol parin nasa isip?😆\n",
      "I call BS on this big time. There is NO way it happened.\n",
      "RT @HillaryClinton: When I was a little girl, I wrote to NASA and told them I dreamed of being an astronaut. \n",
      "\n",
      "They wrote back and said the…\n",
      "RT @TaraForTrump: Hahahahaha... deep  breath......hahahahaha!! \n",
      "\n",
      "Did you see the latest load of bull? 😳\n",
      "\n",
      "Killary said NASA wrote her &amp; said…\n",
      "RT @padillacathh: “Iba talaga glow up pag nasa tamang tao ka”\n",
      "\n",
      "NOPE. IBA GLOW UP MO PAG MASAYA KA SA BUHAY MO , NATUTUNAN MO MAHALIN SARILI…\n",
      "@TJWalters16 @TipaOdiosa @El_Papageno @RstrixxX @NASA @Astro_Christina @Astro_Jessica It also featured things like… https://t.co/8jpJcG6lqp\n",
      "RT @HillaryClinton: When I was a little girl, I wrote to NASA and told them I dreamed of being an astronaut. \n",
      "\n",
      "They wrote back and said the…\n",
      "RT @StrongIam: Qing Inang commercial to! Hahaha\n",
      "\n",
      "Basahin nyo yung nasa baba. https://t.co/uIS21dSnjl\n",
      "Wait ahHahhHahah naliito puso ko CocoMari at Marian 😭😍❤️\n",
      "RT @nytimes: 2 NASA astronauts, Christina Koch and Jessica Meir, completed the first all-female spacewalk on Friday. The walk lasted 7 hour…\n",
      "RT @YAMYAMBoholOFC: To all admin bumababa tayo sa trendlist bawasan nyo muna ang pa games kanina lahat lng fresh tweets nasa top tayo\n",
      "\n",
      "#MMK…\n",
      "RT @Space_Station: Our first #AskNASA question today comes from @therealbl3ssed who asked, \"What is the most challenging task during the sp…\n",
      "RT @HillaryClinton: When I was a little girl, I wrote to NASA and told them I dreamed of being an astronaut. \n",
      "\n",
      "They wrote back and said the…\n",
      "RT @ebruenig: damn brutal of nasa...i figure they get a lot of letters from kids about being an astronaut, do they respond to every single…\n",
      "RT @AgentReid00: Kung hindi ka pinapayagan ng jowa mo magkaroon ng oras para sumaya kasama mga kaibigan mo, nasa maling relasyon ka.....\n",
      "RT @maarcos_go: a nasa tem que estudar o @VintageCulture https://t.co/dzZXSLx0u6\n",
      "RT @jondaly: Two women floating in space were forced to talk to a rapist. https://t.co/IAAXXUqpID\n",
      "RT @NonlesAnn: SOBRANG GWAPO NI TAN, NAPAPAMURA KAGABI UNG MGA NASA TABI KO MAPABABAE, BAKLA KAHIT LALAKI https://t.co/5wr1ZHP2TG\n",
      "RT @StrongIam: Qing Inang commercial to! Hahaha\n",
      "\n",
      "Basahin nyo yung nasa baba. https://t.co/uIS21dSnjl\n",
      "@realDonaldTrump @FoxNews @seanhannity https://t.co/sctwwGbihL\n",
      "RT @Astigboi2: Flex lang habang nasa cr😁 https://t.co/PbqaBAq4HU\n",
      "RT @ViceGandaLife: Nasa point nako ng buhay ko na ayaw ko na mag explain, if someone don't understand me, \"okay\" nalang sasabihin ko. If I…\n",
      "RT @HillaryClinton: When I was a little girl, I wrote to NASA and told them I dreamed of being an astronaut. \n",
      "\n",
      "They wrote back and said the…\n",
      "RT @HillaryClinton: When I was a little girl, I wrote to NASA and told them I dreamed of being an astronaut. \n",
      "\n",
      "They wrote back and said the…\n",
      "RT @MSNBC: WATCH: During live spacewalk call today, NASA astronaut Jessica Meir corrects President Trump for saying that the first all-fema…\n",
      "Go away! You are useless\n",
      "@ItsKrissy @NASA https://t.co/wiLjpXYcdM\n",
      "He wanted to build rockets and replace NASA. They laughed at him. He made a flame thrower. They called him crazy. H… https://t.co/Z4Ager5xJW\n",
      "\n",
      "\n",
      "500\n",
      "\n",
      "\n",
      "RT @HillaryClinton: When I was a little girl, I wrote to NASA and told them I dreamed of being an astronaut. \n",
      "\n",
      "They wrote back and said the…\n",
      "RT @HillaryClinton: When I was a little girl, I wrote to NASA and told them I dreamed of being an astronaut. \n",
      "\n",
      "They wrote back and said the…\n",
      "RT @HillaryClinton: When I was a little girl, I wrote to NASA and told them I dreamed of being an astronaut. \n",
      "\n",
      "They wrote back and said the…\n",
      "RT @Hallelluyaah: History in the making 🚀🌎🇺🇸 https://t.co/sasZKjkvWd\n"
     ]
    },
    {
     "name": "stdout",
     "output_type": "stream",
     "text": [
      "RT @ViceGandaLife: Nasa point nako ng buhay ko na ayaw ko na mag explain, if someone don't understand me, \"okay\" nalang sasabihin ko. If I…\n",
      "RT @nytimes: 2 NASA astronauts, Christina Koch and Jessica Meir, completed the first all-female spacewalk on Friday. The walk lasted 7 hour…\n",
      "RT @NASA: “You’re doing an incredible job,” says @POTUS to @Astro_Christina and @Astro_Jessica during today’s #AllWomanSpacewalk. Tune in t…\n",
      "@RTLnieuws Nou ja, het waren wel twee zweverige types... of niet soms? #NASA\n",
      "RT @StrongIam: Qing Inang commercial to! Hahaha\n",
      "\n",
      "Basahin nyo yung nasa baba. https://t.co/uIS21dSnjl\n",
      "This is “out of this world!” #FemalesinSTEM Astronauts Christina Koch and Jessica Meir successfully complete first… https://t.co/pTA9IEei6M\n",
      "@HillaryClinton Sorry I don't believe that NASA wrote you that letter.\n",
      "RT @osodorna: iyak count ko sa isa pa with feelings: tatlo*\n",
      "\n",
      "* isa nasa first 15 minutes ng palabas TAMA HO BA IYON pabiglang atake ahmpuht…\n",
      "RT @CarpeDonktum: On the list of \"things that never happened\" this ranks right up there with you becoming President. https://t.co/o3W41WMIOM\n",
      "RT @HillaryClinton: When I was a little girl, I wrote to NASA and told them I dreamed of being an astronaut. \n",
      "\n",
      "They wrote back and said the…\n",
      "RT @michaelsnape: Hillary under sniper fire was more believable than this. https://t.co/Xd3Xj8mn0g\n",
      "@IvankaTrump You don’t belong there, you didn’t earn it, you’re a poser - every body outside your disgusting bubble… https://t.co/PxcHdNHbkR\n",
      "ARIANATORS YUH Special #SweetenerWorldTour #SweetenerThankUNextTour #Arianators #NASA #Ariana #FakeSmile #7rings… https://t.co/OA9JHSrCxt\n",
      "nasa isip kita buong umaga, buong magdamag\n",
      "RT @tracyxcasas: do not landi me kung:\n",
      "&gt; di ka pa nakakamove-on sa ex mo\n",
      "&gt; kakabreak nyo lang ng jowa mo\n",
      "&gt; may ka-MU ka\n",
      "&gt; marami kang kalan…\n",
      "The #InternationalSpaceStation is passing over us right now! October 19, 2019 at 08:00AM, for 280 seconds. #ISS #NASA #space\n",
      "RT @HillaryClinton: When I was a little girl, I wrote to NASA and told them I dreamed of being an astronaut. \n",
      "\n",
      "They wrote back and said the…\n",
      "@HamorJazline Nasa heart na kita 💖😘\n",
      "NASA’s Planetary Protection Review Addresses Changing Reality of Space Exploration https://t.co/nKu4If4KD5\n",
      "Sa #SB19_Showbreak nasa isang resort ata sila? May mga toplessan na bang magaganap??May pa teaser na kasi si Ken 🤣🤣… https://t.co/Dl6VQ9YYTe\n",
      "RT @Cocoa_Bean10: It’s not about you Hillary https://t.co/lBqvOAeAU9\n",
      "@realDonaldTrump @NASA #daughters\n",
      "RT @DrCatherineBall: Just having a cuppa tea in bed and WATCHING TWO WOMEN SPACEWALK OUTSIDE THE #ISS. Anyone else feeling emotional about…\n",
      "@SSkyeine Si stell pareho kong mahilig mag luto\n",
      "si ken parehas kaming wierd o tahimik minsan\n",
      "si justin parehas kami… https://t.co/PM8LbSpxzC\n",
      "RT @HillaryClinton: When I was a little girl, I wrote to NASA and told them I dreamed of being an astronaut. \n",
      "\n",
      "They wrote back and said the…\n",
      "RT @Redtowel4: This right here is such a BS lie. https://t.co/DDGKy6wKDq\n",
      "@SpeakerPelosi @NASA @Astro_Christina @Astro_Jessica https://t.co/kXXtG8SUkB\n",
      "RT @Space_Station: Spacewalkers @Astro_Christina and @Astro_Jessica are outside in the vacuum of space getting their tools ready to replace…\n",
      "RT @marsrader: Valencia from space: the busiest port in the Mediterranean. (📷 NASA) https://t.co/WcoQ499S1G\n",
      "RT @NASA: “You’re doing an incredible job,” says @POTUS to @Astro_Christina and @Astro_Jessica during today’s #AllWomanSpacewalk. Tune in t…\n",
      "RT @clairecmc: Why is she at this table? Get your kids out of the White House while they are “earning” 80+ million last year. And until you…\n",
      "RT @SirHublife: They should have launched this bitch into space when they had the chance.\n",
      "\n",
      "Thanks a lot NASA. https://t.co/AXqMDdXCWb\n",
      "RT @HillaryClinton: When I was a little girl, I wrote to NASA and told them I dreamed of being an astronaut. \n",
      "\n",
      "They wrote back and said the…\n",
      "RT @StrongIam: Qing Inang commercial to! Hahaha\n",
      "\n",
      "Basahin nyo yung nasa baba. https://t.co/uIS21dSnjl\n",
      "mga mukang matitinong nasa loob amg kulo? ❌\n",
      "RT @Space_Station: .@Astro_Christina and @Astro_Jessica switched their spacesuits to battery power this morning at 7:38am ET beginning the…\n",
      "On a scale from claiming she was named for Sir Edmund Hillary and his climbing Mt. Everest years after she was born… https://t.co/ZHCKKfDK0a\n",
      "RT @jondaly: Two women floating in space were forced to talk to a rapist. https://t.co/IAAXXUqpID\n",
      "RT @Lady_Star_Gem: This made my week\n",
      "\n",
      "The sky is no longer the limit for women\n",
      "\n",
      "Next, the damn universe\n",
      "\n",
      "@NASA astronauts Christina Koch &amp;…\n",
      "https://t.co/gMPgghyuO3\n",
      "RT @HillaryClinton: When I was a little girl, I wrote to NASA and told them I dreamed of being an astronaut. \n",
      "\n",
      "They wrote back and said the…\n",
      "self love para di talo\n",
      "RT @HillaryClinton: When I was a little girl, I wrote to NASA and told them I dreamed of being an astronaut. \n",
      "\n",
      "They wrote back and said the…\n",
      "RT @Carolinaercolin: Esta será a primeira manobra 100% feminina entre as mais de 200 realizadas desde 1965 pela agência espacial norte-amer…\n",
      "RT @TheRealBuzz: Well done ladies. #AllWomanSpacewalk https://t.co/wbancSBV5S\n",
      "RT @NASA_photo_bot: Hugli River Delta, India https://t.co/OO5IIn7VXI https://t.co/VcjMBdILnU\n",
      "RT @SDaviesNBC5: This is awesome! Two women NASA astronauts are undertaking first all-female spacewalk https://t.co/7oe7ppdwpo #NBCDFWWeath…\n",
      "RT @HillaryClinton: When I was a little girl, I wrote to NASA and told them I dreamed of being an astronaut. \n",
      "\n",
      "They wrote back and said the…\n",
      "RT @fabbrdn: Mdrrr y’a autant de poussière que sa sur la Lune ? https://t.co/OwcLlnZOZF\n",
      "RT @Phishie_Philly: @HillaryClinton O come on Hillary. Can’t you ever tell the truth. You wrote NASA demanding that they make you an astron…\n",
      "best dj ever\n",
      "【衝撃】月の裏側がグロすぎてヤバイ・・・NASAの観測衛星が月の裏側の撮影に成功　ヤバすぎる https://t.co/4KcvIVs3cF via YouTube\n",
      "and it makes me wonder what kids from other states learned instead of these key florida events.\n",
      "\n",
      "like the amount of… https://t.co/18CkkojYGi\n",
      "RT @nytimes: 2 NASA astronauts, Christina Koch and Jessica Meir, completed the first all-female spacewalk on Friday. The walk lasted 7 hour…\n",
      "RT @marsrader: Maps showing the surface features of Titan, created using infrared images from Cassini. (📷 NASA/JPL) https://t.co/6gcyr43xxo\n",
      "Walk was delayed 90 minutes as they discussed how to deal with \"helmet hair\"\n",
      "RT @engyn243: Hillary Clinton: \"When I was a little girl, I wrote to NASA and told them I dreamed of being an astronaut.\" \n",
      "\n",
      "\"They wrote bac…\n",
      "RT @engadget: Watch NASA's first all-woman spacewalk https://t.co/A9uUseqf9c https://t.co/LpRf5brR4g\n",
      "RT @nytimes: 2 NASA astronauts, Christina Koch and Jessica Meir, completed the first all-female spacewalk on Friday. The walk lasted 7 hour…\n",
      "PG 3 NASA lang oh\n",
      "RT @nytimes: 2 NASA astronauts, Christina Koch and Jessica Meir, completed the first all-female spacewalk on Friday. The walk lasted 7 hour…\n",
      "RT @PCNedStark: \"Before NASA was even created, I wrote NASA to tell them I dreamed of being an astronaut...\"\n",
      "\n",
      "Is Hillary incapable of telli…\n",
      "RT @Space_Station: .@Astro_Jessica is suited up and assisted into the crew lock where @Astro_Christina is already staged for today's spacew…\n",
      "RT @maarcos_go: a nasa tem que estudar o @VintageCulture https://t.co/dzZXSLx0u6\n",
      "NASA astronauts make history with first all-female spacewalk\n",
      "\n",
      "https://t.co/3U8ICSpZ81\n",
      "RT @hkunimitsu: NASAの衛星からのデータによると、地球の緑地はこの20年間で5%増加している。しかも、この緑化を先導しているのが、中国とインド。これぞファクトフルネス。激減しているのかと思ってた… https://t.co/KUnqyPLkpA\n",
      "@NASA @Astro_Jessica @Space_Station @Astro_Christina What's the big deal? I see women as equal to men. You're sayin… https://t.co/VRRfpPavRO\n",
      "@NASA @POTUS @Astro_Christina @Astro_Jessica girl, same https://t.co/td9QAoUMmQ\n",
      "Ako yung kasama pero iba yung nasa isip nya😪😔\n",
      "RT @CBSNews: WATCH NOW: NASA is conducting its first all-female spacewalk https://t.co/vlCcqz1Oiw https://t.co/hKBJW892Up\n",
      "@RodRuncan @FBI @FBIPortland @CNET @PCMag @PopSci @NASA @NASA_Astronauts @googledevs @googleanalytics @VFWHQ… https://t.co/Nq9KxgvTVW\n",
      "@darrylpetitt NASA Doesn’t have enough super-cold liquid oxygen and liquid hydrogen to fly her big fat ass to mars\n",
      "@Iolozouai @NASA jdksajdkasjkd\n",
      "RT @marialehc_2010: #AllWomanSpacewalk #NASA #Space_Station 🇻🇪👩‍🚀🚀😍 https://t.co/31ihtu9pF4\n",
      "RT @osodorna: iyak count ko sa isa pa with feelings: tatlo*\n",
      "\n",
      "* isa nasa first 15 minutes ng palabas TAMA HO BA IYON pabiglang atake ahmpuht…\n",
      "RT @nytimes: 2 NASA astronauts, Christina Koch and Jessica Meir, completed the first all-female spacewalk on Friday. The walk lasted 7 hour…\n"
     ]
    },
    {
     "name": "stdout",
     "output_type": "stream",
     "text": [
      "RT @HillaryClinton: When I was a little girl, I wrote to NASA and told them I dreamed of being an astronaut. \n",
      "\n",
      "They wrote back and said the…\n",
      "RT @HillaryClinton: When I was a little girl, I wrote to NASA and told them I dreamed of being an astronaut. \n",
      "\n",
      "They wrote back and said the…\n",
      "RT @AteSolid: Pagdating ng Tanghali lahat ay nasa harap ng TV,,sa pag-asang si @EchoLangNaman sana ay magbabalik.\n",
      "#PlsBringBackECHOsaEB \n",
      "@E…\n",
      "RT @StrongIam: Qing Inang commercial to! Hahaha\n",
      "\n",
      "Basahin nyo yung nasa baba. https://t.co/uIS21dSnjl\n",
      "RT @StrongIam: Qing Inang commercial to! Hahaha\n",
      "\n",
      "Basahin nyo yung nasa baba. https://t.co/uIS21dSnjl\n",
      "pare nasa EK pala yung ben&amp;ben ngayon pare\n",
      "RT @Phishie_Philly: @HillaryClinton O come on Hillary. Can’t you ever tell the truth. You wrote NASA demanding that they make you an astron…\n",
      "RT @engyn243: Hillary Clinton: \"When I was a little girl, I wrote to NASA and told them I dreamed of being an astronaut.\" \n",
      "\n",
      "\"They wrote bac…\n",
      "When the first NASA astronaut went into space in 1961, Hillary was already 14 years old.\n",
      "💜💜💜\n",
      "@brel_kaur @NASA @NASAKennedy @NASA_Technology @NASASTEM Super 🌹\n",
      "RT @Captain_Hudson: ok but my favourite thing about the first all-female space walk is that it pisses off MRAs and flatearthers at the same…\n",
      "RT @MavisJ1: @engyn243 I wish NASA had not rejected her...\n",
      "\n",
      "...would be ok with me if she were in space... https://t.co/BRro7XYAYB\n",
      "I am with HER❤️\n",
      "@ItsKrissy @NASA This is what i thought of when i read your tweet! 😂\n",
      "RT @Luiseach: NASA employee: Oh hey you guys are back early\n",
      "\n",
      "Astronaut: moon's shrinking\n",
      "\n",
      "NASA employee: what?\n",
      "\n",
      "Astronaut: *grabbing a tyre…\n",
      "RT @fabbrdn: Mdrrr y’a autant de poussière que sa sur la Lune ? https://t.co/OwcLlnZOZF\n",
      "RT @iamlotisnapial8: @kianobee Driver ni Boss at c Boss nasa frontseat. sinundo c Kia papuntang airport. Assuming lng. Haha\n",
      "RT @HillaryClinton: When I was a little girl, I wrote to NASA and told them I dreamed of being an astronaut. \n",
      "\n",
      "They wrote back and said the…\n",
      "RT @RobinHood0010: @MavisJ1 @engyn243 @NASA - We would be happy to launch Hillary into Space. How about this Tuesday morning? 🚀 🚀 MAGA🇺🇸 ht…\n",
      "\n",
      "\n",
      "600\n",
      "\n",
      "\n",
      "RT @LyrehcCom: Otw to Airport..Skyway ito sure ako,magkatabi sila sa likod tapos si Sir Syd ung nasa front seat ✨😉 https://t.co/HJ4vWwJHsy\n",
      "@LorelieSL sana all laging nasa seminar hahahaha\n",
      "@ebruenig ...NASA then issued an off the books contract with a Bosnian sniper team to make double sure the glass ce… https://t.co/NX6nfJpPgj\n",
      "RT @nytimes: 2 NASA astronauts, Christina Koch and Jessica Meir, completed the first all-female spacewalk on Friday. The walk lasted 7 hour…\n",
      "RT @CarpeDonktum: On the list of \"things that never happened\" this ranks right up there with you becoming President. https://t.co/o3W41WMIOM\n",
      "RT @itsjesemme: 1 week sembreak = 1 week nasa bahay\n",
      "RT @WhiteHouse: \"Please stand by for a call from the President of the United States.\" \n",
      "\n",
      "Congratulations to @NASA astronauts @Astro_Christin…\n",
      "RT @MavisJ1: @RobinHood0010 @engyn243 @NASA Oh gosh...Stop!!  No more!!\n",
      "\n",
      "...My sides are hurting...laughing so I’m crying! https://t.co/j4R…\n",
      "RT @HillaryClinton: When I was a little girl, I wrote to NASA and told them I dreamed of being an astronaut. \n",
      "\n",
      "They wrote back and said the…\n",
      "RT @HillaryClinton: When I was a little girl, I wrote to NASA and told them I dreamed of being an astronaut. \n",
      "\n",
      "They wrote back and said the…\n",
      "RT @KiaNo245: @kianobee Sinundo ba sya ni boss going to the AP? Kasi igs ni maam april nasa AP  na eh.\n",
      "We together will create hope aspiration confidence and NASA among people and deliver justice development technology… https://t.co/X92YKnvXeR\n",
      "RT @CaslerNoel: Noted Rocket Scientist Ivanka Trump is of course sitting next to Daddy. @IvankaTrump https://t.co/Q8ozYXSZb8\n",
      "Also I see it was Take Your Daughter to Work Day.\n",
      "https://t.co/vsrA3liFKe via @NYTimes\n",
      "RT @HillaryClinton: When I was a little girl, I wrote to NASA and told them I dreamed of being an astronaut. \n",
      "\n",
      "They wrote back and said the…\n",
      "@AdDeveyra @MrFrndsCnt Nasa duty yan tel🤠 wag mo istorbohin!!\n",
      "I'll take \"Things that never happened\" for $500, Alex.\n",
      "RT @SenGillibrand: Incredible. Congratulations Jessica and Christina for breaking barriers and making history! #AllWomanSpacewalk \n",
      "\n",
      "https:/…\n",
      "R/thathappened\n",
      "RT @eastofeden127: Tht first all female space walk is happening RIGHT NOW!!! What a historic moment for #WomenInSTEM!Finally, @NASA! @WLNtm…\n",
      "RT @USATODAY: NASA astronauts Christina Koch and Jessica Meir spoke to President Trump from outside the International Space Station as they…\n",
      "RT @maarcos_go: a nasa tem que estudar o @VintageCulture https://t.co/dzZXSLx0u6\n",
      "RT @millermilly: He absolutely flips off the woman around 2:10.\n",
      "And he rarely touches his face - this was intentional. https://t.co/GkspaZf…\n",
      "RT @ScienceConnect2: NASA astronauts complete repairs on historic spacewalk - https://t.co/0po3h9HfdF\n",
      "RT @fabbrdn: Mdrrr y’a autant de poussière que sa sur la Lune ? https://t.co/OwcLlnZOZF\n",
      "hoyyy nasa hotel na kame may heater naaaa\n",
      "RT @HillaryClinton: When I was a little girl, I wrote to NASA and told them I dreamed of being an astronaut. \n",
      "\n",
      "They wrote back and said the…\n",
      "RT @KamalaHarris: For the first time in our nation’s history, an all-female crew walked in space today. It’s more than historic—it’s a remi…\n",
      "RT @viewsfrance: Aujourd’hui, et après 50 ans de sorties spatiales masculines, la NASA s’apprête à réaliser pour la 1ère fois une sortie sp…\n",
      "RT @annaismeeh: puro Rhhhiseee andd sHiN3eeE nasa utak koo sana sainyo dinnnn\n",
      "@GrettaPecl @LauraLMonroe33 @HillaryClinton She had about as much qualifications to work for NASA as she did to be president.\n",
      "I’ll take things that never happened for 1,000 Alex\n",
      "RT @Tepper: Let’s just take a moment to recognize how wild it is that you can watch a spacewalk live on your phone. https://t.co/Ko12nPsrTl\n",
      "RT @INFOen14O: Desmienten que la Nasa haya enviado a dos mujeres a la luna por que había que barrerla. https://t.co/DSKafti5QC\n",
      "esse palco é lindo até de dia, STB mt braba\n",
      "RT @fabbrdn: Mdrrr y’a autant de poussière que sa sur la Lune ? https://t.co/OwcLlnZOZF\n",
      "RT @AddictKiano: Si Ms MJ nasa Bacolod, Ms April, Syd and Mama Bear With Fumiyam. Hala baka si Gino lang at Kiara sa Davao ay wowwwww hahah…\n",
      "Yup.   As confirmed by 49 NASA scientists who disagree with dogma, 500 scientists who petitioned the UN, 32,000 sci… https://t.co/m64pkEqJU6\n",
      "RT @girlscouts: NEW Girl Scout Space Science badges help girls discover worlds beyond earth. Ready, set, shoot for the moon! 🚀👏@Space_Stati…\n",
      "雨&amp;雨&amp;渋滞&amp;駐車場のNASAでやっとこさ到着したのにテンション低まってる\n",
      "RT @clairecmc: Why is she at this table? Get your kids out of the White House while they are “earning” 80+ million last year. And until you…\n",
      "@HillaryClinton To bad they didn't fulfill your dream and then accidentally leave you in space. NASA did all of us a great disservice.\n",
      "RT @nytimes: 2 NASA astronauts, Christina Koch and Jessica Meir, completed the first all-female spacewalk on Friday. The walk lasted 7 hour…\n",
      "RT @TheRealHolli: Breaking:\n",
      "\n",
      "Trump orders NASA to investigate illegal aliens.\n",
      "Nice work ladies. So proud: NASA's all-female spacewalk is a powerful metaphor.\n",
      "\n",
      "https://t.co/5VIJpmIUid\n",
      "RT @HillaryClinton: When I was a little girl, I wrote to NASA and told them I dreamed of being an astronaut. \n",
      "\n",
      "They wrote back and said the…\n",
      "mananaba talaga ako pag nasa kami ng lola ko 😂\n",
      "@BluesyLee @NASA Whoa! Your Photoshop skills are amazing.\n",
      "RT @ScienceConnect2: NASA astronauts complete repairs on historic spacewalk - https://t.co/0po3h9HfdF\n",
      "RT @nytimes: 2 NASA astronauts, Christina Koch and Jessica Meir, completed the first all-female spacewalk on Friday. The walk lasted 7 hour…\n",
      "RT @KamalaHarris: For the first time in our nation’s history, an all-female crew walked in space today. It’s more than historic—it’s a remi…\n",
      "RT @WhiteHouse: \"Please stand by for a call from the President of the United States.\" \n",
      "\n",
      "Congratulations to @NASA astronauts @Astro_Christin…\n",
      "RT @ajplus: The 1st ever all-female space walk is happening this week, with astronauts Christina Koch and Jessica Meir.\n",
      "\n",
      "It was originally…\n",
      "Instead of responding to Tulsi, this is the crap you give. Hahahaha, you are so full of 💩! No one likes you witch!… https://t.co/yNoMdsoVWG\n",
      "RT @SatoruO: NASAがこの20年間での世界の緑地変化を人工衛星で調査。緑が大きく拡大していることが判明。特に大きく増加したのはインドと中国。両国とも熱心に植林事業等を行っているそうです。インドは1日で80万人が5000万本の木を植えた記録もあるとか。古い認識と異な…\n",
      "ALAAA NASA MANILA YUNG UKULELEEEE NEXT WEEK PA IYON MADADALA E NEXT WEEK KO NA IYON KAILANGANNNMMMM\n"
     ]
    },
    {
     "name": "stdout",
     "output_type": "stream",
     "text": [
      "RT @pvtjokerus: More sniper fire. https://t.co/tB5AKXUPVT\n",
      "RT @SirHublife: They should have launched this bitch into space when they had the chance.\n",
      "\n",
      "Thanks a lot NASA. https://t.co/AXqMDdXCWb\n",
      "RT @ViceGandaLife: Nasa point nako ng buhay ko na ayaw ko na mag explain, if someone don't understand me, \"okay\" nalang sasabihin ko. If I…\n",
      "RT @YAMYAMBoholOFC: To all admin bumababa tayo sa trendlist bawasan nyo muna ang pa games kanina lahat lng fresh tweets nasa top tayo\n",
      "\n",
      "#MMK…\n",
      "@NASA @Astro_Christina @Astro_Jessica @Space_Station It's not ALL women without a transwoman represented too.\n",
      "\n",
      "#missionFail\n",
      "RT @nytimes: 2 NASA astronauts, Christina Koch and Jessica Meir, completed the first all-female spacewalk on Friday. The walk lasted 7 hour…\n",
      "RT @HillaryClinton: When I was a little girl, I wrote to NASA and told them I dreamed of being an astronaut. \n",
      "\n",
      "They wrote back and said the…\n",
      "EU AMO ESSA TRACK DEMAAAAAAAAAAIS\n",
      "RT @clairecmc: Why is she at this table? Get your kids out of the White House while they are “earning” 80+ million last year. And until you…\n",
      "https://t.co/vUVcEjxZOW: &gt;&gt;&gt;&gt; So the Sun thinks the Elizabeth Tower is Big Ben ...\n",
      "RT @FrozenByMewls: Top Grossing Film of the year.\n",
      "\n",
      "64M opening day gross.\n",
      "\n",
      "Nasa Earth ba tayo? Magkaiba ba tayo ng time zone? Bakit di ko a…\n",
      "RT @ChrisKelleyMN: Congratulations to Christina Koch &amp; Jessica Meir on making history!\n",
      "\n",
      "The first all female space walk!\n",
      "\n",
      "https://t.co/3Vtr…\n",
      "RT @PeteButtigieg: “The stars don't look bigger, but they do look brighter.” —Sally Ride https://t.co/dEJD6IJbAA\n",
      "RT @4AllSoulKind: BULLSHIT! \n",
      "Publish the letter. \n",
      "cc @POTUS #KAG https://t.co/RVq49TbOzo\n",
      "We are here at the Hackathon proper of NASA Space Apps Challenge Philippines to provide mentorship and help teams i… https://t.co/VVpcpuoPhm\n",
      "RT @hoyitselya: bakit kaya \"All of the above\" pa nasa choices kanina sa exam kung pwede namang \"sana all\" na lang. https://t.co/mX7KNRbSkt\n",
      "RT @amyklobuchar: A great day in history. This is why I've always been a strong advocate for women in STEM, passing legislation that encour…\n",
      "nasa sm calamba si @michelle_dy ❤\n",
      "RT @RedinBlue5: Wish we could launch your fat evil ass into space right now. https://t.co/2ohQ5BC5d8\n",
      "RT @nytimes: 2 NASA astronauts, Christina Koch and Jessica Meir, completed the first all-female spacewalk on Friday. The walk lasted 7 hour…\n",
      "RT @NASA: Throughout spaceflight history, 14 women have completed spacewalks. Today, @Astro_Jessica brought that number up to 15 as she flo…\n",
      "gago puta HAHAHAGAHAGA NASA IBANG BAHAY PA AKO HSHAHAHAHA\n",
      "Mars 2020 Unwrapped and Ready for Testing https://t.co/gu54nQ9R1L\n",
      "RT @ViceGandaLife: Nasa point nako ng buhay ko na ayaw ko na mag explain, if someone don't understand me, \"okay\" nalang sasabihin ko. If I…\n",
      "RT @HillaryClinton: When I was a little girl, I wrote to NASA and told them I dreamed of being an astronaut. \n",
      "\n",
      "They wrote back and said the…\n",
      "hindi naman sa pag aano ah pero pag nakapasa ako dito sa pup di ko alam kung icoconsider ko bang dito mag enroll ka… https://t.co/giRfBaNfzA\n",
      "RT @PWAPilipinas: We are here at the Hackathon proper of NASA Space Apps Challenge Philippines to provide mentorship and help teams in buil…\n",
      "RT @Space_Station: Spacewalkers @Astro_Christina and @Astro_Jessica are outside in the vacuum of space getting their tools ready to replace…\n",
      "@tlescope nasa\n",
      "RT @HillaryClinton: When I was a little girl, I wrote to NASA and told them I dreamed of being an astronaut. \n",
      "\n",
      "They wrote back and said the…\n",
      "RT @HillaryClinton: When I was a little girl, I wrote to NASA and told them I dreamed of being an astronaut. \n",
      "\n",
      "They wrote back and said the…\n",
      "RT @Lady_Star_Gem: This made my week\n",
      "\n",
      "The sky is no longer the limit for women\n",
      "\n",
      "Next, the damn universe\n",
      "\n",
      "@NASA astronauts Christina Koch &amp;…\n",
      "He only hires the best staff!?\n",
      "So cool!!\n",
      "RT @CarpeDonktum: On the list of \"things that never happened\" this ranks right up there with you becoming President. https://t.co/o3W41WMIOM\n",
      "RT @jondaly: Two women floating in space were forced to talk to a rapist. https://t.co/IAAXXUqpID\n",
      "RT @HeatherIsTaken: They still don't take little girls, but instead welcome grown women who can accept when they've been defeated! AKA: Not…\n",
      "RT @clairecmc: Why is she at this table? Get your kids out of the White House while they are “earning” 80+ million last year. And until you…\n",
      "puro ops ng tsds nasa utak q,,,,, help\n",
      "🚀History made today! \n",
      "While the world watched in awe &amp; adoration of first #NASA #AllWomanSpacewalk, #WALinks beamed… https://t.co/hFbgvGpRDF\n",
      "RT @ashoukaFE: Moon landing tapes got erased, NASA admits | Article [AMP] | Reuters https://t.co/CQzGXWpxI6\n",
      "RT @orlatinsley: Nasa astronauts begin first ever all-female spacewalk https://t.co/kAkiAu1lGO\n",
      "சர்வதேச விண்வெளி மையத்தில் இருந்து வெளியேறி பழுது பார்த்து திரும்பி இரு பெண் விஞ்ஞானிகள் சாதனை.\n",
      "\n",
      "#NASA #Space #Winnews\n",
      "\n",
      "\n",
      "700\n",
      "\n",
      "\n",
      "#NASA's first all-female spacewalk is 'inspiring but we should've gotten here sooner,' @tanyaofmars tells… https://t.co/znk5talvgA\n",
      "RT @USATODAY: NASA astronauts Christina Koch and Jessica Meir spoke to President Trump from outside the International Space Station as they…\n",
      "RT @maducorrea_: nunca q eu vou enjoar desse cara, fls @VintageCulture zero defeitos https://t.co/LT5eNwhOGL\n",
      "RT @g7svnjiaer: Pano kaya kung sa 25 nasa moa tayo nageenjoy sa see the light tapos di natin alam na nasa likod pala natin got7 pinapanood…\n",
      "RT @HillaryClinton: When I was a little girl, I wrote to NASA and told them I dreamed of being an astronaut. \n",
      "\n",
      "They wrote back and said the…\n",
      "RT @nytimes: 2 NASA astronauts, Christina Koch and Jessica Meir, completed the first all-female spacewalk on Friday. The walk lasted 7 hour…\n",
      "Check out how cool @BluesyLee is!\n",
      "RT @tumconai: Je savais pas qu'il avaient laissé de la vaisselle sur la lune la dernière fois les astronautes https://t.co/riap4mPcJY\n",
      "RT @HillaryClinton: When I was a little girl, I wrote to NASA and told them I dreamed of being an astronaut. \n",
      "\n",
      "They wrote back and said the…\n",
      "RT @moodav47: You couldn't have been qualified to be an astronaut: Then or now! You don't have the character &amp; you are(to be blunt) much to…\n",
      "RT @Dr_ThomasZ: 🚨Final call! 🚨It’s the last day to sign up for the universe’s largest, international, #hackathon. Register to be part of @S…\n",
      "RT @HillaryClinton: When I was a little girl, I wrote to NASA and told them I dreamed of being an astronaut. \n",
      "\n",
      "They wrote back and said the…\n",
      "RT @tonimoons: Anong linya ng kanta ang nasa isip mo ngayon?\n",
      "RT @StrongIam: Qing Inang commercial to! Hahaha\n",
      "\n",
      "Basahin nyo yung nasa baba. https://t.co/uIS21dSnjl\n",
      "RT @DrJMZimmerman: Nothing is impossible and CHANGE is inevitable !!! https://t.co/2smpVg2CnV\n",
      "RT @SirHublife: They put a kitchen in space!?\n",
      "\n",
      "😂🤣😂🤣👍👌😘 https://t.co/9E02uxHm8h\n",
      "WAHHH KAMUKHA NI UTLEG YUNG ANOOOO WAHAHAHAHA\n",
      "RT @clairecmc: Why is she at this table? Get your kids out of the White House while they are “earning” 80+ million last year. And until you…\n",
      "@tlescope *nasa\n",
      "RT @HillaryClinton: When I was a little girl, I wrote to NASA and told them I dreamed of being an astronaut. \n",
      "\n",
      "They wrote back and said the…\n",
      "https://t.co/fQ98jry4hR\n",
      "RT @aftab_sadiq: Top story: The first all-female spacewalk is underway - CNN https://t.co/PUk9uMMJEt, see more https://t.co/x6Al5Sg7rR\n",
      "RT @HillaryClinton: When I was a little girl, I wrote to NASA and told them I dreamed of being an astronaut. \n",
      "\n",
      "They wrote back and said the…\n",
      "@flatbashing @NASA @girlsscouts @Astro_Christina @Astro_Jessica @Space_Station https://t.co/JlB72qMZaa\n",
      "Send her up!\n",
      "RT @AngTanongKoSayo: Bakit parang mas nakakapagod yung nasa bahay ka lang buong araw kaysa sa nasa labas ka?\n",
      "RT @nytimes: 2 NASA astronauts, Christina Koch and Jessica Meir, completed the first all-female spacewalk on Friday. The walk lasted 7 hour…\n",
      "@joansmileytoes Aaah wag, pag nasa Japan nalang wahaha\n",
      "tapos kasama ko daw classmate ko non kase nasa school kame\n",
      "tinanong ni mama kung ano yung nasa mukha ko sabi ko pimple marks lang yan sabi niya dati wala naman yan diba?\n",
      "@XplosiveTweets When she was little there was no nasa yet, there were no cars even\n",
      "RT @Antarcticacl: El Hielo/Nieve tiene un alto Albedo, es decir refleja mucha #RadiaciónSolar de vuelta al espacio. Cuando el Hielo/Nieve p…\n",
      "RT @SenDuckworth: These are the kind of real role models we can look up to. Abigail and I are cheering them on!!!\n",
      "\n",
      "https://t.co/I7DYtAPpMF\n"
     ]
    },
    {
     "name": "stdout",
     "output_type": "stream",
     "text": [
      "RT @clairecmc: Why is she at this table? Get your kids out of the White House while they are “earning” 80+ million last year. And until you…\n",
      "RT @clairecmc: Why is she at this table? Get your kids out of the White House while they are “earning” 80+ million last year. And until you…\n",
      "bumisita kami sa bahay ampunan, tas may wall don na puro pics ng before and recent pics ng mga na-adopt na bata kas… https://t.co/PfVF0JZHfA\n",
      "RT @NASA: Throughout spaceflight history, 14 women have completed spacewalks. Today, @Astro_Jessica brought that number up to 15 as she flo…\n",
      "El motor helicoidal de la NASA que parece violar las leyes de la física https://t.co/7w7jIC7o1F vía @ABC_Ciencia\n",
      "sem educação de tão bom esse set\n",
      "yung wallpaper ko andito pa, pero yung nasa wallpaper ko wala na\n",
      "YUH yuh yuh  #SweetenerWorldTour #SweetenerThankUNextTour #Arianators #NASA #Ariana #FakeSmile #7rings… https://t.co/sksNdLY5V1\n",
      "RT @KamalaHarris: For the first time in our nation’s history, an all-female crew walked in space today. It’s more than historic—it’s a remi…\n",
      "RT @viewsfrance: Aujourd’hui, et après 50 ans de sorties spatiales masculines, la NASA s’apprête à réaliser pour la 1ère fois une sortie sp…\n",
      "RT @NebojsaMalic: The Soviet Union sent a woman into space when you were 16. Cool story, tho. https://t.co/dntDgsXdNC\n",
      "Trump beat you to the sentiment...again.\n",
      "RT @capeandcowell: When I was a little boy, I wrote NASA and told them I dreamed of becoming an astronaut. \n",
      "\n",
      "They wrote back and said they…\n",
      "The first federal aviation medical examiner informed female pilots that they should not fly during, immediately bef… https://t.co/034ewPmdYA\n",
      "RT @maducorrea_: nunca q eu vou enjoar desse cara, fls @VintageCulture zero defeitos https://t.co/LT5eNwhOGL\n",
      "RT @Amy_Siskind: He literally can’t do anything right. https://t.co/Bqhmh0Cz1S\n",
      "@TheRealBudt @WhiteHouse @NASA @Astro_Christina @Astro_Jessica https://t.co/PpoZadvDim\n",
      "RT @jondaly: Two women floating in space were forced to talk to a rapist. https://t.co/IAAXXUqpID\n",
      "RT @NASA: Throughout spaceflight history, 14 women have completed spacewalks. Today, @Astro_Jessica brought that number up to 15 as she flo…\n",
      "Hahahaha 😂🤣\n",
      "Sounds like one of Pocahontas’ tall tales.\n",
      "@NASA @POTUS @Astro_Christina @Astro_Jessica Does he ever stop talking?\n",
      "RT @fabbrdn: Mdrrr y’a autant de poussière que sa sur la Lune ? https://t.co/OwcLlnZOZF\n",
      "RT @HillaryClinton: When I was a little girl, I wrote to NASA and told them I dreamed of being an astronaut. \n",
      "\n",
      "They wrote back and said the…\n",
      "Singapore #NASA #spaceapps2019 underway!\n",
      "#padang #Astropreneurshub https://t.co/Q3Fw3ylr4w\n",
      "RT @nytimes: 2 NASA astronauts, Christina Koch and Jessica Meir, completed the first all-female spacewalk on Friday. The walk lasted 7 hour…\n",
      "@capeandcowell @fisherofmeh This got me thinking...How popular was NASA in the 1950s and 60s? Was it even something… https://t.co/chn82TWFQY\n",
      "RT @clairecmc: Why is she at this table? Get your kids out of the White House while they are “earning” 80+ million last year. And until you…\n",
      "RT @SmithsonianMag: NASA astronauts Christina Koch and Jessica Meir have completed their spacewalk, becoming the first two women to venture…\n",
      "RT @fabbrdn: Mdrrr y’a autant de poussière que sa sur la Lune ? https://t.co/OwcLlnZOZF\n",
      "RT @jondaly: Two women floating in space were forced to talk to a rapist. https://t.co/IAAXXUqpID\n",
      "RT @HillaryClinton: When I was a little girl, I wrote to NASA and told them I dreamed of being an astronaut. \n",
      "\n",
      "They wrote back and said the…\n",
      "RT @HillaryClinton: When I was a little girl, I wrote to NASA and told them I dreamed of being an astronaut. \n",
      "\n",
      "They wrote back and said the…\n",
      "@NASA @POTUS @Astro_Christina @Astro_Jessica \"It's such an honor to be the first person in space to tell you to go fuck yourself\"\n",
      "October 18, 2019\n",
      "Muito kkkkkk\n",
      "@HillaryClinton Any proof of your letter to NASA, you lying pig? You’ll say or do anything for power. Thank God Trump beat you in 2016.\n",
      "RT @CarpeDonktum: On the list of \"things that never happened\" this ranks right up there with you becoming President. https://t.co/o3W41WMIOM\n",
      "Pota 😂😂😂\n",
      "RT @jondaly: Two women floating in space were forced to talk to a rapist. https://t.co/IAAXXUqpID\n",
      "RT @nytimes: 2 NASA astronauts, Christina Koch and Jessica Meir, completed the first all-female spacewalk on Friday. The walk lasted 7 hour…\n",
      "RT @USOWomen: History made!\n",
      "\n",
      "Congrats to @Astro_Christina and @Astro_Jessica on breaking a new glass ceiling — from space! #AllWomanSpacewa…\n",
      "@NASA @MNightShyamalan @GloriaSteinem @TheEllenShow @TheView @justdemi @MTV @KendallJenner @megynkelly @Letterman… https://t.co/etYNKvDcmx\n",
      "RT @nytimes: 2 NASA astronauts, Christina Koch and Jessica Meir, completed the first all-female spacewalk on Friday. The walk lasted 7 hour…\n",
      "RT @KamalaHarris: For the first time in our nation’s history, an all-female crew walked in space today. It’s more than historic—it’s a remi…\n",
      "Insan naman di sinabi nasa korea dat sinama ako HAHHAHAHAA\n",
      "RT @ViceGandaLife: Nasa point nako ng buhay ko na ayaw ko na mag explain, if someone don't understand me, \"okay\" nalang sasabihin ko. If I…\n",
      "Un hito en la historia de la NASA: la primera caminata espacial de solo mujeres | CNN https://t.co/EQmFoI25zT\n",
      "RT @thefaceberg: NASA today is just the Vatican for Science-as-a-Religion. It's a figurehead that all the pop culture fake \"scientists\" of…\n",
      "@WhiteHouse @NASA @Astro_Christina @Astro_Jessica Long silence for puke bag utilization\n",
      "@SbNanay @iamjiminssi_ @UglyStickkk @corrrrnny @iwantasapofc bakit nasa Iwant mga LODI nyo dB dapat umaakyat sila n… https://t.co/7DN5akJEzS\n",
      "Now was this before or after you were named after Sir Edmund Hillary?  #SenileHillary\n",
      "RT @fabbrdn: Mdrrr y’a autant de poussière que sa sur la Lune ? https://t.co/OwcLlnZOZF\n",
      "RT @HillaryClinton: When I was a little girl, I wrote to NASA and told them I dreamed of being an astronaut. \n",
      "\n",
      "They wrote back and said the…\n",
      "RT @HillaryClinton: When I was a little girl, I wrote to NASA and told them I dreamed of being an astronaut. \n",
      "\n",
      "They wrote back and said the…\n",
      "dami dami kong hijab tas halos lahat nasa kapatid ko na!!!!\n",
      "Sweter ng mga nasa harap ha\n",
      "#SB19atSMCityBF https://t.co/QqOKpc27po\n",
      "RT @p_k_rogers: @HeatherIsTaken Now NASA cheated her. LET IT REST @HillaryClinton , PLEASE,LET IT REST\n",
      "RT @clairecmc: Why is she at this table? Get your kids out of the White House while they are “earning” 80+ million last year. And until you…\n",
      "Hackers culiaos son capaces de meterse a la nasa y no son capaces de dejar en cero las cuentas corrientes de estos… https://t.co/9xCOkCrb4h\n",
      "RT @MSNBC: WATCH: During live spacewalk call today, NASA astronaut Jessica Meir corrects President Trump for saying that the first all-fema…\n",
      "Ba't ganun lmfao\n",
      "RT @KamalaHarris: For the first time in our nation’s history, an all-female crew walked in space today. It’s more than historic—it’s a remi…\n",
      "RT @ItsKrissy: Thanks a lot @NASA - y’all could’ve prevented a lot of death and destruction on earth by sending her into space https://t.co…\n",
      "RT @WhiteHouse: \"Please stand by for a call from the President of the United States.\" \n",
      "\n",
      "Congratulations to @NASA astronauts @Astro_Christin…\n",
      "RT @johncsmith88: Hillary won’t say a word about girls in Honduras or Libya who are suffering because of her https://t.co/5BXcG6B5uT\n",
      "@pvtjokerus She's gotta be drunk.  I mean really? Hillary as a little girl was rejected by NASA? Well as a little g… https://t.co/l5O8kIRSC8\n",
      "\n",
      "\n",
      "800\n",
      "\n",
      "\n",
      "NASA:ScienceCasts\n",
      "\n",
      "英語を忘れないようにする為に聞いています。\n",
      "皆様もお聴きになられませんか？→　https://t.co/8uVgYPtXgx\n",
      "Si ate nasa ek\n",
      "Si kuya nasa baguio\n",
      "Ako eto nakikisama sa mga bata🙄\n",
      "Okay lang ako\n",
      "HAHAHAH\n",
      "@NASA @Astro_Christina @Astro_Jessica This is what happens when the best man for a job is a woman! #AllWomanSpacewalk\n",
      "RT @viewsfrance: Aujourd’hui, et après 50 ans de sorties spatiales masculines, la NASA s’apprête à réaliser pour la 1ère fois une sortie sp…\n",
      "RT @Cocoa_Bean10: It’s not about you Hillary https://t.co/lBqvOAeAU9\n",
      "RT @KamalaHarris: For the first time in our nation’s history, an all-female crew walked in space today. It’s more than historic—it’s a remi…\n",
      "RT @CNN: NASA astronauts Jessica Meir and Christina Koch will conduct the first all-female spacewalk outside of the International Space Sta…\n",
      "HAHAHAHHAAHHAHHAHAHAHAH\n",
      "NASA admits that climate change occurs because of changes in Earth's solar orbit, and NOT because of SUVs and fossi… https://t.co/p9K6tHhEXO\n"
     ]
    },
    {
     "name": "stdout",
     "output_type": "stream",
     "text": [
      "Γεννήθηκε το 1947.\n",
      "Εγραψε γράμμα στη nasa όταν ήταν μικρό κοριτσακι επειδή ήθελε να γίνει αστροναύτης, λέει. \n",
      "Στα 5… https://t.co/ELTOWJBWlr\n",
      "RT @pvtjokerus: More sniper fire. https://t.co/tB5AKXUPVT\n",
      "RT @cnnbrk: Watch live: Two NASA astronauts conduct the first all-female spacewalk https://t.co/qE8XnSVQPe https://t.co/HPm8ofcO42\n",
      "RT @SHEOpsTalent: After an unexpected need for a 🦷 extraction today we are finally settling in pain free to catch the replay!  #AllWomanSpa…\n",
      "Excited to explore the #SpaceAppsUniverse and see what we can come up with! #SpaceApps https://t.co/SaIXve5rCV\n",
      "RT @maarcos_go: a nasa tem que estudar o @VintageCulture https://t.co/dzZXSLx0u6\n",
      "RT @AshTanInfinity: Atsaka, karamihan sa milkies nasa right side, tapos kayo nasa left, so paki explain? Siguradohin nyo kasi muna kung kam…\n",
      "RT @bbcmundo: Dos astronautas mujeres en el espacio: la histórica caminata espacial de la NASA https://t.co/kuelyEQ4Y2\n",
      "@NASA @MNightShyamalan @GloriaSteinem @TheEllenShow @TheView @justdemi @MTV @KendallJenner @megynkelly @Letterman… https://t.co/wjulGAv7Sn\n",
      "@NASA @POTUS @Astro_Christina @Astro_Jessica Two incredibly inspirational people, who happen to be women, were forc… https://t.co/6zyr5aSdcg\n",
      "Nasa baba toh ehh kasalanan ko ba\n",
      "RT @CarpeDonktum: On the list of \"things that never happened\" this ranks right up there with you becoming President. https://t.co/o3W41WMIOM\n",
      "RT @NASA: Who's talking to the astronauts from Mission Control during today's #AllWomanSpacewalk? That's astronaut Stephanie Wilson, who ha…\n",
      "RT @JeanApplin: NASA admits that climate change occurs because of changes in Earth’s solar orbit, and NOT because of SUVs and fossil fuels…\n",
      "RT @fabbrdn: Mdrrr y’a autant de poussière que sa sur la Lune ? https://t.co/OwcLlnZOZF\n",
      "@HillaryClinton During the Hillary's childhood they were only accepting military pilots. NASA never told her gender was her disqualifier.\n",
      "RT @Dr_ThomasZ: 🚨Final call! 🚨It’s the last day to sign up for the universe’s largest, international, #hackathon. Register to be part of @S…\n",
      "RT @ViceGandaLife: Nasa point nako ng buhay ko na ayaw ko na mag explain, if someone don't understand me, \"okay\" nalang sasabihin ko. If I…\n",
      "RT @PCNedStark: Fun fact: When Hillary was a little girl, there was no NASA. https://t.co/HKNI8lHTra\n",
      "@pmbasse @HillaryClinton @TulsiGabbard @NASA She was given a case. She was a public attorney she couldn’t turn it d… https://t.co/GdTitL002v\n",
      "RT @clairecmc: Why is she at this table? Get your kids out of the White House while they are “earning” 80+ million last year. And until you…\n",
      "RT @ConlonCharles: https://t.co/vUVcEjxZOW: &gt;&gt;&gt;&gt; So the Sun thinks the Elizabeth Tower is Big Ben ...\n",
      "RT @nytimes: 2 NASA astronauts, Christina Koch and Jessica Meir, completed the first all-female spacewalk on Friday. The walk lasted 7 hour…\n",
      "RT @HillaryClinton: When I was a little girl, I wrote to NASA and told them I dreamed of being an astronaut. \n",
      "\n",
      "They wrote back and said the…\n",
      "RT @StrongIam: Qing Inang commercial to! Hahaha\n",
      "\n",
      "Basahin nyo yung nasa baba. https://t.co/uIS21dSnjl\n",
      "RT @SirHublife: They should have launched this bitch into space when they had the chance.\n",
      "\n",
      "Thanks a lot NASA. https://t.co/AXqMDdXCWb\n",
      "Umm Where can I sign up ?? And can you do overtime\n",
      "@SSkyeine HAHAHAHAHA wala NASA KATAUHAN KO TALAGA SILA #SB19atSMCityBF\n",
      "NASA Astronauts Complete the First All-Female Spacewalk https://t.co/BSqBhWFslz\n",
      "RT @junjunjulian1: 吉本に100億円💸加計に170億円💸\n",
      "【アメリカの産業復興費に56兆円】\n",
      "↑アメリカの産業復興に56兆円💸をみんな忘れた⁉\n",
      "そして巨大台風が日本を襲うとNASA が注意報を発信している時に安倍総理は\n",
      "【環境技術研究に30兆円💸】をポンと出し…\n",
      "Trump Speaks to NASA Astronauts During the First All-Women Spacewalk\n",
      "\n",
      "https://t.co/MTLI150KRi\n",
      "\n",
      "For the latest US an… https://t.co/yQfmagHHgi\n",
      "RT @wspieler: No she fucking didn't, Sputnik was when she was 10, manned spaceflight at 14 https://t.co/TNo3t22Uml\n",
      "Instead #CrookedHillary Became a vengeful Nasty Political Crook who Cashed in on Her Position and Became The… https://t.co/LUjS9qQyK5\n",
      "MA! PA! NASA MAGAZINE NA KO\n",
      "RT @HillaryClinton: When I was a little girl, I wrote to NASA and told them I dreamed of being an astronaut. \n",
      "\n",
      "They wrote back and said the…\n",
      "RT @HillaryClinton: When I was a little girl, I wrote to NASA and told them I dreamed of being an astronaut. \n",
      "\n",
      "They wrote back and said the…\n",
      "\"Ang ibig mo bang sabihin ikaw si Carmela kapag magalang ka at nasa harapan ng iyong magulang... at ikaw naman si C… https://t.co/EhKjkfSvMS\n",
      "Ilapag sa sahig ang bigat\n",
      "huwag dalhin\n",
      "May karamay ka't sa balikat ko'y umidlip 🎶\n",
      "RT @robby02354179: @NASA @MNightShyamalan @GloriaSteinem @TheEllenShow @TheView @justdemi @MTV @KendallJenner @megynkelly @Letterman @jimmy…\n",
      "@realDonaldTrump This was the beginning. Our President Trump is fighting against the NWO for us. If we don't help a… https://t.co/QTIApTQR2L\n",
      "RT @ScienceConnect2: NASA astronauts complete repairs on historic spacewalk - https://t.co/0po3h9HfdF\n",
      "RT @riottooo: #NoMaps の週末だよ〜\n",
      "わたしたちはACUを出てこれらを！\n",
      "◇10:00- 宇宙はスペースがたりない 〜人工衛星をおびやかすデブリ〜（チカホ）\n",
      "◇13:00- NoMaps x MASHING UP（SCARTS）\n",
      "◇ 19:00- VRドーム…\n",
      "RT @patycastelan: Vcs viram ao magnífico filme \"Estrelas Além do Tempo\"? Assistam e irão entender. Tem algo relacionado a isso tb no filme…\n",
      "RT @osodorna: iyak count ko sa isa pa with feelings: tatlo*\n",
      "\n",
      "* isa nasa first 15 minutes ng palabas TAMA HO BA IYON pabiglang atake ahmpuht…\n",
      "RT @nowthisnews: Meet Jessica Meir and Christina Koch, the history-making astronaut duo behind NASA’s first-ever all-women spacewalk 💪 http…\n",
      "RT @SirHublife: They should have launched this bitch into space when they had the chance.\n",
      "\n",
      "Thanks a lot NASA. https://t.co/AXqMDdXCWb\n",
      "RT @bbcworldservice: NASA's MiMi Aung is the female scientist leading a team designing a helicopter to fly on Mars. #100women\n",
      "\n",
      "More: https:…\n",
      "@Dailewis @PaulEmbery hahahaha nasa\n",
      "RT @JenKirkman: Today’s historic NASA news marks the first all female space walk and it also marks the first time women walked somewhere wi…\n",
      "@Optimistic1210 ingat enjoy ate 💗 nasa taas talaga ate ah huhu\n",
      "RT @MSNBC: WATCH: During live spacewalk call today, NASA astronaut Jessica Meir corrects President Trump for saying that the first all-fema…\n",
      "Why was Ivanka at the table?\n",
      "RT @troobie_md: Dahil puro students at teachers lang ang nasa loob, heto kami sa labas! Thanks po uli sa generous sponsors namin! To God be…\n",
      "RT @IvankaTrump: LIVE NOW: Tune in to watch the first #AllWomanSpacewalk in human history! 🇺🇸👩‍🚀👩‍🚀🇺🇸 https://t.co/Ed0zmyCnSp\n",
      "RT @NASA: Coming up shortly during today's #AllWomanSpacewalk, we're expecting a call from the @WhiteHouse at 12:27pm ET. Tune in: https://…\n",
      "RT @min_ciencia: ¡Hoy destacamos la primera caminata espacial solo con mujeres astronautas! 👩‍🚀👩‍🚀👩‍🚀🚀\n",
      "\n",
      "#AllWomanSpacewalk\n",
      "#LasNiñasPueden…\n",
      "RT @ViceGandaLife: Nasa point nako ng buhay ko na ayaw ko na mag explain, if someone don't understand me, \"okay\" nalang sasabihin ko. If I…\n",
      "RT @NASA: “You’re doing an incredible job,” says @POTUS to @Astro_Christina and @Astro_Jessica during today’s #AllWomanSpacewalk. Tune in t…\n",
      "RT @HillaryClinton: When I was a little girl, I wrote to NASA and told them I dreamed of being an astronaut. \n",
      "\n",
      "They wrote back and said the…\n",
      "RT @menggalurks: Isa Pa With Feelings Review @Black_SheepPH \n",
      "\n",
      "#IsaPaFeelGoodWeekend\n",
      "#MaineMendoza https://t.co/FqlFyKuBTx\n",
      "RT @HillaryClinton: When I was a little girl, I wrote to NASA and told them I dreamed of being an astronaut. \n",
      "\n",
      "They wrote back and said the…\n",
      "RT @ScienceConnect2: NASA astronauts complete repairs on historic spacewalk - https://t.co/0po3h9HfdF\n",
      "The #InternationalSpaceStation is passing over us right now! October 19, 2019 at 08:03AM, for 393 seconds. #ISS #NASA #space\n",
      "RT @TheRealBuzz: Well done ladies. #AllWomanSpacewalk https://t.co/wbancSBV5S\n",
      "RT @TheKateMulgrew: Congratulations to the team of the first #AllWomanSpacewalk - you are inspirational and magnificent! 🚀👩🏻‍🚀🖖🏻 A historic…\n",
      "RT @geovana_queiros: Voando mais alto que a nave da nasa no teu universo https://t.co/KvIOooHJN7\n",
      "The first all-female space walk in all of Nasa's 61 years happened this morning. Astronauts Christina Lock and Jess… https://t.co/39BgRXNXYw\n",
      "RT @jondaly: Two women floating in space were forced to talk to a rapist. https://t.co/IAAXXUqpID\n",
      "RT @JenKirkman: Today’s historic NASA news marks the first all female space walk and it also marks the first time women walked somewhere wi…\n"
     ]
    },
    {
     "name": "stdout",
     "output_type": "stream",
     "text": [
      "ui potah si archie nasa pamp kahapon 😭\n",
      "RT @ShuttleCDRKelly: There are three women making history on the #AllWomanSpacewalk team today, including my former crew member on STS-121,…\n",
      "RT @nowthisnews: Meet Jessica Meir and Christina Koch, the history-making astronaut duo behind NASA’s first-ever all-women spacewalk 💪 http…\n",
      "RT @nytimes: 2 NASA astronauts, Christina Koch and Jessica Meir, completed the first all-female spacewalk on Friday. The walk lasted 7 hour…\n",
      "Sana all nasa korea HAHAHAHAH\n",
      "@Celtics_PRam @nebnoj67 @MPlumstead @HillaryClinton Oh please of course Hillary was around then.  You are obviously… https://t.co/P9Me11AQTg\n",
      "Yung nasa simbahan ka pero mura ka ng mura 😆\n",
      "Hayop puro nobita at damulag nasa newsfeed ko\n",
      "RT @NASA: Throughout spaceflight history, 14 women have completed spacewalks. Today, @Astro_Jessica brought that number up to 15 as she flo…\n",
      "RT @ScienceConnect2: NASA astronauts complete repairs on historic spacewalk - https://t.co/0po3h9HfdF\n",
      "RT @zuluagajorge: Todos estos locos tienen 48 horas para resolver un problema (duro) propuesto por @NASA en el #Hackathon  @SpaceApps... es…\n",
      "RT @AlexandraTST: La sortie prévue à 13h50 a eu lieu à 16h15 après la déclaration des astronautes \"On est prêtes dans 5 minutes\" https://t.…\n",
      "RT @RepCohen: He only hires the best staff!? https://t.co/rZPcobVnfQ\n",
      "RT @lorengrush: The best thing about today's spacewalk is that it's currently beating out our Google Pixel coverage. My work here is done:…\n",
      "RT @Tepper: Let’s just take a moment to recognize how wild it is that you can watch a spacewalk live on your phone. https://t.co/Ko12nPsrTl\n",
      "RT @HillaryClinton: When I was a little girl, I wrote to NASA and told them I dreamed of being an astronaut. \n",
      "\n",
      "They wrote back and said the…\n",
      "RT @Kiarabossbabe: Tama lhat ng pupunta jan sa team live kausapin pra bumoto sila \n",
      "\n",
      "MellowMYXSaturdaze KIANO https://t.co/1RYYbto6G3\n",
      "@45Wildwayne @Sid89381480 This is such a bullshit story!  Ok, so NASA get a letter from a little girl, and they say… https://t.co/D96F7RAzX6\n",
      "RT @WorldAndScience: Unbelievable! A Hubble view of Comet 2I_Borisov A comet that is believed to have arrived here from another planetary s…\n",
      "RT @NASA: “You’re doing an incredible job,” says @POTUS to @Astro_Christina and @Astro_Jessica during today’s #AllWomanSpacewalk. Tune in t…\n",
      "RT @KamalaHarris: For the first time in our nation’s history, an all-female crew walked in space today. It’s more than historic—it’s a remi…\n",
      "@Gnm_Sprn 名古屋来てるんすカ！　関東に比べればどこも三下ばかりだけどベトコンラーメンは名古屋だけかと👼　あとは足伸ばせるならラーメン荘(二郎系)とか岐阜タンメン(ご当地感のNASA)\n",
      "\n",
      "\n",
      "900\n",
      "\n",
      "\n",
      "RT @clairecmc: Why is she at this table? Get your kids out of the White House while they are “earning” 80+ million last year. And until you…\n",
      "RT @clairecmc: Why is she at this table? Get your kids out of the White House while they are “earning” 80+ million last year. And until you…\n",
      "RT @PatriotsOfMars: Hillary was born in 1947, Nasa wasn't even created until 1958. We didn't have actual astronauts until, what 1961? How o…\n",
      "RT @MAKERSwomen: Legendary @NASA mathematician Katherine Johnson, who was critical to NASA's biggest missions, shares her story. 🙌 #MAKERSB…\n",
      "@_Jessification_ @NASA For years this was grunt work. Manual Labor in an EVA suit. After today, I guess this is women's work. enjoy\n",
      "RT @Patriots: So awesome!\n",
      "\n",
      "Shout out @Astro_Christina &amp; New England's own @Astro_Jessica! https://t.co/VbPje72mjc\n",
      "RT @HillaryClinton: When I was a little girl, I wrote to NASA and told them I dreamed of being an astronaut. \n",
      "\n",
      "They wrote back and said the…\n",
      "RT @nytimes: 2 NASA astronauts, Christina Koch and Jessica Meir, completed the first all-female spacewalk on Friday. The walk lasted 7 hour…\n",
      "RT @latiricienta: En noticias más amables, como diría Lolita Ayala, después de 50 años llega una tripulación 100% de mujeres a la luna #All…\n",
      "RT @AstroAnnimal: You know, success is good. It reminds us that sacrifices are worth it. But watching two people you love succeed, knowing…\n",
      "Brother received nasa’s offer but have to reject it due to some issue and came back here. Guess the starting gaji e… https://t.co/JvMoKJ5bsj\n",
      "RT @SenKamalaHarris: Yesterday, Congress passed our bill awarding Congressional Gold Medals to Katherine Johnson, Dorothy Vaughan, Mary Jac…\n",
      "RT @TheRealBuzz: Well done ladies. #AllWomanSpacewalk https://t.co/wbancSBV5S\n",
      "RT @WorldAndScience: Unbelievable! A Hubble view of Comet 2I_Borisov A comet that is believed to have arrived here from another planetary s…\n",
      "RT @HillaryClinton: When I was a little girl, I wrote to NASA and told them I dreamed of being an astronaut. \n",
      "\n",
      "They wrote back and said the…\n",
      "RT @HillaryClinton: When I was a little girl, I wrote to NASA and told them I dreamed of being an astronaut. \n",
      "\n",
      "They wrote back and said the…\n",
      "RT @HillaryClinton: When I was a little girl, I wrote to NASA and told them I dreamed of being an astronaut. \n",
      "\n",
      "They wrote back and said the…\n",
      "RT @JohnGrahamDick1: I wish she had been launched a long time ago.  Demon of the world https://t.co/NnpocrLzsN\n",
      "RT @Carolinaercolin: Esta será a primeira manobra 100% feminina entre as mais de 200 realizadas desde 1965 pela agência espacial norte-amer…\n",
      "@lanoriae wait boypie nasa japan pa ko HAHAHAHAHA\n",
      "ang foggy sa labassss. nasa silent hill na ba ako huhuamscaredaf\n",
      "RT @StrongIam: Qing Inang commercial to! Hahaha\n",
      "\n",
      "Basahin nyo yung nasa baba. https://t.co/uIS21dSnjl\n",
      "RT @CarpeDonktum: On the list of \"things that never happened\" this ranks right up there with you becoming President. https://t.co/o3W41WMIOM\n",
      "RT @fabbrdn: Mdrrr y’a autant de poussière que sa sur la Lune ? https://t.co/OwcLlnZOZF\n",
      "RT @RepCohen: He only hires the best staff!? https://t.co/rZPcobVnfQ\n",
      "In celebration of NASA finally making enough shirts for two women to complete a space walk at the same time, I watc… https://t.co/YgAGNdFlWn\n",
      "2nd interstellar visitor:  Trajectory of 2I/Borisov, formerly called C/2019 Q4. 1st confirmed comet from another so… https://t.co/ODUulVKRXx\n",
      "【 国際宇宙ステーション Live Camera 】 https://t.co/zHLAvKRfqs　■ #国際宇宙ステーション #ISS のライブカメラ配信映像とISSの現在位置マップ、参考映像（NASA TV）、目視予想情報、宇宙天気情報を表示中　#冒険あそび倉庫\n",
      "RT @nytimes: 2 NASA astronauts, Christina Koch and Jessica Meir, completed the first all-female spacewalk on Friday. The walk lasted 7 hour…\n",
      "More #Butthurt ,.... The Clinton Saga continues.\n",
      "RT @fabbrdn: Mdrrr y’a autant de poussière que sa sur la Lune ? https://t.co/OwcLlnZOZF\n",
      "RT @HillaryClinton: When I was a little girl, I wrote to NASA and told them I dreamed of being an astronaut. \n",
      "\n",
      "They wrote back and said the…\n",
      "RT @HillaryClinton: When I was a little girl, I wrote to NASA and told them I dreamed of being an astronaut. \n",
      "\n",
      "They wrote back and said the…\n",
      "RT @Redtowel4: This right here is such a BS lie. https://t.co/DDGKy6wKDq\n",
      "Janeiro tem porra !!!!!\n",
      "RT @AddictKiano: Si Ms MJ nasa Bacolod, Ms April, Syd and Mama Bear With Fumiyam. Hala baka si Gino lang at Kiara sa Davao ay wowwwww hahah…\n",
      "RT @nytimes: 2 NASA astronauts, Christina Koch and Jessica Meir, completed the first all-female spacewalk on Friday. The walk lasted 7 hour…\n",
      "RT @maducorrea_: nunca q eu vou enjoar desse cara, fls @VintageCulture zero defeitos https://t.co/LT5eNwhOGL\n",
      "RT @SpeakerPelosi: .@NASA has captured the imaginations of the world for generations. Congratulations to @Astro_Christina &amp; @Astro_Jessica…\n",
      "October 18, 2019 #NASA\n",
      "RT @HillaryClinton: When I was a little girl, I wrote to NASA and told them I dreamed of being an astronaut. \n",
      "\n",
      "They wrote back and said the…\n",
      "RT @Cocoa_Bean10: It’s not about you Hillary https://t.co/lBqvOAeAU9\n",
      "@TexasLo4Ever @wvufanagent99 @HillaryClinton I said the same thing! Well, almost. \n",
      "😂🤣😂🤣😂\n",
      "\n",
      "https://t.co/ZPHnDrG6fF\n",
      "RT @MSNBC: WATCH: During live spacewalk call today, NASA astronaut Jessica Meir corrects President Trump for saying that the first all-fema…\n",
      "RT @AngTanongKoSayo: Bakit parang mas nakakapagod yung nasa bahay ka lang buong araw kaysa sa nasa labas ka?\n",
      "RT @CarolinaLbugg: @CaptYonah @bayareahausfrau So she was rejected by NASA and the Marines? Totally believable. Of course, she was in fact…\n",
      "Tanginang commercial to HAHHAHAHABSHAH\n",
      "RT @Space_Station: From Mission Control Center, @AstroAnnimal describes how she felt during a spacewalk as we get this amazing view from @A…\n",
      "RT @Redtowel4: This right here is such a BS lie. https://t.co/DDGKy6wKDq\n"
     ]
    },
    {
     "name": "stdout",
     "output_type": "stream",
     "text": [
      "Saudadis\n",
      "RT @HillaryClinton: When I was a little girl, I wrote to NASA and told them I dreamed of being an astronaut. \n",
      "\n",
      "They wrote back and said the…\n",
      "@NBCNews @NBCNewsNow Nasa is liar\n",
      "RT @Seeker: NASA astronauts Christina Koch and Jessica Meir just made history in the first ever all-women spacewalk—and it’s been a long ti…\n",
      "@themamasagas @NASA @Astro_Christina @Astro_Jessica Cute\n",
      "RT @fabbrdn: Mdrrr y’a autant de poussière que sa sur la Lune ? https://t.co/OwcLlnZOZF\n",
      "RT @engyn243: Hillary Clinton: \"When I was a little girl, I wrote to NASA and told them I dreamed of being an astronaut.\" \n",
      "\n",
      "\"They wrote bac…\n",
      "RT @HillaryClinton: When I was a little girl, I wrote to NASA and told them I dreamed of being an astronaut. \n",
      "\n",
      "They wrote back and said the…\n",
      "RT @maarcos_go: a nasa tem que estudar o @VintageCulture https://t.co/dzZXSLx0u6\n",
      "RT @HillaryClinton: When I was a little girl, I wrote to NASA and told them I dreamed of being an astronaut. \n",
      "\n",
      "They wrote back and said the…\n",
      "NASA spacewalk: Space agency boasts ‘milestone’ as all-female astronauts work on the ISS https://t.co/RHDOZMGCqS https://t.co/lQpwRVkJwr\n",
      "RT @AmyMcGrathKY: This is incredible—here's to breaking barriers. #AllWomanSpacewalk https://t.co/tmNUi2nPbC\n",
      "BBC News - Nasa astronauts Christina Koch and Jessica Meir in all-women spacewalk https://t.co/UHdbMpvq7W\n",
      "RT @junjunjulian1: 吉本に100億円💸加計に170億円💸\n",
      "【アメリカの産業復興費に56兆円】\n",
      "↑アメリカの産業復興に56兆円💸をみんな忘れた⁉\n",
      "そして巨大台風が日本を襲うとNASA が注意報を発信している時に安倍総理は\n",
      "【環境技術研究に30兆円💸】をポンと出し…\n",
      "RT @StrongIam: Qing Inang commercial to! Hahaha\n",
      "\n",
      "Basahin nyo yung nasa baba. https://t.co/uIS21dSnjl\n",
      "@HillaryClinton Is that when NASA sent Bosnian snipers to your house?\n",
      "RT @clairecmc: Why is she at this table? Get your kids out of the White House while they are “earning” 80+ million last year. And until you…\n",
      "Love how they had to correct you. You are such an ignoramous. Your staff can’t even write historically correct note… https://t.co/5itj6kaLiv\n",
      "RT @IvankaTrump: The 1st all-women spacewalk is scheduled for tomorrow at 7:50am ET!\n",
      "Watch live 🎥 at https://t.co/rDMpbkYDtX.  🚀👩‍🚀  https:…\n",
      "https://t.co/afQPIaeCsr\n",
      "RT @ManuelaDavila: As astronautas Christina Koch e Jessica Meir fazem nesta sexta a primeira caminhada feita apenas com mulheres no espaço…\n",
      "RT @aftab_sadiq: Top story: The first all-female spacewalk is underway - CNN https://t.co/PUk9uMMJEt, see more https://t.co/x6Al5Sg7rR\n",
      "HAHAHAHAHAHAHA\n",
      "@HillaryClinton Hillary is a loser, a corrupt criminal, and one of the worst people on planet earth. Space?  NASA m… https://t.co/As4Bt8ZNik\n",
      "RT @WhiteHouse: \"Please stand by for a call from the President of the United States.\" \n",
      "\n",
      "Congratulations to @NASA astronauts @Astro_Christin…\n",
      "RT @NASA: The 1st woman and next man will go to the Moon in 2024 👩‍🚀👨‍🚀\n",
      "\n",
      "Today, we previewed the next-generation #Artemis spacesuits that o…\n",
      "@HillaryClinton Thanks to @realDonaldTrump that gave @NASA back their financial support 😍🙏🏻💕🤩\n",
      "chile lemme lock the door ...\n",
      "RT @clairecmc: Why is she at this table? Get your kids out of the White House while they are “earning” 80+ million last year. And until you…\n",
      "@NASA @MNightShyamalan @GloriaSteinem @TheEllenShow @TheView @justdemi @MTV @KendallJenner @megynkelly @Letterman… https://t.co/6pRAvTQ1Ir\n",
      "RT @StrongIam: Qing Inang commercial to! Hahaha\n",
      "\n",
      "Basahin nyo yung nasa baba. https://t.co/uIS21dSnjl\n",
      "RT @shenglooot: bilib din ako sa boss na nag approved sa marketing strategy na to HAHSHAHAHHAHSHAHAHAHA https://t.co/5HI0RAx8ZF\n",
      "RT @SenDuckworth: These are the kind of real role models we can look up to. Abigail and I are cheering them on!!!\n",
      "\n",
      "https://t.co/I7DYtAPpMF\n",
      "RT @HillaryClinton: When I was a little girl, I wrote to NASA and told them I dreamed of being an astronaut. \n",
      "\n",
      "They wrote back and said the…\n",
      "RT @NASA: Throughout spaceflight history, 14 women have completed spacewalks. Today, @Astro_Jessica brought that number up to 15 as she flo…\n",
      "RT @TSG1920: Ako lang ba yung hindi na ulit bababa at aakyat sa stairs kung saan malapit ang room na ituuu? Willing akong umikot, kaya nga…\n",
      "afffffff mto meu amor\n",
      "I believe this👇🏼over the @HillaryClinton @NASA letter “story”.\n",
      "SHET KANG DANIEL NASA PINAS BEKE NEMEN\n",
      "THE BUZZ REBOOT\n",
      "\n",
      "Hosts: Tito boy and the Baretto sisters pero iba iba sila ng venue.\n",
      "\n",
      "Yung isa sa Mother Ignacia\n",
      "Ta… https://t.co/yO9olGnGjh\n",
      "RT @tweettruth2me: You dreamed of being President too. That makes you 0 for 2. 😏 https://t.co/to7dsPOICG\n",
      "@jakepalmieri Mysteriously all those NASA people had weird accidents from 1994-2000.   Go figure, must have been the freeze dried yogurt.\n",
      "RT @HillaryClinton: When I was a little girl, I wrote to NASA and told them I dreamed of being an astronaut. \n",
      "\n",
      "They wrote back and said the…\n",
      "RT @HillaryClinton: When I was a little girl, I wrote to NASA and told them I dreamed of being an astronaut. \n",
      "\n",
      "They wrote back and said the…\n",
      "RT @NASAHubble: Hubble helped confirm that the giant galaxy M87 harbors a black hole 2.6 billion times more massive than our Sun and reveal…\n",
      "RT @NASA: Today, history was made as @Astro_Jessica and @Astro_Christina successfully completed the first #AllWomanSpacewalk! For more than…\n",
      "RT @nytimes: 2 NASA astronauts, Christina Koch and Jessica Meir, completed the first all-female spacewalk on Friday. The walk lasted 7 hour…\n",
      "RT @HillaryClinton: When I was a little girl, I wrote to NASA and told them I dreamed of being an astronaut. \n",
      "\n",
      "They wrote back and said the…\n",
      "RT @AngTanongKoSayo: Bakit parang mas nakakapagod yung nasa bahay ka lang buong araw kaysa sa nasa labas ka?\n",
      "@amyhoy I just heard about this a week(ish). Apparently, NASA shifted all of the dates recently. Maybe that's what… https://t.co/HhUQvplzo8\n",
      "Ang bilis nasa ikalima na\n",
      "\n",
      "#FrankiAnaBetterThanEver\n",
      "\n",
      "\n",
      "1000\n",
      "\n",
      "\n",
      "@amyklobuchar @NASA Why do we want to go back to the moon cause we were told not to go back\n"
     ]
    }
   ],
   "source": [
    "c = 0\n",
    "for tweet in islice(tweet_generator(), 1000):\n",
    "    c += 1\n",
    "    if c % 100 == 0:\n",
    "        print('\\n')\n",
    "        print(c)\n",
    "        print('\\n')\n",
    "    print(tweet)"
   ]
  },
  {
   "cell_type": "markdown",
   "metadata": {},
   "source": [
    "### What data is there?"
   ]
  },
  {
   "cell_type": "code",
   "execution_count": 276,
   "metadata": {},
   "outputs": [
    {
     "data": {
      "text/plain": [
       "{'created_at': 'Thu Oct 17 21:07:09 +0000 2019',\n",
       " 'id': 1184938925703319552,\n",
       " 'id_str': '1184938925703319552',\n",
       " 'text': 'RT @riahfab: Ikaw na nasa bus/jeep na antok na antok na tapos sumakay si crush https://t.co/xEQcsLnUnH',\n",
       " 'source': '<a href=\"http://twitter.com/download/iphone\" rel=\"nofollow\">Twitter for iPhone</a>',\n",
       " 'truncated': False,\n",
       " 'in_reply_to_status_id': None,\n",
       " 'in_reply_to_status_id_str': None,\n",
       " 'in_reply_to_user_id': None,\n",
       " 'in_reply_to_user_id_str': None,\n",
       " 'in_reply_to_screen_name': None,\n",
       " 'user': {'id': 1002518687813754880,\n",
       "  'id_str': '1002518687813754880',\n",
       "  'name': 'amme',\n",
       "  'screen_name': 'rhaeex',\n",
       "  'location': \"Jc's ❤🏳️\\u200d🌈\",\n",
       "  'url': None,\n",
       "  'description': 'Have Faith, Hope and Love 😇💕 || Astrophile ✨',\n",
       "  'translator_type': 'none',\n",
       "  'protected': False,\n",
       "  'verified': False,\n",
       "  'followers_count': 342,\n",
       "  'friends_count': 520,\n",
       "  'listed_count': 0,\n",
       "  'favourites_count': 19843,\n",
       "  'statuses_count': 11750,\n",
       "  'created_at': 'Fri Jun 01 11:54:15 +0000 2018',\n",
       "  'utc_offset': None,\n",
       "  'time_zone': None,\n",
       "  'geo_enabled': True,\n",
       "  'lang': None,\n",
       "  'contributors_enabled': False,\n",
       "  'is_translator': False,\n",
       "  'profile_background_color': 'F5F8FA',\n",
       "  'profile_background_image_url': '',\n",
       "  'profile_background_image_url_https': '',\n",
       "  'profile_background_tile': False,\n",
       "  'profile_link_color': '1DA1F2',\n",
       "  'profile_sidebar_border_color': 'C0DEED',\n",
       "  'profile_sidebar_fill_color': 'DDEEF6',\n",
       "  'profile_text_color': '333333',\n",
       "  'profile_use_background_image': True,\n",
       "  'profile_image_url': 'http://pbs.twimg.com/profile_images/1184807724187414528/vR-U5MEi_normal.jpg',\n",
       "  'profile_image_url_https': 'https://pbs.twimg.com/profile_images/1184807724187414528/vR-U5MEi_normal.jpg',\n",
       "  'profile_banner_url': 'https://pbs.twimg.com/profile_banners/1002518687813754880/1565696865',\n",
       "  'default_profile': True,\n",
       "  'default_profile_image': False,\n",
       "  'following': None,\n",
       "  'follow_request_sent': None,\n",
       "  'notifications': None},\n",
       " 'geo': None,\n",
       " 'coordinates': None,\n",
       " 'place': None,\n",
       " 'contributors': None,\n",
       " 'retweeted_status': {'created_at': 'Wed Oct 16 03:41:55 +0000 2019',\n",
       "  'id': 1184313494713188352,\n",
       "  'id_str': '1184313494713188352',\n",
       "  'text': 'Ikaw na nasa bus/jeep na antok na antok na tapos sumakay si crush https://t.co/xEQcsLnUnH',\n",
       "  'display_text_range': [0, 65],\n",
       "  'source': '<a href=\"http://twitter.com/download/iphone\" rel=\"nofollow\">Twitter for iPhone</a>',\n",
       "  'truncated': False,\n",
       "  'in_reply_to_status_id': None,\n",
       "  'in_reply_to_status_id_str': None,\n",
       "  'in_reply_to_user_id': None,\n",
       "  'in_reply_to_user_id_str': None,\n",
       "  'in_reply_to_screen_name': None,\n",
       "  'user': {'id': 1040855022819454976,\n",
       "   'id_str': '1040855022819454976',\n",
       "   'name': 'bh0sxcz m@p4qmähUAL',\n",
       "   'screen_name': 'riahfab',\n",
       "   'location': None,\n",
       "   'url': 'https://www.youtube.com/channel/UCZAPJhlUGe6WrmIFuckMkYQ',\n",
       "   'description': 'kailangan ba ‘to?????',\n",
       "   'translator_type': 'none',\n",
       "   'protected': False,\n",
       "   'verified': False,\n",
       "   'followers_count': 2544,\n",
       "   'friends_count': 72,\n",
       "   'listed_count': 0,\n",
       "   'favourites_count': 132,\n",
       "   'statuses_count': 343,\n",
       "   'created_at': 'Sat Sep 15 06:49:10 +0000 2018',\n",
       "   'utc_offset': None,\n",
       "   'time_zone': None,\n",
       "   'geo_enabled': False,\n",
       "   'lang': None,\n",
       "   'contributors_enabled': False,\n",
       "   'is_translator': False,\n",
       "   'profile_background_color': '000000',\n",
       "   'profile_background_image_url': 'http://abs.twimg.com/images/themes/theme1/bg.png',\n",
       "   'profile_background_image_url_https': 'https://abs.twimg.com/images/themes/theme1/bg.png',\n",
       "   'profile_background_tile': False,\n",
       "   'profile_link_color': 'FF0000',\n",
       "   'profile_sidebar_border_color': '000000',\n",
       "   'profile_sidebar_fill_color': '000000',\n",
       "   'profile_text_color': '000000',\n",
       "   'profile_use_background_image': False,\n",
       "   'profile_image_url': 'http://pbs.twimg.com/profile_images/1168082631310761984/WVr8a5W2_normal.jpg',\n",
       "   'profile_image_url_https': 'https://pbs.twimg.com/profile_images/1168082631310761984/WVr8a5W2_normal.jpg',\n",
       "   'profile_banner_url': 'https://pbs.twimg.com/profile_banners/1040855022819454976/1561459056',\n",
       "   'default_profile': False,\n",
       "   'default_profile_image': False,\n",
       "   'following': None,\n",
       "   'follow_request_sent': None,\n",
       "   'notifications': None},\n",
       "  'geo': None,\n",
       "  'coordinates': None,\n",
       "  'place': None,\n",
       "  'contributors': None,\n",
       "  'is_quote_status': False,\n",
       "  'quote_count': 209,\n",
       "  'reply_count': 22,\n",
       "  'retweet_count': 562,\n",
       "  'favorite_count': 2957,\n",
       "  'entities': {'hashtags': [],\n",
       "   'urls': [],\n",
       "   'user_mentions': [],\n",
       "   'symbols': [],\n",
       "   'media': [{'id': 1184313291855679488,\n",
       "     'id_str': '1184313291855679488',\n",
       "     'indices': [66, 89],\n",
       "     'additional_media_info': {'monetizable': False},\n",
       "     'media_url': 'http://pbs.twimg.com/ext_tw_video_thumb/1184313291855679488/pu/img/DAjVFseAa3BZ46Jj.jpg',\n",
       "     'media_url_https': 'https://pbs.twimg.com/ext_tw_video_thumb/1184313291855679488/pu/img/DAjVFseAa3BZ46Jj.jpg',\n",
       "     'url': 'https://t.co/xEQcsLnUnH',\n",
       "     'display_url': 'pic.twitter.com/xEQcsLnUnH',\n",
       "     'expanded_url': 'https://twitter.com/riahfab/status/1184313494713188352/video/1',\n",
       "     'type': 'photo',\n",
       "     'sizes': {'thumb': {'w': 150, 'h': 150, 'resize': 'crop'},\n",
       "      'medium': {'w': 1200, 'h': 675, 'resize': 'fit'},\n",
       "      'small': {'w': 680, 'h': 383, 'resize': 'fit'},\n",
       "      'large': {'w': 1280, 'h': 720, 'resize': 'fit'}}}]},\n",
       "  'extended_entities': {'media': [{'id': 1184313291855679488,\n",
       "     'id_str': '1184313291855679488',\n",
       "     'indices': [66, 89],\n",
       "     'additional_media_info': {'monetizable': False},\n",
       "     'media_url': 'http://pbs.twimg.com/ext_tw_video_thumb/1184313291855679488/pu/img/DAjVFseAa3BZ46Jj.jpg',\n",
       "     'media_url_https': 'https://pbs.twimg.com/ext_tw_video_thumb/1184313291855679488/pu/img/DAjVFseAa3BZ46Jj.jpg',\n",
       "     'url': 'https://t.co/xEQcsLnUnH',\n",
       "     'display_url': 'pic.twitter.com/xEQcsLnUnH',\n",
       "     'expanded_url': 'https://twitter.com/riahfab/status/1184313494713188352/video/1',\n",
       "     'type': 'video',\n",
       "     'video_info': {'aspect_ratio': [16, 9],\n",
       "      'duration_millis': 15403,\n",
       "      'variants': [{'content_type': 'application/x-mpegURL',\n",
       "        'url': 'https://video.twimg.com/ext_tw_video/1184313291855679488/pu/pl/92jZN4OQZRFzpYcl.m3u8?tag=10'},\n",
       "       {'bitrate': 256000,\n",
       "        'content_type': 'video/mp4',\n",
       "        'url': 'https://video.twimg.com/ext_tw_video/1184313291855679488/pu/vid/480x270/-p6CqUpnmZE_gi0f.mp4?tag=10'},\n",
       "       {'bitrate': 832000,\n",
       "        'content_type': 'video/mp4',\n",
       "        'url': 'https://video.twimg.com/ext_tw_video/1184313291855679488/pu/vid/640x360/11m27nBreyiuNajq.mp4?tag=10'},\n",
       "       {'bitrate': 2176000,\n",
       "        'content_type': 'video/mp4',\n",
       "        'url': 'https://video.twimg.com/ext_tw_video/1184313291855679488/pu/vid/1280x720/ClZlCeFyQivoxzpY.mp4?tag=10'}]},\n",
       "     'sizes': {'thumb': {'w': 150, 'h': 150, 'resize': 'crop'},\n",
       "      'medium': {'w': 1200, 'h': 675, 'resize': 'fit'},\n",
       "      'small': {'w': 680, 'h': 383, 'resize': 'fit'},\n",
       "      'large': {'w': 1280, 'h': 720, 'resize': 'fit'}}}]},\n",
       "  'favorited': False,\n",
       "  'retweeted': False,\n",
       "  'possibly_sensitive': False,\n",
       "  'filter_level': 'low',\n",
       "  'lang': 'tl'},\n",
       " 'is_quote_status': False,\n",
       " 'quote_count': 0,\n",
       " 'reply_count': 0,\n",
       " 'retweet_count': 0,\n",
       " 'favorite_count': 0,\n",
       " 'entities': {'hashtags': [],\n",
       "  'urls': [],\n",
       "  'user_mentions': [{'screen_name': 'riahfab',\n",
       "    'name': 'bh0sxcz m@p4qmähUAL',\n",
       "    'id': 1040855022819454976,\n",
       "    'id_str': '1040855022819454976',\n",
       "    'indices': [3, 11]}],\n",
       "  'symbols': [],\n",
       "  'media': [{'id': 1184313291855679488,\n",
       "    'id_str': '1184313291855679488',\n",
       "    'indices': [79, 102],\n",
       "    'additional_media_info': {'monetizable': False},\n",
       "    'media_url': 'http://pbs.twimg.com/ext_tw_video_thumb/1184313291855679488/pu/img/DAjVFseAa3BZ46Jj.jpg',\n",
       "    'media_url_https': 'https://pbs.twimg.com/ext_tw_video_thumb/1184313291855679488/pu/img/DAjVFseAa3BZ46Jj.jpg',\n",
       "    'url': 'https://t.co/xEQcsLnUnH',\n",
       "    'display_url': 'pic.twitter.com/xEQcsLnUnH',\n",
       "    'expanded_url': 'https://twitter.com/riahfab/status/1184313494713188352/video/1',\n",
       "    'type': 'photo',\n",
       "    'sizes': {'thumb': {'w': 150, 'h': 150, 'resize': 'crop'},\n",
       "     'medium': {'w': 1200, 'h': 675, 'resize': 'fit'},\n",
       "     'small': {'w': 680, 'h': 383, 'resize': 'fit'},\n",
       "     'large': {'w': 1280, 'h': 720, 'resize': 'fit'}},\n",
       "    'source_status_id': 1184313494713188352,\n",
       "    'source_status_id_str': '1184313494713188352',\n",
       "    'source_user_id': 1040855022819454976,\n",
       "    'source_user_id_str': '1040855022819454976'}]},\n",
       " 'extended_entities': {'media': [{'id': 1184313291855679488,\n",
       "    'id_str': '1184313291855679488',\n",
       "    'indices': [79, 102],\n",
       "    'additional_media_info': {'monetizable': False},\n",
       "    'media_url': 'http://pbs.twimg.com/ext_tw_video_thumb/1184313291855679488/pu/img/DAjVFseAa3BZ46Jj.jpg',\n",
       "    'media_url_https': 'https://pbs.twimg.com/ext_tw_video_thumb/1184313291855679488/pu/img/DAjVFseAa3BZ46Jj.jpg',\n",
       "    'url': 'https://t.co/xEQcsLnUnH',\n",
       "    'display_url': 'pic.twitter.com/xEQcsLnUnH',\n",
       "    'expanded_url': 'https://twitter.com/riahfab/status/1184313494713188352/video/1',\n",
       "    'type': 'video',\n",
       "    'video_info': {'aspect_ratio': [16, 9],\n",
       "     'duration_millis': 15403,\n",
       "     'variants': [{'content_type': 'application/x-mpegURL',\n",
       "       'url': 'https://video.twimg.com/ext_tw_video/1184313291855679488/pu/pl/92jZN4OQZRFzpYcl.m3u8?tag=10'},\n",
       "      {'bitrate': 256000,\n",
       "       'content_type': 'video/mp4',\n",
       "       'url': 'https://video.twimg.com/ext_tw_video/1184313291855679488/pu/vid/480x270/-p6CqUpnmZE_gi0f.mp4?tag=10'},\n",
       "      {'bitrate': 832000,\n",
       "       'content_type': 'video/mp4',\n",
       "       'url': 'https://video.twimg.com/ext_tw_video/1184313291855679488/pu/vid/640x360/11m27nBreyiuNajq.mp4?tag=10'},\n",
       "      {'bitrate': 2176000,\n",
       "       'content_type': 'video/mp4',\n",
       "       'url': 'https://video.twimg.com/ext_tw_video/1184313291855679488/pu/vid/1280x720/ClZlCeFyQivoxzpY.mp4?tag=10'}]},\n",
       "    'sizes': {'thumb': {'w': 150, 'h': 150, 'resize': 'crop'},\n",
       "     'medium': {'w': 1200, 'h': 675, 'resize': 'fit'},\n",
       "     'small': {'w': 680, 'h': 383, 'resize': 'fit'},\n",
       "     'large': {'w': 1280, 'h': 720, 'resize': 'fit'}},\n",
       "    'source_status_id': 1184313494713188352,\n",
       "    'source_status_id_str': '1184313494713188352',\n",
       "    'source_user_id': 1040855022819454976,\n",
       "    'source_user_id_str': '1040855022819454976'}]},\n",
       " 'favorited': False,\n",
       " 'retweeted': False,\n",
       " 'possibly_sensitive': False,\n",
       " 'filter_level': 'low',\n",
       " 'lang': 'tl',\n",
       " 'timestamp_ms': '1571346429645'}"
      ]
     },
     "execution_count": 276,
     "metadata": {},
     "output_type": "execute_result"
    }
   ],
   "source": [
    "L[0]"
   ]
  },
  {
   "cell_type": "markdown",
   "metadata": {},
   "source": [
    "### Lets now extract some information from each tweet and save it in a dataframe."
   ]
  },
  {
   "cell_type": "code",
   "execution_count": 438,
   "metadata": {},
   "outputs": [],
   "source": [
    "df = pd.DataFrame()"
   ]
  },
  {
   "cell_type": "code",
   "execution_count": null,
   "metadata": {},
   "outputs": [],
   "source": []
  },
  {
   "cell_type": "code",
   "execution_count": 439,
   "metadata": {},
   "outputs": [
    {
     "data": {
      "text/html": [
       "<div>\n",
       "<style scoped>\n",
       "    .dataframe tbody tr th:only-of-type {\n",
       "        vertical-align: middle;\n",
       "    }\n",
       "\n",
       "    .dataframe tbody tr th {\n",
       "        vertical-align: top;\n",
       "    }\n",
       "\n",
       "    .dataframe thead th {\n",
       "        text-align: right;\n",
       "    }\n",
       "</style>\n",
       "<table border=\"1\" class=\"dataframe\">\n",
       "  <thead>\n",
       "    <tr style=\"text-align: right;\">\n",
       "      <th></th>\n",
       "      <th>created_at</th>\n",
       "      <th>lang</th>\n",
       "      <th>location</th>\n",
       "      <th>place</th>\n",
       "      <th>raw_data</th>\n",
       "      <th>screen_name</th>\n",
       "      <th>text</th>\n",
       "      <th>timestamp</th>\n",
       "      <th>user_description</th>\n",
       "      <th>user_location</th>\n",
       "    </tr>\n",
       "  </thead>\n",
       "  <tbody>\n",
       "    <tr>\n",
       "      <th>9993</th>\n",
       "      <td>Sat Oct 19 02:06:22 +0000 2019</td>\n",
       "      <td>en</td>\n",
       "      <td>None</td>\n",
       "      <td>None</td>\n",
       "      <td>{'created_at': 'Sat Oct 19 02:06:22 +0000 2019...</td>\n",
       "      <td>crystal4obama</td>\n",
       "      <td>RT @HillaryClinton: When I was a little girl, ...</td>\n",
       "      <td>1571450782965</td>\n",
       "      <td>Delightfully flawed &amp; wonderfully human. Twinj...</td>\n",
       "      <td>Internet</td>\n",
       "    </tr>\n",
       "    <tr>\n",
       "      <th>9994</th>\n",
       "      <td>Sat Oct 19 02:06:23 +0000 2019</td>\n",
       "      <td>tl</td>\n",
       "      <td>None</td>\n",
       "      <td>None</td>\n",
       "      <td>{'created_at': 'Sat Oct 19 02:06:23 +0000 2019...</td>\n",
       "      <td>eyyaaaang</td>\n",
       "      <td>RT @AngTanongKoSayo: Bakit parang mas nakakapa...</td>\n",
       "      <td>1571450783292</td>\n",
       "      <td>ᵢ ₐcₜᵤₐₗₗy fₑₗₗ fₒᵣ yₒᵤ bₑfₒᵣₑ ᵢ ₑᵥₑₙ ᵣₑₐₗᵢzₑd...</td>\n",
       "      <td>None</td>\n",
       "    </tr>\n",
       "    <tr>\n",
       "      <th>9995</th>\n",
       "      <td>Sat Oct 19 02:06:23 +0000 2019</td>\n",
       "      <td>en</td>\n",
       "      <td>None</td>\n",
       "      <td>{'id': '27c45d804c777999', 'url': 'https://api...</td>\n",
       "      <td>{'created_at': 'Sat Oct 19 02:06:23 +0000 2019...</td>\n",
       "      <td>webology</td>\n",
       "      <td>@amyhoy I just heard about this a week(ish). A...</td>\n",
       "      <td>1571450783291</td>\n",
       "      <td>Python, Django, Docker, Engineer, Partner at @...</td>\n",
       "      <td>Lawrence, KS</td>\n",
       "    </tr>\n",
       "    <tr>\n",
       "      <th>9996</th>\n",
       "      <td>Sat Oct 19 02:06:23 +0000 2019</td>\n",
       "      <td>tl</td>\n",
       "      <td>None</td>\n",
       "      <td>None</td>\n",
       "      <td>{'created_at': 'Sat Oct 19 02:06:23 +0000 2019...</td>\n",
       "      <td>FrankiSangel</td>\n",
       "      <td>Ang bilis nasa ikalima na\\n\\n#FrankiAnaBetterT...</td>\n",
       "      <td>1571450783558</td>\n",
       "      <td>MacarenaAchagaIsTheLoveOfmyLife💜JuliantinaXFra...</td>\n",
       "      <td>Republic of the Philippines</td>\n",
       "    </tr>\n",
       "    <tr>\n",
       "      <th>9997</th>\n",
       "      <td>Sat Oct 19 02:06:24 +0000 2019</td>\n",
       "      <td>en</td>\n",
       "      <td>None</td>\n",
       "      <td>None</td>\n",
       "      <td>{'created_at': 'Sat Oct 19 02:06:24 +0000 2019...</td>\n",
       "      <td>William34908661</td>\n",
       "      <td>@amyklobuchar @NASA Why do we want to go back ...</td>\n",
       "      <td>1571450784077</td>\n",
       "      <td>Served in the u.s army for 20 yrs police reser...</td>\n",
       "      <td>Mankato mn</td>\n",
       "    </tr>\n",
       "  </tbody>\n",
       "</table>\n",
       "</div>"
      ],
      "text/plain": [
       "                          created_at lang location  \\\n",
       "9993  Sat Oct 19 02:06:22 +0000 2019   en     None   \n",
       "9994  Sat Oct 19 02:06:23 +0000 2019   tl     None   \n",
       "9995  Sat Oct 19 02:06:23 +0000 2019   en     None   \n",
       "9996  Sat Oct 19 02:06:23 +0000 2019   tl     None   \n",
       "9997  Sat Oct 19 02:06:24 +0000 2019   en     None   \n",
       "\n",
       "                                                  place  \\\n",
       "9993                                               None   \n",
       "9994                                               None   \n",
       "9995  {'id': '27c45d804c777999', 'url': 'https://api...   \n",
       "9996                                               None   \n",
       "9997                                               None   \n",
       "\n",
       "                                               raw_data      screen_name  \\\n",
       "9993  {'created_at': 'Sat Oct 19 02:06:22 +0000 2019...    crystal4obama   \n",
       "9994  {'created_at': 'Sat Oct 19 02:06:23 +0000 2019...        eyyaaaang   \n",
       "9995  {'created_at': 'Sat Oct 19 02:06:23 +0000 2019...         webology   \n",
       "9996  {'created_at': 'Sat Oct 19 02:06:23 +0000 2019...     FrankiSangel   \n",
       "9997  {'created_at': 'Sat Oct 19 02:06:24 +0000 2019...  William34908661   \n",
       "\n",
       "                                                   text      timestamp  \\\n",
       "9993  RT @HillaryClinton: When I was a little girl, ...  1571450782965   \n",
       "9994  RT @AngTanongKoSayo: Bakit parang mas nakakapa...  1571450783292   \n",
       "9995  @amyhoy I just heard about this a week(ish). A...  1571450783291   \n",
       "9996  Ang bilis nasa ikalima na\\n\\n#FrankiAnaBetterT...  1571450783558   \n",
       "9997  @amyklobuchar @NASA Why do we want to go back ...  1571450784077   \n",
       "\n",
       "                                       user_description  \\\n",
       "9993  Delightfully flawed & wonderfully human. Twinj...   \n",
       "9994  ᵢ ₐcₜᵤₐₗₗy fₑₗₗ fₒᵣ yₒᵤ bₑfₒᵣₑ ᵢ ₑᵥₑₙ ᵣₑₐₗᵢzₑd...   \n",
       "9995  Python, Django, Docker, Engineer, Partner at @...   \n",
       "9996  MacarenaAchagaIsTheLoveOfmyLife💜JuliantinaXFra...   \n",
       "9997  Served in the u.s army for 20 yrs police reser...   \n",
       "\n",
       "                    user_location  \n",
       "9993                     Internet  \n",
       "9994                         None  \n",
       "9995                 Lawrence, KS  \n",
       "9996  Republic of the Philippines  \n",
       "9997                   Mankato mn  "
      ]
     },
     "execution_count": 439,
     "metadata": {},
     "output_type": "execute_result"
    }
   ],
   "source": [
    "k = 0\n",
    "for el in L:\n",
    "    try:\n",
    "        temp = pd.DataFrame([[el['text'], el['lang'], \n",
    "                              el['coordinates'], el['place'],\n",
    "                              #np.array(el['place']['bounding_box']['coordinates'][0]).mean(axis=0)[0],\n",
    "                              #np.array(el['place']['bounding_box']['coordinates'][0]).mean(axis=0)[1],\n",
    "                              el['timestamp_ms'], \n",
    "                              el['created_at'], el['user']['location'], \n",
    "                              el['user']['description'], \n",
    "                              el['user']['screen_name'],\n",
    "                              el\n",
    "                             ]\n",
    "                            ], \n",
    "\n",
    "                            columns=['text', 'lang', \n",
    "                                     'location', 'place',\n",
    "                                     #'centroid_lat', 'centroid_lon',\n",
    "                                     'timestamp',\n",
    "                                     'created_at', 'user_location', \n",
    "                                     'user_description','screen_name', 'raw_data'])\n",
    "        df = df.append(temp, ignore_index=True, sort=True)\n",
    "    except:\n",
    "        pass\n",
    "df.tail()"
   ]
  },
  {
   "cell_type": "code",
   "execution_count": 440,
   "metadata": {},
   "outputs": [
    {
     "data": {
      "text/plain": [
       "(9998, 10)"
      ]
     },
     "execution_count": 440,
     "metadata": {},
     "output_type": "execute_result"
    }
   ],
   "source": [
    "df.shape"
   ]
  },
  {
   "cell_type": "code",
   "execution_count": null,
   "metadata": {},
   "outputs": [],
   "source": []
  },
  {
   "cell_type": "code",
   "execution_count": null,
   "metadata": {},
   "outputs": [],
   "source": []
  },
  {
   "cell_type": "code",
   "execution_count": null,
   "metadata": {},
   "outputs": [],
   "source": []
  },
  {
   "cell_type": "code",
   "execution_count": 92,
   "metadata": {},
   "outputs": [],
   "source": [
    "def clean_tweet(tweet): \n",
    "    ''' \n",
    "    Utility function to clean tweet text by removing links, special characters \n",
    "    using simple regex statements. \n",
    "    '''\n",
    "    return ' '.join(re.sub(\"(@[A-Za-z0-9]+)|([^0-9A-Za-z \\t])|(\\w+:\\/\\/\\S+)\", \" \", tweet).split()) \n",
    "\n",
    "def get_tweet_sentiment(tweet): \n",
    "    ''' \n",
    "    Utility function to classify sentiment of passed tweet \n",
    "    using textblob's sentiment method \n",
    "    '''\n",
    "    # create TextBlob object of passed tweet text \n",
    "    analysis = TextBlob(clean_tweet(tweet)) \n",
    "    # set sentiment \n",
    "    return analysis.sentiment.polarity"
   ]
  },
  {
   "cell_type": "code",
   "execution_count": null,
   "metadata": {},
   "outputs": [],
   "source": []
  },
  {
   "cell_type": "code",
   "execution_count": 441,
   "metadata": {},
   "outputs": [],
   "source": [
    "df['sentiment'] = df.apply(lambda x: get_tweet_sentiment(x['text']), 1)"
   ]
  },
  {
   "cell_type": "code",
   "execution_count": 442,
   "metadata": {},
   "outputs": [
    {
     "data": {
      "text/plain": [
       "0.07680952691861226"
      ]
     },
     "execution_count": 442,
     "metadata": {},
     "output_type": "execute_result"
    }
   ],
   "source": [
    "df['sentiment'].mean()"
   ]
  },
  {
   "cell_type": "code",
   "execution_count": 443,
   "metadata": {},
   "outputs": [
    {
     "data": {
      "text/plain": [
       "0.06420426455406694"
      ]
     },
     "execution_count": 443,
     "metadata": {},
     "output_type": "execute_result"
    }
   ],
   "source": [
    "df[df['text'].str.contains('nasa')]['sentiment'].mean()"
   ]
  },
  {
   "cell_type": "code",
   "execution_count": 444,
   "metadata": {},
   "outputs": [
    {
     "data": {
      "text/plain": [
       "0.15625"
      ]
     },
     "execution_count": 444,
     "metadata": {},
     "output_type": "execute_result"
    }
   ],
   "source": [
    "df[df['text'].str.contains('spaceapps')]['sentiment'].mean()"
   ]
  },
  {
   "cell_type": "code",
   "execution_count": 445,
   "metadata": {},
   "outputs": [
    {
     "data": {
      "text/html": [
       "<div>\n",
       "<style scoped>\n",
       "    .dataframe tbody tr th:only-of-type {\n",
       "        vertical-align: middle;\n",
       "    }\n",
       "\n",
       "    .dataframe tbody tr th {\n",
       "        vertical-align: top;\n",
       "    }\n",
       "\n",
       "    .dataframe thead th {\n",
       "        text-align: right;\n",
       "    }\n",
       "</style>\n",
       "<table border=\"1\" class=\"dataframe\">\n",
       "  <thead>\n",
       "    <tr style=\"text-align: right;\">\n",
       "      <th></th>\n",
       "      <th>created_at</th>\n",
       "      <th>lang</th>\n",
       "      <th>location</th>\n",
       "      <th>place</th>\n",
       "      <th>raw_data</th>\n",
       "      <th>screen_name</th>\n",
       "      <th>text</th>\n",
       "      <th>timestamp</th>\n",
       "      <th>user_description</th>\n",
       "      <th>user_location</th>\n",
       "      <th>sentiment</th>\n",
       "    </tr>\n",
       "  </thead>\n",
       "  <tbody>\n",
       "    <tr>\n",
       "      <th>339</th>\n",
       "      <td>Thu Oct 17 21:12:04 +0000 2019</td>\n",
       "      <td>en</td>\n",
       "      <td>None</td>\n",
       "      <td>None</td>\n",
       "      <td>{'created_at': 'Thu Oct 17 21:12:04 +0000 2019...</td>\n",
       "      <td>joespens</td>\n",
       "      <td>RT @spaceappsnyc: T-36 hours until the hacking...</td>\n",
       "      <td>1571346724610</td>\n",
       "      <td>executive director @spaceappsnyc • systems arc...</td>\n",
       "      <td>Harrison, NY</td>\n",
       "      <td>0.0000</td>\n",
       "    </tr>\n",
       "    <tr>\n",
       "      <th>1629</th>\n",
       "      <td>Thu Oct 17 23:19:50 +0000 2019</td>\n",
       "      <td>en</td>\n",
       "      <td>None</td>\n",
       "      <td>None</td>\n",
       "      <td>{'created_at': 'Thu Oct 17 23:19:50 +0000 2019...</td>\n",
       "      <td>sadukie</td>\n",
       "      <td>Tonight's goals - Carmen Sandiego with the kid...</td>\n",
       "      <td>1571354390592</td>\n",
       "      <td>Wife to an IT guy, Mom, Developer Technologies...</td>\n",
       "      <td>Northeast Ohio</td>\n",
       "      <td>0.2000</td>\n",
       "    </tr>\n",
       "    <tr>\n",
       "      <th>1813</th>\n",
       "      <td>Thu Oct 17 23:23:30 +0000 2019</td>\n",
       "      <td>en</td>\n",
       "      <td>None</td>\n",
       "      <td>{'id': '01a9a39529b27f36', 'url': 'https://api...</td>\n",
       "      <td>{'created_at': 'Thu Oct 17 23:23:30 +0000 2019...</td>\n",
       "      <td>nwhysel</td>\n",
       "      <td>I’m mentoring at NASA Space Apps NYC at the Ex...</td>\n",
       "      <td>1571354610530</td>\n",
       "      <td>Co-Chair #IAC20, COO @DecisionFish #bestforNYC...</td>\n",
       "      <td>New York, NY</td>\n",
       "      <td>0.0000</td>\n",
       "    </tr>\n",
       "    <tr>\n",
       "      <th>3306</th>\n",
       "      <td>Fri Oct 18 10:42:24 +0000 2019</td>\n",
       "      <td>en</td>\n",
       "      <td>None</td>\n",
       "      <td>None</td>\n",
       "      <td>{'created_at': 'Fri Oct 18 10:42:24 +0000 2019...</td>\n",
       "      <td>sos_jr</td>\n",
       "      <td>@sadukie @spaceappsCLE 🎶”Tonight is going to b...</td>\n",
       "      <td>1571395344669</td>\n",
       "      <td>Interests: https://t.co/ahHmS93CLo, Website De...</td>\n",
       "      <td>Cleveland, Ohio</td>\n",
       "      <td>0.7000</td>\n",
       "    </tr>\n",
       "    <tr>\n",
       "      <th>5485</th>\n",
       "      <td>Fri Oct 18 18:57:51 +0000 2019</td>\n",
       "      <td>en</td>\n",
       "      <td>None</td>\n",
       "      <td>None</td>\n",
       "      <td>{'created_at': 'Fri Oct 18 18:57:51 +0000 2019...</td>\n",
       "      <td>_DEVince</td>\n",
       "      <td>I took this  least y'all could do is tag me 😏\\...</td>\n",
       "      <td>1571425071825</td>\n",
       "      <td>CS  undergrad | Frontend webdeveloper | 🏀Balle...</td>\n",
       "      <td>None</td>\n",
       "      <td>0.1000</td>\n",
       "    </tr>\n",
       "    <tr>\n",
       "      <th>6145</th>\n",
       "      <td>Fri Oct 18 19:31:29 +0000 2019</td>\n",
       "      <td>en</td>\n",
       "      <td>None</td>\n",
       "      <td>None</td>\n",
       "      <td>{'created_at': 'Fri Oct 18 19:31:29 +0000 2019...</td>\n",
       "      <td>coderinheels</td>\n",
       "      <td>RT @PaulaLKennedy: Fantastic turnout for the @...</td>\n",
       "      <td>1571427089174</td>\n",
       "      <td>Founder @TECHKNOWDay | Ambassador #Google @Wom...</td>\n",
       "      <td>London</td>\n",
       "      <td>0.4000</td>\n",
       "    </tr>\n",
       "    <tr>\n",
       "      <th>6732</th>\n",
       "      <td>Fri Oct 18 19:34:31 +0000 2019</td>\n",
       "      <td>es</td>\n",
       "      <td>None</td>\n",
       "      <td>None</td>\n",
       "      <td>{'created_at': 'Fri Oct 18 19:34:31 +0000 2019...</td>\n",
       "      <td>Francisco_gmd</td>\n",
       "      <td>Ha sido un orgullo poder volver a dar la bienv...</td>\n",
       "      <td>1571427271434</td>\n",
       "      <td>What we do in life echoes in eternity. Talent&amp;...</td>\n",
       "      <td>Spain</td>\n",
       "      <td>0.0000</td>\n",
       "    </tr>\n",
       "    <tr>\n",
       "      <th>6857</th>\n",
       "      <td>Fri Oct 18 19:35:06 +0000 2019</td>\n",
       "      <td>es</td>\n",
       "      <td>None</td>\n",
       "      <td>None</td>\n",
       "      <td>{'created_at': 'Fri Oct 18 19:35:06 +0000 2019...</td>\n",
       "      <td>juanli995</td>\n",
       "      <td>RT @spaceappsalm: @juanli995 nos explica los 2...</td>\n",
       "      <td>1571427306450</td>\n",
       "      <td>Entrepreneur🚀&amp; Engineer🛠️ •\\nThailō Bags🌱🎒🇳🇵 •...</td>\n",
       "      <td>📍 Almería, Spain 🏖️🏜️</td>\n",
       "      <td>0.0000</td>\n",
       "    </tr>\n",
       "    <tr>\n",
       "      <th>6882</th>\n",
       "      <td>Fri Oct 18 19:35:11 +0000 2019</td>\n",
       "      <td>es</td>\n",
       "      <td>None</td>\n",
       "      <td>None</td>\n",
       "      <td>{'created_at': 'Fri Oct 18 19:35:11 +0000 2019...</td>\n",
       "      <td>USembassyMadrid</td>\n",
       "      <td>RT @Francisco_gmd: Ha sido un orgullo poder vo...</td>\n",
       "      <td>1571427311949</td>\n",
       "      <td>Embassy of the U.S. in Madrid. Embajada de EE....</td>\n",
       "      <td>Madrid</td>\n",
       "      <td>0.0000</td>\n",
       "    </tr>\n",
       "    <tr>\n",
       "      <th>7025</th>\n",
       "      <td>Fri Oct 18 19:35:55 +0000 2019</td>\n",
       "      <td>en</td>\n",
       "      <td>None</td>\n",
       "      <td>None</td>\n",
       "      <td>{'created_at': 'Fri Oct 18 19:35:55 +0000 2019...</td>\n",
       "      <td>propelland</td>\n",
       "      <td>RT @JGonTW: Full house for NASA #SpaceAppsMadr...</td>\n",
       "      <td>1571427355659</td>\n",
       "      <td>propelland is a global strategic design &amp; engi...</td>\n",
       "      <td>San Francisco, Madrid, Mexico</td>\n",
       "      <td>0.3500</td>\n",
       "    </tr>\n",
       "    <tr>\n",
       "      <th>7218</th>\n",
       "      <td>Fri Oct 18 19:36:59 +0000 2019</td>\n",
       "      <td>es</td>\n",
       "      <td>None</td>\n",
       "      <td>None</td>\n",
       "      <td>{'created_at': 'Fri Oct 18 19:36:59 +0000 2019...</td>\n",
       "      <td>propelland</td>\n",
       "      <td>RT @Francisco_gmd: Ha sido un orgullo poder vo...</td>\n",
       "      <td>1571427419877</td>\n",
       "      <td>propelland is a global strategic design &amp; engi...</td>\n",
       "      <td>San Francisco, Madrid, Mexico</td>\n",
       "      <td>0.0000</td>\n",
       "    </tr>\n",
       "    <tr>\n",
       "      <th>7666</th>\n",
       "      <td>Fri Oct 18 19:39:22 +0000 2019</td>\n",
       "      <td>en</td>\n",
       "      <td>None</td>\n",
       "      <td>None</td>\n",
       "      <td>{'created_at': 'Fri Oct 18 19:39:22 +0000 2019...</td>\n",
       "      <td>Yes2GlobalPeace</td>\n",
       "      <td>RT @SpaceAppsDublin: All-female spacewalk make...</td>\n",
       "      <td>1571427562524</td>\n",
       "      <td>\"Serve humanity through Science, technology an...</td>\n",
       "      <td>Worldwide</td>\n",
       "      <td>0.0000</td>\n",
       "    </tr>\n",
       "    <tr>\n",
       "      <th>8754</th>\n",
       "      <td>Fri Oct 18 21:49:43 +0000 2019</td>\n",
       "      <td>en</td>\n",
       "      <td>None</td>\n",
       "      <td>None</td>\n",
       "      <td>{'created_at': 'Fri Oct 18 21:49:43 +0000 2019...</td>\n",
       "      <td>SpaceAppsBA</td>\n",
       "      <td>RT @spaceappsnyc: RAISE YOUR HAND IF YOU'RE EX...</td>\n",
       "      <td>1571435383278</td>\n",
       "      <td>Vamos a diseñar soluciones innovadoras que res...</td>\n",
       "      <td>Ciudad Autónoma de Buenos Aire</td>\n",
       "      <td>0.4375</td>\n",
       "    </tr>\n",
       "    <tr>\n",
       "      <th>9754</th>\n",
       "      <td>Sat Oct 19 02:05:03 +0000 2019</td>\n",
       "      <td>en</td>\n",
       "      <td>None</td>\n",
       "      <td>None</td>\n",
       "      <td>{'created_at': 'Sat Oct 19 02:05:03 +0000 2019...</td>\n",
       "      <td>astro_bidushi</td>\n",
       "      <td>Singapore #NASA #spaceapps2019 underway!\\n#pad...</td>\n",
       "      <td>1571450703641</td>\n",
       "      <td>ex-NASA  scientist turned entrepreneur, with g...</td>\n",
       "      <td>Singapore</td>\n",
       "      <td>0.0000</td>\n",
       "    </tr>\n",
       "  </tbody>\n",
       "</table>\n",
       "</div>"
      ],
      "text/plain": [
       "                          created_at lang location  \\\n",
       "339   Thu Oct 17 21:12:04 +0000 2019   en     None   \n",
       "1629  Thu Oct 17 23:19:50 +0000 2019   en     None   \n",
       "1813  Thu Oct 17 23:23:30 +0000 2019   en     None   \n",
       "3306  Fri Oct 18 10:42:24 +0000 2019   en     None   \n",
       "5485  Fri Oct 18 18:57:51 +0000 2019   en     None   \n",
       "6145  Fri Oct 18 19:31:29 +0000 2019   en     None   \n",
       "6732  Fri Oct 18 19:34:31 +0000 2019   es     None   \n",
       "6857  Fri Oct 18 19:35:06 +0000 2019   es     None   \n",
       "6882  Fri Oct 18 19:35:11 +0000 2019   es     None   \n",
       "7025  Fri Oct 18 19:35:55 +0000 2019   en     None   \n",
       "7218  Fri Oct 18 19:36:59 +0000 2019   es     None   \n",
       "7666  Fri Oct 18 19:39:22 +0000 2019   en     None   \n",
       "8754  Fri Oct 18 21:49:43 +0000 2019   en     None   \n",
       "9754  Sat Oct 19 02:05:03 +0000 2019   en     None   \n",
       "\n",
       "                                                  place  \\\n",
       "339                                                None   \n",
       "1629                                               None   \n",
       "1813  {'id': '01a9a39529b27f36', 'url': 'https://api...   \n",
       "3306                                               None   \n",
       "5485                                               None   \n",
       "6145                                               None   \n",
       "6732                                               None   \n",
       "6857                                               None   \n",
       "6882                                               None   \n",
       "7025                                               None   \n",
       "7218                                               None   \n",
       "7666                                               None   \n",
       "8754                                               None   \n",
       "9754                                               None   \n",
       "\n",
       "                                               raw_data      screen_name  \\\n",
       "339   {'created_at': 'Thu Oct 17 21:12:04 +0000 2019...         joespens   \n",
       "1629  {'created_at': 'Thu Oct 17 23:19:50 +0000 2019...          sadukie   \n",
       "1813  {'created_at': 'Thu Oct 17 23:23:30 +0000 2019...          nwhysel   \n",
       "3306  {'created_at': 'Fri Oct 18 10:42:24 +0000 2019...           sos_jr   \n",
       "5485  {'created_at': 'Fri Oct 18 18:57:51 +0000 2019...         _DEVince   \n",
       "6145  {'created_at': 'Fri Oct 18 19:31:29 +0000 2019...     coderinheels   \n",
       "6732  {'created_at': 'Fri Oct 18 19:34:31 +0000 2019...    Francisco_gmd   \n",
       "6857  {'created_at': 'Fri Oct 18 19:35:06 +0000 2019...        juanli995   \n",
       "6882  {'created_at': 'Fri Oct 18 19:35:11 +0000 2019...  USembassyMadrid   \n",
       "7025  {'created_at': 'Fri Oct 18 19:35:55 +0000 2019...       propelland   \n",
       "7218  {'created_at': 'Fri Oct 18 19:36:59 +0000 2019...       propelland   \n",
       "7666  {'created_at': 'Fri Oct 18 19:39:22 +0000 2019...  Yes2GlobalPeace   \n",
       "8754  {'created_at': 'Fri Oct 18 21:49:43 +0000 2019...      SpaceAppsBA   \n",
       "9754  {'created_at': 'Sat Oct 19 02:05:03 +0000 2019...    astro_bidushi   \n",
       "\n",
       "                                                   text      timestamp  \\\n",
       "339   RT @spaceappsnyc: T-36 hours until the hacking...  1571346724610   \n",
       "1629  Tonight's goals - Carmen Sandiego with the kid...  1571354390592   \n",
       "1813  I’m mentoring at NASA Space Apps NYC at the Ex...  1571354610530   \n",
       "3306  @sadukie @spaceappsCLE 🎶”Tonight is going to b...  1571395344669   \n",
       "5485  I took this  least y'all could do is tag me 😏\\...  1571425071825   \n",
       "6145  RT @PaulaLKennedy: Fantastic turnout for the @...  1571427089174   \n",
       "6732  Ha sido un orgullo poder volver a dar la bienv...  1571427271434   \n",
       "6857  RT @spaceappsalm: @juanli995 nos explica los 2...  1571427306450   \n",
       "6882  RT @Francisco_gmd: Ha sido un orgullo poder vo...  1571427311949   \n",
       "7025  RT @JGonTW: Full house for NASA #SpaceAppsMadr...  1571427355659   \n",
       "7218  RT @Francisco_gmd: Ha sido un orgullo poder vo...  1571427419877   \n",
       "7666  RT @SpaceAppsDublin: All-female spacewalk make...  1571427562524   \n",
       "8754  RT @spaceappsnyc: RAISE YOUR HAND IF YOU'RE EX...  1571435383278   \n",
       "9754  Singapore #NASA #spaceapps2019 underway!\\n#pad...  1571450703641   \n",
       "\n",
       "                                       user_description  \\\n",
       "339   executive director @spaceappsnyc • systems arc...   \n",
       "1629  Wife to an IT guy, Mom, Developer Technologies...   \n",
       "1813  Co-Chair #IAC20, COO @DecisionFish #bestforNYC...   \n",
       "3306  Interests: https://t.co/ahHmS93CLo, Website De...   \n",
       "5485  CS  undergrad | Frontend webdeveloper | 🏀Balle...   \n",
       "6145  Founder @TECHKNOWDay | Ambassador #Google @Wom...   \n",
       "6732  What we do in life echoes in eternity. Talent&...   \n",
       "6857  Entrepreneur🚀& Engineer🛠️ •\\nThailō Bags🌱🎒🇳🇵 •...   \n",
       "6882  Embassy of the U.S. in Madrid. Embajada de EE....   \n",
       "7025  propelland is a global strategic design & engi...   \n",
       "7218  propelland is a global strategic design & engi...   \n",
       "7666  \"Serve humanity through Science, technology an...   \n",
       "8754  Vamos a diseñar soluciones innovadoras que res...   \n",
       "9754  ex-NASA  scientist turned entrepreneur, with g...   \n",
       "\n",
       "                       user_location  sentiment  \n",
       "339                     Harrison, NY     0.0000  \n",
       "1629                  Northeast Ohio     0.2000  \n",
       "1813                    New York, NY     0.0000  \n",
       "3306                 Cleveland, Ohio     0.7000  \n",
       "5485                            None     0.1000  \n",
       "6145                          London     0.4000  \n",
       "6732                           Spain     0.0000  \n",
       "6857           📍 Almería, Spain 🏖️🏜️     0.0000  \n",
       "6882                          Madrid     0.0000  \n",
       "7025   San Francisco, Madrid, Mexico     0.3500  \n",
       "7218   San Francisco, Madrid, Mexico     0.0000  \n",
       "7666                       Worldwide     0.0000  \n",
       "8754  Ciudad Autónoma de Buenos Aire     0.4375  \n",
       "9754                       Singapore     0.0000  "
      ]
     },
     "execution_count": 445,
     "metadata": {},
     "output_type": "execute_result"
    }
   ],
   "source": [
    "df[df['text'].str.contains('spaceapps')]"
   ]
  },
  {
   "cell_type": "code",
   "execution_count": 446,
   "metadata": {},
   "outputs": [],
   "source": [
    "df['created_at'] = pd.to_datetime(df['created_at'])"
   ]
  },
  {
   "cell_type": "code",
   "execution_count": 451,
   "metadata": {},
   "outputs": [
    {
     "data": {
      "text/html": [
       "<div>\n",
       "<style scoped>\n",
       "    .dataframe tbody tr th:only-of-type {\n",
       "        vertical-align: middle;\n",
       "    }\n",
       "\n",
       "    .dataframe tbody tr th {\n",
       "        vertical-align: top;\n",
       "    }\n",
       "\n",
       "    .dataframe thead th {\n",
       "        text-align: right;\n",
       "    }\n",
       "</style>\n",
       "<table border=\"1\" class=\"dataframe\">\n",
       "  <thead>\n",
       "    <tr style=\"text-align: right;\">\n",
       "      <th></th>\n",
       "      <th>created_at</th>\n",
       "      <th>sentiment</th>\n",
       "    </tr>\n",
       "  </thead>\n",
       "  <tbody>\n",
       "    <tr>\n",
       "      <th>0</th>\n",
       "      <td>2019-10-17 21:07:09</td>\n",
       "      <td>0.068182</td>\n",
       "    </tr>\n",
       "    <tr>\n",
       "      <th>1</th>\n",
       "      <td>2019-10-17 21:07:10</td>\n",
       "      <td>0.000000</td>\n",
       "    </tr>\n",
       "    <tr>\n",
       "      <th>2</th>\n",
       "      <td>2019-10-17 21:07:11</td>\n",
       "      <td>0.325000</td>\n",
       "    </tr>\n",
       "    <tr>\n",
       "      <th>3</th>\n",
       "      <td>2019-10-17 21:07:12</td>\n",
       "      <td>0.000000</td>\n",
       "    </tr>\n",
       "    <tr>\n",
       "      <th>4</th>\n",
       "      <td>2019-10-17 21:07:13</td>\n",
       "      <td>0.068182</td>\n",
       "    </tr>\n",
       "  </tbody>\n",
       "</table>\n",
       "</div>"
      ],
      "text/plain": [
       "           created_at  sentiment\n",
       "0 2019-10-17 21:07:09   0.068182\n",
       "1 2019-10-17 21:07:10   0.000000\n",
       "2 2019-10-17 21:07:11   0.325000\n",
       "3 2019-10-17 21:07:12   0.000000\n",
       "4 2019-10-17 21:07:13   0.068182"
      ]
     },
     "execution_count": 451,
     "metadata": {},
     "output_type": "execute_result"
    }
   ],
   "source": [
    "dfS = df[['created_at', 'sentiment']].groupby('created_at')['sentiment'].mean().reset_index()\n",
    "#dfS['color'] = dfS.apply(lambda x: 'g' if x['sentiment'] >= 0 else 'r', 1)\n",
    "dfS.head()"
   ]
  },
  {
   "cell_type": "code",
   "execution_count": 452,
   "metadata": {},
   "outputs": [
    {
     "data": {
      "text/html": [
       "<div>\n",
       "<style scoped>\n",
       "    .dataframe tbody tr th:only-of-type {\n",
       "        vertical-align: middle;\n",
       "    }\n",
       "\n",
       "    .dataframe tbody tr th {\n",
       "        vertical-align: top;\n",
       "    }\n",
       "\n",
       "    .dataframe thead th {\n",
       "        text-align: right;\n",
       "    }\n",
       "</style>\n",
       "<table border=\"1\" class=\"dataframe\">\n",
       "  <thead>\n",
       "    <tr style=\"text-align: right;\">\n",
       "      <th></th>\n",
       "      <th>sentiment</th>\n",
       "    </tr>\n",
       "    <tr>\n",
       "      <th>created_at</th>\n",
       "      <th></th>\n",
       "    </tr>\n",
       "  </thead>\n",
       "  <tbody>\n",
       "    <tr>\n",
       "      <th>2019-10-17 21:07:09</th>\n",
       "      <td>0.068182</td>\n",
       "    </tr>\n",
       "    <tr>\n",
       "      <th>2019-10-17 21:07:10</th>\n",
       "      <td>0.000000</td>\n",
       "    </tr>\n",
       "    <tr>\n",
       "      <th>2019-10-17 21:07:11</th>\n",
       "      <td>0.325000</td>\n",
       "    </tr>\n",
       "    <tr>\n",
       "      <th>2019-10-17 21:07:12</th>\n",
       "      <td>0.000000</td>\n",
       "    </tr>\n",
       "    <tr>\n",
       "      <th>2019-10-17 21:07:13</th>\n",
       "      <td>0.068182</td>\n",
       "    </tr>\n",
       "  </tbody>\n",
       "</table>\n",
       "</div>"
      ],
      "text/plain": [
       "                     sentiment\n",
       "created_at                    \n",
       "2019-10-17 21:07:09   0.068182\n",
       "2019-10-17 21:07:10   0.000000\n",
       "2019-10-17 21:07:11   0.325000\n",
       "2019-10-17 21:07:12   0.000000\n",
       "2019-10-17 21:07:13   0.068182"
      ]
     },
     "execution_count": 452,
     "metadata": {},
     "output_type": "execute_result"
    }
   ],
   "source": [
    "dfS = dfS.set_index('created_at')\n",
    "dfS.head()"
   ]
  },
  {
   "cell_type": "code",
   "execution_count": 453,
   "metadata": {},
   "outputs": [],
   "source": [
    "#dfS.sentiment.max()"
   ]
  },
  {
   "cell_type": "code",
   "execution_count": 454,
   "metadata": {
    "scrolled": false
   },
   "outputs": [
    {
     "data": {
      "text/plain": [
       "[<matplotlib.lines.Line2D at 0x1437b3550>]"
      ]
     },
     "execution_count": 454,
     "metadata": {},
     "output_type": "execute_result"
    },
    {
     "data": {
      "image/png": "[encoded data removed]",
      "text/plain": [
       "<Figure size 1152x648 with 1 Axes>"
      ]
     },
     "metadata": {},
     "output_type": "display_data"
    }
   ],
   "source": [
    "rcParams['figure.figsize'] = 16, 9\n",
    "\n",
    "dfS[-250:].plot(kind='line', color='grey')\n",
    "\n",
    "ax1 = dfS['sentiment'].rolling(30, min_periods=1).mean()[-250:].plot(kind='line', color='g')\n",
    "plt.plot(dfS.index[-250:], [0]*len(dfS.index[-250:]), '--r')"
   ]
  },
  {
   "cell_type": "code",
   "execution_count": 104,
   "metadata": {},
   "outputs": [],
   "source": [
    "stop = set(stopwords.words('english'))  # predefined list of \"uninteresting\" words\n",
    "\n",
    "counter = Counter()\n",
    "\n",
    "def nlargest(n, word_scores):\n",
    "    \"\"\" Wrapper around heapq to return the n words with the largest count.\"\"\"\n",
    "    # word_scores: index 0=>word, 1=>count\n",
    "    return heapq.nlargest(n, word_scores, key=lambda x: x[1])"
   ]
  },
  {
   "cell_type": "code",
   "execution_count": 455,
   "metadata": {
    "scrolled": false
   },
   "outputs": [
    {
     "data": {
      "image/png": "[encoded data removed]",
      "text/plain": [
       "<Figure size 648x432 with 1 Axes>"
      ]
     },
     "metadata": {},
     "output_type": "display_data"
    }
   ],
   "source": [
    "rcParams['figure.figsize'] = 9, 6\n",
    "DISPLAY_EVERY = 100\n",
    "\n",
    "try:\n",
    "    for k in range(len(L)):\n",
    "        try:\n",
    "            tweet = L[k]['text']\n",
    "            for word in tweet.lower().split():\n",
    "                if word not in stop and 'http' not in word:\n",
    "                    counter[word] += 1\n",
    "            if k % DISPLAY_EVERY == (DISPLAY_EVERY - 1):\n",
    "                wordcloud = WordCloud(background_color='white'#, collocations=False #, \n",
    "                                      #width=1600, height=800\n",
    "                                     ).fit_words(counter)\n",
    "                plt.axis(\"off\")\n",
    "                display.clear_output(wait=True)\n",
    "                plt.imshow(wordcloud)\n",
    "                display.display(plt.gcf())\n",
    "        except:\n",
    "            pass\n",
    "    display.clear_output(wait=True)\n",
    "except KeyboardInterrupt:\n",
    "    pass"
   ]
  },
  {
   "cell_type": "code",
   "execution_count": 456,
   "metadata": {},
   "outputs": [
    {
     "data": {
      "text/plain": [
       "[('rt', 26139),\n",
       " ('nasa', 14752),\n",
       " ('de', 5473),\n",
       " ('la', 5413),\n",
       " ('first', 5130),\n",
       " ('na', 3812),\n",
       " ('sa', 3712),\n",
       " ('spacewalk', 3468),\n",
       " ('@astro_christina', 3264),\n",
       " ('@astro_jessica', 2939)]"
      ]
     },
     "execution_count": 456,
     "metadata": {},
     "output_type": "execute_result"
    }
   ],
   "source": [
    "nlargest(10, counter.items())"
   ]
  },
  {
   "cell_type": "code",
   "execution_count": 457,
   "metadata": {},
   "outputs": [],
   "source": [
    "#L = [x for x in L if x]"
   ]
  },
  {
   "cell_type": "code",
   "execution_count": null,
   "metadata": {},
   "outputs": [],
   "source": []
  },
  {
   "cell_type": "code",
   "execution_count": 458,
   "metadata": {},
   "outputs": [],
   "source": [
    "#Collect only the tweets\n",
    "T = []\n",
    "for tweet in L:\n",
    "    T.append(tweet['text'])"
   ]
  },
  {
   "cell_type": "code",
   "execution_count": 459,
   "metadata": {},
   "outputs": [],
   "source": [
    "BATCH_SIZE = 102\n",
    "CLUSTER_SIZE = 6\n",
    "\n",
    "kmeans = MiniBatchKMeans(n_clusters=CLUSTER_SIZE)\n",
    "\n",
    "def batch(iterable, size):\n",
    "    \"\"\" batch(\"ABCDEFG\", 3) -> ABC DEF G \"\"\"\n",
    "    sourceiter = iter(iterable)\n",
    "    while True:\n",
    "        batchiter = islice(sourceiter, size)\n",
    "        yield chain([next(batchiter)], batchiter)"
   ]
  },
  {
   "cell_type": "code",
   "execution_count": 460,
   "metadata": {},
   "outputs": [],
   "source": [
    "with open(\"dictnostops.txt\") as fh:\n",
    "    words = [line.strip() for line in fh.readlines()]\n",
    "    word_to_index = { word: k for k, word in enumerate(words) }"
   ]
  },
  {
   "cell_type": "code",
   "execution_count": 461,
   "metadata": {},
   "outputs": [],
   "source": [
    "def wordclouds(wordcounts):\n",
    "    wordclouds = [WordCloud().fit_words(Counter({k:v for (k,v) in dict(counts).items() if v > 0})) for counts in wordcounts]\n",
    "    fig, axes = plt.subplots(2,2)\n",
    "    display.clear_output(wait=True)\n",
    "    for k, (ax, wordcloud) in enumerate(zip(axes.flatten(), wordclouds)):\n",
    "        ax.axis(\"off\")\n",
    "        ax.imshow(wordcloud)\n",
    "        ax.set_title(\"Topic %d\" % k)\n",
    "    display.display(fig)\n",
    "    fig.clear()"
   ]
  },
  {
   "cell_type": "code",
   "execution_count": 462,
   "metadata": {},
   "outputs": [
    {
     "data": {
      "image/png": "[encoded data removed]",
      "text/plain": [
       "<Figure size 648x432 with 4 Axes>"
      ]
     },
     "metadata": {},
     "output_type": "display_data"
    },
    {
     "name": "stderr",
     "output_type": "stream",
     "text": [
      "/Users/Nel/anaconda3/lib/python3.6/site-packages/ipykernel/__main__.py:2: DeprecationWarning: generator 'batch' raised StopIteration\n",
      "  from ipykernel import kernelapp as app\n"
     ]
    },
    {
     "data": {
      "text/plain": [
       "<Figure size 648x432 with 0 Axes>"
      ]
     },
     "metadata": {},
     "output_type": "display_data"
    },
    {
     "data": {
      "text/plain": [
       "<Figure size 648x432 with 0 Axes>"
      ]
     },
     "metadata": {},
     "output_type": "display_data"
    },
    {
     "data": {
      "text/plain": [
       "<Figure size 648x432 with 0 Axes>"
      ]
     },
     "metadata": {},
     "output_type": "display_data"
    },
    {
     "data": {
      "text/plain": [
       "<Figure size 648x432 with 0 Axes>"
      ]
     },
     "metadata": {},
     "output_type": "display_data"
    },
    {
     "data": {
      "text/plain": [
       "<Figure size 648x432 with 0 Axes>"
      ]
     },
     "metadata": {},
     "output_type": "display_data"
    },
    {
     "data": {
      "text/plain": [
       "<Figure size 648x432 with 0 Axes>"
      ]
     },
     "metadata": {},
     "output_type": "display_data"
    },
    {
     "data": {
      "text/plain": [
       "<Figure size 648x432 with 0 Axes>"
      ]
     },
     "metadata": {},
     "output_type": "display_data"
    },
    {
     "data": {
      "text/plain": [
       "<Figure size 648x432 with 0 Axes>"
      ]
     },
     "metadata": {},
     "output_type": "display_data"
    },
    {
     "data": {
      "text/plain": [
       "<Figure size 648x432 with 0 Axes>"
      ]
     },
     "metadata": {},
     "output_type": "display_data"
    },
    {
     "data": {
      "text/plain": [
       "<Figure size 648x432 with 0 Axes>"
      ]
     },
     "metadata": {},
     "output_type": "display_data"
    },
    {
     "data": {
      "text/plain": [
       "<Figure size 648x432 with 0 Axes>"
      ]
     },
     "metadata": {},
     "output_type": "display_data"
    },
    {
     "data": {
      "text/plain": [
       "<Figure size 648x432 with 0 Axes>"
      ]
     },
     "metadata": {},
     "output_type": "display_data"
    },
    {
     "data": {
      "text/plain": [
       "<Figure size 648x432 with 0 Axes>"
      ]
     },
     "metadata": {},
     "output_type": "display_data"
    },
    {
     "data": {
      "text/plain": [
       "<Figure size 648x432 with 0 Axes>"
      ]
     },
     "metadata": {},
     "output_type": "display_data"
    },
    {
     "data": {
      "text/plain": [
       "<Figure size 648x432 with 0 Axes>"
      ]
     },
     "metadata": {},
     "output_type": "display_data"
    },
    {
     "data": {
      "text/plain": [
       "<Figure size 648x432 with 0 Axes>"
      ]
     },
     "metadata": {},
     "output_type": "display_data"
    },
    {
     "data": {
      "text/plain": [
       "<Figure size 648x432 with 0 Axes>"
      ]
     },
     "metadata": {},
     "output_type": "display_data"
    },
    {
     "data": {
      "text/plain": [
       "<Figure size 648x432 with 0 Axes>"
      ]
     },
     "metadata": {},
     "output_type": "display_data"
    },
    {
     "data": {
      "text/plain": [
       "<Figure size 648x432 with 0 Axes>"
      ]
     },
     "metadata": {},
     "output_type": "display_data"
    },
    {
     "data": {
      "text/plain": [
       "<Figure size 648x432 with 0 Axes>"
      ]
     },
     "metadata": {},
     "output_type": "display_data"
    },
    {
     "data": {
      "text/plain": [
       "<Figure size 648x432 with 0 Axes>"
      ]
     },
     "metadata": {},
     "output_type": "display_data"
    },
    {
     "data": {
      "text/plain": [
       "<Figure size 648x432 with 0 Axes>"
      ]
     },
     "metadata": {},
     "output_type": "display_data"
    },
    {
     "data": {
      "text/plain": [
       "<Figure size 648x432 with 0 Axes>"
      ]
     },
     "metadata": {},
     "output_type": "display_data"
    },
    {
     "data": {
      "text/plain": [
       "<Figure size 648x432 with 0 Axes>"
      ]
     },
     "metadata": {},
     "output_type": "display_data"
    },
    {
     "data": {
      "text/plain": [
       "<Figure size 648x432 with 0 Axes>"
      ]
     },
     "metadata": {},
     "output_type": "display_data"
    },
    {
     "data": {
      "text/plain": [
       "<Figure size 648x432 with 0 Axes>"
      ]
     },
     "metadata": {},
     "output_type": "display_data"
    },
    {
     "data": {
      "text/plain": [
       "<Figure size 648x432 with 0 Axes>"
      ]
     },
     "metadata": {},
     "output_type": "display_data"
    },
    {
     "data": {
      "text/plain": [
       "<Figure size 648x432 with 0 Axes>"
      ]
     },
     "metadata": {},
     "output_type": "display_data"
    },
    {
     "data": {
      "text/plain": [
       "<Figure size 648x432 with 0 Axes>"
      ]
     },
     "metadata": {},
     "output_type": "display_data"
    },
    {
     "data": {
      "text/plain": [
       "<Figure size 648x432 with 0 Axes>"
      ]
     },
     "metadata": {},
     "output_type": "display_data"
    },
    {
     "data": {
      "text/plain": [
       "<Figure size 648x432 with 0 Axes>"
      ]
     },
     "metadata": {},
     "output_type": "display_data"
    },
    {
     "data": {
      "text/plain": [
       "<Figure size 648x432 with 0 Axes>"
      ]
     },
     "metadata": {},
     "output_type": "display_data"
    },
    {
     "data": {
      "text/plain": [
       "<Figure size 648x432 with 0 Axes>"
      ]
     },
     "metadata": {},
     "output_type": "display_data"
    },
    {
     "data": {
      "text/plain": [
       "<Figure size 648x432 with 0 Axes>"
      ]
     },
     "metadata": {},
     "output_type": "display_data"
    },
    {
     "data": {
      "text/plain": [
       "<Figure size 648x432 with 0 Axes>"
      ]
     },
     "metadata": {},
     "output_type": "display_data"
    },
    {
     "data": {
      "text/plain": [
       "<Figure size 648x432 with 0 Axes>"
      ]
     },
     "metadata": {},
     "output_type": "display_data"
    },
    {
     "data": {
      "text/plain": [
       "<Figure size 648x432 with 0 Axes>"
      ]
     },
     "metadata": {},
     "output_type": "display_data"
    },
    {
     "data": {
      "text/plain": [
       "<Figure size 648x432 with 0 Axes>"
      ]
     },
     "metadata": {},
     "output_type": "display_data"
    },
    {
     "data": {
      "text/plain": [
       "<Figure size 648x432 with 0 Axes>"
      ]
     },
     "metadata": {},
     "output_type": "display_data"
    },
    {
     "data": {
      "text/plain": [
       "<Figure size 648x432 with 0 Axes>"
      ]
     },
     "metadata": {},
     "output_type": "display_data"
    },
    {
     "data": {
      "text/plain": [
       "<Figure size 648x432 with 0 Axes>"
      ]
     },
     "metadata": {},
     "output_type": "display_data"
    },
    {
     "data": {
      "text/plain": [
       "<Figure size 648x432 with 0 Axes>"
      ]
     },
     "metadata": {},
     "output_type": "display_data"
    },
    {
     "data": {
      "text/plain": [
       "<Figure size 648x432 with 0 Axes>"
      ]
     },
     "metadata": {},
     "output_type": "display_data"
    },
    {
     "data": {
      "text/plain": [
       "<Figure size 648x432 with 0 Axes>"
      ]
     },
     "metadata": {},
     "output_type": "display_data"
    },
    {
     "data": {
      "text/plain": [
       "<Figure size 648x432 with 0 Axes>"
      ]
     },
     "metadata": {},
     "output_type": "display_data"
    },
    {
     "data": {
      "text/plain": [
       "<Figure size 648x432 with 0 Axes>"
      ]
     },
     "metadata": {},
     "output_type": "display_data"
    },
    {
     "data": {
      "text/plain": [
       "<Figure size 648x432 with 0 Axes>"
      ]
     },
     "metadata": {},
     "output_type": "display_data"
    },
    {
     "data": {
      "text/plain": [
       "<Figure size 648x432 with 0 Axes>"
      ]
     },
     "metadata": {},
     "output_type": "display_data"
    },
    {
     "data": {
      "text/plain": [
       "<Figure size 648x432 with 0 Axes>"
      ]
     },
     "metadata": {},
     "output_type": "display_data"
    },
    {
     "data": {
      "text/plain": [
       "<Figure size 648x432 with 0 Axes>"
      ]
     },
     "metadata": {},
     "output_type": "display_data"
    },
    {
     "data": {
      "text/plain": [
       "<Figure size 648x432 with 0 Axes>"
      ]
     },
     "metadata": {},
     "output_type": "display_data"
    },
    {
     "data": {
      "text/plain": [
       "<Figure size 648x432 with 0 Axes>"
      ]
     },
     "metadata": {},
     "output_type": "display_data"
    },
    {
     "data": {
      "text/plain": [
       "<Figure size 648x432 with 0 Axes>"
      ]
     },
     "metadata": {},
     "output_type": "display_data"
    },
    {
     "data": {
      "text/plain": [
       "<Figure size 648x432 with 0 Axes>"
      ]
     },
     "metadata": {},
     "output_type": "display_data"
    },
    {
     "data": {
      "text/plain": [
       "<Figure size 648x432 with 0 Axes>"
      ]
     },
     "metadata": {},
     "output_type": "display_data"
    },
    {
     "data": {
      "text/plain": [
       "<Figure size 648x432 with 0 Axes>"
      ]
     },
     "metadata": {},
     "output_type": "display_data"
    },
    {
     "data": {
      "text/plain": [
       "<Figure size 648x432 with 0 Axes>"
      ]
     },
     "metadata": {},
     "output_type": "display_data"
    },
    {
     "data": {
      "text/plain": [
       "<Figure size 648x432 with 0 Axes>"
      ]
     },
     "metadata": {},
     "output_type": "display_data"
    },
    {
     "data": {
      "text/plain": [
       "<Figure size 648x432 with 0 Axes>"
      ]
     },
     "metadata": {},
     "output_type": "display_data"
    },
    {
     "data": {
      "text/plain": [
       "<Figure size 648x432 with 0 Axes>"
      ]
     },
     "metadata": {},
     "output_type": "display_data"
    },
    {
     "data": {
      "text/plain": [
       "<Figure size 648x432 with 0 Axes>"
      ]
     },
     "metadata": {},
     "output_type": "display_data"
    },
    {
     "data": {
      "text/plain": [
       "<Figure size 648x432 with 0 Axes>"
      ]
     },
     "metadata": {},
     "output_type": "display_data"
    },
    {
     "data": {
      "text/plain": [
       "<Figure size 648x432 with 0 Axes>"
      ]
     },
     "metadata": {},
     "output_type": "display_data"
    },
    {
     "data": {
      "text/plain": [
       "<Figure size 648x432 with 0 Axes>"
      ]
     },
     "metadata": {},
     "output_type": "display_data"
    },
    {
     "data": {
      "text/plain": [
       "<Figure size 648x432 with 0 Axes>"
      ]
     },
     "metadata": {},
     "output_type": "display_data"
    },
    {
     "data": {
      "text/plain": [
       "<Figure size 648x432 with 0 Axes>"
      ]
     },
     "metadata": {},
     "output_type": "display_data"
    },
    {
     "data": {
      "text/plain": [
       "<Figure size 648x432 with 0 Axes>"
      ]
     },
     "metadata": {},
     "output_type": "display_data"
    },
    {
     "data": {
      "text/plain": [
       "<Figure size 648x432 with 0 Axes>"
      ]
     },
     "metadata": {},
     "output_type": "display_data"
    },
    {
     "data": {
      "text/plain": [
       "<Figure size 648x432 with 0 Axes>"
      ]
     },
     "metadata": {},
     "output_type": "display_data"
    },
    {
     "data": {
      "text/plain": [
       "<Figure size 648x432 with 0 Axes>"
      ]
     },
     "metadata": {},
     "output_type": "display_data"
    },
    {
     "data": {
      "text/plain": [
       "<Figure size 648x432 with 0 Axes>"
      ]
     },
     "metadata": {},
     "output_type": "display_data"
    },
    {
     "data": {
      "text/plain": [
       "<Figure size 648x432 with 0 Axes>"
      ]
     },
     "metadata": {},
     "output_type": "display_data"
    },
    {
     "data": {
      "text/plain": [
       "<Figure size 648x432 with 0 Axes>"
      ]
     },
     "metadata": {},
     "output_type": "display_data"
    },
    {
     "data": {
      "text/plain": [
       "<Figure size 648x432 with 0 Axes>"
      ]
     },
     "metadata": {},
     "output_type": "display_data"
    },
    {
     "data": {
      "text/plain": [
       "<Figure size 648x432 with 0 Axes>"
      ]
     },
     "metadata": {},
     "output_type": "display_data"
    },
    {
     "data": {
      "text/plain": [
       "<Figure size 648x432 with 0 Axes>"
      ]
     },
     "metadata": {},
     "output_type": "display_data"
    },
    {
     "data": {
      "text/plain": [
       "<Figure size 648x432 with 0 Axes>"
      ]
     },
     "metadata": {},
     "output_type": "display_data"
    },
    {
     "data": {
      "text/plain": [
       "<Figure size 648x432 with 0 Axes>"
      ]
     },
     "metadata": {},
     "output_type": "display_data"
    },
    {
     "data": {
      "text/plain": [
       "<Figure size 648x432 with 0 Axes>"
      ]
     },
     "metadata": {},
     "output_type": "display_data"
    },
    {
     "data": {
      "text/plain": [
       "<Figure size 648x432 with 0 Axes>"
      ]
     },
     "metadata": {},
     "output_type": "display_data"
    },
    {
     "data": {
      "text/plain": [
       "<Figure size 648x432 with 0 Axes>"
      ]
     },
     "metadata": {},
     "output_type": "display_data"
    },
    {
     "data": {
      "text/plain": [
       "<Figure size 648x432 with 0 Axes>"
      ]
     },
     "metadata": {},
     "output_type": "display_data"
    },
    {
     "data": {
      "text/plain": [
       "<Figure size 648x432 with 0 Axes>"
      ]
     },
     "metadata": {},
     "output_type": "display_data"
    },
    {
     "data": {
      "text/plain": [
       "<Figure size 648x432 with 0 Axes>"
      ]
     },
     "metadata": {},
     "output_type": "display_data"
    },
    {
     "data": {
      "text/plain": [
       "<Figure size 648x432 with 0 Axes>"
      ]
     },
     "metadata": {},
     "output_type": "display_data"
    },
    {
     "data": {
      "text/plain": [
       "<Figure size 648x432 with 0 Axes>"
      ]
     },
     "metadata": {},
     "output_type": "display_data"
    },
    {
     "data": {
      "text/plain": [
       "<Figure size 648x432 with 0 Axes>"
      ]
     },
     "metadata": {},
     "output_type": "display_data"
    },
    {
     "data": {
      "text/plain": [
       "<Figure size 648x432 with 0 Axes>"
      ]
     },
     "metadata": {},
     "output_type": "display_data"
    },
    {
     "data": {
      "text/plain": [
       "<Figure size 648x432 with 0 Axes>"
      ]
     },
     "metadata": {},
     "output_type": "display_data"
    },
    {
     "data": {
      "text/plain": [
       "<Figure size 648x432 with 0 Axes>"
      ]
     },
     "metadata": {},
     "output_type": "display_data"
    },
    {
     "data": {
      "text/plain": [
       "<Figure size 648x432 with 0 Axes>"
      ]
     },
     "metadata": {},
     "output_type": "display_data"
    },
    {
     "data": {
      "text/plain": [
       "<Figure size 648x432 with 0 Axes>"
      ]
     },
     "metadata": {},
     "output_type": "display_data"
    },
    {
     "data": {
      "text/plain": [
       "<Figure size 648x432 with 0 Axes>"
      ]
     },
     "metadata": {},
     "output_type": "display_data"
    },
    {
     "data": {
      "text/plain": [
       "<Figure size 648x432 with 0 Axes>"
      ]
     },
     "metadata": {},
     "output_type": "display_data"
    },
    {
     "data": {
      "text/plain": [
       "<Figure size 648x432 with 0 Axes>"
      ]
     },
     "metadata": {},
     "output_type": "display_data"
    },
    {
     "data": {
      "text/plain": [
       "<Figure size 648x432 with 0 Axes>"
      ]
     },
     "metadata": {},
     "output_type": "display_data"
    },
    {
     "data": {
      "text/plain": [
       "<Figure size 648x432 with 0 Axes>"
      ]
     },
     "metadata": {},
     "output_type": "display_data"
    },
    {
     "data": {
      "text/plain": [
       "<Figure size 648x432 with 0 Axes>"
      ]
     },
     "metadata": {},
     "output_type": "display_data"
    },
    {
     "data": {
      "text/plain": [
       "<Figure size 648x432 with 0 Axes>"
      ]
     },
     "metadata": {},
     "output_type": "display_data"
    },
    {
     "data": {
      "text/plain": [
       "<Figure size 648x432 with 0 Axes>"
      ]
     },
     "metadata": {},
     "output_type": "display_data"
    },
    {
     "data": {
      "text/plain": [
       "<Figure size 648x432 with 0 Axes>"
      ]
     },
     "metadata": {},
     "output_type": "display_data"
    },
    {
     "data": {
      "text/plain": [
       "<Figure size 648x432 with 0 Axes>"
      ]
     },
     "metadata": {},
     "output_type": "display_data"
    },
    {
     "data": {
      "text/plain": [
       "<Figure size 648x432 with 0 Axes>"
      ]
     },
     "metadata": {},
     "output_type": "display_data"
    },
    {
     "data": {
      "text/plain": [
       "<Figure size 648x432 with 0 Axes>"
      ]
     },
     "metadata": {},
     "output_type": "display_data"
    },
    {
     "data": {
      "text/plain": [
       "<Figure size 648x432 with 0 Axes>"
      ]
     },
     "metadata": {},
     "output_type": "display_data"
    },
    {
     "data": {
      "text/plain": [
       "<Figure size 648x432 with 0 Axes>"
      ]
     },
     "metadata": {},
     "output_type": "display_data"
    },
    {
     "data": {
      "text/plain": [
       "<Figure size 648x432 with 0 Axes>"
      ]
     },
     "metadata": {},
     "output_type": "display_data"
    },
    {
     "data": {
      "text/plain": [
       "<Figure size 648x432 with 0 Axes>"
      ]
     },
     "metadata": {},
     "output_type": "display_data"
    },
    {
     "data": {
      "text/plain": [
       "<Figure size 648x432 with 0 Axes>"
      ]
     },
     "metadata": {},
     "output_type": "display_data"
    },
    {
     "data": {
      "text/plain": [
       "<Figure size 648x432 with 0 Axes>"
      ]
     },
     "metadata": {},
     "output_type": "display_data"
    },
    {
     "data": {
      "text/plain": [
       "<Figure size 648x432 with 0 Axes>"
      ]
     },
     "metadata": {},
     "output_type": "display_data"
    },
    {
     "data": {
      "text/plain": [
       "<Figure size 648x432 with 0 Axes>"
      ]
     },
     "metadata": {},
     "output_type": "display_data"
    },
    {
     "data": {
      "text/plain": [
       "<Figure size 648x432 with 0 Axes>"
      ]
     },
     "metadata": {},
     "output_type": "display_data"
    },
    {
     "data": {
      "text/plain": [
       "<Figure size 648x432 with 0 Axes>"
      ]
     },
     "metadata": {},
     "output_type": "display_data"
    },
    {
     "data": {
      "text/plain": [
       "<Figure size 648x432 with 0 Axes>"
      ]
     },
     "metadata": {},
     "output_type": "display_data"
    },
    {
     "data": {
      "text/plain": [
       "<Figure size 648x432 with 0 Axes>"
      ]
     },
     "metadata": {},
     "output_type": "display_data"
    },
    {
     "data": {
      "text/plain": [
       "<Figure size 648x432 with 0 Axes>"
      ]
     },
     "metadata": {},
     "output_type": "display_data"
    },
    {
     "data": {
      "text/plain": [
       "<Figure size 648x432 with 0 Axes>"
      ]
     },
     "metadata": {},
     "output_type": "display_data"
    },
    {
     "data": {
      "text/plain": [
       "<Figure size 648x432 with 0 Axes>"
      ]
     },
     "metadata": {},
     "output_type": "display_data"
    },
    {
     "data": {
      "text/plain": [
       "<Figure size 648x432 with 0 Axes>"
      ]
     },
     "metadata": {},
     "output_type": "display_data"
    },
    {
     "data": {
      "text/plain": [
       "<Figure size 648x432 with 0 Axes>"
      ]
     },
     "metadata": {},
     "output_type": "display_data"
    },
    {
     "data": {
      "text/plain": [
       "<Figure size 648x432 with 0 Axes>"
      ]
     },
     "metadata": {},
     "output_type": "display_data"
    },
    {
     "data": {
      "text/plain": [
       "<Figure size 648x432 with 0 Axes>"
      ]
     },
     "metadata": {},
     "output_type": "display_data"
    },
    {
     "data": {
      "text/plain": [
       "<Figure size 648x432 with 0 Axes>"
      ]
     },
     "metadata": {},
     "output_type": "display_data"
    },
    {
     "data": {
      "text/plain": [
       "<Figure size 648x432 with 0 Axes>"
      ]
     },
     "metadata": {},
     "output_type": "display_data"
    },
    {
     "data": {
      "text/plain": [
       "<Figure size 648x432 with 0 Axes>"
      ]
     },
     "metadata": {},
     "output_type": "display_data"
    },
    {
     "data": {
      "text/plain": [
       "<Figure size 648x432 with 0 Axes>"
      ]
     },
     "metadata": {},
     "output_type": "display_data"
    },
    {
     "data": {
      "text/plain": [
       "<Figure size 648x432 with 0 Axes>"
      ]
     },
     "metadata": {},
     "output_type": "display_data"
    },
    {
     "data": {
      "text/plain": [
       "<Figure size 648x432 with 0 Axes>"
      ]
     },
     "metadata": {},
     "output_type": "display_data"
    },
    {
     "data": {
      "text/plain": [
       "<Figure size 648x432 with 0 Axes>"
      ]
     },
     "metadata": {},
     "output_type": "display_data"
    },
    {
     "data": {
      "text/plain": [
       "<Figure size 648x432 with 0 Axes>"
      ]
     },
     "metadata": {},
     "output_type": "display_data"
    },
    {
     "data": {
      "text/plain": [
       "<Figure size 648x432 with 0 Axes>"
      ]
     },
     "metadata": {},
     "output_type": "display_data"
    },
    {
     "data": {
      "text/plain": [
       "<Figure size 648x432 with 0 Axes>"
      ]
     },
     "metadata": {},
     "output_type": "display_data"
    },
    {
     "data": {
      "text/plain": [
       "<Figure size 648x432 with 0 Axes>"
      ]
     },
     "metadata": {},
     "output_type": "display_data"
    },
    {
     "data": {
      "text/plain": [
       "<Figure size 648x432 with 0 Axes>"
      ]
     },
     "metadata": {},
     "output_type": "display_data"
    },
    {
     "data": {
      "text/plain": [
       "<Figure size 648x432 with 0 Axes>"
      ]
     },
     "metadata": {},
     "output_type": "display_data"
    },
    {
     "data": {
      "text/plain": [
       "<Figure size 648x432 with 0 Axes>"
      ]
     },
     "metadata": {},
     "output_type": "display_data"
    },
    {
     "data": {
      "text/plain": [
       "<Figure size 648x432 with 0 Axes>"
      ]
     },
     "metadata": {},
     "output_type": "display_data"
    },
    {
     "data": {
      "text/plain": [
       "<Figure size 648x432 with 0 Axes>"
      ]
     },
     "metadata": {},
     "output_type": "display_data"
    },
    {
     "data": {
      "text/plain": [
       "<Figure size 648x432 with 0 Axes>"
      ]
     },
     "metadata": {},
     "output_type": "display_data"
    },
    {
     "data": {
      "text/plain": [
       "<Figure size 648x432 with 0 Axes>"
      ]
     },
     "metadata": {},
     "output_type": "display_data"
    },
    {
     "data": {
      "text/plain": [
       "<Figure size 648x432 with 0 Axes>"
      ]
     },
     "metadata": {},
     "output_type": "display_data"
    },
    {
     "data": {
      "text/plain": [
       "<Figure size 648x432 with 0 Axes>"
      ]
     },
     "metadata": {},
     "output_type": "display_data"
    },
    {
     "data": {
      "text/plain": [
       "<Figure size 648x432 with 0 Axes>"
      ]
     },
     "metadata": {},
     "output_type": "display_data"
    },
    {
     "data": {
      "text/plain": [
       "<Figure size 648x432 with 0 Axes>"
      ]
     },
     "metadata": {},
     "output_type": "display_data"
    },
    {
     "data": {
      "text/plain": [
       "<Figure size 648x432 with 0 Axes>"
      ]
     },
     "metadata": {},
     "output_type": "display_data"
    },
    {
     "data": {
      "text/plain": [
       "<Figure size 648x432 with 0 Axes>"
      ]
     },
     "metadata": {},
     "output_type": "display_data"
    },
    {
     "data": {
      "text/plain": [
       "<Figure size 648x432 with 0 Axes>"
      ]
     },
     "metadata": {},
     "output_type": "display_data"
    },
    {
     "data": {
      "text/plain": [
       "<Figure size 648x432 with 0 Axes>"
      ]
     },
     "metadata": {},
     "output_type": "display_data"
    },
    {
     "data": {
      "text/plain": [
       "<Figure size 648x432 with 0 Axes>"
      ]
     },
     "metadata": {},
     "output_type": "display_data"
    },
    {
     "data": {
      "text/plain": [
       "<Figure size 648x432 with 0 Axes>"
      ]
     },
     "metadata": {},
     "output_type": "display_data"
    },
    {
     "data": {
      "text/plain": [
       "<Figure size 648x432 with 0 Axes>"
      ]
     },
     "metadata": {},
     "output_type": "display_data"
    },
    {
     "data": {
      "text/plain": [
       "<Figure size 648x432 with 0 Axes>"
      ]
     },
     "metadata": {},
     "output_type": "display_data"
    },
    {
     "data": {
      "text/plain": [
       "<Figure size 648x432 with 0 Axes>"
      ]
     },
     "metadata": {},
     "output_type": "display_data"
    },
    {
     "data": {
      "text/plain": [
       "<Figure size 648x432 with 0 Axes>"
      ]
     },
     "metadata": {},
     "output_type": "display_data"
    },
    {
     "data": {
      "text/plain": [
       "<Figure size 648x432 with 0 Axes>"
      ]
     },
     "metadata": {},
     "output_type": "display_data"
    },
    {
     "data": {
      "text/plain": [
       "<Figure size 648x432 with 0 Axes>"
      ]
     },
     "metadata": {},
     "output_type": "display_data"
    },
    {
     "data": {
      "text/plain": [
       "<Figure size 648x432 with 0 Axes>"
      ]
     },
     "metadata": {},
     "output_type": "display_data"
    },
    {
     "data": {
      "text/plain": [
       "<Figure size 648x432 with 0 Axes>"
      ]
     },
     "metadata": {},
     "output_type": "display_data"
    },
    {
     "data": {
      "text/plain": [
       "<Figure size 648x432 with 0 Axes>"
      ]
     },
     "metadata": {},
     "output_type": "display_data"
    },
    {
     "data": {
      "text/plain": [
       "<Figure size 648x432 with 0 Axes>"
      ]
     },
     "metadata": {},
     "output_type": "display_data"
    },
    {
     "data": {
      "text/plain": [
       "<Figure size 648x432 with 0 Axes>"
      ]
     },
     "metadata": {},
     "output_type": "display_data"
    },
    {
     "data": {
      "text/plain": [
       "<Figure size 648x432 with 0 Axes>"
      ]
     },
     "metadata": {},
     "output_type": "display_data"
    },
    {
     "data": {
      "text/plain": [
       "<Figure size 648x432 with 0 Axes>"
      ]
     },
     "metadata": {},
     "output_type": "display_data"
    },
    {
     "data": {
      "text/plain": [
       "<Figure size 648x432 with 0 Axes>"
      ]
     },
     "metadata": {},
     "output_type": "display_data"
    },
    {
     "data": {
      "text/plain": [
       "<Figure size 648x432 with 0 Axes>"
      ]
     },
     "metadata": {},
     "output_type": "display_data"
    },
    {
     "data": {
      "text/plain": [
       "<Figure size 648x432 with 0 Axes>"
      ]
     },
     "metadata": {},
     "output_type": "display_data"
    },
    {
     "data": {
      "text/plain": [
       "<Figure size 648x432 with 0 Axes>"
      ]
     },
     "metadata": {},
     "output_type": "display_data"
    },
    {
     "data": {
      "text/plain": [
       "<Figure size 648x432 with 0 Axes>"
      ]
     },
     "metadata": {},
     "output_type": "display_data"
    },
    {
     "data": {
      "text/plain": [
       "<Figure size 648x432 with 0 Axes>"
      ]
     },
     "metadata": {},
     "output_type": "display_data"
    },
    {
     "data": {
      "text/plain": [
       "<Figure size 648x432 with 0 Axes>"
      ]
     },
     "metadata": {},
     "output_type": "display_data"
    },
    {
     "data": {
      "text/plain": [
       "<Figure size 648x432 with 0 Axes>"
      ]
     },
     "metadata": {},
     "output_type": "display_data"
    },
    {
     "data": {
      "text/plain": [
       "<Figure size 648x432 with 0 Axes>"
      ]
     },
     "metadata": {},
     "output_type": "display_data"
    },
    {
     "data": {
      "text/plain": [
       "<Figure size 648x432 with 0 Axes>"
      ]
     },
     "metadata": {},
     "output_type": "display_data"
    },
    {
     "data": {
      "text/plain": [
       "<Figure size 648x432 with 0 Axes>"
      ]
     },
     "metadata": {},
     "output_type": "display_data"
    },
    {
     "data": {
      "text/plain": [
       "<Figure size 648x432 with 0 Axes>"
      ]
     },
     "metadata": {},
     "output_type": "display_data"
    },
    {
     "data": {
      "text/plain": [
       "<Figure size 648x432 with 0 Axes>"
      ]
     },
     "metadata": {},
     "output_type": "display_data"
    },
    {
     "data": {
      "text/plain": [
       "<Figure size 648x432 with 0 Axes>"
      ]
     },
     "metadata": {},
     "output_type": "display_data"
    },
    {
     "data": {
      "text/plain": [
       "<Figure size 648x432 with 0 Axes>"
      ]
     },
     "metadata": {},
     "output_type": "display_data"
    },
    {
     "data": {
      "text/plain": [
       "<Figure size 648x432 with 0 Axes>"
      ]
     },
     "metadata": {},
     "output_type": "display_data"
    },
    {
     "data": {
      "text/plain": [
       "<Figure size 648x432 with 0 Axes>"
      ]
     },
     "metadata": {},
     "output_type": "display_data"
    },
    {
     "data": {
      "text/plain": [
       "<Figure size 648x432 with 0 Axes>"
      ]
     },
     "metadata": {},
     "output_type": "display_data"
    },
    {
     "data": {
      "text/plain": [
       "<Figure size 648x432 with 0 Axes>"
      ]
     },
     "metadata": {},
     "output_type": "display_data"
    },
    {
     "data": {
      "text/plain": [
       "<Figure size 648x432 with 0 Axes>"
      ]
     },
     "metadata": {},
     "output_type": "display_data"
    },
    {
     "data": {
      "text/plain": [
       "<Figure size 648x432 with 0 Axes>"
      ]
     },
     "metadata": {},
     "output_type": "display_data"
    },
    {
     "data": {
      "text/plain": [
       "<Figure size 648x432 with 0 Axes>"
      ]
     },
     "metadata": {},
     "output_type": "display_data"
    },
    {
     "data": {
      "text/plain": [
       "<Figure size 648x432 with 0 Axes>"
      ]
     },
     "metadata": {},
     "output_type": "display_data"
    },
    {
     "data": {
      "text/plain": [
       "<Figure size 648x432 with 0 Axes>"
      ]
     },
     "metadata": {},
     "output_type": "display_data"
    },
    {
     "data": {
      "text/plain": [
       "<Figure size 648x432 with 0 Axes>"
      ]
     },
     "metadata": {},
     "output_type": "display_data"
    },
    {
     "data": {
      "text/plain": [
       "<Figure size 648x432 with 0 Axes>"
      ]
     },
     "metadata": {},
     "output_type": "display_data"
    },
    {
     "data": {
      "text/plain": [
       "<Figure size 648x432 with 0 Axes>"
      ]
     },
     "metadata": {},
     "output_type": "display_data"
    },
    {
     "data": {
      "text/plain": [
       "<Figure size 648x432 with 0 Axes>"
      ]
     },
     "metadata": {},
     "output_type": "display_data"
    },
    {
     "data": {
      "text/plain": [
       "<Figure size 648x432 with 0 Axes>"
      ]
     },
     "metadata": {},
     "output_type": "display_data"
    },
    {
     "data": {
      "text/plain": [
       "<Figure size 648x432 with 0 Axes>"
      ]
     },
     "metadata": {},
     "output_type": "display_data"
    },
    {
     "data": {
      "text/plain": [
       "<Figure size 648x432 with 0 Axes>"
      ]
     },
     "metadata": {},
     "output_type": "display_data"
    },
    {
     "data": {
      "text/plain": [
       "<Figure size 648x432 with 0 Axes>"
      ]
     },
     "metadata": {},
     "output_type": "display_data"
    },
    {
     "data": {
      "text/plain": [
       "<Figure size 648x432 with 0 Axes>"
      ]
     },
     "metadata": {},
     "output_type": "display_data"
    },
    {
     "data": {
      "text/plain": [
       "<Figure size 648x432 with 0 Axes>"
      ]
     },
     "metadata": {},
     "output_type": "display_data"
    },
    {
     "data": {
      "text/plain": [
       "<Figure size 648x432 with 0 Axes>"
      ]
     },
     "metadata": {},
     "output_type": "display_data"
    },
    {
     "data": {
      "text/plain": [
       "<Figure size 648x432 with 0 Axes>"
      ]
     },
     "metadata": {},
     "output_type": "display_data"
    },
    {
     "data": {
      "text/plain": [
       "<Figure size 648x432 with 0 Axes>"
      ]
     },
     "metadata": {},
     "output_type": "display_data"
    },
    {
     "data": {
      "text/plain": [
       "<Figure size 648x432 with 0 Axes>"
      ]
     },
     "metadata": {},
     "output_type": "display_data"
    },
    {
     "data": {
      "text/plain": [
       "<Figure size 648x432 with 0 Axes>"
      ]
     },
     "metadata": {},
     "output_type": "display_data"
    },
    {
     "data": {
      "text/plain": [
       "<Figure size 648x432 with 0 Axes>"
      ]
     },
     "metadata": {},
     "output_type": "display_data"
    },
    {
     "data": {
      "text/plain": [
       "<Figure size 648x432 with 0 Axes>"
      ]
     },
     "metadata": {},
     "output_type": "display_data"
    },
    {
     "data": {
      "text/plain": [
       "<Figure size 648x432 with 0 Axes>"
      ]
     },
     "metadata": {},
     "output_type": "display_data"
    },
    {
     "data": {
      "text/plain": [
       "<Figure size 648x432 with 0 Axes>"
      ]
     },
     "metadata": {},
     "output_type": "display_data"
    },
    {
     "data": {
      "text/plain": [
       "<Figure size 648x432 with 0 Axes>"
      ]
     },
     "metadata": {},
     "output_type": "display_data"
    },
    {
     "data": {
      "text/plain": [
       "<Figure size 648x432 with 0 Axes>"
      ]
     },
     "metadata": {},
     "output_type": "display_data"
    },
    {
     "data": {
      "text/plain": [
       "<Figure size 648x432 with 0 Axes>"
      ]
     },
     "metadata": {},
     "output_type": "display_data"
    },
    {
     "data": {
      "text/plain": [
       "<Figure size 648x432 with 0 Axes>"
      ]
     },
     "metadata": {},
     "output_type": "display_data"
    },
    {
     "data": {
      "text/plain": [
       "<Figure size 648x432 with 0 Axes>"
      ]
     },
     "metadata": {},
     "output_type": "display_data"
    },
    {
     "data": {
      "text/plain": [
       "<Figure size 648x432 with 0 Axes>"
      ]
     },
     "metadata": {},
     "output_type": "display_data"
    },
    {
     "data": {
      "text/plain": [
       "<Figure size 648x432 with 0 Axes>"
      ]
     },
     "metadata": {},
     "output_type": "display_data"
    },
    {
     "data": {
      "text/plain": [
       "<Figure size 648x432 with 0 Axes>"
      ]
     },
     "metadata": {},
     "output_type": "display_data"
    },
    {
     "data": {
      "text/plain": [
       "<Figure size 648x432 with 0 Axes>"
      ]
     },
     "metadata": {},
     "output_type": "display_data"
    },
    {
     "data": {
      "text/plain": [
       "<Figure size 648x432 with 0 Axes>"
      ]
     },
     "metadata": {},
     "output_type": "display_data"
    },
    {
     "data": {
      "text/plain": [
       "<Figure size 648x432 with 0 Axes>"
      ]
     },
     "metadata": {},
     "output_type": "display_data"
    },
    {
     "data": {
      "text/plain": [
       "<Figure size 648x432 with 0 Axes>"
      ]
     },
     "metadata": {},
     "output_type": "display_data"
    },
    {
     "data": {
      "text/plain": [
       "<Figure size 648x432 with 0 Axes>"
      ]
     },
     "metadata": {},
     "output_type": "display_data"
    },
    {
     "data": {
      "text/plain": [
       "<Figure size 648x432 with 0 Axes>"
      ]
     },
     "metadata": {},
     "output_type": "display_data"
    },
    {
     "data": {
      "text/plain": [
       "<Figure size 648x432 with 0 Axes>"
      ]
     },
     "metadata": {},
     "output_type": "display_data"
    },
    {
     "data": {
      "text/plain": [
       "<Figure size 648x432 with 0 Axes>"
      ]
     },
     "metadata": {},
     "output_type": "display_data"
    },
    {
     "data": {
      "text/plain": [
       "<Figure size 648x432 with 0 Axes>"
      ]
     },
     "metadata": {},
     "output_type": "display_data"
    },
    {
     "data": {
      "text/plain": [
       "<Figure size 648x432 with 0 Axes>"
      ]
     },
     "metadata": {},
     "output_type": "display_data"
    },
    {
     "data": {
      "text/plain": [
       "<Figure size 648x432 with 0 Axes>"
      ]
     },
     "metadata": {},
     "output_type": "display_data"
    },
    {
     "data": {
      "text/plain": [
       "<Figure size 648x432 with 0 Axes>"
      ]
     },
     "metadata": {},
     "output_type": "display_data"
    },
    {
     "data": {
      "text/plain": [
       "<Figure size 648x432 with 0 Axes>"
      ]
     },
     "metadata": {},
     "output_type": "display_data"
    },
    {
     "data": {
      "text/plain": [
       "<Figure size 648x432 with 0 Axes>"
      ]
     },
     "metadata": {},
     "output_type": "display_data"
    },
    {
     "data": {
      "text/plain": [
       "<Figure size 648x432 with 0 Axes>"
      ]
     },
     "metadata": {},
     "output_type": "display_data"
    },
    {
     "data": {
      "text/plain": [
       "<Figure size 648x432 with 0 Axes>"
      ]
     },
     "metadata": {},
     "output_type": "display_data"
    },
    {
     "data": {
      "text/plain": [
       "<Figure size 648x432 with 0 Axes>"
      ]
     },
     "metadata": {},
     "output_type": "display_data"
    },
    {
     "data": {
      "text/plain": [
       "<Figure size 648x432 with 0 Axes>"
      ]
     },
     "metadata": {},
     "output_type": "display_data"
    },
    {
     "data": {
      "text/plain": [
       "<Figure size 648x432 with 0 Axes>"
      ]
     },
     "metadata": {},
     "output_type": "display_data"
    },
    {
     "data": {
      "text/plain": [
       "<Figure size 648x432 with 0 Axes>"
      ]
     },
     "metadata": {},
     "output_type": "display_data"
    },
    {
     "data": {
      "text/plain": [
       "<Figure size 648x432 with 0 Axes>"
      ]
     },
     "metadata": {},
     "output_type": "display_data"
    },
    {
     "data": {
      "text/plain": [
       "<Figure size 648x432 with 0 Axes>"
      ]
     },
     "metadata": {},
     "output_type": "display_data"
    },
    {
     "data": {
      "text/plain": [
       "<Figure size 648x432 with 0 Axes>"
      ]
     },
     "metadata": {},
     "output_type": "display_data"
    },
    {
     "data": {
      "text/plain": [
       "<Figure size 648x432 with 0 Axes>"
      ]
     },
     "metadata": {},
     "output_type": "display_data"
    },
    {
     "data": {
      "text/plain": [
       "<Figure size 648x432 with 0 Axes>"
      ]
     },
     "metadata": {},
     "output_type": "display_data"
    },
    {
     "data": {
      "text/plain": [
       "<Figure size 648x432 with 0 Axes>"
      ]
     },
     "metadata": {},
     "output_type": "display_data"
    },
    {
     "data": {
      "text/plain": [
       "<Figure size 648x432 with 0 Axes>"
      ]
     },
     "metadata": {},
     "output_type": "display_data"
    },
    {
     "data": {
      "text/plain": [
       "<Figure size 648x432 with 0 Axes>"
      ]
     },
     "metadata": {},
     "output_type": "display_data"
    },
    {
     "data": {
      "text/plain": [
       "<Figure size 648x432 with 0 Axes>"
      ]
     },
     "metadata": {},
     "output_type": "display_data"
    },
    {
     "data": {
      "text/plain": [
       "<Figure size 648x432 with 0 Axes>"
      ]
     },
     "metadata": {},
     "output_type": "display_data"
    },
    {
     "data": {
      "text/plain": [
       "<Figure size 648x432 with 0 Axes>"
      ]
     },
     "metadata": {},
     "output_type": "display_data"
    },
    {
     "data": {
      "text/plain": [
       "<Figure size 648x432 with 0 Axes>"
      ]
     },
     "metadata": {},
     "output_type": "display_data"
    },
    {
     "data": {
      "text/plain": [
       "<Figure size 648x432 with 0 Axes>"
      ]
     },
     "metadata": {},
     "output_type": "display_data"
    },
    {
     "data": {
      "text/plain": [
       "<Figure size 648x432 with 0 Axes>"
      ]
     },
     "metadata": {},
     "output_type": "display_data"
    },
    {
     "data": {
      "text/plain": [
       "<Figure size 648x432 with 0 Axes>"
      ]
     },
     "metadata": {},
     "output_type": "display_data"
    },
    {
     "data": {
      "text/plain": [
       "<Figure size 648x432 with 0 Axes>"
      ]
     },
     "metadata": {},
     "output_type": "display_data"
    },
    {
     "data": {
      "text/plain": [
       "<Figure size 648x432 with 0 Axes>"
      ]
     },
     "metadata": {},
     "output_type": "display_data"
    },
    {
     "data": {
      "text/plain": [
       "<Figure size 648x432 with 0 Axes>"
      ]
     },
     "metadata": {},
     "output_type": "display_data"
    },
    {
     "data": {
      "text/plain": [
       "<Figure size 648x432 with 0 Axes>"
      ]
     },
     "metadata": {},
     "output_type": "display_data"
    },
    {
     "data": {
      "text/plain": [
       "<Figure size 648x432 with 0 Axes>"
      ]
     },
     "metadata": {},
     "output_type": "display_data"
    },
    {
     "data": {
      "text/plain": [
       "<Figure size 648x432 with 0 Axes>"
      ]
     },
     "metadata": {},
     "output_type": "display_data"
    },
    {
     "data": {
      "text/plain": [
       "<Figure size 648x432 with 0 Axes>"
      ]
     },
     "metadata": {},
     "output_type": "display_data"
    },
    {
     "data": {
      "text/plain": [
       "<Figure size 648x432 with 0 Axes>"
      ]
     },
     "metadata": {},
     "output_type": "display_data"
    },
    {
     "data": {
      "text/plain": [
       "<Figure size 648x432 with 0 Axes>"
      ]
     },
     "metadata": {},
     "output_type": "display_data"
    },
    {
     "data": {
      "text/plain": [
       "<Figure size 648x432 with 0 Axes>"
      ]
     },
     "metadata": {},
     "output_type": "display_data"
    },
    {
     "data": {
      "text/plain": [
       "<Figure size 648x432 with 0 Axes>"
      ]
     },
     "metadata": {},
     "output_type": "display_data"
    },
    {
     "data": {
      "text/plain": [
       "<Figure size 648x432 with 0 Axes>"
      ]
     },
     "metadata": {},
     "output_type": "display_data"
    },
    {
     "data": {
      "text/plain": [
       "<Figure size 648x432 with 0 Axes>"
      ]
     },
     "metadata": {},
     "output_type": "display_data"
    },
    {
     "data": {
      "text/plain": [
       "<Figure size 648x432 with 0 Axes>"
      ]
     },
     "metadata": {},
     "output_type": "display_data"
    },
    {
     "data": {
      "text/plain": [
       "<Figure size 648x432 with 0 Axes>"
      ]
     },
     "metadata": {},
     "output_type": "display_data"
    },
    {
     "data": {
      "text/plain": [
       "<Figure size 648x432 with 0 Axes>"
      ]
     },
     "metadata": {},
     "output_type": "display_data"
    },
    {
     "data": {
      "text/plain": [
       "<Figure size 648x432 with 0 Axes>"
      ]
     },
     "metadata": {},
     "output_type": "display_data"
    },
    {
     "data": {
      "text/plain": [
       "<Figure size 648x432 with 0 Axes>"
      ]
     },
     "metadata": {},
     "output_type": "display_data"
    },
    {
     "data": {
      "text/plain": [
       "<Figure size 648x432 with 0 Axes>"
      ]
     },
     "metadata": {},
     "output_type": "display_data"
    },
    {
     "data": {
      "text/plain": [
       "<Figure size 648x432 with 0 Axes>"
      ]
     },
     "metadata": {},
     "output_type": "display_data"
    },
    {
     "data": {
      "text/plain": [
       "<Figure size 648x432 with 0 Axes>"
      ]
     },
     "metadata": {},
     "output_type": "display_data"
    },
    {
     "data": {
      "text/plain": [
       "<Figure size 648x432 with 0 Axes>"
      ]
     },
     "metadata": {},
     "output_type": "display_data"
    },
    {
     "data": {
      "text/plain": [
       "<Figure size 648x432 with 0 Axes>"
      ]
     },
     "metadata": {},
     "output_type": "display_data"
    },
    {
     "data": {
      "text/plain": [
       "<Figure size 648x432 with 0 Axes>"
      ]
     },
     "metadata": {},
     "output_type": "display_data"
    },
    {
     "data": {
      "text/plain": [
       "<Figure size 648x432 with 0 Axes>"
      ]
     },
     "metadata": {},
     "output_type": "display_data"
    },
    {
     "data": {
      "text/plain": [
       "<Figure size 648x432 with 0 Axes>"
      ]
     },
     "metadata": {},
     "output_type": "display_data"
    },
    {
     "data": {
      "text/plain": [
       "<Figure size 648x432 with 0 Axes>"
      ]
     },
     "metadata": {},
     "output_type": "display_data"
    },
    {
     "data": {
      "text/plain": [
       "<Figure size 648x432 with 0 Axes>"
      ]
     },
     "metadata": {},
     "output_type": "display_data"
    },
    {
     "data": {
      "text/plain": [
       "<Figure size 648x432 with 0 Axes>"
      ]
     },
     "metadata": {},
     "output_type": "display_data"
    },
    {
     "data": {
      "text/plain": [
       "<Figure size 648x432 with 0 Axes>"
      ]
     },
     "metadata": {},
     "output_type": "display_data"
    },
    {
     "data": {
      "text/plain": [
       "<Figure size 648x432 with 0 Axes>"
      ]
     },
     "metadata": {},
     "output_type": "display_data"
    },
    {
     "data": {
      "text/plain": [
       "<Figure size 648x432 with 0 Axes>"
      ]
     },
     "metadata": {},
     "output_type": "display_data"
    },
    {
     "data": {
      "text/plain": [
       "<Figure size 648x432 with 0 Axes>"
      ]
     },
     "metadata": {},
     "output_type": "display_data"
    },
    {
     "data": {
      "text/plain": [
       "<Figure size 648x432 with 0 Axes>"
      ]
     },
     "metadata": {},
     "output_type": "display_data"
    },
    {
     "data": {
      "text/plain": [
       "<Figure size 648x432 with 0 Axes>"
      ]
     },
     "metadata": {},
     "output_type": "display_data"
    },
    {
     "data": {
      "text/plain": [
       "<Figure size 648x432 with 0 Axes>"
      ]
     },
     "metadata": {},
     "output_type": "display_data"
    },
    {
     "data": {
      "text/plain": [
       "<Figure size 648x432 with 0 Axes>"
      ]
     },
     "metadata": {},
     "output_type": "display_data"
    },
    {
     "data": {
      "text/plain": [
       "<Figure size 648x432 with 0 Axes>"
      ]
     },
     "metadata": {},
     "output_type": "display_data"
    },
    {
     "data": {
      "text/plain": [
       "<Figure size 648x432 with 0 Axes>"
      ]
     },
     "metadata": {},
     "output_type": "display_data"
    },
    {
     "data": {
      "text/plain": [
       "<Figure size 648x432 with 0 Axes>"
      ]
     },
     "metadata": {},
     "output_type": "display_data"
    },
    {
     "data": {
      "text/plain": [
       "<Figure size 648x432 with 0 Axes>"
      ]
     },
     "metadata": {},
     "output_type": "display_data"
    },
    {
     "data": {
      "text/plain": [
       "<Figure size 648x432 with 0 Axes>"
      ]
     },
     "metadata": {},
     "output_type": "display_data"
    },
    {
     "data": {
      "text/plain": [
       "<Figure size 648x432 with 0 Axes>"
      ]
     },
     "metadata": {},
     "output_type": "display_data"
    },
    {
     "data": {
      "text/plain": [
       "<Figure size 648x432 with 0 Axes>"
      ]
     },
     "metadata": {},
     "output_type": "display_data"
    },
    {
     "data": {
      "text/plain": [
       "<Figure size 648x432 with 0 Axes>"
      ]
     },
     "metadata": {},
     "output_type": "display_data"
    },
    {
     "data": {
      "text/plain": [
       "<Figure size 648x432 with 0 Axes>"
      ]
     },
     "metadata": {},
     "output_type": "display_data"
    },
    {
     "data": {
      "text/plain": [
       "<Figure size 648x432 with 0 Axes>"
      ]
     },
     "metadata": {},
     "output_type": "display_data"
    },
    {
     "data": {
      "text/plain": [
       "<Figure size 648x432 with 0 Axes>"
      ]
     },
     "metadata": {},
     "output_type": "display_data"
    },
    {
     "data": {
      "text/plain": [
       "<Figure size 648x432 with 0 Axes>"
      ]
     },
     "metadata": {},
     "output_type": "display_data"
    },
    {
     "data": {
      "text/plain": [
       "<Figure size 648x432 with 0 Axes>"
      ]
     },
     "metadata": {},
     "output_type": "display_data"
    },
    {
     "data": {
      "text/plain": [
       "<Figure size 648x432 with 0 Axes>"
      ]
     },
     "metadata": {},
     "output_type": "display_data"
    },
    {
     "data": {
      "text/plain": [
       "<Figure size 648x432 with 0 Axes>"
      ]
     },
     "metadata": {},
     "output_type": "display_data"
    },
    {
     "data": {
      "text/plain": [
       "<Figure size 648x432 with 0 Axes>"
      ]
     },
     "metadata": {},
     "output_type": "display_data"
    },
    {
     "data": {
      "text/plain": [
       "<Figure size 648x432 with 0 Axes>"
      ]
     },
     "metadata": {},
     "output_type": "display_data"
    },
    {
     "data": {
      "text/plain": [
       "<Figure size 648x432 with 0 Axes>"
      ]
     },
     "metadata": {},
     "output_type": "display_data"
    },
    {
     "data": {
      "text/plain": [
       "<Figure size 648x432 with 0 Axes>"
      ]
     },
     "metadata": {},
     "output_type": "display_data"
    },
    {
     "data": {
      "text/plain": [
       "<Figure size 648x432 with 0 Axes>"
      ]
     },
     "metadata": {},
     "output_type": "display_data"
    },
    {
     "data": {
      "text/plain": [
       "<Figure size 648x432 with 0 Axes>"
      ]
     },
     "metadata": {},
     "output_type": "display_data"
    },
    {
     "data": {
      "text/plain": [
       "<Figure size 648x432 with 0 Axes>"
      ]
     },
     "metadata": {},
     "output_type": "display_data"
    },
    {
     "data": {
      "text/plain": [
       "<Figure size 648x432 with 0 Axes>"
      ]
     },
     "metadata": {},
     "output_type": "display_data"
    },
    {
     "data": {
      "text/plain": [
       "<Figure size 648x432 with 0 Axes>"
      ]
     },
     "metadata": {},
     "output_type": "display_data"
    },
    {
     "data": {
      "text/plain": [
       "<Figure size 648x432 with 0 Axes>"
      ]
     },
     "metadata": {},
     "output_type": "display_data"
    },
    {
     "data": {
      "text/plain": [
       "<Figure size 648x432 with 0 Axes>"
      ]
     },
     "metadata": {},
     "output_type": "display_data"
    },
    {
     "data": {
      "text/plain": [
       "<Figure size 648x432 with 0 Axes>"
      ]
     },
     "metadata": {},
     "output_type": "display_data"
    },
    {
     "data": {
      "text/plain": [
       "<Figure size 648x432 with 0 Axes>"
      ]
     },
     "metadata": {},
     "output_type": "display_data"
    },
    {
     "data": {
      "text/plain": [
       "<Figure size 648x432 with 0 Axes>"
      ]
     },
     "metadata": {},
     "output_type": "display_data"
    },
    {
     "data": {
      "text/plain": [
       "<Figure size 648x432 with 0 Axes>"
      ]
     },
     "metadata": {},
     "output_type": "display_data"
    },
    {
     "data": {
      "text/plain": [
       "<Figure size 648x432 with 0 Axes>"
      ]
     },
     "metadata": {},
     "output_type": "display_data"
    },
    {
     "data": {
      "text/plain": [
       "<Figure size 648x432 with 0 Axes>"
      ]
     },
     "metadata": {},
     "output_type": "display_data"
    },
    {
     "data": {
      "text/plain": [
       "<Figure size 648x432 with 0 Axes>"
      ]
     },
     "metadata": {},
     "output_type": "display_data"
    },
    {
     "data": {
      "text/plain": [
       "<Figure size 648x432 with 0 Axes>"
      ]
     },
     "metadata": {},
     "output_type": "display_data"
    },
    {
     "data": {
      "text/plain": [
       "<Figure size 648x432 with 0 Axes>"
      ]
     },
     "metadata": {},
     "output_type": "display_data"
    },
    {
     "data": {
      "text/plain": [
       "<Figure size 648x432 with 0 Axes>"
      ]
     },
     "metadata": {},
     "output_type": "display_data"
    },
    {
     "data": {
      "text/plain": [
       "<Figure size 648x432 with 0 Axes>"
      ]
     },
     "metadata": {},
     "output_type": "display_data"
    },
    {
     "data": {
      "text/plain": [
       "<Figure size 648x432 with 0 Axes>"
      ]
     },
     "metadata": {},
     "output_type": "display_data"
    },
    {
     "data": {
      "text/plain": [
       "<Figure size 648x432 with 0 Axes>"
      ]
     },
     "metadata": {},
     "output_type": "display_data"
    },
    {
     "data": {
      "text/plain": [
       "<Figure size 648x432 with 0 Axes>"
      ]
     },
     "metadata": {},
     "output_type": "display_data"
    },
    {
     "data": {
      "text/plain": [
       "<Figure size 648x432 with 0 Axes>"
      ]
     },
     "metadata": {},
     "output_type": "display_data"
    },
    {
     "data": {
      "text/plain": [
       "<Figure size 648x432 with 0 Axes>"
      ]
     },
     "metadata": {},
     "output_type": "display_data"
    },
    {
     "data": {
      "text/plain": [
       "<Figure size 648x432 with 0 Axes>"
      ]
     },
     "metadata": {},
     "output_type": "display_data"
    },
    {
     "data": {
      "text/plain": [
       "<Figure size 648x432 with 0 Axes>"
      ]
     },
     "metadata": {},
     "output_type": "display_data"
    },
    {
     "data": {
      "text/plain": [
       "<Figure size 648x432 with 0 Axes>"
      ]
     },
     "metadata": {},
     "output_type": "display_data"
    },
    {
     "data": {
      "text/plain": [
       "<Figure size 648x432 with 0 Axes>"
      ]
     },
     "metadata": {},
     "output_type": "display_data"
    },
    {
     "data": {
      "text/plain": [
       "<Figure size 648x432 with 0 Axes>"
      ]
     },
     "metadata": {},
     "output_type": "display_data"
    },
    {
     "data": {
      "text/plain": [
       "<Figure size 648x432 with 0 Axes>"
      ]
     },
     "metadata": {},
     "output_type": "display_data"
    },
    {
     "data": {
      "text/plain": [
       "<Figure size 648x432 with 0 Axes>"
      ]
     },
     "metadata": {},
     "output_type": "display_data"
    },
    {
     "data": {
      "text/plain": [
       "<Figure size 648x432 with 0 Axes>"
      ]
     },
     "metadata": {},
     "output_type": "display_data"
    },
    {
     "data": {
      "text/plain": [
       "<Figure size 648x432 with 0 Axes>"
      ]
     },
     "metadata": {},
     "output_type": "display_data"
    },
    {
     "data": {
      "text/plain": [
       "<Figure size 648x432 with 0 Axes>"
      ]
     },
     "metadata": {},
     "output_type": "display_data"
    },
    {
     "data": {
      "text/plain": [
       "<Figure size 648x432 with 0 Axes>"
      ]
     },
     "metadata": {},
     "output_type": "display_data"
    },
    {
     "data": {
      "text/plain": [
       "<Figure size 648x432 with 0 Axes>"
      ]
     },
     "metadata": {},
     "output_type": "display_data"
    },
    {
     "data": {
      "text/plain": [
       "<Figure size 648x432 with 0 Axes>"
      ]
     },
     "metadata": {},
     "output_type": "display_data"
    },
    {
     "data": {
      "text/plain": [
       "<Figure size 648x432 with 0 Axes>"
      ]
     },
     "metadata": {},
     "output_type": "display_data"
    },
    {
     "data": {
      "text/plain": [
       "<Figure size 648x432 with 0 Axes>"
      ]
     },
     "metadata": {},
     "output_type": "display_data"
    },
    {
     "data": {
      "text/plain": [
       "<Figure size 648x432 with 0 Axes>"
      ]
     },
     "metadata": {},
     "output_type": "display_data"
    },
    {
     "data": {
      "text/plain": [
       "<Figure size 648x432 with 0 Axes>"
      ]
     },
     "metadata": {},
     "output_type": "display_data"
    },
    {
     "data": {
      "text/plain": [
       "<Figure size 648x432 with 0 Axes>"
      ]
     },
     "metadata": {},
     "output_type": "display_data"
    },
    {
     "data": {
      "text/plain": [
       "<Figure size 648x432 with 0 Axes>"
      ]
     },
     "metadata": {},
     "output_type": "display_data"
    },
    {
     "data": {
      "text/plain": [
       "<Figure size 648x432 with 0 Axes>"
      ]
     },
     "metadata": {},
     "output_type": "display_data"
    },
    {
     "data": {
      "text/plain": [
       "<Figure size 648x432 with 0 Axes>"
      ]
     },
     "metadata": {},
     "output_type": "display_data"
    },
    {
     "data": {
      "text/plain": [
       "<Figure size 648x432 with 0 Axes>"
      ]
     },
     "metadata": {},
     "output_type": "display_data"
    },
    {
     "data": {
      "text/plain": [
       "<Figure size 648x432 with 0 Axes>"
      ]
     },
     "metadata": {},
     "output_type": "display_data"
    },
    {
     "data": {
      "text/plain": [
       "<Figure size 648x432 with 0 Axes>"
      ]
     },
     "metadata": {},
     "output_type": "display_data"
    },
    {
     "data": {
      "text/plain": [
       "<Figure size 648x432 with 0 Axes>"
      ]
     },
     "metadata": {},
     "output_type": "display_data"
    },
    {
     "data": {
      "text/plain": [
       "<Figure size 648x432 with 0 Axes>"
      ]
     },
     "metadata": {},
     "output_type": "display_data"
    },
    {
     "data": {
      "text/plain": [
       "<Figure size 648x432 with 0 Axes>"
      ]
     },
     "metadata": {},
     "output_type": "display_data"
    },
    {
     "data": {
      "text/plain": [
       "<Figure size 648x432 with 0 Axes>"
      ]
     },
     "metadata": {},
     "output_type": "display_data"
    },
    {
     "data": {
      "text/plain": [
       "<Figure size 648x432 with 0 Axes>"
      ]
     },
     "metadata": {},
     "output_type": "display_data"
    },
    {
     "data": {
      "text/plain": [
       "<Figure size 648x432 with 0 Axes>"
      ]
     },
     "metadata": {},
     "output_type": "display_data"
    },
    {
     "data": {
      "text/plain": [
       "<Figure size 648x432 with 0 Axes>"
      ]
     },
     "metadata": {},
     "output_type": "display_data"
    },
    {
     "data": {
      "text/plain": [
       "<Figure size 648x432 with 0 Axes>"
      ]
     },
     "metadata": {},
     "output_type": "display_data"
    },
    {
     "data": {
      "text/plain": [
       "<Figure size 648x432 with 0 Axes>"
      ]
     },
     "metadata": {},
     "output_type": "display_data"
    },
    {
     "data": {
      "text/plain": [
       "<Figure size 648x432 with 0 Axes>"
      ]
     },
     "metadata": {},
     "output_type": "display_data"
    },
    {
     "data": {
      "text/plain": [
       "<Figure size 648x432 with 0 Axes>"
      ]
     },
     "metadata": {},
     "output_type": "display_data"
    },
    {
     "data": {
      "text/plain": [
       "<Figure size 648x432 with 0 Axes>"
      ]
     },
     "metadata": {},
     "output_type": "display_data"
    },
    {
     "data": {
      "text/plain": [
       "<Figure size 648x432 with 0 Axes>"
      ]
     },
     "metadata": {},
     "output_type": "display_data"
    },
    {
     "data": {
      "text/plain": [
       "<Figure size 648x432 with 0 Axes>"
      ]
     },
     "metadata": {},
     "output_type": "display_data"
    },
    {
     "data": {
      "text/plain": [
       "<Figure size 648x432 with 0 Axes>"
      ]
     },
     "metadata": {},
     "output_type": "display_data"
    },
    {
     "data": {
      "text/plain": [
       "<Figure size 648x432 with 0 Axes>"
      ]
     },
     "metadata": {},
     "output_type": "display_data"
    },
    {
     "data": {
      "text/plain": [
       "<Figure size 648x432 with 0 Axes>"
      ]
     },
     "metadata": {},
     "output_type": "display_data"
    },
    {
     "data": {
      "text/plain": [
       "<Figure size 648x432 with 0 Axes>"
      ]
     },
     "metadata": {},
     "output_type": "display_data"
    },
    {
     "data": {
      "text/plain": [
       "<Figure size 648x432 with 0 Axes>"
      ]
     },
     "metadata": {},
     "output_type": "display_data"
    },
    {
     "data": {
      "text/plain": [
       "<Figure size 648x432 with 0 Axes>"
      ]
     },
     "metadata": {},
     "output_type": "display_data"
    },
    {
     "data": {
      "text/plain": [
       "<Figure size 648x432 with 0 Axes>"
      ]
     },
     "metadata": {},
     "output_type": "display_data"
    },
    {
     "data": {
      "text/plain": [
       "<Figure size 648x432 with 0 Axes>"
      ]
     },
     "metadata": {},
     "output_type": "display_data"
    },
    {
     "data": {
      "text/plain": [
       "<Figure size 648x432 with 0 Axes>"
      ]
     },
     "metadata": {},
     "output_type": "display_data"
    },
    {
     "data": {
      "text/plain": [
       "<Figure size 648x432 with 0 Axes>"
      ]
     },
     "metadata": {},
     "output_type": "display_data"
    },
    {
     "data": {
      "text/plain": [
       "<Figure size 648x432 with 0 Axes>"
      ]
     },
     "metadata": {},
     "output_type": "display_data"
    },
    {
     "data": {
      "text/plain": [
       "<Figure size 648x432 with 0 Axes>"
      ]
     },
     "metadata": {},
     "output_type": "display_data"
    },
    {
     "data": {
      "text/plain": [
       "<Figure size 648x432 with 0 Axes>"
      ]
     },
     "metadata": {},
     "output_type": "display_data"
    },
    {
     "data": {
      "text/plain": [
       "<Figure size 648x432 with 0 Axes>"
      ]
     },
     "metadata": {},
     "output_type": "display_data"
    },
    {
     "data": {
      "text/plain": [
       "<Figure size 648x432 with 0 Axes>"
      ]
     },
     "metadata": {},
     "output_type": "display_data"
    },
    {
     "data": {
      "text/plain": [
       "<Figure size 648x432 with 0 Axes>"
      ]
     },
     "metadata": {},
     "output_type": "display_data"
    },
    {
     "data": {
      "text/plain": [
       "<Figure size 648x432 with 0 Axes>"
      ]
     },
     "metadata": {},
     "output_type": "display_data"
    },
    {
     "data": {
      "text/plain": [
       "<Figure size 648x432 with 0 Axes>"
      ]
     },
     "metadata": {},
     "output_type": "display_data"
    },
    {
     "data": {
      "text/plain": [
       "<Figure size 648x432 with 0 Axes>"
      ]
     },
     "metadata": {},
     "output_type": "display_data"
    },
    {
     "data": {
      "text/plain": [
       "<Figure size 648x432 with 0 Axes>"
      ]
     },
     "metadata": {},
     "output_type": "display_data"
    },
    {
     "data": {
      "text/plain": [
       "<Figure size 648x432 with 0 Axes>"
      ]
     },
     "metadata": {},
     "output_type": "display_data"
    },
    {
     "data": {
      "text/plain": [
       "<Figure size 648x432 with 0 Axes>"
      ]
     },
     "metadata": {},
     "output_type": "display_data"
    },
    {
     "data": {
      "text/plain": [
       "<Figure size 648x432 with 0 Axes>"
      ]
     },
     "metadata": {},
     "output_type": "display_data"
    },
    {
     "data": {
      "text/plain": [
       "<Figure size 648x432 with 0 Axes>"
      ]
     },
     "metadata": {},
     "output_type": "display_data"
    },
    {
     "data": {
      "text/plain": [
       "<Figure size 648x432 with 0 Axes>"
      ]
     },
     "metadata": {},
     "output_type": "display_data"
    },
    {
     "data": {
      "text/plain": [
       "<Figure size 648x432 with 0 Axes>"
      ]
     },
     "metadata": {},
     "output_type": "display_data"
    },
    {
     "data": {
      "text/plain": [
       "<Figure size 648x432 with 0 Axes>"
      ]
     },
     "metadata": {},
     "output_type": "display_data"
    },
    {
     "data": {
      "text/plain": [
       "<Figure size 648x432 with 0 Axes>"
      ]
     },
     "metadata": {},
     "output_type": "display_data"
    },
    {
     "data": {
      "text/plain": [
       "<Figure size 648x432 with 0 Axes>"
      ]
     },
     "metadata": {},
     "output_type": "display_data"
    },
    {
     "data": {
      "text/plain": [
       "<Figure size 648x432 with 0 Axes>"
      ]
     },
     "metadata": {},
     "output_type": "display_data"
    },
    {
     "data": {
      "text/plain": [
       "<Figure size 648x432 with 0 Axes>"
      ]
     },
     "metadata": {},
     "output_type": "display_data"
    },
    {
     "data": {
      "text/plain": [
       "<Figure size 648x432 with 0 Axes>"
      ]
     },
     "metadata": {},
     "output_type": "display_data"
    },
    {
     "data": {
      "text/plain": [
       "<Figure size 648x432 with 0 Axes>"
      ]
     },
     "metadata": {},
     "output_type": "display_data"
    },
    {
     "data": {
      "text/plain": [
       "<Figure size 648x432 with 0 Axes>"
      ]
     },
     "metadata": {},
     "output_type": "display_data"
    },
    {
     "data": {
      "text/plain": [
       "<Figure size 648x432 with 0 Axes>"
      ]
     },
     "metadata": {},
     "output_type": "display_data"
    },
    {
     "data": {
      "text/plain": [
       "<Figure size 648x432 with 0 Axes>"
      ]
     },
     "metadata": {},
     "output_type": "display_data"
    },
    {
     "data": {
      "text/plain": [
       "<Figure size 648x432 with 0 Axes>"
      ]
     },
     "metadata": {},
     "output_type": "display_data"
    },
    {
     "data": {
      "text/plain": [
       "<Figure size 648x432 with 0 Axes>"
      ]
     },
     "metadata": {},
     "output_type": "display_data"
    },
    {
     "data": {
      "text/plain": [
       "<Figure size 648x432 with 0 Axes>"
      ]
     },
     "metadata": {},
     "output_type": "display_data"
    },
    {
     "data": {
      "text/plain": [
       "<Figure size 648x432 with 0 Axes>"
      ]
     },
     "metadata": {},
     "output_type": "display_data"
    },
    {
     "data": {
      "text/plain": [
       "<Figure size 648x432 with 0 Axes>"
      ]
     },
     "metadata": {},
     "output_type": "display_data"
    },
    {
     "data": {
      "text/plain": [
       "<Figure size 648x432 with 0 Axes>"
      ]
     },
     "metadata": {},
     "output_type": "display_data"
    },
    {
     "data": {
      "text/plain": [
       "<Figure size 648x432 with 0 Axes>"
      ]
     },
     "metadata": {},
     "output_type": "display_data"
    },
    {
     "data": {
      "text/plain": [
       "<Figure size 648x432 with 0 Axes>"
      ]
     },
     "metadata": {},
     "output_type": "display_data"
    },
    {
     "data": {
      "text/plain": [
       "<Figure size 648x432 with 0 Axes>"
      ]
     },
     "metadata": {},
     "output_type": "display_data"
    },
    {
     "data": {
      "text/plain": [
       "<Figure size 648x432 with 0 Axes>"
      ]
     },
     "metadata": {},
     "output_type": "display_data"
    },
    {
     "data": {
      "text/plain": [
       "<Figure size 648x432 with 0 Axes>"
      ]
     },
     "metadata": {},
     "output_type": "display_data"
    },
    {
     "data": {
      "text/plain": [
       "<Figure size 648x432 with 0 Axes>"
      ]
     },
     "metadata": {},
     "output_type": "display_data"
    },
    {
     "data": {
      "text/plain": [
       "<Figure size 648x432 with 0 Axes>"
      ]
     },
     "metadata": {},
     "output_type": "display_data"
    },
    {
     "data": {
      "text/plain": [
       "<Figure size 648x432 with 0 Axes>"
      ]
     },
     "metadata": {},
     "output_type": "display_data"
    },
    {
     "data": {
      "text/plain": [
       "<Figure size 648x432 with 0 Axes>"
      ]
     },
     "metadata": {},
     "output_type": "display_data"
    },
    {
     "data": {
      "text/plain": [
       "<Figure size 648x432 with 0 Axes>"
      ]
     },
     "metadata": {},
     "output_type": "display_data"
    },
    {
     "data": {
      "text/plain": [
       "<Figure size 648x432 with 0 Axes>"
      ]
     },
     "metadata": {},
     "output_type": "display_data"
    },
    {
     "data": {
      "text/plain": [
       "<Figure size 648x432 with 0 Axes>"
      ]
     },
     "metadata": {},
     "output_type": "display_data"
    },
    {
     "data": {
      "text/plain": [
       "<Figure size 648x432 with 0 Axes>"
      ]
     },
     "metadata": {},
     "output_type": "display_data"
    },
    {
     "data": {
      "text/plain": [
       "<Figure size 648x432 with 0 Axes>"
      ]
     },
     "metadata": {},
     "output_type": "display_data"
    },
    {
     "data": {
      "text/plain": [
       "<Figure size 648x432 with 0 Axes>"
      ]
     },
     "metadata": {},
     "output_type": "display_data"
    },
    {
     "data": {
      "text/plain": [
       "<Figure size 648x432 with 0 Axes>"
      ]
     },
     "metadata": {},
     "output_type": "display_data"
    },
    {
     "data": {
      "text/plain": [
       "<Figure size 648x432 with 0 Axes>"
      ]
     },
     "metadata": {},
     "output_type": "display_data"
    },
    {
     "data": {
      "text/plain": [
       "<Figure size 648x432 with 0 Axes>"
      ]
     },
     "metadata": {},
     "output_type": "display_data"
    },
    {
     "data": {
      "text/plain": [
       "<Figure size 648x432 with 0 Axes>"
      ]
     },
     "metadata": {},
     "output_type": "display_data"
    },
    {
     "data": {
      "text/plain": [
       "<Figure size 648x432 with 0 Axes>"
      ]
     },
     "metadata": {},
     "output_type": "display_data"
    },
    {
     "data": {
      "text/plain": [
       "<Figure size 648x432 with 0 Axes>"
      ]
     },
     "metadata": {},
     "output_type": "display_data"
    },
    {
     "data": {
      "text/plain": [
       "<Figure size 648x432 with 0 Axes>"
      ]
     },
     "metadata": {},
     "output_type": "display_data"
    },
    {
     "data": {
      "text/plain": [
       "<Figure size 648x432 with 0 Axes>"
      ]
     },
     "metadata": {},
     "output_type": "display_data"
    },
    {
     "data": {
      "text/plain": [
       "<Figure size 648x432 with 0 Axes>"
      ]
     },
     "metadata": {},
     "output_type": "display_data"
    },
    {
     "data": {
      "text/plain": [
       "<Figure size 648x432 with 0 Axes>"
      ]
     },
     "metadata": {},
     "output_type": "display_data"
    },
    {
     "data": {
      "text/plain": [
       "<Figure size 648x432 with 0 Axes>"
      ]
     },
     "metadata": {},
     "output_type": "display_data"
    },
    {
     "data": {
      "text/plain": [
       "<Figure size 648x432 with 0 Axes>"
      ]
     },
     "metadata": {},
     "output_type": "display_data"
    },
    {
     "data": {
      "text/plain": [
       "<Figure size 648x432 with 0 Axes>"
      ]
     },
     "metadata": {},
     "output_type": "display_data"
    },
    {
     "data": {
      "text/plain": [
       "<Figure size 648x432 with 0 Axes>"
      ]
     },
     "metadata": {},
     "output_type": "display_data"
    },
    {
     "data": {
      "text/plain": [
       "<Figure size 648x432 with 0 Axes>"
      ]
     },
     "metadata": {},
     "output_type": "display_data"
    },
    {
     "data": {
      "text/plain": [
       "<Figure size 648x432 with 0 Axes>"
      ]
     },
     "metadata": {},
     "output_type": "display_data"
    },
    {
     "data": {
      "text/plain": [
       "<Figure size 648x432 with 0 Axes>"
      ]
     },
     "metadata": {},
     "output_type": "display_data"
    },
    {
     "data": {
      "text/plain": [
       "<Figure size 648x432 with 0 Axes>"
      ]
     },
     "metadata": {},
     "output_type": "display_data"
    },
    {
     "data": {
      "text/plain": [
       "<Figure size 648x432 with 0 Axes>"
      ]
     },
     "metadata": {},
     "output_type": "display_data"
    },
    {
     "data": {
      "text/plain": [
       "<Figure size 648x432 with 0 Axes>"
      ]
     },
     "metadata": {},
     "output_type": "display_data"
    },
    {
     "data": {
      "text/plain": [
       "<Figure size 648x432 with 0 Axes>"
      ]
     },
     "metadata": {},
     "output_type": "display_data"
    },
    {
     "data": {
      "text/plain": [
       "<Figure size 648x432 with 0 Axes>"
      ]
     },
     "metadata": {},
     "output_type": "display_data"
    },
    {
     "data": {
      "text/plain": [
       "<Figure size 648x432 with 0 Axes>"
      ]
     },
     "metadata": {},
     "output_type": "display_data"
    },
    {
     "data": {
      "text/plain": [
       "<Figure size 648x432 with 0 Axes>"
      ]
     },
     "metadata": {},
     "output_type": "display_data"
    },
    {
     "data": {
      "text/plain": [
       "<Figure size 648x432 with 0 Axes>"
      ]
     },
     "metadata": {},
     "output_type": "display_data"
    },
    {
     "data": {
      "text/plain": [
       "<Figure size 648x432 with 0 Axes>"
      ]
     },
     "metadata": {},
     "output_type": "display_data"
    },
    {
     "data": {
      "text/plain": [
       "<Figure size 648x432 with 0 Axes>"
      ]
     },
     "metadata": {},
     "output_type": "display_data"
    },
    {
     "data": {
      "text/plain": [
       "<Figure size 648x432 with 0 Axes>"
      ]
     },
     "metadata": {},
     "output_type": "display_data"
    },
    {
     "data": {
      "text/plain": [
       "<Figure size 648x432 with 0 Axes>"
      ]
     },
     "metadata": {},
     "output_type": "display_data"
    },
    {
     "data": {
      "text/plain": [
       "<Figure size 648x432 with 0 Axes>"
      ]
     },
     "metadata": {},
     "output_type": "display_data"
    },
    {
     "data": {
      "text/plain": [
       "<Figure size 648x432 with 0 Axes>"
      ]
     },
     "metadata": {},
     "output_type": "display_data"
    },
    {
     "data": {
      "text/plain": [
       "<Figure size 648x432 with 0 Axes>"
      ]
     },
     "metadata": {},
     "output_type": "display_data"
    },
    {
     "data": {
      "text/plain": [
       "<Figure size 648x432 with 0 Axes>"
      ]
     },
     "metadata": {},
     "output_type": "display_data"
    },
    {
     "data": {
      "text/plain": [
       "<Figure size 648x432 with 0 Axes>"
      ]
     },
     "metadata": {},
     "output_type": "display_data"
    },
    {
     "data": {
      "text/plain": [
       "<Figure size 648x432 with 0 Axes>"
      ]
     },
     "metadata": {},
     "output_type": "display_data"
    },
    {
     "data": {
      "text/plain": [
       "<Figure size 648x432 with 0 Axes>"
      ]
     },
     "metadata": {},
     "output_type": "display_data"
    },
    {
     "data": {
      "text/plain": [
       "<Figure size 648x432 with 0 Axes>"
      ]
     },
     "metadata": {},
     "output_type": "display_data"
    },
    {
     "data": {
      "text/plain": [
       "<Figure size 648x432 with 0 Axes>"
      ]
     },
     "metadata": {},
     "output_type": "display_data"
    },
    {
     "data": {
      "text/plain": [
       "<Figure size 648x432 with 0 Axes>"
      ]
     },
     "metadata": {},
     "output_type": "display_data"
    },
    {
     "data": {
      "text/plain": [
       "<Figure size 648x432 with 0 Axes>"
      ]
     },
     "metadata": {},
     "output_type": "display_data"
    },
    {
     "data": {
      "text/plain": [
       "<Figure size 648x432 with 0 Axes>"
      ]
     },
     "metadata": {},
     "output_type": "display_data"
    },
    {
     "data": {
      "text/plain": [
       "<Figure size 648x432 with 0 Axes>"
      ]
     },
     "metadata": {},
     "output_type": "display_data"
    },
    {
     "data": {
      "text/plain": [
       "<Figure size 648x432 with 0 Axes>"
      ]
     },
     "metadata": {},
     "output_type": "display_data"
    },
    {
     "data": {
      "text/plain": [
       "<Figure size 648x432 with 0 Axes>"
      ]
     },
     "metadata": {},
     "output_type": "display_data"
    },
    {
     "data": {
      "text/plain": [
       "<Figure size 648x432 with 0 Axes>"
      ]
     },
     "metadata": {},
     "output_type": "display_data"
    },
    {
     "data": {
      "text/plain": [
       "<Figure size 648x432 with 0 Axes>"
      ]
     },
     "metadata": {},
     "output_type": "display_data"
    },
    {
     "data": {
      "text/plain": [
       "<Figure size 648x432 with 0 Axes>"
      ]
     },
     "metadata": {},
     "output_type": "display_data"
    },
    {
     "data": {
      "text/plain": [
       "<Figure size 648x432 with 0 Axes>"
      ]
     },
     "metadata": {},
     "output_type": "display_data"
    },
    {
     "data": {
      "text/plain": [
       "<Figure size 648x432 with 0 Axes>"
      ]
     },
     "metadata": {},
     "output_type": "display_data"
    },
    {
     "data": {
      "text/plain": [
       "<Figure size 648x432 with 0 Axes>"
      ]
     },
     "metadata": {},
     "output_type": "display_data"
    },
    {
     "data": {
      "text/plain": [
       "<Figure size 648x432 with 0 Axes>"
      ]
     },
     "metadata": {},
     "output_type": "display_data"
    },
    {
     "data": {
      "text/plain": [
       "<Figure size 648x432 with 0 Axes>"
      ]
     },
     "metadata": {},
     "output_type": "display_data"
    },
    {
     "data": {
      "text/plain": [
       "<Figure size 648x432 with 0 Axes>"
      ]
     },
     "metadata": {},
     "output_type": "display_data"
    },
    {
     "data": {
      "text/plain": [
       "<Figure size 648x432 with 0 Axes>"
      ]
     },
     "metadata": {},
     "output_type": "display_data"
    },
    {
     "data": {
      "text/plain": [
       "<Figure size 648x432 with 0 Axes>"
      ]
     },
     "metadata": {},
     "output_type": "display_data"
    },
    {
     "data": {
      "text/plain": [
       "<Figure size 648x432 with 0 Axes>"
      ]
     },
     "metadata": {},
     "output_type": "display_data"
    },
    {
     "data": {
      "text/plain": [
       "<Figure size 648x432 with 0 Axes>"
      ]
     },
     "metadata": {},
     "output_type": "display_data"
    },
    {
     "data": {
      "text/plain": [
       "<Figure size 648x432 with 0 Axes>"
      ]
     },
     "metadata": {},
     "output_type": "display_data"
    },
    {
     "data": {
      "text/plain": [
       "<Figure size 648x432 with 0 Axes>"
      ]
     },
     "metadata": {},
     "output_type": "display_data"
    },
    {
     "data": {
      "text/plain": [
       "<Figure size 648x432 with 0 Axes>"
      ]
     },
     "metadata": {},
     "output_type": "display_data"
    },
    {
     "data": {
      "text/plain": [
       "<Figure size 648x432 with 0 Axes>"
      ]
     },
     "metadata": {},
     "output_type": "display_data"
    },
    {
     "data": {
      "text/plain": [
       "<Figure size 648x432 with 0 Axes>"
      ]
     },
     "metadata": {},
     "output_type": "display_data"
    },
    {
     "data": {
      "text/plain": [
       "<Figure size 648x432 with 0 Axes>"
      ]
     },
     "metadata": {},
     "output_type": "display_data"
    },
    {
     "data": {
      "text/plain": [
       "<Figure size 648x432 with 0 Axes>"
      ]
     },
     "metadata": {},
     "output_type": "display_data"
    },
    {
     "data": {
      "text/plain": [
       "<Figure size 648x432 with 0 Axes>"
      ]
     },
     "metadata": {},
     "output_type": "display_data"
    },
    {
     "data": {
      "text/plain": [
       "<Figure size 648x432 with 0 Axes>"
      ]
     },
     "metadata": {},
     "output_type": "display_data"
    },
    {
     "data": {
      "text/plain": [
       "<Figure size 648x432 with 0 Axes>"
      ]
     },
     "metadata": {},
     "output_type": "display_data"
    },
    {
     "data": {
      "text/plain": [
       "<Figure size 648x432 with 0 Axes>"
      ]
     },
     "metadata": {},
     "output_type": "display_data"
    },
    {
     "data": {
      "text/plain": [
       "<Figure size 648x432 with 0 Axes>"
      ]
     },
     "metadata": {},
     "output_type": "display_data"
    },
    {
     "data": {
      "text/plain": [
       "<Figure size 648x432 with 0 Axes>"
      ]
     },
     "metadata": {},
     "output_type": "display_data"
    },
    {
     "data": {
      "text/plain": [
       "<Figure size 648x432 with 0 Axes>"
      ]
     },
     "metadata": {},
     "output_type": "display_data"
    },
    {
     "data": {
      "text/plain": [
       "<Figure size 648x432 with 0 Axes>"
      ]
     },
     "metadata": {},
     "output_type": "display_data"
    },
    {
     "data": {
      "text/plain": [
       "<Figure size 648x432 with 0 Axes>"
      ]
     },
     "metadata": {},
     "output_type": "display_data"
    },
    {
     "data": {
      "text/plain": [
       "<Figure size 648x432 with 0 Axes>"
      ]
     },
     "metadata": {},
     "output_type": "display_data"
    },
    {
     "data": {
      "text/plain": [
       "<Figure size 648x432 with 0 Axes>"
      ]
     },
     "metadata": {},
     "output_type": "display_data"
    },
    {
     "data": {
      "text/plain": [
       "<Figure size 648x432 with 0 Axes>"
      ]
     },
     "metadata": {},
     "output_type": "display_data"
    }
   ],
   "source": [
    "try:\n",
    "    for tweets in batch(T, BATCH_SIZE):\n",
    "        mat = sp.sparse.dok_matrix((BATCH_SIZE, len(words)))\n",
    "        for row, tweet in enumerate(tweets):\n",
    "            for word in tweet.lower().split():\n",
    "                if word in word_to_index:\n",
    "                    mat[row, word_to_index[word]] = 1.\n",
    "        kmeans.partial_fit(mat.tocsr())\n",
    "        wordcounts = [nlargest(50, zip(words, kmeans.cluster_centers_[i])) for i in range(kmeans.n_clusters)]\n",
    "        wordclouds(wordcounts)\n",
    "except:\n",
    "    pass"
   ]
  },
  {
   "cell_type": "code",
   "execution_count": null,
   "metadata": {},
   "outputs": [],
   "source": []
  },
  {
   "cell_type": "code",
   "execution_count": null,
   "metadata": {},
   "outputs": [],
   "source": []
  },
  {
   "cell_type": "code",
   "execution_count": 463,
   "metadata": {},
   "outputs": [],
   "source": [
    "vectorizer = TfidfVectorizer()\n",
    "X = vectorizer.fit_transform(df['user_description'].dropna())"
   ]
  },
  {
   "cell_type": "code",
   "execution_count": 464,
   "metadata": {},
   "outputs": [],
   "source": [
    "#svd = TruncatedSVD(n_components=100, n_iter=7, random_state=42)"
   ]
  },
  {
   "cell_type": "code",
   "execution_count": 465,
   "metadata": {},
   "outputs": [
    {
     "data": {
      "text/plain": [
       "(8317, 24424)"
      ]
     },
     "execution_count": 465,
     "metadata": {},
     "output_type": "execute_result"
    }
   ],
   "source": [
    "X.shape"
   ]
  },
  {
   "cell_type": "code",
   "execution_count": 466,
   "metadata": {},
   "outputs": [],
   "source": [
    "#X1 = svd.fit_transform(X)"
   ]
  },
  {
   "cell_type": "code",
   "execution_count": 467,
   "metadata": {},
   "outputs": [],
   "source": [
    "#print(svd.explained_variance_ratio_) "
   ]
  },
  {
   "cell_type": "code",
   "execution_count": 468,
   "metadata": {},
   "outputs": [],
   "source": [
    "#print(svd.explained_variance_ratio_.sum())"
   ]
  },
  {
   "cell_type": "code",
   "execution_count": 469,
   "metadata": {},
   "outputs": [],
   "source": [
    "#print(svd.singular_values_)"
   ]
  },
  {
   "cell_type": "code",
   "execution_count": 473,
   "metadata": {},
   "outputs": [],
   "source": [
    "dfDBS = df['user_description'].dropna().reset_index()"
   ]
  },
  {
   "cell_type": "code",
   "execution_count": 490,
   "metadata": {},
   "outputs": [],
   "source": [
    "clustering = DBSCAN(eps=1.1, min_samples=10).fit(X)"
   ]
  },
  {
   "cell_type": "code",
   "execution_count": 491,
   "metadata": {},
   "outputs": [],
   "source": [
    "dfDBS['dbscan'] = clustering.labels_"
   ]
  },
  {
   "cell_type": "code",
   "execution_count": 492,
   "metadata": {},
   "outputs": [
    {
     "data": {
      "text/html": [
       "<div>\n",
       "<style scoped>\n",
       "    .dataframe tbody tr th:only-of-type {\n",
       "        vertical-align: middle;\n",
       "    }\n",
       "\n",
       "    .dataframe tbody tr th {\n",
       "        vertical-align: top;\n",
       "    }\n",
       "\n",
       "    .dataframe thead th {\n",
       "        text-align: right;\n",
       "    }\n",
       "</style>\n",
       "<table border=\"1\" class=\"dataframe\">\n",
       "  <thead>\n",
       "    <tr style=\"text-align: right;\">\n",
       "      <th></th>\n",
       "      <th>index</th>\n",
       "      <th>user_description</th>\n",
       "      <th>dbscan</th>\n",
       "    </tr>\n",
       "  </thead>\n",
       "  <tbody>\n",
       "  </tbody>\n",
       "</table>\n",
       "</div>"
      ],
      "text/plain": [
       "Empty DataFrame\n",
       "Columns: [index, user_description, dbscan]\n",
       "Index: []"
      ]
     },
     "execution_count": 492,
     "metadata": {},
     "output_type": "execute_result"
    }
   ],
   "source": [
    "dfDBS[dfDBS['dbscan'] == -1]"
   ]
  },
  {
   "cell_type": "code",
   "execution_count": 385,
   "metadata": {},
   "outputs": [
    {
     "data": {
      "text/html": [
       "<div>\n",
       "<style scoped>\n",
       "    .dataframe tbody tr th:only-of-type {\n",
       "        vertical-align: middle;\n",
       "    }\n",
       "\n",
       "    .dataframe tbody tr th {\n",
       "        vertical-align: top;\n",
       "    }\n",
       "\n",
       "    .dataframe thead th {\n",
       "        text-align: right;\n",
       "    }\n",
       "</style>\n",
       "<table border=\"1\" class=\"dataframe\">\n",
       "  <thead>\n",
       "    <tr style=\"text-align: right;\">\n",
       "      <th></th>\n",
       "      <th>x</th>\n",
       "      <th>y</th>\n",
       "      <th>text</th>\n",
       "      <th>dbscan</th>\n",
       "    </tr>\n",
       "  </thead>\n",
       "  <tbody>\n",
       "    <tr>\n",
       "      <th>100</th>\n",
       "      <td>0.024172</td>\n",
       "      <td>0.020474</td>\n",
       "      <td>@Stephen90045069 @Matt_Clough @JamesRider3 @aS...</td>\n",
       "      <td>0</td>\n",
       "    </tr>\n",
       "    <tr>\n",
       "      <th>101</th>\n",
       "      <td>0.065091</td>\n",
       "      <td>0.003486</td>\n",
       "      <td>RT @usembassyMVD: 📢¿Todavía no te registraste ...</td>\n",
       "      <td>0</td>\n",
       "    </tr>\n",
       "    <tr>\n",
       "      <th>102</th>\n",
       "      <td>0.011106</td>\n",
       "      <td>0.105359</td>\n",
       "      <td>RT @NASA_Marshall: Spacesuits are useful for m...</td>\n",
       "      <td>0</td>\n",
       "    </tr>\n",
       "    <tr>\n",
       "      <th>103</th>\n",
       "      <td>0.016975</td>\n",
       "      <td>0.076805</td>\n",
       "      <td>RT @sayatttjaimeee: at\\nsinong\\ntanga\\nang\\nna...</td>\n",
       "      <td>7</td>\n",
       "    </tr>\n",
       "    <tr>\n",
       "      <th>104</th>\n",
       "      <td>0.006977</td>\n",
       "      <td>0.025343</td>\n",
       "      <td>RT @CecaPereca26: Nasa vojska je sve modernizo...</td>\n",
       "      <td>0</td>\n",
       "    </tr>\n",
       "  </tbody>\n",
       "</table>\n",
       "</div>"
      ],
      "text/plain": [
       "            x         y                                               text  \\\n",
       "100  0.024172  0.020474  @Stephen90045069 @Matt_Clough @JamesRider3 @aS...   \n",
       "101  0.065091  0.003486  RT @usembassyMVD: 📢¿Todavía no te registraste ...   \n",
       "102  0.011106  0.105359  RT @NASA_Marshall: Spacesuits are useful for m...   \n",
       "103  0.016975  0.076805  RT @sayatttjaimeee: at\\nsinong\\ntanga\\nang\\nna...   \n",
       "104  0.006977  0.025343  RT @CecaPereca26: Nasa vojska je sve modernizo...   \n",
       "\n",
       "     dbscan  \n",
       "100       0  \n",
       "101       0  \n",
       "102       0  \n",
       "103       7  \n",
       "104       0  "
      ]
     },
     "execution_count": 385,
     "metadata": {},
     "output_type": "execute_result"
    }
   ],
   "source": [
    "dfDBS = pd.DataFrame(X1[:,:2], columns=['x', 'y'])[100:200]\n",
    "dfDBS['text'] = df['text'][100:200]\n",
    "dfDBS['dbscan'] = df['dbscan'][100:200]\n",
    "dfDBS.head()"
   ]
  },
  {
   "cell_type": "code",
   "execution_count": 386,
   "metadata": {},
   "outputs": [
    {
     "data": {
      "text/plain": [
       "14"
      ]
     },
     "execution_count": 386,
     "metadata": {},
     "output_type": "execute_result"
    }
   ],
   "source": [
    "len(dfDBS['dbscan'].unique())\n"
   ]
  },
  {
   "cell_type": "code",
   "execution_count": 389,
   "metadata": {},
   "outputs": [
    {
     "data": {
      "image/png": "[encoded data removed]",
      "text/plain": [
       "<Figure size 1224x720 with 1 Axes>"
      ]
     },
     "metadata": {},
     "output_type": "display_data"
    }
   ],
   "source": [
    "ax = dfDBS[['x','y']].plot.scatter(x='x', y='y')\n",
    "for i, txt in enumerate(list(dfDBS['dbscan'])):\n",
    "    ax.annotate(txt, (dfDBS['x'].loc[i+100], dfDBS['y'].loc[i+100]))"
   ]
  },
  {
   "cell_type": "code",
   "execution_count": 347,
   "metadata": {},
   "outputs": [
    {
     "data": {
      "text/plain": [
       "array([ 0.46600021,  0.34850381,  0.42008035])"
      ]
     },
     "execution_count": 347,
     "metadata": {},
     "output_type": "execute_result"
    }
   ],
   "source": [
    "np.random.rand(3,)"
   ]
  },
  {
   "cell_type": "code",
   "execution_count": 384,
   "metadata": {},
   "outputs": [
    {
     "data": {
      "text/html": [
       "<div>\n",
       "<style scoped>\n",
       "    .dataframe tbody tr th:only-of-type {\n",
       "        vertical-align: middle;\n",
       "    }\n",
       "\n",
       "    .dataframe tbody tr th {\n",
       "        vertical-align: top;\n",
       "    }\n",
       "\n",
       "    .dataframe thead th {\n",
       "        text-align: right;\n",
       "    }\n",
       "</style>\n",
       "<table border=\"1\" class=\"dataframe\">\n",
       "  <thead>\n",
       "    <tr style=\"text-align: right;\">\n",
       "      <th></th>\n",
       "      <th>x</th>\n",
       "      <th>y</th>\n",
       "      <th>screen_name</th>\n",
       "      <th>dbscan</th>\n",
       "    </tr>\n",
       "  </thead>\n",
       "  <tbody>\n",
       "    <tr>\n",
       "      <th>100</th>\n",
       "      <td>0.024172</td>\n",
       "      <td>0.020474</td>\n",
       "      <td>OscarsWild1</td>\n",
       "      <td>0</td>\n",
       "    </tr>\n",
       "    <tr>\n",
       "      <th>101</th>\n",
       "      <td>0.065091</td>\n",
       "      <td>0.003486</td>\n",
       "      <td>_diaz_camila</td>\n",
       "      <td>0</td>\n",
       "    </tr>\n",
       "    <tr>\n",
       "      <th>102</th>\n",
       "      <td>0.011106</td>\n",
       "      <td>0.105359</td>\n",
       "      <td>Astronomy_Nerd</td>\n",
       "      <td>0</td>\n",
       "    </tr>\n",
       "    <tr>\n",
       "      <th>103</th>\n",
       "      <td>0.016975</td>\n",
       "      <td>0.076805</td>\n",
       "      <td>jalina0208</td>\n",
       "      <td>7</td>\n",
       "    </tr>\n",
       "    <tr>\n",
       "      <th>104</th>\n",
       "      <td>0.006977</td>\n",
       "      <td>0.025343</td>\n",
       "      <td>pravi_genije</td>\n",
       "      <td>0</td>\n",
       "    </tr>\n",
       "    <tr>\n",
       "      <th>105</th>\n",
       "      <td>0.102098</td>\n",
       "      <td>0.539620</td>\n",
       "      <td>cntch</td>\n",
       "      <td>1</td>\n",
       "    </tr>\n",
       "    <tr>\n",
       "      <th>106</th>\n",
       "      <td>0.032940</td>\n",
       "      <td>0.031657</td>\n",
       "      <td>MargaritaDelf17</td>\n",
       "      <td>0</td>\n",
       "    </tr>\n",
       "    <tr>\n",
       "      <th>107</th>\n",
       "      <td>0.032551</td>\n",
       "      <td>0.387804</td>\n",
       "      <td>temple_terrace</td>\n",
       "      <td>3</td>\n",
       "    </tr>\n",
       "    <tr>\n",
       "      <th>108</th>\n",
       "      <td>0.102098</td>\n",
       "      <td>0.539620</td>\n",
       "      <td>CandaceHagen1</td>\n",
       "      <td>1</td>\n",
       "    </tr>\n",
       "    <tr>\n",
       "      <th>109</th>\n",
       "      <td>0.027256</td>\n",
       "      <td>0.038191</td>\n",
       "      <td>maglioqueira</td>\n",
       "      <td>0</td>\n",
       "    </tr>\n",
       "    <tr>\n",
       "      <th>110</th>\n",
       "      <td>0.015495</td>\n",
       "      <td>0.144385</td>\n",
       "      <td>BennyBeats111</td>\n",
       "      <td>13</td>\n",
       "    </tr>\n",
       "    <tr>\n",
       "      <th>111</th>\n",
       "      <td>0.020675</td>\n",
       "      <td>0.035858</td>\n",
       "      <td>Hope4Kansas</td>\n",
       "      <td>0</td>\n",
       "    </tr>\n",
       "    <tr>\n",
       "      <th>112</th>\n",
       "      <td>0.002006</td>\n",
       "      <td>0.017637</td>\n",
       "      <td>CassidyRKendall</td>\n",
       "      <td>0</td>\n",
       "    </tr>\n",
       "    <tr>\n",
       "      <th>113</th>\n",
       "      <td>0.053208</td>\n",
       "      <td>0.218405</td>\n",
       "      <td>momdude56</td>\n",
       "      <td>0</td>\n",
       "    </tr>\n",
       "    <tr>\n",
       "      <th>114</th>\n",
       "      <td>0.022808</td>\n",
       "      <td>0.080869</td>\n",
       "      <td>techpearce3</td>\n",
       "      <td>0</td>\n",
       "    </tr>\n",
       "    <tr>\n",
       "      <th>115</th>\n",
       "      <td>0.002253</td>\n",
       "      <td>0.012921</td>\n",
       "      <td>TamiiPaezPont</td>\n",
       "      <td>0</td>\n",
       "    </tr>\n",
       "    <tr>\n",
       "      <th>116</th>\n",
       "      <td>0.002879</td>\n",
       "      <td>0.017938</td>\n",
       "      <td>uhlecxis</td>\n",
       "      <td>0</td>\n",
       "    </tr>\n",
       "    <tr>\n",
       "      <th>117</th>\n",
       "      <td>0.032168</td>\n",
       "      <td>0.073206</td>\n",
       "      <td>pinhchen</td>\n",
       "      <td>0</td>\n",
       "    </tr>\n",
       "    <tr>\n",
       "      <th>118</th>\n",
       "      <td>0.041179</td>\n",
       "      <td>0.464790</td>\n",
       "      <td>RockitBill</td>\n",
       "      <td>14</td>\n",
       "    </tr>\n",
       "    <tr>\n",
       "      <th>119</th>\n",
       "      <td>0.006248</td>\n",
       "      <td>0.009091</td>\n",
       "      <td>M_07F</td>\n",
       "      <td>10</td>\n",
       "    </tr>\n",
       "    <tr>\n",
       "      <th>120</th>\n",
       "      <td>0.011102</td>\n",
       "      <td>0.069991</td>\n",
       "      <td>JairaDane</td>\n",
       "      <td>0</td>\n",
       "    </tr>\n",
       "    <tr>\n",
       "      <th>121</th>\n",
       "      <td>0.102098</td>\n",
       "      <td>0.539620</td>\n",
       "      <td>AndrzejNowak</td>\n",
       "      <td>1</td>\n",
       "    </tr>\n",
       "    <tr>\n",
       "      <th>122</th>\n",
       "      <td>0.006895</td>\n",
       "      <td>0.101719</td>\n",
       "      <td>preheat_to_375</td>\n",
       "      <td>0</td>\n",
       "    </tr>\n",
       "    <tr>\n",
       "      <th>123</th>\n",
       "      <td>0.003267</td>\n",
       "      <td>0.029025</td>\n",
       "      <td>zaellanken</td>\n",
       "      <td>0</td>\n",
       "    </tr>\n",
       "    <tr>\n",
       "      <th>124</th>\n",
       "      <td>0.020184</td>\n",
       "      <td>0.209248</td>\n",
       "      <td>gary_shaz</td>\n",
       "      <td>9</td>\n",
       "    </tr>\n",
       "    <tr>\n",
       "      <th>125</th>\n",
       "      <td>0.102098</td>\n",
       "      <td>0.539620</td>\n",
       "      <td>derekhayes_usmc</td>\n",
       "      <td>1</td>\n",
       "    </tr>\n",
       "    <tr>\n",
       "      <th>126</th>\n",
       "      <td>0.066099</td>\n",
       "      <td>0.001480</td>\n",
       "      <td>alargicl</td>\n",
       "      <td>11</td>\n",
       "    </tr>\n",
       "    <tr>\n",
       "      <th>127</th>\n",
       "      <td>0.007683</td>\n",
       "      <td>0.122651</td>\n",
       "      <td>PJrtx</td>\n",
       "      <td>0</td>\n",
       "    </tr>\n",
       "    <tr>\n",
       "      <th>128</th>\n",
       "      <td>0.102098</td>\n",
       "      <td>0.539620</td>\n",
       "      <td>patrick85191787</td>\n",
       "      <td>1</td>\n",
       "    </tr>\n",
       "    <tr>\n",
       "      <th>129</th>\n",
       "      <td>0.009032</td>\n",
       "      <td>0.027716</td>\n",
       "      <td>fester_thomas</td>\n",
       "      <td>4</td>\n",
       "    </tr>\n",
       "    <tr>\n",
       "      <th>...</th>\n",
       "      <td>...</td>\n",
       "      <td>...</td>\n",
       "      <td>...</td>\n",
       "      <td>...</td>\n",
       "    </tr>\n",
       "    <tr>\n",
       "      <th>170</th>\n",
       "      <td>0.033969</td>\n",
       "      <td>0.056193</td>\n",
       "      <td>CosmicBitxh</td>\n",
       "      <td>0</td>\n",
       "    </tr>\n",
       "    <tr>\n",
       "      <th>171</th>\n",
       "      <td>0.102098</td>\n",
       "      <td>0.539620</td>\n",
       "      <td>kazu17171893</td>\n",
       "      <td>1</td>\n",
       "    </tr>\n",
       "    <tr>\n",
       "      <th>172</th>\n",
       "      <td>0.012894</td>\n",
       "      <td>0.109383</td>\n",
       "      <td>CasadeC</td>\n",
       "      <td>2</td>\n",
       "    </tr>\n",
       "    <tr>\n",
       "      <th>173</th>\n",
       "      <td>0.026731</td>\n",
       "      <td>0.008318</td>\n",
       "      <td>aldo_pop</td>\n",
       "      <td>0</td>\n",
       "    </tr>\n",
       "    <tr>\n",
       "      <th>174</th>\n",
       "      <td>0.043468</td>\n",
       "      <td>0.227193</td>\n",
       "      <td>wibw</td>\n",
       "      <td>0</td>\n",
       "    </tr>\n",
       "    <tr>\n",
       "      <th>175</th>\n",
       "      <td>0.049950</td>\n",
       "      <td>0.010801</td>\n",
       "      <td>bok_dyuuuwan</td>\n",
       "      <td>0</td>\n",
       "    </tr>\n",
       "    <tr>\n",
       "      <th>176</th>\n",
       "      <td>0.102098</td>\n",
       "      <td>0.539620</td>\n",
       "      <td>142Countries</td>\n",
       "      <td>1</td>\n",
       "    </tr>\n",
       "    <tr>\n",
       "      <th>177</th>\n",
       "      <td>0.001767</td>\n",
       "      <td>0.014525</td>\n",
       "      <td>daniellamalda</td>\n",
       "      <td>0</td>\n",
       "    </tr>\n",
       "    <tr>\n",
       "      <th>178</th>\n",
       "      <td>0.012894</td>\n",
       "      <td>0.109383</td>\n",
       "      <td>madeinitaly67</td>\n",
       "      <td>2</td>\n",
       "    </tr>\n",
       "    <tr>\n",
       "      <th>179</th>\n",
       "      <td>0.102098</td>\n",
       "      <td>0.539620</td>\n",
       "      <td>angelus_0923</td>\n",
       "      <td>1</td>\n",
       "    </tr>\n",
       "    <tr>\n",
       "      <th>180</th>\n",
       "      <td>0.102098</td>\n",
       "      <td>0.539620</td>\n",
       "      <td>ritheen46</td>\n",
       "      <td>1</td>\n",
       "    </tr>\n",
       "    <tr>\n",
       "      <th>181</th>\n",
       "      <td>0.032551</td>\n",
       "      <td>0.387804</td>\n",
       "      <td>repairnoutbuk</td>\n",
       "      <td>3</td>\n",
       "    </tr>\n",
       "    <tr>\n",
       "      <th>182</th>\n",
       "      <td>0.071734</td>\n",
       "      <td>0.001760</td>\n",
       "      <td>madbydm</td>\n",
       "      <td>0</td>\n",
       "    </tr>\n",
       "    <tr>\n",
       "      <th>183</th>\n",
       "      <td>0.036223</td>\n",
       "      <td>0.047440</td>\n",
       "      <td>isabelatecno</td>\n",
       "      <td>0</td>\n",
       "    </tr>\n",
       "    <tr>\n",
       "      <th>184</th>\n",
       "      <td>0.049960</td>\n",
       "      <td>0.338922</td>\n",
       "      <td>chicagotribune</td>\n",
       "      <td>0</td>\n",
       "    </tr>\n",
       "    <tr>\n",
       "      <th>185</th>\n",
       "      <td>0.055964</td>\n",
       "      <td>0.029509</td>\n",
       "      <td>GauchaZH</td>\n",
       "      <td>0</td>\n",
       "    </tr>\n",
       "    <tr>\n",
       "      <th>186</th>\n",
       "      <td>0.102098</td>\n",
       "      <td>0.539620</td>\n",
       "      <td>gadgetfreaksta</td>\n",
       "      <td>1</td>\n",
       "    </tr>\n",
       "    <tr>\n",
       "      <th>187</th>\n",
       "      <td>0.004154</td>\n",
       "      <td>0.064600</td>\n",
       "      <td>Garrett_50_Cal</td>\n",
       "      <td>0</td>\n",
       "    </tr>\n",
       "    <tr>\n",
       "      <th>188</th>\n",
       "      <td>0.102098</td>\n",
       "      <td>0.539620</td>\n",
       "      <td>lanell_nelson</td>\n",
       "      <td>1</td>\n",
       "    </tr>\n",
       "    <tr>\n",
       "      <th>189</th>\n",
       "      <td>0.056876</td>\n",
       "      <td>0.194576</td>\n",
       "      <td>EcoInternetDrGB</td>\n",
       "      <td>0</td>\n",
       "    </tr>\n",
       "    <tr>\n",
       "      <th>190</th>\n",
       "      <td>0.028215</td>\n",
       "      <td>0.055989</td>\n",
       "      <td>svertla</td>\n",
       "      <td>0</td>\n",
       "    </tr>\n",
       "    <tr>\n",
       "      <th>191</th>\n",
       "      <td>0.002443</td>\n",
       "      <td>0.019234</td>\n",
       "      <td>mimirssx_</td>\n",
       "      <td>0</td>\n",
       "    </tr>\n",
       "    <tr>\n",
       "      <th>192</th>\n",
       "      <td>0.015667</td>\n",
       "      <td>0.154540</td>\n",
       "      <td>stirunel</td>\n",
       "      <td>0</td>\n",
       "    </tr>\n",
       "    <tr>\n",
       "      <th>193</th>\n",
       "      <td>0.004693</td>\n",
       "      <td>0.038483</td>\n",
       "      <td>iam_anjelly07</td>\n",
       "      <td>0</td>\n",
       "    </tr>\n",
       "    <tr>\n",
       "      <th>194</th>\n",
       "      <td>0.011156</td>\n",
       "      <td>0.092042</td>\n",
       "      <td>JustMePammy</td>\n",
       "      <td>0</td>\n",
       "    </tr>\n",
       "    <tr>\n",
       "      <th>195</th>\n",
       "      <td>0.023045</td>\n",
       "      <td>0.053406</td>\n",
       "      <td>AreYouAwkeYet1</td>\n",
       "      <td>0</td>\n",
       "    </tr>\n",
       "    <tr>\n",
       "      <th>196</th>\n",
       "      <td>0.081700</td>\n",
       "      <td>0.036513</td>\n",
       "      <td>YV5SEL</td>\n",
       "      <td>0</td>\n",
       "    </tr>\n",
       "    <tr>\n",
       "      <th>197</th>\n",
       "      <td>0.025625</td>\n",
       "      <td>0.011815</td>\n",
       "      <td>PotJan3</td>\n",
       "      <td>0</td>\n",
       "    </tr>\n",
       "    <tr>\n",
       "      <th>198</th>\n",
       "      <td>0.039662</td>\n",
       "      <td>0.007524</td>\n",
       "      <td>D0ug_Viana</td>\n",
       "      <td>12</td>\n",
       "    </tr>\n",
       "    <tr>\n",
       "      <th>199</th>\n",
       "      <td>0.011870</td>\n",
       "      <td>0.080899</td>\n",
       "      <td>Airwind57525260</td>\n",
       "      <td>15</td>\n",
       "    </tr>\n",
       "  </tbody>\n",
       "</table>\n",
       "<p>100 rows × 4 columns</p>\n",
       "</div>"
      ],
      "text/plain": [
       "            x         y      screen_name  dbscan\n",
       "100  0.024172  0.020474      OscarsWild1       0\n",
       "101  0.065091  0.003486     _diaz_camila       0\n",
       "102  0.011106  0.105359   Astronomy_Nerd       0\n",
       "103  0.016975  0.076805       jalina0208       7\n",
       "104  0.006977  0.025343     pravi_genije       0\n",
       "105  0.102098  0.539620            cntch       1\n",
       "106  0.032940  0.031657  MargaritaDelf17       0\n",
       "107  0.032551  0.387804   temple_terrace       3\n",
       "108  0.102098  0.539620    CandaceHagen1       1\n",
       "109  0.027256  0.038191     maglioqueira       0\n",
       "110  0.015495  0.144385    BennyBeats111      13\n",
       "111  0.020675  0.035858      Hope4Kansas       0\n",
       "112  0.002006  0.017637  CassidyRKendall       0\n",
       "113  0.053208  0.218405        momdude56       0\n",
       "114  0.022808  0.080869      techpearce3       0\n",
       "115  0.002253  0.012921    TamiiPaezPont       0\n",
       "116  0.002879  0.017938         uhlecxis       0\n",
       "117  0.032168  0.073206         pinhchen       0\n",
       "118  0.041179  0.464790       RockitBill      14\n",
       "119  0.006248  0.009091            M_07F      10\n",
       "120  0.011102  0.069991        JairaDane       0\n",
       "121  0.102098  0.539620     AndrzejNowak       1\n",
       "122  0.006895  0.101719   preheat_to_375       0\n",
       "123  0.003267  0.029025       zaellanken       0\n",
       "124  0.020184  0.209248        gary_shaz       9\n",
       "125  0.102098  0.539620  derekhayes_usmc       1\n",
       "126  0.066099  0.001480         alargicl      11\n",
       "127  0.007683  0.122651            PJrtx       0\n",
       "128  0.102098  0.539620  patrick85191787       1\n",
       "129  0.009032  0.027716    fester_thomas       4\n",
       "..        ...       ...              ...     ...\n",
       "170  0.033969  0.056193      CosmicBitxh       0\n",
       "171  0.102098  0.539620     kazu17171893       1\n",
       "172  0.012894  0.109383          CasadeC       2\n",
       "173  0.026731  0.008318         aldo_pop       0\n",
       "174  0.043468  0.227193             wibw       0\n",
       "175  0.049950  0.010801     bok_dyuuuwan       0\n",
       "176  0.102098  0.539620     142Countries       1\n",
       "177  0.001767  0.014525    daniellamalda       0\n",
       "178  0.012894  0.109383    madeinitaly67       2\n",
       "179  0.102098  0.539620     angelus_0923       1\n",
       "180  0.102098  0.539620        ritheen46       1\n",
       "181  0.032551  0.387804    repairnoutbuk       3\n",
       "182  0.071734  0.001760          madbydm       0\n",
       "183  0.036223  0.047440     isabelatecno       0\n",
       "184  0.049960  0.338922   chicagotribune       0\n",
       "185  0.055964  0.029509         GauchaZH       0\n",
       "186  0.102098  0.539620   gadgetfreaksta       1\n",
       "187  0.004154  0.064600   Garrett_50_Cal       0\n",
       "188  0.102098  0.539620    lanell_nelson       1\n",
       "189  0.056876  0.194576  EcoInternetDrGB       0\n",
       "190  0.028215  0.055989          svertla       0\n",
       "191  0.002443  0.019234        mimirssx_       0\n",
       "192  0.015667  0.154540         stirunel       0\n",
       "193  0.004693  0.038483    iam_anjelly07       0\n",
       "194  0.011156  0.092042      JustMePammy       0\n",
       "195  0.023045  0.053406   AreYouAwkeYet1       0\n",
       "196  0.081700  0.036513           YV5SEL       0\n",
       "197  0.025625  0.011815          PotJan3       0\n",
       "198  0.039662  0.007524       D0ug_Viana      12\n",
       "199  0.011870  0.080899  Airwind57525260      15\n",
       "\n",
       "[100 rows x 4 columns]"
      ]
     },
     "execution_count": 384,
     "metadata": {},
     "output_type": "execute_result"
    }
   ],
   "source": [
    "dfDBS"
   ]
  },
  {
   "cell_type": "code",
   "execution_count": 390,
   "metadata": {},
   "outputs": [
    {
     "data": {
      "text/plain": [
       "0       RT @riahfab: Ikaw na nasa bus/jeep na antok na...\n",
       "2                   nasa panaginip nanaman kita kanina:))\n",
       "4       NASA's Hubble Telescope Gives Best Look Yet at...\n",
       "5       @SpideyChief Not to mention how NASA recently ...\n",
       "6       RT @smart_whit: #TheTenCommandments it’s not f...\n",
       "8       RT @wfryer: Getting ready for #STEAM night in ...\n",
       "9       RT @elmundoes: La NASA ya tiene los trajes par...\n",
       "10      RT @NASA_SLS: As NASA goes forward to the Moon...\n",
       "11      RT @SmartTalentUY: #Agenda &gt;&gt;&gt; 🛰🚀 Est...\n",
       "15      RT @apod: [RPT] Moons of Saturn: https://t.co/...\n",
       "19      RT @SinEmbargoMX: Cámara de la NASA capta la m...\n",
       "20      RT @NASA: 👋 @NASAInSight\\n 👋 @MarsCuriosity\\nT...\n",
       "21      RT @weatherindia: . @NASA is planning to land ...\n",
       "22      RT @scosh_svnit: NASA's Hubble Telescope Gives...\n",
       "23      RT @NASAJPL: Ruptures in Ridgecrest\\n \\nUsing ...\n",
       "24      Our very own Katelyn Hertel, (@Katers_Potaters...\n",
       "25      RT @elgranqenk: Primer cometa interestelar cap...\n",
       "27      NASA to Televise First All-Female Spacewalk, H...\n",
       "29      halaaa parang ako lang kapag nasa jeep HAHAHAH...\n",
       "30      NASA to Televise First All-Female Spacewalk, H...\n",
       "31      NASA to Televise First All-Female Spacewalk, H...\n",
       "32      NASA to Televise First All-Female Spacewalk, H...\n",
       "33      NASA to Televise First All-Female Spacewalk, H...\n",
       "34      @WordswithSteph @robert_pohlman Much, much bet...\n",
       "35      NASA to Televise First All-Female Spacewalk, H...\n",
       "36      NASA to Televise First All-Female Spacewalk, H...\n",
       "37      NASA to Televise First All-Female Spacewalk, H...\n",
       "38      NASA to Televise First All-Female Spacewalk, H...\n",
       "39      RT @PhysicsWorld: A reality check from Ethan S...\n",
       "40      NASA to Televise First All-Female Spacewalk, H...\n",
       "                              ...                        \n",
       "8954    @AutomotiveTech_ @justchilliando @TechNinjaSpe...\n",
       "8956    RT @HyltonRobin: HERSTORY:  NASA 🚀 astronauts ...\n",
       "8957    RT @stonecold2050: In classic idiot form, trum...\n",
       "8958    RT @HireMeImFunny: Imagine going all the way t...\n",
       "8959                  Meanwhile ♥️https://t.co/r4U0dsbJcC\n",
       "8960    RT @ASI_spazio: Variopinti e complessi: sono i...\n",
       "8962    @VP @NASA @Astro_Christina @Astro_Jessica @Spa...\n",
       "8963    RT @dalesmm: Dos astronautas de la NASA hicier...\n",
       "8964    @NASA @Astro_Christina @Astro_Jessica That's a...\n",
       "8966    RT @HiRISE: HiPOD 18 Oct 2019: Sourced from an...\n",
       "8967    RT @JuGengibre: @teslapizza @Teslarati @SpaceX...\n",
       "8968    RT @aspiringinvntor: 🚀The💃 FIRST 💃ALL-FEMALE S...\n",
       "8969    RT @b0yle: UPDATE: First all-female spacewalk ...\n",
       "8972    @shu_wizard ｫｧｱありがとうございます語彙力NASAは褒め言葉なんですよ言葉にで...\n",
       "8975    RT @Jhony57418383: https://t.co/HWXzlaerzQ hap...\n",
       "8976    I am celebrating the 50th anniversary of the M...\n",
       "8977    La astronauta de la NASA Christina Koch (derec...\n",
       "8978    RT @Space_Station: .@Astro_Christina and @Astr...\n",
       "8979    RT @CNN: NASA astronauts Jessica Meir and Chri...\n",
       "8980    RT @marciotrojan: @folha_vitoria @NASA A prime...\n",
       "8983    RT @karen_ascher: @DNA_RNA_Uni @simongerman600...\n",
       "8984    RT @Zaky95100: A les batards ils ont dit la fu...\n",
       "8985    RT @fritztheyodeler: @DNA_RNA_Uni @NovogeneLS ...\n",
       "8987    @KevinlyFather Check this out. At approx 2 min...\n",
       "8988    RT @CNN: During Friday's historic all-woman sp...\n",
       "8991    RT @cthill247: Yay, ladies! 🇺🇸 https://t.co/9I...\n",
       "8992                      umagang umaga alak nasa isip ko\n",
       "8994    RT @PEACHYBLACKG0RL: omfg space queens https:/...\n",
       "8995    RT @eilaychan: 3月に初の 女性宇宙飛行士2人の船外活動やろうとしてたのに、女...\n",
       "8997    RT @maarcos_go: a nasa tem que estudar o @Vint...\n",
       "Name: text, Length: 5715, dtype: object"
      ]
     },
     "execution_count": 390,
     "metadata": {},
     "output_type": "execute_result"
    }
   ],
   "source": [
    "df[df['dbscan'] == 0]['text']"
   ]
  },
  {
   "cell_type": "markdown",
   "metadata": {},
   "source": [
    "## Geospatial Analysis"
   ]
  },
  {
   "cell_type": "markdown",
   "metadata": {},
   "source": [
    "## We extracted the location information from the tweets that had it so let's see how many did."
   ]
  },
  {
   "cell_type": "code",
   "execution_count": 391,
   "metadata": {},
   "outputs": [
    {
     "data": {
      "text/plain": [
       "1336    {'type': 'Point', 'coordinates': [112.72278627...\n",
       "3457    {'type': 'Point', 'coordinates': [121.05386257...\n",
       "6462    {'type': 'Point', 'coordinates': [-78.8962636,...\n",
       "Name: location, dtype: object"
      ]
     },
     "execution_count": 391,
     "metadata": {},
     "output_type": "execute_result"
    }
   ],
   "source": [
    "df.location.dropna()"
   ]
  },
  {
   "cell_type": "code",
   "execution_count": 392,
   "metadata": {},
   "outputs": [],
   "source": [
    "#df = df.drop(3350, axis=0)"
   ]
  },
  {
   "cell_type": "markdown",
   "metadata": {},
   "source": [
    "## That's not very promising. What else can we do to get geospatial information? We can look into the 'place' key."
   ]
  },
  {
   "cell_type": "code",
   "execution_count": 393,
   "metadata": {},
   "outputs": [
    {
     "data": {
      "text/plain": [
       "248     {'id': '3b77caf94bfc81fe', 'url': 'https://api...\n",
       "249     {'id': '0087ad0f1b6dfcc8', 'url': 'https://api...\n",
       "267     {'id': '3b77caf94bfc81fe', 'url': 'https://api...\n",
       "313     {'id': '01516da6022dca08', 'url': 'https://api...\n",
       "321     {'id': '521b6f591c4b3ce8', 'url': 'https://api...\n",
       "377     {'id': '006523c50dfe9086', 'url': 'https://api...\n",
       "459     {'id': '01e93ed535e05b29', 'url': 'https://api...\n",
       "485     {'id': '013379ee5729a5e6', 'url': 'https://api...\n",
       "661     {'id': '07d9ec9cc0086001', 'url': 'https://api...\n",
       "778     {'id': '3797791ff9c0e4c6', 'url': 'https://api...\n",
       "868     {'id': '01d7c74272e5eafe', 'url': 'https://api...\n",
       "961     {'id': '5579f6b17e36847b', 'url': 'https://api...\n",
       "1012    {'id': '003d47f62835a9f1', 'url': 'https://api...\n",
       "1063    {'id': '00fc4c873d8a5e32', 'url': 'https://api...\n",
       "1094    {'id': 'd6819fe60643ebc1', 'url': 'https://api...\n",
       "1117    {'id': '4ec01c9dbc693497', 'url': 'https://api...\n",
       "1155    {'id': '0fa65e5e6fbf3eb8', 'url': 'https://api...\n",
       "1214    {'id': '005de1fe214f002d', 'url': 'https://api...\n",
       "1336    {'id': '48fa312df6d273f1', 'url': 'https://api...\n",
       "1372    {'id': '0028e8dd72e9304c', 'url': 'https://api...\n",
       "1404    {'id': '97bcdfca1a2dca59', 'url': 'https://api...\n",
       "1406    {'id': 'f9838a67f87a80ed', 'url': 'https://api...\n",
       "1488    {'id': '012fcce738a98ee6', 'url': 'https://api...\n",
       "1581    {'id': '014ff5bc45533d1c', 'url': 'https://api...\n",
       "1718    {'id': '0155a9a75374d970', 'url': 'https://api...\n",
       "1801    {'id': '1d9a5370a355ab0c', 'url': 'https://api...\n",
       "1813    {'id': '01a9a39529b27f36', 'url': 'https://api...\n",
       "1839    {'id': '375aa1ab4abd79b1', 'url': 'https://api...\n",
       "1967    {'id': '68e019afec7d0ba5', 'url': 'https://api...\n",
       "1972    {'id': 'a612c69b44b2e5da', 'url': 'https://api...\n",
       "                              ...                        \n",
       "5535    {'id': '00913613698f59d9', 'url': 'https://api...\n",
       "5584    {'id': '01a9a39529b27f36', 'url': 'https://api...\n",
       "5773    {'id': '9902fe95fc7596a7', 'url': 'https://api...\n",
       "5876    {'id': '00b3341360403026', 'url': 'https://api...\n",
       "5971    {'id': '07d9cb4dd1885002', 'url': 'https://api...\n",
       "6070    {'id': 'cac1ec3b44144f86', 'url': 'https://api...\n",
       "6159    {'id': '7cb7440bcf83d464', 'url': 'https://api...\n",
       "6462    {'id': 'd36f171e278ac981', 'url': 'https://api...\n",
       "6694    {'id': '51b99055e77ef76b', 'url': 'https://api...\n",
       "6733    {'id': '01566b25bbe7a6d3', 'url': 'https://api...\n",
       "6933    {'id': '00708ea2468d1c24', 'url': 'https://api...\n",
       "6950    {'id': '11ec8106d4d1a9a4', 'url': 'https://api...\n",
       "7192    {'id': '01ca92e1561dcd0f', 'url': 'https://api...\n",
       "7378    {'id': '206c436ce43a43a3', 'url': 'https://api...\n",
       "7516    {'id': 'cc1a67e451c6db3c', 'url': 'https://api...\n",
       "7683    {'id': '206c436ce43a43a3', 'url': 'https://api...\n",
       "7705    {'id': '2e09439cac5c7992', 'url': 'https://api...\n",
       "7834    {'id': '01fbe706f872cb32', 'url': 'https://api...\n",
       "7890    {'id': '178a87b8e2eaa375', 'url': 'https://api...\n",
       "7947    {'id': '547fe91108bd744c', 'url': 'https://api...\n",
       "8017    {'id': '34e47ddf52a690bc', 'url': 'https://api...\n",
       "8092    {'id': '010646103d955cb2', 'url': 'https://api...\n",
       "8260    {'id': 'd16c1b8ae1635978', 'url': 'https://api...\n",
       "8299    {'id': '25a5e6766cb004f2', 'url': 'https://api...\n",
       "8488    {'id': '07d9ecca0b880004', 'url': 'https://api...\n",
       "8507    {'id': '0184147101a98fcf', 'url': 'https://api...\n",
       "8527    {'id': '18e336dd85701683', 'url': 'https://api...\n",
       "8570    {'id': '25a5e6766cb004f2', 'url': 'https://api...\n",
       "8605    {'id': '300bcc6e23a88361', 'url': 'https://api...\n",
       "8785    {'id': '017a4afa29d71c65', 'url': 'https://api...\n",
       "Name: place, Length: 104, dtype: object"
      ]
     },
     "execution_count": 393,
     "metadata": {},
     "output_type": "execute_result"
    }
   ],
   "source": [
    "df.place.dropna()"
   ]
  },
  {
   "cell_type": "code",
   "execution_count": null,
   "metadata": {},
   "outputs": [],
   "source": []
  },
  {
   "cell_type": "code",
   "execution_count": 394,
   "metadata": {},
   "outputs": [
    {
     "data": {
      "text/plain": [
       "{'id': '3b77caf94bfc81fe',\n",
       " 'url': 'https://api.twitter.com/1.1/geo/id/3b77caf94bfc81fe.json',\n",
       " 'place_type': 'city',\n",
       " 'name': 'Los Angeles',\n",
       " 'full_name': 'Los Angeles, CA',\n",
       " 'country_code': 'US',\n",
       " 'country': 'United States',\n",
       " 'bounding_box': {'type': 'Polygon',\n",
       "  'coordinates': [[[-118.668404, 33.704538],\n",
       "    [-118.668404, 34.337041],\n",
       "    [-118.155409, 34.337041],\n",
       "    [-118.155409, 33.704538]]]},\n",
       " 'attributes': {}}"
      ]
     },
     "execution_count": 394,
     "metadata": {},
     "output_type": "execute_result"
    }
   ],
   "source": [
    "df.place.loc[248]"
   ]
  },
  {
   "cell_type": "code",
   "execution_count": null,
   "metadata": {},
   "outputs": [],
   "source": []
  },
  {
   "cell_type": "code",
   "execution_count": null,
   "metadata": {},
   "outputs": [],
   "source": []
  },
  {
   "cell_type": "code",
   "execution_count": null,
   "metadata": {},
   "outputs": [],
   "source": []
  },
  {
   "cell_type": "markdown",
   "metadata": {},
   "source": [
    "## Not all tweets have a 'place' key but there are definitely more of those than with a location. Inside 'place' there are coordinates for a geographical bounding box so let's compute its centroid and use that as a point of reference for location."
   ]
  },
  {
   "cell_type": "code",
   "execution_count": 396,
   "metadata": {},
   "outputs": [],
   "source": [
    "df1 = df[['place', 'text']].dropna().reset_index()\n",
    "df1['centroid_lat'] = df1.apply(lambda x: np.array(x['place']['bounding_box']['coordinates'][0]).mean(axis=0)[0], 1)\n",
    "df1['centroid_lon'] = df1.apply(lambda x: np.array(x['place']['bounding_box']['coordinates'][0]).mean(axis=0)[1], 1)\n",
    "\n",
    "df1 = df1.groupby(['centroid_lat', 'centroid_lon'])['text'].count().reset_index()\n",
    "df1.columns = ['centroid_lat', 'centroid_lon', 'count']"
   ]
  },
  {
   "cell_type": "markdown",
   "metadata": {},
   "source": [
    "#### What are the most common centroids?"
   ]
  },
  {
   "cell_type": "code",
   "execution_count": 397,
   "metadata": {},
   "outputs": [
    {
     "data": {
      "text/html": [
       "<div>\n",
       "<style scoped>\n",
       "    .dataframe tbody tr th:only-of-type {\n",
       "        vertical-align: middle;\n",
       "    }\n",
       "\n",
       "    .dataframe tbody tr th {\n",
       "        vertical-align: top;\n",
       "    }\n",
       "\n",
       "    .dataframe thead th {\n",
       "        text-align: right;\n",
       "    }\n",
       "</style>\n",
       "<table border=\"1\" class=\"dataframe\">\n",
       "  <thead>\n",
       "    <tr style=\"text-align: right;\">\n",
       "      <th></th>\n",
       "      <th>centroid_lat</th>\n",
       "      <th>centroid_lon</th>\n",
       "      <th>count</th>\n",
       "    </tr>\n",
       "  </thead>\n",
       "  <tbody>\n",
       "    <tr>\n",
       "      <th>33</th>\n",
       "      <td>-77.014398</td>\n",
       "      <td>38.898603</td>\n",
       "      <td>3</td>\n",
       "    </tr>\n",
       "    <tr>\n",
       "      <th>65</th>\n",
       "      <td>120.983987</td>\n",
       "      <td>14.591457</td>\n",
       "      <td>3</td>\n",
       "    </tr>\n",
       "    <tr>\n",
       "      <th>70</th>\n",
       "      <td>121.062736</td>\n",
       "      <td>14.683012</td>\n",
       "      <td>2</td>\n",
       "    </tr>\n",
       "    <tr>\n",
       "      <th>21</th>\n",
       "      <td>-83.804475</td>\n",
       "      <td>27.698682</td>\n",
       "      <td>2</td>\n",
       "    </tr>\n",
       "    <tr>\n",
       "      <th>44</th>\n",
       "      <td>-46.595546</td>\n",
       "      <td>-23.682803</td>\n",
       "      <td>2</td>\n",
       "    </tr>\n",
       "    <tr>\n",
       "      <th>53</th>\n",
       "      <td>24.830963</td>\n",
       "      <td>65.862802</td>\n",
       "      <td>2</td>\n",
       "    </tr>\n",
       "    <tr>\n",
       "      <th>38</th>\n",
       "      <td>-73.968542</td>\n",
       "      <td>40.780709</td>\n",
       "      <td>2</td>\n",
       "    </tr>\n",
       "    <tr>\n",
       "      <th>68</th>\n",
       "      <td>121.033212</td>\n",
       "      <td>14.546499</td>\n",
       "      <td>2</td>\n",
       "    </tr>\n",
       "    <tr>\n",
       "      <th>48</th>\n",
       "      <td>-3.703508</td>\n",
       "      <td>40.477795</td>\n",
       "      <td>2</td>\n",
       "    </tr>\n",
       "    <tr>\n",
       "      <th>4</th>\n",
       "      <td>-118.411907</td>\n",
       "      <td>34.020789</td>\n",
       "      <td>2</td>\n",
       "    </tr>\n",
       "    <tr>\n",
       "      <th>2</th>\n",
       "      <td>-122.330602</td>\n",
       "      <td>47.614817</td>\n",
       "      <td>2</td>\n",
       "    </tr>\n",
       "    <tr>\n",
       "      <th>84</th>\n",
       "      <td>123.247827</td>\n",
       "      <td>13.640892</td>\n",
       "      <td>1</td>\n",
       "    </tr>\n",
       "    <tr>\n",
       "      <th>63</th>\n",
       "      <td>120.818031</td>\n",
       "      <td>13.984376</td>\n",
       "      <td>1</td>\n",
       "    </tr>\n",
       "    <tr>\n",
       "      <th>62</th>\n",
       "      <td>120.728789</td>\n",
       "      <td>15.192721</td>\n",
       "      <td>1</td>\n",
       "    </tr>\n",
       "    <tr>\n",
       "      <th>88</th>\n",
       "      <td>135.512242</td>\n",
       "      <td>35.008375</td>\n",
       "      <td>1</td>\n",
       "    </tr>\n",
       "    <tr>\n",
       "      <th>61</th>\n",
       "      <td>120.588440</td>\n",
       "      <td>16.402280</td>\n",
       "      <td>1</td>\n",
       "    </tr>\n",
       "    <tr>\n",
       "      <th>60</th>\n",
       "      <td>112.724706</td>\n",
       "      <td>-7.275803</td>\n",
       "      <td>1</td>\n",
       "    </tr>\n",
       "    <tr>\n",
       "      <th>59</th>\n",
       "      <td>104.016823</td>\n",
       "      <td>1.050769</td>\n",
       "      <td>1</td>\n",
       "    </tr>\n",
       "    <tr>\n",
       "      <th>58</th>\n",
       "      <td>91.594285</td>\n",
       "      <td>22.897541</td>\n",
       "      <td>1</td>\n",
       "    </tr>\n",
       "    <tr>\n",
       "      <th>57</th>\n",
       "      <td>50.573873</td>\n",
       "      <td>25.952302</td>\n",
       "      <td>1</td>\n",
       "    </tr>\n",
       "    <tr>\n",
       "      <th>83</th>\n",
       "      <td>123.046833</td>\n",
       "      <td>14.079588</td>\n",
       "      <td>1</td>\n",
       "    </tr>\n",
       "    <tr>\n",
       "      <th>56</th>\n",
       "      <td>46.202082</td>\n",
       "      <td>5.163854</td>\n",
       "      <td>1</td>\n",
       "    </tr>\n",
       "    <tr>\n",
       "      <th>55</th>\n",
       "      <td>28.060613</td>\n",
       "      <td>-26.058708</td>\n",
       "      <td>1</td>\n",
       "    </tr>\n",
       "    <tr>\n",
       "      <th>54</th>\n",
       "      <td>27.006511</td>\n",
       "      <td>38.407930</td>\n",
       "      <td>1</td>\n",
       "    </tr>\n",
       "    <tr>\n",
       "      <th>89</th>\n",
       "      <td>138.792756</td>\n",
       "      <td>-35.097686</td>\n",
       "      <td>1</td>\n",
       "    </tr>\n",
       "    <tr>\n",
       "      <th>52</th>\n",
       "      <td>11.244817</td>\n",
       "      <td>43.780709</td>\n",
       "      <td>1</td>\n",
       "    </tr>\n",
       "    <tr>\n",
       "      <th>51</th>\n",
       "      <td>0.314300</td>\n",
       "      <td>42.308346</td>\n",
       "      <td>1</td>\n",
       "    </tr>\n",
       "    <tr>\n",
       "      <th>50</th>\n",
       "      <td>-2.136197</td>\n",
       "      <td>49.245837</td>\n",
       "      <td>1</td>\n",
       "    </tr>\n",
       "    <tr>\n",
       "      <th>64</th>\n",
       "      <td>120.969501</td>\n",
       "      <td>14.430456</td>\n",
       "      <td>1</td>\n",
       "    </tr>\n",
       "    <tr>\n",
       "      <th>87</th>\n",
       "      <td>125.443261</td>\n",
       "      <td>7.317582</td>\n",
       "      <td>1</td>\n",
       "    </tr>\n",
       "    <tr>\n",
       "      <th>...</th>\n",
       "      <td>...</td>\n",
       "      <td>...</td>\n",
       "      <td>...</td>\n",
       "    </tr>\n",
       "    <tr>\n",
       "      <th>11</th>\n",
       "      <td>-97.817354</td>\n",
       "      <td>26.176254</td>\n",
       "      <td>1</td>\n",
       "    </tr>\n",
       "    <tr>\n",
       "      <th>10</th>\n",
       "      <td>-101.215994</td>\n",
       "      <td>19.918374</td>\n",
       "      <td>1</td>\n",
       "    </tr>\n",
       "    <tr>\n",
       "      <th>9</th>\n",
       "      <td>-104.976767</td>\n",
       "      <td>39.534794</td>\n",
       "      <td>1</td>\n",
       "    </tr>\n",
       "    <tr>\n",
       "      <th>8</th>\n",
       "      <td>-110.915573</td>\n",
       "      <td>32.189391</td>\n",
       "      <td>1</td>\n",
       "    </tr>\n",
       "    <tr>\n",
       "      <th>7</th>\n",
       "      <td>-111.928142</td>\n",
       "      <td>33.392884</td>\n",
       "      <td>1</td>\n",
       "    </tr>\n",
       "    <tr>\n",
       "      <th>6</th>\n",
       "      <td>-111.931711</td>\n",
       "      <td>34.168253</td>\n",
       "      <td>1</td>\n",
       "    </tr>\n",
       "    <tr>\n",
       "      <th>5</th>\n",
       "      <td>-117.730006</td>\n",
       "      <td>33.560742</td>\n",
       "      <td>1</td>\n",
       "    </tr>\n",
       "    <tr>\n",
       "      <th>3</th>\n",
       "      <td>-119.827182</td>\n",
       "      <td>39.512436</td>\n",
       "      <td>1</td>\n",
       "    </tr>\n",
       "    <tr>\n",
       "      <th>22</th>\n",
       "      <td>-82.400308</td>\n",
       "      <td>34.783014</td>\n",
       "      <td>1</td>\n",
       "    </tr>\n",
       "    <tr>\n",
       "      <th>24</th>\n",
       "      <td>-80.737633</td>\n",
       "      <td>28.258804</td>\n",
       "      <td>1</td>\n",
       "    </tr>\n",
       "    <tr>\n",
       "      <th>46</th>\n",
       "      <td>-8.422813</td>\n",
       "      <td>43.345661</td>\n",
       "      <td>1</td>\n",
       "    </tr>\n",
       "    <tr>\n",
       "      <th>25</th>\n",
       "      <td>-80.650764</td>\n",
       "      <td>28.586010</td>\n",
       "      <td>1</td>\n",
       "    </tr>\n",
       "    <tr>\n",
       "      <th>1</th>\n",
       "      <td>-122.555439</td>\n",
       "      <td>38.093358</td>\n",
       "      <td>1</td>\n",
       "    </tr>\n",
       "    <tr>\n",
       "      <th>43</th>\n",
       "      <td>-47.436633</td>\n",
       "      <td>-23.470006</td>\n",
       "      <td>1</td>\n",
       "    </tr>\n",
       "    <tr>\n",
       "      <th>42</th>\n",
       "      <td>-49.288460</td>\n",
       "      <td>-25.495249</td>\n",
       "      <td>1</td>\n",
       "    </tr>\n",
       "    <tr>\n",
       "      <th>41</th>\n",
       "      <td>-66.058368</td>\n",
       "      <td>18.384166</td>\n",
       "      <td>1</td>\n",
       "    </tr>\n",
       "    <tr>\n",
       "      <th>40</th>\n",
       "      <td>-71.683502</td>\n",
       "      <td>42.036939</td>\n",
       "      <td>1</td>\n",
       "    </tr>\n",
       "    <tr>\n",
       "      <th>39</th>\n",
       "      <td>-73.789133</td>\n",
       "      <td>5.108820</td>\n",
       "      <td>1</td>\n",
       "    </tr>\n",
       "    <tr>\n",
       "      <th>37</th>\n",
       "      <td>-74.278855</td>\n",
       "      <td>40.266520</td>\n",
       "      <td>1</td>\n",
       "    </tr>\n",
       "    <tr>\n",
       "      <th>36</th>\n",
       "      <td>-74.315005</td>\n",
       "      <td>40.569527</td>\n",
       "      <td>1</td>\n",
       "    </tr>\n",
       "    <tr>\n",
       "      <th>35</th>\n",
       "      <td>-75.483936</td>\n",
       "      <td>40.591825</td>\n",
       "      <td>1</td>\n",
       "    </tr>\n",
       "    <tr>\n",
       "      <th>34</th>\n",
       "      <td>-75.699457</td>\n",
       "      <td>39.736777</td>\n",
       "      <td>1</td>\n",
       "    </tr>\n",
       "    <tr>\n",
       "      <th>32</th>\n",
       "      <td>-77.090869</td>\n",
       "      <td>38.817380</td>\n",
       "      <td>1</td>\n",
       "    </tr>\n",
       "    <tr>\n",
       "      <th>31</th>\n",
       "      <td>-78.855078</td>\n",
       "      <td>35.723200</td>\n",
       "      <td>1</td>\n",
       "    </tr>\n",
       "    <tr>\n",
       "      <th>30</th>\n",
       "      <td>-79.272570</td>\n",
       "      <td>43.629311</td>\n",
       "      <td>1</td>\n",
       "    </tr>\n",
       "    <tr>\n",
       "      <th>29</th>\n",
       "      <td>-79.420865</td>\n",
       "      <td>38.003376</td>\n",
       "      <td>1</td>\n",
       "    </tr>\n",
       "    <tr>\n",
       "      <th>28</th>\n",
       "      <td>-79.428376</td>\n",
       "      <td>43.903509</td>\n",
       "      <td>1</td>\n",
       "    </tr>\n",
       "    <tr>\n",
       "      <th>27</th>\n",
       "      <td>-79.674847</td>\n",
       "      <td>44.371263</td>\n",
       "      <td>1</td>\n",
       "    </tr>\n",
       "    <tr>\n",
       "      <th>26</th>\n",
       "      <td>-80.201097</td>\n",
       "      <td>44.080757</td>\n",
       "      <td>1</td>\n",
       "    </tr>\n",
       "    <tr>\n",
       "      <th>90</th>\n",
       "      <td>153.369361</td>\n",
       "      <td>-27.954221</td>\n",
       "      <td>1</td>\n",
       "    </tr>\n",
       "  </tbody>\n",
       "</table>\n",
       "<p>91 rows × 3 columns</p>\n",
       "</div>"
      ],
      "text/plain": [
       "    centroid_lat  centroid_lon  count\n",
       "33    -77.014398     38.898603      3\n",
       "65    120.983987     14.591457      3\n",
       "70    121.062736     14.683012      2\n",
       "21    -83.804475     27.698682      2\n",
       "44    -46.595546    -23.682803      2\n",
       "53     24.830963     65.862802      2\n",
       "38    -73.968542     40.780709      2\n",
       "68    121.033212     14.546499      2\n",
       "48     -3.703508     40.477795      2\n",
       "4    -118.411907     34.020789      2\n",
       "2    -122.330602     47.614817      2\n",
       "84    123.247827     13.640892      1\n",
       "63    120.818031     13.984376      1\n",
       "62    120.728789     15.192721      1\n",
       "88    135.512242     35.008375      1\n",
       "61    120.588440     16.402280      1\n",
       "60    112.724706     -7.275803      1\n",
       "59    104.016823      1.050769      1\n",
       "58     91.594285     22.897541      1\n",
       "57     50.573873     25.952302      1\n",
       "83    123.046833     14.079588      1\n",
       "56     46.202082      5.163854      1\n",
       "55     28.060613    -26.058708      1\n",
       "54     27.006511     38.407930      1\n",
       "89    138.792756    -35.097686      1\n",
       "52     11.244817     43.780709      1\n",
       "51      0.314300     42.308346      1\n",
       "50     -2.136197     49.245837      1\n",
       "64    120.969501     14.430456      1\n",
       "87    125.443261      7.317582      1\n",
       "..           ...           ...    ...\n",
       "11    -97.817354     26.176254      1\n",
       "10   -101.215994     19.918374      1\n",
       "9    -104.976767     39.534794      1\n",
       "8    -110.915573     32.189391      1\n",
       "7    -111.928142     33.392884      1\n",
       "6    -111.931711     34.168253      1\n",
       "5    -117.730006     33.560742      1\n",
       "3    -119.827182     39.512436      1\n",
       "22    -82.400308     34.783014      1\n",
       "24    -80.737633     28.258804      1\n",
       "46     -8.422813     43.345661      1\n",
       "25    -80.650764     28.586010      1\n",
       "1    -122.555439     38.093358      1\n",
       "43    -47.436633    -23.470006      1\n",
       "42    -49.288460    -25.495249      1\n",
       "41    -66.058368     18.384166      1\n",
       "40    -71.683502     42.036939      1\n",
       "39    -73.789133      5.108820      1\n",
       "37    -74.278855     40.266520      1\n",
       "36    -74.315005     40.569527      1\n",
       "35    -75.483936     40.591825      1\n",
       "34    -75.699457     39.736777      1\n",
       "32    -77.090869     38.817380      1\n",
       "31    -78.855078     35.723200      1\n",
       "30    -79.272570     43.629311      1\n",
       "29    -79.420865     38.003376      1\n",
       "28    -79.428376     43.903509      1\n",
       "27    -79.674847     44.371263      1\n",
       "26    -80.201097     44.080757      1\n",
       "90    153.369361    -27.954221      1\n",
       "\n",
       "[91 rows x 3 columns]"
      ]
     },
     "execution_count": 397,
     "metadata": {},
     "output_type": "execute_result"
    }
   ],
   "source": [
    "df1.sort_values(by='count', ascending=False)"
   ]
  },
  {
   "cell_type": "markdown",
   "metadata": {},
   "source": [
    "### Where are users located according to their bios?"
   ]
  },
  {
   "cell_type": "code",
   "execution_count": 398,
   "metadata": {},
   "outputs": [
    {
     "data": {
      "text/plain": [
       "user_location\n",
       "United States                     122\n",
       "Republic of the Philippines        77\n",
       "Los Angeles, CA                    50\n",
       "USA                                39\n",
       "Paris, France                      36\n",
       "France                             36\n",
       "New York, NY                       36\n",
       "Washington, DC                     35\n",
       "California, USA                    34\n",
       "Worldwide                          29\n",
       "Venezuela                          26\n",
       "Earth                              25\n",
       "Florida, USA                       25\n",
       "Texas, USA                         22\n",
       "Philippines                        22\n",
       "London, England                    21\n",
       "Houston, TX                        21\n",
       "Comunidad de Madrid, España        19\n",
       "Ile-de-France, France              19\n",
       "Chicago, IL                        18\n",
       "India                              17\n",
       "San Francisco, CA                  17\n",
       "🇵🇭                                 16\n",
       "Australia                          16\n",
       "San Diego, CA                      16\n",
       "Canada                             15\n",
       "Toronto, Ontario                   15\n",
       "Lyon, France                       15\n",
       "Boston, MA                         14\n",
       "Philadelphia, PA                   14\n",
       "                                 ... \n",
       "Saint-Paul, La Réunion              1\n",
       "Saint-Maur-des-Fossés, France       1\n",
       "Saint-Lô, France                    1\n",
       "Saint-Hymer, France                 1\n",
       "San Jose Del Monte, Central Lu      1\n",
       "San Juan, PUERTO RICO               1\n",
       "San Juan, Puerto Rico               1\n",
       "San Juan,Puerto Rico                1\n",
       "Sapnu puas                          1\n",
       "Santo Poco                          1\n",
       "Santo Domingo, Ecuador              1\n",
       "Santo Domingo Oeste, Dominican      1\n",
       "Santo Domingo                       1\n",
       "Santiago, República Dominicana      1\n",
       "Santiago de León de Caracas         1\n",
       "Santiago Bernabéu                   1\n",
       "Santiago Bernabeu                   1\n",
       "Santa Teresita                      1\n",
       "Santa Maria, Central Luzon          1\n",
       "Santa Fe, Argentina                 1\n",
       "Santa Cruz, Rio de Janeiro          1\n",
       "Santa Barbara, CA                   1\n",
       "San salvador, El salvador           1\n",
       "San carlos                          1\n",
       "San Tan Valley Arizona              1\n",
       "San Pedro, Calabarzon               1\n",
       "San Pablo City,Laguna               1\n",
       "San Mateo County, California        1\n",
       "San Marcos, Texas                   1\n",
       "New Brunswick, NJ                   1\n",
       "Name: text, Length: 3704, dtype: int64"
      ]
     },
     "execution_count": 398,
     "metadata": {},
     "output_type": "execute_result"
    }
   ],
   "source": [
    "df.groupby('user_location')['text'].count().sort_values(ascending=False)"
   ]
  },
  {
   "cell_type": "code",
   "execution_count": 399,
   "metadata": {},
   "outputs": [
    {
     "data": {
      "text/plain": [
       "1336    {'type': 'Point', 'coordinates': [112.72278627...\n",
       "3457    {'type': 'Point', 'coordinates': [121.05386257...\n",
       "6462    {'type': 'Point', 'coordinates': [-78.8962636,...\n",
       "Name: location, dtype: object"
      ]
     },
     "execution_count": 399,
     "metadata": {},
     "output_type": "execute_result"
    }
   ],
   "source": [
    "df['location'].dropna()"
   ]
  },
  {
   "cell_type": "code",
   "execution_count": 400,
   "metadata": {},
   "outputs": [],
   "source": [
    "# Go through all tweets and add locations to 'coordinates' dictionary\n",
    "coordinates = {'latitude': [], 'longitude': []}\n",
    "for index, row in df.iterrows():\n",
    "    try:\n",
    "        \n",
    "        #location = geolocator.geocode(user_loc)\n",
    "        # If coordinates are found for location\n",
    "        if row['location']['coordinates']:\n",
    "            coordinates['latitude'].append(row['location']['coordinates'][0])\n",
    "            coordinates['longitude'].append(row['location']['coordinates'][1])\n",
    "            \n",
    "    # If too many connection requests\n",
    "    except:\n",
    "        pass"
   ]
  },
  {
   "cell_type": "code",
   "execution_count": 401,
   "metadata": {},
   "outputs": [
    {
     "data": {
      "text/plain": [
       "{'latitude': [112.72278627, 121.05386257, -78.8962636],\n",
       " 'longitude': [-7.27586109, 14.62204492, 35.7372126]}"
      ]
     },
     "execution_count": 401,
     "metadata": {},
     "output_type": "execute_result"
    }
   ],
   "source": [
    "coordinates"
   ]
  },
  {
   "cell_type": "markdown",
   "metadata": {},
   "source": [
    "### Lets now map the information we have from tweet's location and bounding box centroids."
   ]
  },
  {
   "cell_type": "code",
   "execution_count": 402,
   "metadata": {},
   "outputs": [
    {
     "data": {
      "image/png": "[encoded data removed]",
      "text/plain": [
       "<Figure size 1080x648 with 1 Axes>"
      ]
     },
     "metadata": {},
     "output_type": "display_data"
    }
   ],
   "source": [
    "shp_link = './ne_10m_admin_0_countries/ne_10m_admin_0_countries.shp'\n",
    "shp = ps.open(shp_link)\n",
    "some = [True for i in ps.open(shp_link)] #bool(rdm.getrandbits(1))\n",
    "\n",
    "\n",
    "fig = figure(figsize=(15,9))\n",
    "\n",
    "base = maps.map_poly_shp(shp)\n",
    "base.set_facecolor('black')\n",
    "base.set_linewidth(0.75)\n",
    "base.set_edgecolor('0.8')\n",
    "some = maps.map_poly_shp(shp, which=some)\n",
    "some.set_alpha(0.5)\n",
    "some.set_linewidth(0.)\n",
    "ptsC = scatter(df1['centroid_lat'], df1['centroid_lon'], s=400*df1['count'], alpha=.5)\n",
    "ptsC.set_color('red')\n",
    "\n",
    "pts = scatter(coordinates['latitude'], coordinates['longitude'])\n",
    "pts.set_color('green')\n",
    "\n",
    "ax = maps.setup_ax([base, some, ptsC, pts], [shp.bbox, shp.bbox, shp.bbox, shp.bbox])\n",
    "\n",
    "fig.add_axes(ax)\n",
    "show()"
   ]
  },
  {
   "cell_type": "code",
   "execution_count": null,
   "metadata": {
    "scrolled": false
   },
   "outputs": [],
   "source": []
  },
  {
   "cell_type": "code",
   "execution_count": 487,
   "metadata": {},
   "outputs": [
    {
     "data": {
      "text/plain": [
       "(2000, 10)"
      ]
     },
     "execution_count": 487,
     "metadata": {},
     "output_type": "execute_result"
    }
   ],
   "source": []
  },
  {
   "cell_type": "code",
   "execution_count": 403,
   "metadata": {},
   "outputs": [],
   "source": [
    "#df.to_csv('dataT.csv', index=False)"
   ]
  },
  {
   "cell_type": "code",
   "execution_count": null,
   "metadata": {},
   "outputs": [],
   "source": [
    "#use the sentiment to color"
   ]
  },
  {
   "cell_type": "code",
   "execution_count": 526,
   "metadata": {},
   "outputs": [
    {
     "data": {
      "text/plain": [
       "0            Have Faith, Hope and Love 😇💕 || Astrophile ✨\n",
       "1       🇳🇴❤️ I love ivanka trump 🌹🇸🇪 l love you 💕🥀 sor...\n",
       "2                                                       💑\n",
       "3         Conservative Veterans wife/born again Christian\n",
       "4       Society for Cultivation of Sciences and Humani...\n",
       "5       Sci-fi fan, dinosaur enthusiast, and weeb. Ama...\n",
       "6                                                    None\n",
       "7       love food , dogs , President Trump and his fam...\n",
       "8                                                    None\n",
       "9                           Entre Sevilla y Gran Canaria.\n",
       "10      Go NASA!!!Go Barça!!Two different but determin...\n",
       "11      Socióloga, interesada en generar sinergias ent...\n",
       "12                                                   None\n",
       "13                                No boi I have a smile 😊\n",
       "14      Horses🐎 | Entrepreneurship, Social Development...\n",
       "15                                                   None\n",
       "16      Born in Motown/Hockeytown/Dee-troit. Spartan. ...\n",
       "17      If we lose freedom here there is no place to e...\n",
       "18      ⚔️🕊👑 🌹 But seek ye first the kingdom of God, a...\n",
       "19                                                   None\n",
       "20      Engineering student.  8.25 banana tall.  [FR|E...\n",
       "21      #Meteorologist⛅⚡❄️☁️ •Jackson State Univ. Alum...\n",
       "22                                                   None\n",
       "23      Searching for sanity in a world gone mad.... n...\n",
       "24                                 Grab life by the horn.\n",
       "25      Infinite player. Químico, critico reflexivo, s...\n",
       "26      Child of God& follower of Christ # MAGA # Patr...\n",
       "27      Software Engineer / Maker / Gamer Steam ID 765...\n",
       "28                                                   None\n",
       "29                                                    ngi\n",
       "                              ...                        \n",
       "2970                                                 None\n",
       "2971                       LISA IS SO PRETTY AND IT HURTS\n",
       "2972                                                 None\n",
       "2973    Asteroid & Lunar Scienteer/Enginerd @NASA_John...\n",
       "2974                     #MAGA #KeepAmericaGreat #KAG2020\n",
       "2975    KPop fan since 2008 | Multifandom | 재중 | 이특 | ...\n",
       "2976    | Half Filipino - Half Chinese | Letranite | M...\n",
       "2977    how are you? my firstclass subscribe ❤ http://...\n",
       "2978    Teaching US History, Gov, and Econ. Believing ...\n",
       "2979                                            Maine fan\n",
       "2980                                                 None\n",
       "2981                                                 None\n",
       "2982    Thirdy Ravena🐢💞\\nBea DeLeon🦁💞\\nADMu 💙\\nChoco M...\n",
       "2983                                                 None\n",
       "2984                                                bsn x\n",
       "2985                                 Chaotic Evil // INTJ\n",
       "2986    undeniably alden's ...where u lead, i will fol...\n",
       "2987    A Mighty Girl is the world’s largest girl empo...\n",
       "2988                                 👉FOCUS ON YOUR GOALS\n",
       "2989                   𝚂𝚊𝚟𝚎𝚍 𝚋𝚢 𝙶𝚛𝚊𝚌𝚎! | ℘hili℘℘ians 4:13\n",
       "2990                                      lost in reality\n",
       "2991    If you put your heart and mind into something ...\n",
       "2992    サークルSquareWorldに所属しています□🌱ゲーム制作イラスト係💕アニメもつくる❣😆フ...\n",
       "2993    Software Engineer - Supporting Human Spaceflig...\n",
       "2994    Una nueva especie evoluciona entre nosotros, e...\n",
       "2995                                                 None\n",
       "2996    History nerd. Piano player. Space lover. Compu...\n",
       "2997    أتمنى مستقبل عظيم ومزدهر لمصر وأن أرى الدول ال...\n",
       "2998                                        Kiano fan/CPA\n",
       "2999    '86 University of Alabama '93 Stetson School o...\n",
       "Name: user_description, Length: 3000, dtype: object"
      ]
     },
     "execution_count": 526,
     "metadata": {},
     "output_type": "execute_result"
    }
   ],
   "source": [
    "df['user_description']"
   ]
  },
  {
   "cell_type": "code",
   "execution_count": null,
   "metadata": {},
   "outputs": [],
   "source": []
  },
  {
   "cell_type": "code",
   "execution_count": null,
   "metadata": {},
   "outputs": [],
   "source": []
  },
  {
   "cell_type": "code",
   "execution_count": null,
   "metadata": {},
   "outputs": [],
   "source": []
  },
  {
   "cell_type": "code",
   "execution_count": null,
   "metadata": {},
   "outputs": [],
   "source": []
  },
  {
   "cell_type": "code",
   "execution_count": null,
   "metadata": {},
   "outputs": [],
   "source": []
  },
  {
   "cell_type": "code",
   "execution_count": null,
   "metadata": {},
   "outputs": [],
   "source": []
  },
  {
   "cell_type": "code",
   "execution_count": null,
   "metadata": {},
   "outputs": [],
   "source": []
  },
  {
   "cell_type": "code",
   "execution_count": 66,
   "metadata": {},
   "outputs": [],
   "source": [
    "#dfA = pd.read_csv('dataT.csv')"
   ]
  },
  {
   "cell_type": "code",
   "execution_count": 70,
   "metadata": {},
   "outputs": [],
   "source": [
    "def Converter(x):\n",
    "    try:\n",
    "        return eval(x)\n",
    "    except:\n",
    "        None"
   ]
  },
  {
   "cell_type": "code",
   "execution_count": 71,
   "metadata": {},
   "outputs": [],
   "source": [
    "#dfA['raw_data'] = dfA.apply(lambda x: Converter(x['raw_data']), 1)"
   ]
  },
  {
   "cell_type": "code",
   "execution_count": 74,
   "metadata": {},
   "outputs": [],
   "source": [
    "#L = list(dfA['raw_data']) + L"
   ]
  },
  {
   "cell_type": "code",
   "execution_count": null,
   "metadata": {},
   "outputs": [],
   "source": [
    "#L = [x for x in L if x]"
   ]
  },
  {
   "cell_type": "code",
   "execution_count": null,
   "metadata": {},
   "outputs": [],
   "source": []
  }
 ],
 "metadata": {
  "kernelspec": {
   "display_name": "Python [conda env:anaconda3]",
   "language": "python",
   "name": "conda-env-anaconda3-py"
  },
  "language_info": {
   "codemirror_mode": {
    "name": "ipython",
    "version": 3
   },
   "file_extension": ".py",
   "mimetype": "text/x-python",
   "name": "python",
   "nbconvert_exporter": "python",
   "pygments_lexer": "ipython3",
   "version": "3.6.5"
  }
 },
 "nbformat": 4,
 "nbformat_minor": 2
}
